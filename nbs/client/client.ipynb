{
 "cells": [
  {
   "cell_type": "raw",
   "metadata": {},
   "source": [
    "---\n",
    "output-file: client.html\n",
    "title: client\n",
    "---\n"
   ]
  },
  {
   "cell_type": "code",
   "execution_count": 28,
   "metadata": {},
   "outputs": [],
   "source": [
    "# | default_exp client"
   ]
  },
  {
   "cell_type": "code",
   "execution_count": 29,
   "metadata": {},
   "outputs": [],
   "source": [
    "# | hide\n",
    "from nbdev.showdoc import *"
   ]
  },
  {
   "cell_type": "code",
   "execution_count": 30,
   "metadata": {},
   "outputs": [],
   "source": [
    "# | exporti\n",
    "from __future__ import annotations\n",
    "\n",
    "import os \n",
    "\n",
    "from abc import ABC, abstractmethod, abstractproperty\n",
    "from dataclasses import dataclass, field\n",
    "from pprint import pprint\n",
    "import httpx\n",
    "\n",
    "from dateutil.parser import parse as dtu_parse\n",
    "import re\n"
   ]
  },
  {
   "cell_type": "code",
   "execution_count": 31,
   "metadata": {},
   "outputs": [],
   "source": [
    "#| export\n",
    "class Auth(ABC):\n",
    "    \"\"\"Abstract base class handles authentication..\"\"\"\n",
    "\n",
    "    @property\n",
    "    @abstractmethod\n",
    "    def auth_header(self) -> str:\n",
    "        ...\n",
    "\n",
    "    @auth_header.setter\n",
    "    @abstractmethod\n",
    "    def auth_header(self, val: str):\n",
    "        ...\n",
    "\n",
    "    def generate_auth_header(self):\n",
    "        ...\n",
    "    "
   ]
  },
  {
   "cell_type": "code",
   "execution_count": 32,
   "metadata": {},
   "outputs": [],
   "source": [
    "# | export\n",
    "@dataclass\n",
    "class ResponseGetData:\n",
    "    \"\"\"class for returning data from any route\"\"\"\n",
    "\n",
    "    status: int\n",
    "    response: str\n",
    "    auth: any = field(repr=False, default=None)\n",
    "    is_success: bool = False\n",
    "\n",
    "    def __post_init__(self):\n",
    "        self.is_success = True if self.status >= 200 and self.status <= 399 else False\n",
    "\n",
    "    @classmethod\n",
    "    def _from_httpx_response(cls, res: httpx.Response, auth=None):\n",
    "        rgd = cls(status=res.status_code, response=res.json(), auth=auth)\n",
    "\n",
    "        return rgd"
   ]
  },
  {
   "cell_type": "code",
   "execution_count": 33,
   "metadata": {},
   "outputs": [
    {
     "data": {
      "text/markdown": [
       "---\n",
       "\n",
       "[source](https://github.com/jaewilson07/gdoc_sync/blob/main/gdoc_sync/client.py#L35){target=\"_blank\" style=\"float:right; font-size:smaller\"}\n",
       "\n",
       "### ResponseGetData\n",
       "\n",
       ">      ResponseGetData (status:int, response:str, auth:<built-\n",
       ">                       infunctionany>=None, is_success:bool=False)\n",
       "\n",
       "class for returning data from any route"
      ],
      "text/plain": [
       "---\n",
       "\n",
       "[source](https://github.com/jaewilson07/gdoc_sync/blob/main/gdoc_sync/client.py#L35){target=\"_blank\" style=\"float:right; font-size:smaller\"}\n",
       "\n",
       "### ResponseGetData\n",
       "\n",
       ">      ResponseGetData (status:int, response:str, auth:<built-\n",
       ">                       infunctionany>=None, is_success:bool=False)\n",
       "\n",
       "class for returning data from any route"
      ]
     },
     "execution_count": 33,
     "metadata": {},
     "output_type": "execute_result"
    }
   ],
   "source": [
    "show_doc(ResponseGetData)\n"
   ]
  },
  {
   "cell_type": "code",
   "execution_count": 34,
   "metadata": {},
   "outputs": [
    {
     "data": {
      "text/plain": [
       "ResponseGetData(status=200, response='hello world', is_success=True)"
      ]
     },
     "execution_count": 34,
     "metadata": {},
     "output_type": "execute_result"
    }
   ],
   "source": [
    "ResponseGetData(status=200, response=\"hello world\")"
   ]
  },
  {
   "cell_type": "code",
   "execution_count": 35,
   "metadata": {},
   "outputs": [],
   "source": [
    "# | export\n",
    "async def get_data(\n",
    "    url: str,\n",
    "    method: str,\n",
    "    auth: any,\n",
    "    headers: dict = None,\n",
    "    params: dict = None,\n",
    "    debug_api: bool = False,\n",
    "    body=None,\n",
    "    session: httpx.AsyncClient = None,\n",
    ") -> ResponseGetData:\n",
    "    \"\"\"wrapper for httpx Request library, always use with jiralibrary class\"\"\"\n",
    "\n",
    "    is_close_session = False\n",
    "    method = method.lower()\n",
    "\n",
    "    if not headers:\n",
    "        headers = {\"Accept\": \"application/json\"}\n",
    "\n",
    "    if auth:\n",
    "        headers = {**headers, **auth.generate_auth_header()}\n",
    "\n",
    "    if not session:\n",
    "        session = httpx.AsyncClient()\n",
    "        is_close_session = True\n",
    "\n",
    "    if debug_api:\n",
    "        pprint({\"url\": url, \"headers\": headers, \"params\": params, \"body\": body})\n",
    "\n",
    "    if method == 'get':\n",
    "        res = await getattr(session, method)( url=url, headers=headers, params=params )\n",
    "    else: \n",
    "        res = await getattr(session, method)( url=url, headers=headers, params=params, data=body)\n",
    "\n",
    "    if is_close_session:\n",
    "        await session.aclose()\n",
    "\n",
    "    return ResponseGetData._from_httpx_response(res)"
   ]
  },
  {
   "cell_type": "code",
   "execution_count": 36,
   "metadata": {},
   "outputs": [],
   "source": [
    "# | export\n",
    "async def looper(\n",
    "    url,\n",
    "    auth: ja.JiraAuth,\n",
    "    arr_fn,\n",
    "    params : dict = None,\n",
    "    offset=0,\n",
    "    limit=50,\n",
    "    debug_loop: bool = False,\n",
    "    debug_api: bool = False,\n",
    "    method=\"GET\",\n",
    "    **kwargs\n",
    "):\n",
    "    final_array = []\n",
    "    keep_looping = True\n",
    "\n",
    "    while keep_looping:\n",
    "        if debug_loop:\n",
    "            print({\"startAt\": offset, \"maxResults\": limit})\n",
    "        \n",
    "        new_params = params.copy() if params else {}\n",
    "\n",
    "        new_params = {** new_params, \"startAt\": offset, \"maxResults\": limit}\n",
    "\n",
    "        res = await get_data(\n",
    "            auth=auth,\n",
    "            url=url,\n",
    "            method=method,\n",
    "            params=new_params,\n",
    "            debug_api=debug_api,\n",
    "            **kwargs\n",
    "        )\n",
    "\n",
    "        new_array = arr_fn(res)\n",
    "\n",
    "        if not new_array or len(new_array) == 0:\n",
    "            keep_looping = False\n",
    "\n",
    "        final_array += new_array\n",
    "        offset += limit\n",
    "    \n",
    "    res.response = final_array\n",
    "\n",
    "    return res"
   ]
  },
  {
   "cell_type": "markdown",
   "metadata": {},
   "source": [
    "# Utility Functions"
   ]
  },
  {
   "cell_type": "code",
   "execution_count": 37,
   "metadata": {},
   "outputs": [],
   "source": [
    "#| export\n",
    "def get_date(datefield) -> datetime.datetime:\n",
    "    \"\"\"converts string date to datetime object\"\"\"\n",
    "    return dtu_parse(datefield) if datefield else None"
   ]
  },
  {
   "cell_type": "code",
   "execution_count": 38,
   "metadata": {},
   "outputs": [],
   "source": [
    "#| export\n",
    "def upsert_folder(folder_path):\n",
    "    if not os.path.exists(folder_path):\n",
    "        os.makedirs(folder_path)\n",
    "\n",
    "def convert_to_snake(text_str):\n",
    "    \"\"\"converts 'snake_case_str' to 'snakeCaseStr'\"\"\"\n",
    "\n",
    "    return text_str.replace(\" \", \"_\").lower()\n",
    "\n",
    "\n",
    "def clean_url_name(path_name):\n",
    "    valid_chars = r\"[^a-zA-Z0-9_]\"\n",
    "\n",
    "    return re.sub(valid_chars, \"\", path_name)\n",
    "\n",
    "\n",
    "def generate_file_name(raw_name):\n",
    "    return clean_url_name(convert_to_snake(raw_name))"
   ]
  },
  {
   "cell_type": "code",
   "execution_count": 39,
   "metadata": {},
   "outputs": [],
   "source": [
    "# | hide\n",
    "import nbdev\n",
    "\n",
    "nbdev.nbdev_export()"
   ]
  }
 ],
 "metadata": {
  "kernelspec": {
   "display_name": "python3",
   "language": "python",
   "name": "python3"
  },
  "language_info": {
   "codemirror_mode": {
    "name": "ipython",
    "version": 3
   },
   "file_extension": ".py",
   "mimetype": "text/x-python",
   "name": "python",
   "nbconvert_exporter": "python",
   "pygments_lexer": "ipython3",
   "version": "3.10.8"
  }
 },
 "nbformat": 4,
 "nbformat_minor": 2
}
