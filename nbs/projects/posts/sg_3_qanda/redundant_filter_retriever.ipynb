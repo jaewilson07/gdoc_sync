{
 "cells": [
  {
   "cell_type": "code",
   "execution_count": 1,
   "metadata": {},
   "outputs": [],
   "source": [
    "# | exporti\n",
    "\n",
    "from langchain.embeddings.base import Embeddings\n",
    "from langchain.vectorstores import Chroma\n",
    "from langchain.schema import BaseRetriever"
   ]
  },
  {
   "cell_type": "code",
   "execution_count": 2,
   "metadata": {},
   "outputs": [],
   "source": [
    "# | default_exp integrations.udemy"
   ]
  },
  {
   "cell_type": "code",
   "execution_count": 3,
   "metadata": {},
   "outputs": [],
   "source": [
    "# | export\n",
    "class RedundantFilterRetriever(BaseRetriever):\n",
    "    embeddings: Embeddings\n",
    "    chroma: Chroma\n",
    "\n",
    "    def get_relevant_documents(self, query, lambda_multiplier=0.8):\n",
    "        # calculate embeddings for 'query' string\n",
    "\n",
    "        emb = self.embeddings.embed_query(query)\n",
    "\n",
    "        # take embeddings and feed into max_marginal_relevance_search_by_vector\n",
    "        return self.chroma.max_marginal_relevance_search_by_vector(\n",
    "            embedding=emb, lambda_multiplier=lambda_multiplier\n",
    "        )\n",
    "        return []\n",
    "\n",
    "    async def aget_relevant_documents(self):\n",
    "        return []"
   ]
  },
  {
   "cell_type": "code",
   "execution_count": 4,
   "metadata": {},
   "outputs": [],
   "source": [
    "# | hide\n",
    "import nbdev\n",
    "\n",
    "nbdev.nbdev_export()"
   ]
  }
 ],
 "metadata": {
  "kernelspec": {
   "display_name": ".venv",
   "language": "python",
   "name": "python3"
  },
  "language_info": {
   "codemirror_mode": {
    "name": "ipython",
    "version": 3
   },
   "file_extension": ".py",
   "mimetype": "text/x-python",
   "name": "python",
   "nbconvert_exporter": "python",
   "pygments_lexer": "ipython3",
   "version": "3.10.12"
  }
 },
 "nbformat": 4,
 "nbformat_minor": 2
}
