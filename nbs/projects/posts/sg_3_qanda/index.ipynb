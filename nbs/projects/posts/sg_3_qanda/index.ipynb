{
 "cells": [
  {
   "cell_type": "code",
   "execution_count": 1,
   "metadata": {},
   "outputs": [],
   "source": [
    "# %pip install chromadb tiktoken"
   ]
  },
  {
   "cell_type": "code",
   "execution_count": 1,
   "metadata": {},
   "outputs": [],
   "source": [
    "import os\n",
    "\n",
    "from langchain.chains.question_answering import load_qa_chain\n",
    "\n",
    "from langchain.document_loaders import DirectoryLoader\n",
    "from langchain.document_loaders import TextLoader\n",
    "\n",
    "from langchain.text_splitter import CharacterTextSplitter\n",
    "from langchain.text_splitter import RecursiveCharacterTextSplitter\n",
    "\n",
    "from transformers import AutoModel\n",
    "from langchain.embeddings import HuggingFaceEmbeddings\n",
    "from langchain.embeddings.openai import OpenAIEmbeddings\n",
    "from langchain.vectorstores.chroma import Chroma\n",
    "\n",
    "from langchain.chains import RetrievalQA\n",
    "from langchain.chat_models import ChatOpenAI\n",
    "\n",
    "\n",
    "from gdoc_sync.integrations.udemy import RedundantFilterRetriever"
   ]
  },
  {
   "cell_type": "markdown",
   "metadata": {},
   "source": [
    "# Retrieve from Chroma\n",
    "\n",
    "- define llm for handling retrieved documents\n",
    "- define model for handling embeddings\n",
    "- instantiate vectorstore to retrieve data from\n",
    "- chain for data retrieval"
   ]
  },
  {
   "cell_type": "code",
   "execution_count": 3,
   "metadata": {},
   "outputs": [],
   "source": [
    "base_url = \"http://10.0.0.56:7860/\"\n",
    "base_url = \"http://172.21.240.1:1234/v1\"\n",
    "\n",
    "chat = ChatOpenAI(temperature=0, base_url=base_url, openai_api_key=\"not_needed\")"
   ]
  },
  {
   "cell_type": "code",
   "execution_count": 4,
   "metadata": {},
   "outputs": [],
   "source": [
    "model_name = \"jinaai/jina-embeddings-v2-base-en\"\n",
    "model = AutoModel.from_pretrained(model_name, trust_remote_code=True)\n",
    "\n",
    "embeddings = HuggingFaceEmbeddings(\n",
    "    model_name=model_name,\n",
    ")"
   ]
  },
  {
   "cell_type": "code",
   "execution_count": 8,
   "metadata": {},
   "outputs": [],
   "source": [
    "db = Chroma(persist_directory=\"./storage\", embedding_function=embeddings)\n",
    "\n",
    "# retriever = db.as_retriever()\n",
    "retriever = RedundantFilterRetriever(embeddings=embeddings, chroma=db)"
   ]
  },
  {
   "cell_type": "code",
   "execution_count": 9,
   "metadata": {},
   "outputs": [],
   "source": [
    "chain = RetrievalQA.from_chain_type(\n",
    "    llm=chat,\n",
    "    retriever=retriever,\n",
    "    chain_type=\"stuff\",\n",
    "    # chain_type=\"map_reduce\",\n",
    "    # chain_type = \"map_rerank\",\n",
    "    # chain_type = \"refine\",\n",
    "    verbose=True,\n",
    ")"
   ]
  },
  {
   "cell_type": "code",
   "execution_count": 10,
   "metadata": {},
   "outputs": [
    {
     "name": "stdout",
     "output_type": "stream",
     "text": [
      "\n",
      "\n",
      "\u001b[1m> Entering new RetrievalQA chain...\u001b[0m\n",
      "\n",
      "\u001b[1m> Finished chain.\u001b[0m\n"
     ]
    },
    {
     "data": {
      "text/plain": [
       "'Dreamt is the only English word that ends with the letters \"mt.\"'"
      ]
     },
     "execution_count": 10,
     "metadata": {},
     "output_type": "execute_result"
    }
   ],
   "source": [
    "result = chain.run(\"what is an interesting fact about the english language?\")\n",
    "result"
   ]
  },
  {
   "cell_type": "code",
   "execution_count": null,
   "metadata": {},
   "outputs": [],
   "source": [
    "\n",
    "\n",
    "os.environ[\"OPENAI_API_KEY\"] = \"OPENAI API KEY\"\n",
    "\n",
    "# initializing the embeddings\n",
    "embeddings = OpenAIEmbeddings()\n",
    "\n",
    "# default model = \"gpt-3.5-turbo\"\n",
    "llm = ChatOpenAI()\n",
    "\n",
    "directory = \"YOUR DOCUMENTS PATH\"\n",
    "\n",
    "def load_docs(directory):\n",
    "    loader = DirectoryLoader(directory)\n",
    "    documents = loader.load()\n",
    "    return documents\n",
    "\n",
    "documents = load_docs(directory)\n",
    "\n",
    "def split_docs(documents, chunk_size=500, chunk_overlap=50):\n",
    "    text_splitter = RecursiveCharacterTextSplitter(\n",
    "        chunk_size=chunk_size,\n",
    "        chunk_overlap=chunk_overlap,\n",
    "    )\n",
    "    docs = text_splitter.split_documents(documents)\n",
    "    return docs\n",
    "\n",
    "docs = split_docs(documents)\n",
    "\n",
    "db = Chroma.from_documents(\n",
    "    documents=docs, \n",
    "    embedding=embeddings\n",
    ")\n",
    "\n",
    "chain = load_qa_chain(llm, chain_type=\"stuff\")\n",
    "\n",
    "def get_answer(query):\n",
    "    similar_docs = db.similarity_search(query, k=2) # get two closest chunks\n",
    "    answer = chain.run(input_documents=similar_docs, question=query)\n",
    "    return answer\n",
    "    \n",
    "print(\"Private Q&A chatbot\")\n",
    "prompt = input(\"Enter your query here: \")\n",
    "\n",
    "if prompt:\n",
    "    answer = get_answer(prompt)\n",
    "    print(f\"Answer: {answer}\")   "
   ]
  }
 ],
 "metadata": {
  "kernelspec": {
   "display_name": ".venv",
   "language": "python",
   "name": "python3"
  },
  "language_info": {
   "codemirror_mode": {
    "name": "ipython",
    "version": 3
   },
   "file_extension": ".py",
   "mimetype": "text/x-python",
   "name": "python",
   "nbconvert_exporter": "python",
   "pygments_lexer": "ipython3",
   "version": "3.11.0rc1"
  }
 },
 "nbformat": 4,
 "nbformat_minor": 2
}
