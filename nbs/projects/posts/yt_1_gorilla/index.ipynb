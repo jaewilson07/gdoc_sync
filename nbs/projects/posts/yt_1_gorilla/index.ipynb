{
 "cells": [
  {
   "cell_type": "code",
   "execution_count": 28,
   "metadata": {},
   "outputs": [],
   "source": [
    "# Import Chat completion template and set-up variables\n",
    "from  openai import OpenAI\n",
    "import urllib.parse\n",
    "import json\n",
    "\n",
    "from langchain.agents import tool, Tool"
   ]
  },
  {
   "cell_type": "code",
   "execution_count": 17,
   "metadata": {},
   "outputs": [],
   "source": [
    "client = OpenAI(\n",
    "    api_key = \"not_needed\",\n",
    "    base_url= \"http://10.0.0.56:1234/v1\",\n",
    "    \n",
    ")"
   ]
  },
  {
   "cell_type": "code",
   "execution_count": 29,
   "metadata": {},
   "outputs": [],
   "source": [
    "@tool\n",
    "def get_stock_price( ticker_symbol: str # ticker symbol of the stock\n",
    "                    ):\n",
    "    \"\"\"get current price of a stock\"\"\"\n",
    "    \n",
    "    print(ticker_symbol)\n",
    "    return \"i got the price\""
   ]
  },
  {
   "cell_type": "code",
   "execution_count": 32,
   "metadata": {},
   "outputs": [
    {
     "data": {
      "text/plain": [
       "{'name': 'get_stock_price',\n",
       " 'description': 'get_stock_price(ticker_symbol: str) - get current price of a stock',\n",
       " 'args_schema': pydantic.v1.main.get_stock_priceSchemaSchema,\n",
       " 'return_direct': False,\n",
       " 'verbose': False,\n",
       " 'callbacks': None,\n",
       " 'callback_manager': None,\n",
       " 'tags': None,\n",
       " 'metadata': None,\n",
       " 'handle_tool_error': False,\n",
       " 'func': <function __main__.get_stock_price(ticker_symbol: str)>,\n",
       " 'coroutine': None}"
      ]
     },
     "execution_count": 32,
     "metadata": {},
     "output_type": "execute_result"
    }
   ],
   "source": [
    "get_stock_price.__dict__"
   ]
  },
  {
   "cell_type": "code",
   "execution_count": 21,
   "metadata": {},
   "outputs": [],
   "source": [
    "# Query Gorilla server\n",
    "def get_gorilla_response(prompt, \n",
    "                         client,\n",
    "                         model=\"gorilla-openfunctions-v1\",\n",
    "                         functions=[]):\n",
    "\n",
    "    try:\n",
    "        prompt = f\"<<question>> {prompt} <<function>> {functions)}\"\n",
    "\n",
    "        chat_completion = client.chat.completions.create(\n",
    "            model=model,\n",
    "            temperature=0.0,\n",
    "            messages=[{\"role\": \"user\", \"content\": prompt}],\n",
    "            functions=functions,\n",
    "        )\n",
    "        return chat_completion.choices[0].message.content\n",
    "    \n",
    "    except Exception as e:\n",
    "        print(e, model, prompt)"
   ]
  },
  {
   "cell_type": "code",
   "execution_count": null,
   "metadata": {},
   "outputs": [],
   "source": [
    "query =\"What's the current price of Apple stocks?\"\n",
    "get_gorilla_response(query, functions=[get_stock_price], client = client)  "
   ]
  },
  {
   "cell_type": "code",
   "execution_count": 30,
   "metadata": {},
   "outputs": [
    {
     "name": "stdout",
     "output_type": "stream",
     "text": [
      "Object of type StructuredTool is not JSON serializable gorilla-openfunctions-v1 What's the current price of Apple stocks?\n"
     ]
    }
   ],
   "source": [
    "functions= [  \n",
    "    {\n",
    "        \"name\" : \"get_stock_price\",\n",
    "        \"api_name\": \"get_stock_price\",\n",
    "        \"description\": \"Get current stock price\",\n",
    "        \"parameters\": [\n",
    "             {\n",
    "                \"name\": \"ticker_symbol\",\n",
    "                \"description\":  \"Ticker symbol of the stock\"\n",
    "             }\n",
    "        ]\n",
    "    }\n",
    "]"
   ]
  },
  {
   "cell_type": "code",
   "execution_count": 25,
   "metadata": {},
   "outputs": [
    {
     "ename": "TypeError",
     "evalue": "get_gorilla_response() missing 1 required positional argument: 'client'",
     "output_type": "error",
     "traceback": [
      "\u001b[0;31m---------------------------------------------------------------------------\u001b[0m",
      "\u001b[0;31mTypeError\u001b[0m                                 Traceback (most recent call last)",
      "Cell \u001b[0;32mIn[25], line 23\u001b[0m\n\u001b[1;32m      1\u001b[0m functions\u001b[38;5;241m=\u001b[39m [  \n\u001b[1;32m      2\u001b[0m     {\n\u001b[1;32m      3\u001b[0m         \u001b[38;5;124m\"\u001b[39m\u001b[38;5;124mname\u001b[39m\u001b[38;5;124m\"\u001b[39m : \u001b[38;5;124m\"\u001b[39m\u001b[38;5;124mbook_travel\u001b[39m\u001b[38;5;124m\"\u001b[39m,\n\u001b[0;32m   (...)\u001b[0m\n\u001b[1;32m     20\u001b[0m     }\n\u001b[1;32m     21\u001b[0m ]\n\u001b[1;32m     22\u001b[0m query \u001b[38;5;241m=\u001b[39m\u001b[38;5;124m\"\u001b[39m\u001b[38;5;124mI need to book a trip from Bonn to Amsterdam. The airline must fly direct.\u001b[39m\u001b[38;5;124m\"\u001b[39m\n\u001b[0;32m---> 23\u001b[0m \u001b[43mget_gorilla_response\u001b[49m\u001b[43m(\u001b[49m\u001b[43mquery\u001b[49m\u001b[43m,\u001b[49m\u001b[43m \u001b[49m\u001b[43mfunctions\u001b[49m\u001b[38;5;241;43m=\u001b[39;49m\u001b[43mfunctions\u001b[49m\u001b[43m)\u001b[49m  \n",
      "\u001b[0;31mTypeError\u001b[0m: get_gorilla_response() missing 1 required positional argument: 'client'"
     ]
    }
   ],
   "source": [
    "functions= [  \n",
    "    {\n",
    "        \"name\" : \"book_travel\",\n",
    "        \"api_name\": \"book_travel\",\n",
    "        \"description\":  \"Book travel\",\n",
    "        \"parameters\": [\n",
    "             {\n",
    "                \"name\": \"destination\",\n",
    "                \"description\":   \"Your travel destination.\"\n",
    "             },\n",
    "             {\n",
    "                \"name\": \"departure\",\n",
    "                \"description\":  \"From where are you traveling\"\n",
    "             },\n",
    "             {\n",
    "                \"name\": \"travel_mode\",\n",
    "                \"description\":    \"What mode of travel will it be.\"\n",
    "             }\n",
    "        ]\n",
    "    }\n",
    "]\n",
    "query =\"I need to book a trip from Bonn to Amsterdam. The airline must fly direct.\"\n",
    "get_gorilla_response(query, functions=functions)  "
   ]
  },
  {
   "cell_type": "code",
   "execution_count": null,
   "metadata": {},
   "outputs": [
    {
     "data": {
      "text/plain": [
       "'send_email(to_address=\"cobus@humanfirst.ai\", subject=\"Sales forecast\")'"
      ]
     },
     "execution_count": 74,
     "metadata": {},
     "output_type": "execute_result"
    }
   ],
   "source": [
    "functions= [  \n",
    "    {\n",
    "        \"name\" : \"send_email\",\n",
    "        \"api_name\": \"send_email\",\n",
    "        \"description\": \"template to have an email sent.\",\n",
    "        \"parameters\": [\n",
    "             {\n",
    "                \"name\": \"to_address\",\n",
    "                \"description\":  \"To address for email\"\n",
    "             },\n",
    "             {\n",
    "                \"name\": \"subject\",\n",
    "                \"description\": \"the subject of the email\"\n",
    "             }\n",
    "        ]\n",
    "    }\n",
    "]\n",
    "query =\"Send Cobus from HumanFirst AI an email and ask him for the sales forecast spreadsheet.\"\n",
    "get_gorilla_response(query, functions=functions)  "
   ]
  }
 ],
 "metadata": {
  "kernelspec": {
   "display_name": "Python 3.11.0 ('cv')",
   "language": "python",
   "name": "python3"
  },
  "language_info": {
   "codemirror_mode": {
    "name": "ipython",
    "version": 3
   },
   "file_extension": ".py",
   "mimetype": "text/x-python",
   "name": "python",
   "nbconvert_exporter": "python",
   "pygments_lexer": "ipython3",
   "version": "3.11.0"
  },
  "orig_nbformat": 4,
  "vscode": {
   "interpreter": {
    "hash": "866c967b7c2635af016045250ae7db1714c5ca5c11c0210c74a847441a5d53aa"
   }
  }
 },
 "nbformat": 4,
 "nbformat_minor": 2
}
