{
 "cells": [
  {
   "cell_type": "code",
   "execution_count": 1,
   "metadata": {},
   "outputs": [],
   "source": [
    "# %pip install --force-reinstall langchain"
   ]
  },
  {
   "cell_type": "code",
   "execution_count": 2,
   "metadata": {},
   "outputs": [],
   "source": [
    "from langchain.chat_models import ChatOpenAI\n",
    "from langchain.llms import OpenAI\n",
    "\n",
    "from langchain.chains import LLMChain\n",
    "from langchain.prompts import (\n",
    "    MessagesPlaceholder,\n",
    "    HumanMessagePromptTemplate,\n",
    "    ChatPromptTemplate,\n",
    ")\n",
    "from langchain.memory import ConversationSummaryMemory, FileChatMessageHistory, ConversationBufferMemory"
   ]
  },
  {
   "cell_type": "code",
   "execution_count": 3,
   "metadata": {},
   "outputs": [],
   "source": [
    "chat = ChatOpenAI(base_url=\"http://172.21.240.1:1234/v1\", \n",
    "             api_key=\"not-needed\")\n",
    "\n",
    "llm = OpenAI(base_url=\"http://172.21.240.1:1234/v1\", \n",
    "             api_key=\"not-needed\",\n",
    "             temperature =0\n",
    "             )"
   ]
  },
  {
   "cell_type": "code",
   "execution_count": 4,
   "metadata": {},
   "outputs": [],
   "source": [
    "\n",
    "\n",
    "# memory = ConversationBufferMemory(\n",
    "#     chat_memory= FileChatMessageHistory( 'messages.json' ),\n",
    "#     memory_key=\"messages\", \n",
    "#     return_messages=True,  # returns message classes\n",
    "# )\n",
    "\n",
    "memory = ConversationSummaryMemory(\n",
    "    memory_key=\"messages\", \n",
    "    return_messages=True,  # returns message classes\n",
    "    llm = chat\n",
    ")"
   ]
  },
  {
   "cell_type": "code",
   "execution_count": 5,
   "metadata": {},
   "outputs": [],
   "source": [
    "memory.save_context({\"input\": \"hi\"}, {\"output\": \"whats up\"})"
   ]
  },
  {
   "cell_type": "code",
   "execution_count": 6,
   "metadata": {},
   "outputs": [
    {
     "data": {
      "text/plain": [
       "{'messages': [SystemMessage(content=\"Hi, what's up?\")]}"
      ]
     },
     "execution_count": 6,
     "metadata": {},
     "output_type": "execute_result"
    }
   ],
   "source": [
    "memory.load_memory_variables({})"
   ]
  },
  {
   "cell_type": "code",
   "execution_count": 7,
   "metadata": {},
   "outputs": [],
   "source": [
    "prompt = ChatPromptTemplate(\n",
    "    input_variables=[\"content\", \"messages\"],\n",
    "    messages=[\n",
    "        MessagesPlaceholder(variable_name=\"messages\"),\n",
    "        HumanMessagePromptTemplate.from_template(\"{content}\"),\n",
    "    ],\n",
    ")"
   ]
  },
  {
   "cell_type": "code",
   "execution_count": 8,
   "metadata": {},
   "outputs": [],
   "source": [
    "chain = LLMChain(llm=chat,\n",
    "                 prompt=prompt,\n",
    "                 memory=memory,\n",
    "                 verbose = True)"
   ]
  },
  {
   "cell_type": "code",
   "execution_count": 9,
   "metadata": {},
   "outputs": [
    {
     "name": "stdout",
     "output_type": "stream",
     "text": [
      "\n",
      "\n",
      "\u001b[1m> Entering new LLMChain chain...\u001b[0m\n",
      "Prompt after formatting:\n",
      "\u001b[32;1m\u001b[1;3mSystem: Hi, what's up?\n",
      "Human: whats 1 + 1\u001b[0m\n",
      "\n",
      "\u001b[1m> Finished chain.\u001b[0m\n",
      "{'content': 'whats 1 + 1', 'messages': [SystemMessage(content=\"Hi, what's up?\")], 'text': '2'}\n",
      "2\n",
      "\n",
      "\n",
      "\u001b[1m> Entering new LLMChain chain...\u001b[0m\n",
      "Prompt after formatting:\n",
      "\u001b[32;1m\u001b[1;3mSystem: Hi, what's up? The AI responds with \"2\" when asked what 1 + 1 is.\n",
      "Human: ok.  can you add 5 to that?\u001b[0m\n",
      "\n",
      "\u001b[1m> Finished chain.\u001b[0m\n",
      "{'content': 'ok.  can you add 5 to that?', 'messages': [SystemMessage(content='Hi, what\\'s up? The AI responds with \"2\" when asked what 1 + 1 is.')], 'text': '5 + 2 = 7'}\n",
      "5 + 2 = 7\n",
      "\n",
      "\n",
      "\u001b[1m> Entering new LLMChain chain...\u001b[0m\n",
      "Prompt after formatting:\n",
      "\u001b[32;1m\u001b[1;3mSystem: Hi, what's up? The AI responds with \"2\" when asked what 1 + 1 is. The human asks if the AI can add 5 to that. The AI responds with \"5 + 2 = 7\".\n",
      "Human: you're crushing it!  add 9 more please\u001b[0m\n",
      "\n",
      "\u001b[1m> Finished chain.\u001b[0m\n",
      "{'content': \"you're crushing it!  add 9 more please\", 'messages': [SystemMessage(content='Hi, what\\'s up? The AI responds with \"2\" when asked what 1 + 1 is. The human asks if the AI can add 5 to that. The AI responds with \"5 + 2 = 7\".')], 'text': '\"7 + 9 = 16\"'}\n",
      "\"7 + 9 = 16\"\n"
     ]
    }
   ],
   "source": [
    "is_loop = True\n",
    "while is_loop == True:\n",
    "    content = input(\">> \")\n",
    "\n",
    "    if not content:\n",
    "        is_loop = False\n",
    "        break\n",
    "\n",
    "    result = chain({\"content\": content})\n",
    "\n",
    "    print(result)\n",
    "    print(result[\"text\"])"
   ]
  }
 ],
 "metadata": {
  "kernelspec": {
   "display_name": ".venv",
   "language": "python",
   "name": "python3"
  },
  "language_info": {
   "codemirror_mode": {
    "name": "ipython",
    "version": 3
   },
   "file_extension": ".py",
   "mimetype": "text/x-python",
   "name": "python",
   "nbconvert_exporter": "python",
   "pygments_lexer": "ipython3",
   "version": "3.10.12"
  }
 },
 "nbformat": 4,
 "nbformat_minor": 2
}
