{
 "cells": [
  {
   "cell_type": "code",
   "execution_count": 1,
   "metadata": {},
   "outputs": [],
   "source": [
    "# from openai import OpenAI\n",
    "from langchain.llms import OpenAI\n",
    "from langchain.prompts import PromptTemplate\n",
    "from langchain.chains import LLMChain"
   ]
  },
  {
   "cell_type": "code",
   "execution_count": 2,
   "metadata": {},
   "outputs": [],
   "source": [
    "llm = OpenAI(base_url=\"http://172.21.240.1:1234/v1\", api_key=\"not-needed\")"
   ]
  },
  {
   "cell_type": "code",
   "execution_count": 3,
   "metadata": {},
   "outputs": [],
   "source": [
    "code_prompt = PromptTemplate(\n",
    "    template=\"Write a very short {language} function that will {task}\",\n",
    "    input_variables=[\"language\", \"task\"],\n",
    ")\n",
    "\n",
    "code_chain = LLMChain(llm=llm, prompt=code_prompt)"
   ]
  },
  {
   "cell_type": "code",
   "execution_count": 4,
   "metadata": {},
   "outputs": [
    {
     "name": "stdout",
     "output_type": "stream",
     "text": [
      "\n",
      "I'm standing here on this mountain high,\n",
      "Watching my love as she flies by.\n",
      "She's graceful and bold,\n",
      "A sight to behold.\n",
      "\n",
      "Her skis glide through the snow like a dream,\n",
      "As she carves down the slope with ease.\n",
      "But when it comes to snowboarding,\n",
      "I'm the one who's truly king.\n",
      "\n",
      "My board is my extension,\n",
      "A tool for my expression.\n",
      "I soar through the air,\n",
      "Feeling so alive and aware.\n",
      "\n",
      "Together we stand,\n",
      "Side by side on this winter land.\n",
      "She skis while I snowboard,\n",
      "But we both have so much to adore.\n",
      "\n",
      "The beauty of the mountains,\n",
      "The rush of the wind in our faces.\n",
      "This is our playground,\n",
      "And we're both proud to be here and now.\n"
     ]
    }
   ],
   "source": [
    "result = llm(\"write a brief poem about snowboarding with my skier girlfriend\")\n",
    "print(result)"
   ]
  }
 ],
 "metadata": {
  "kernelspec": {
   "display_name": ".venv",
   "language": "python",
   "name": "python3"
  },
  "language_info": {
   "codemirror_mode": {
    "name": "ipython",
    "version": 3
   },
   "file_extension": ".py",
   "mimetype": "text/x-python",
   "name": "python",
   "nbconvert_exporter": "python",
   "pygments_lexer": "ipython3",
   "version": "3.10.12"
  }
 },
 "nbformat": 4,
 "nbformat_minor": 2
}
