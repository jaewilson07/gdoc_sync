{
 "cells": [
  {
   "cell_type": "code",
   "execution_count": 104,
   "metadata": {},
   "outputs": [],
   "source": [
    "# | default_exp integrations.projects.tools"
   ]
  },
  {
   "cell_type": "code",
   "execution_count": 105,
   "metadata": {},
   "outputs": [],
   "source": [
    "# | exporti\n",
    "import sqlite3\n",
    "from typing import Any, List\n",
    "from langchain.agents import tool, Tool"
   ]
  },
  {
   "cell_type": "code",
   "execution_count": 106,
   "metadata": {},
   "outputs": [],
   "source": [
    "# | exporti\n",
    "conn = sqlite3.connect(\"db.sqlite\")"
   ]
  },
  {
   "cell_type": "code",
   "execution_count": 107,
   "metadata": {},
   "outputs": [],
   "source": [
    "# | export\n",
    "@tool\n",
    "def run_sqlite_query(query: str) -> Any:  # query result\n",
    "    \"\"\"executes a sqlite query\"\"\"\n",
    "    c = conn.cursor()\n",
    "    try:\n",
    "        c.execute(query)\n",
    "        return c.fetchall()\n",
    "\n",
    "    except sqlite3.OperationalError as e:\n",
    "        return f\"the following error occured {str(e)}\""
   ]
  },
  {
   "cell_type": "code",
   "execution_count": 108,
   "metadata": {},
   "outputs": [
    {
     "data": {
      "text/plain": [
       "[(2000,)]"
      ]
     },
     "execution_count": 108,
     "metadata": {},
     "output_type": "execute_result"
    }
   ],
   "source": [
    "run_sqlite_query(\"select count(*) from users\")"
   ]
  },
  {
   "cell_type": "code",
   "execution_count": 109,
   "metadata": {},
   "outputs": [],
   "source": [
    "# | export\n",
    "\n",
    "\n",
    "def list_tables() -> List[str]:  # returns a list of table names\n",
    "    \"\"\"retrieves a list of tables from the sqlite database\"\"\"\n",
    "\n",
    "    rows = []\n",
    "    c = conn.cursor()\n",
    "    c.execute(\"SELECT name from sqlite_master WHERE type = 'table';\")\n",
    "    rows += c.fetchall()\n",
    "\n",
    "    return \"\\n\".join(row[0] for row in rows if row[0] is not None)"
   ]
  },
  {
   "cell_type": "code",
   "execution_count": 110,
   "metadata": {},
   "outputs": [
    {
     "data": {
      "text/plain": [
       "'users\\naddresses\\nproducts\\ncarts\\norders\\norder_products'"
      ]
     },
     "execution_count": 110,
     "metadata": {},
     "output_type": "execute_result"
    }
   ],
   "source": [
    "list_tables()"
   ]
  },
  {
   "cell_type": "code",
   "execution_count": 111,
   "metadata": {},
   "outputs": [],
   "source": [
    "# |export\n",
    "@tool\n",
    "def describe_tables(table_names: str):  # comma separated list of table_names\n",
    "    \"\"\"given a list of tablenames, returns the schema of those tables\"\"\"\n",
    "    if \",\" in table_names:\n",
    "        table_names = table_names.split(\",\")\n",
    "\n",
    "    elif isinstance(table_names, list):\n",
    "        table_names = table_names\n",
    "\n",
    "    elif isinstance(table_names, str):\n",
    "        table_names = [table_names]\n",
    "\n",
    "    tables = \",\".join(\"'\" + table + \"'\" for table in table_names)\n",
    "    sql = f\"SELECT sql from sqlite_master WHERE type ='table' and name in ({tables});\"\n",
    "\n",
    "    c = conn.cursor()\n",
    "    rows = c.execute(sql)\n",
    "    return \"\\n\".join(row[0] for row in rows if row[0] is not None)"
   ]
  },
  {
   "cell_type": "code",
   "execution_count": 112,
   "metadata": {},
   "outputs": [
    {
     "data": {
      "text/plain": [
       "'CREATE TABLE orders (\\n    id INTEGER PRIMARY KEY,\\n    user_id INTEGER,\\n    created TEXT\\n    )'"
      ]
     },
     "execution_count": 112,
     "metadata": {},
     "output_type": "execute_result"
    }
   ],
   "source": [
    "describe_tables(\"orders\")"
   ]
  },
  {
   "cell_type": "code",
   "execution_count": 113,
   "metadata": {},
   "outputs": [],
   "source": [
    "# | hide\n",
    "import nbdev\n",
    "\n",
    "nbdev.nbdev_export()"
   ]
  }
 ],
 "metadata": {
  "kernelspec": {
   "display_name": ".venv",
   "language": "python",
   "name": "python3"
  },
  "language_info": {
   "codemirror_mode": {
    "name": "ipython",
    "version": 3
   },
   "file_extension": ".py",
   "mimetype": "text/x-python",
   "name": "python",
   "nbconvert_exporter": "python",
   "pygments_lexer": "ipython3",
   "version": "3.10.12"
  }
 },
 "nbformat": 4,
 "nbformat_minor": 2
}
