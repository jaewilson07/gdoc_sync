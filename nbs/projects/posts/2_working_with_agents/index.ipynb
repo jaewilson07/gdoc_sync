{
 "cells": [
  {
   "cell_type": "code",
   "execution_count": 1,
   "metadata": {},
   "outputs": [],
   "source": [
    "from langchain.chat_models import ChatOpenAI\n",
    "from langchain.agents import initialize_agent, Tool, AgentType\n",
    "from langchain import PromptTemplate\n",
    "\n",
    "import gdoc_sync.google.GSearch as gs\n",
    "import os"
   ]
  },
  {
   "cell_type": "code",
   "execution_count": 2,
   "metadata": {},
   "outputs": [
    {
     "data": {
      "text/plain": [
       "True"
      ]
     },
     "execution_count": 2,
     "metadata": {},
     "output_type": "execute_result"
    }
   ],
   "source": [
    "from dotenv import load_dotenv\n",
    "load_dotenv('../../../.env')"
   ]
  },
  {
   "cell_type": "markdown",
   "metadata": {},
   "source": [
    "# Agents\n",
    "- use predefined Tools\n"
   ]
  },
  {
   "cell_type": "code",
   "execution_count": 3,
   "metadata": {},
   "outputs": [],
   "source": [
    "llm = ChatOpenAI(\n",
    "    temperature=0, base_url=\"http://172.21.240.1:1234/v1\", openai_api_key=\"not_needed\"\n",
    ")"
   ]
  },
  {
   "cell_type": "code",
   "execution_count": 10,
   "metadata": {},
   "outputs": [],
   "source": [
    "async def get_profile_url(name_of_person: str) -> str:\n",
    "\n",
    "    gs_auth = gs.GoogleSearchAuth(\n",
    "        search_key=os.environ[\"GDOC_SEARCH_KEY\"],\n",
    "        search_engine_id=os.environ[\"GODC_SEARCH_ENGINE\"],\n",
    "    )\n",
    "    google_search = await gs.GoogleSearch.search(\n",
    "        auth=gs_auth, query=f\"linkedin profile {name_of_person}\",\n",
    "        json_cache_path=f\"./CACHE/google_search/{name_of_person}.json\"\n",
    "    )\n",
    "\n",
    "    return next((content['link'] for content in google_search.content if 'posts' not in content['link']))"
   ]
  },
  {
   "cell_type": "code",
   "execution_count": 5,
   "metadata": {},
   "outputs": [
    {
     "name": "stdout",
     "output_type": "stream",
     "text": [
      "Eden Marco\n"
     ]
    },
    {
     "data": {
      "text/plain": [
       "'https://il.linkedin.com/in/eden-marco'"
      ]
     },
     "execution_count": 5,
     "metadata": {},
     "output_type": "execute_result"
    }
   ],
   "source": [
    "await get_profile_url(name_of_person= \"Eden Marco\")"
   ]
  },
  {
   "cell_type": "code",
   "execution_count": 8,
   "metadata": {},
   "outputs": [],
   "source": [
    "async def linkedin_lookup_agent(linkedin_user_name: str, llm) -> str:  # linkedin profile url\n",
    "    template = \"\"\"\n",
    "    given the full name of a person {name_of_person}, retrieve a link to their LinkedIn profile page\n",
    "    your answer should contain only a URL.\n",
    "    \"\"\"\n",
    "\n",
    "    tools_for_agent = [\n",
    "        Tool(\n",
    "            name=\"crawl Google 4 LinkedIn profile page\",\n",
    "            func=get_profile_url,\n",
    "            description=\"can be used to search for profile page url\",\n",
    "            coroutine=get_profile_url\n",
    "        )\n",
    "    ]\n",
    "\n",
    "    agent = initialize_agent(\n",
    "        tools=tools_for_agent,\n",
    "        agent=AgentType.ZERO_SHOT_REACT_DESCRIPTION,\n",
    "        verbose=True,\n",
    "        llm=llm,\n",
    "        \n",
    "    )\n",
    "\n",
    "    prompt_template = PromptTemplate(\n",
    "        template=template, input_variables=[\"name_of_person\"]\n",
    "    )\n",
    "\n",
    "    linkedin_profile_url = await agent.arun(\n",
    "        prompt_template.format_prompt(name_of_person=linkedin_user_name)\n",
    "    )\n",
    "\n",
    "    return linkedin_profile_url"
   ]
  },
  {
   "cell_type": "code",
   "execution_count": 11,
   "metadata": {},
   "outputs": [
    {
     "name": "stdout",
     "output_type": "stream",
     "text": [
      "\n",
      "\n",
      "\u001b[1m> Entering new AgentExecutor chain...\u001b[0m\n",
      "\u001b[32;1m\u001b[1;3mAction: crawl Google 4 LinkedIn profile page\n",
      "Action Input: Oleksii Zakrevskyi\u001b[0m\n",
      "Observation: \u001b[36;1m\u001b[1;3mhttps://fr.linkedin.com/in/oleksii-zakrevskyi-97735510\u001b[0m\n",
      "Thought:\u001b[32;1m\u001b[1;3mFinal Answer: https://fr.linkedin.com/in/oleksii-zakrevskyi-97735510\u001b[0m\n",
      "\n",
      "\u001b[1m> Finished chain.\u001b[0m\n"
     ]
    },
    {
     "data": {
      "text/plain": [
       "'https://fr.linkedin.com/in/oleksii-zakrevskyi-97735510'"
      ]
     },
     "execution_count": 11,
     "metadata": {},
     "output_type": "execute_result"
    }
   ],
   "source": [
    "await linkedin_lookup_agent(\"Oleksii Zakrevskyi\", llm=llm)"
   ]
  }
 ],
 "metadata": {
  "kernelspec": {
   "display_name": ".venv",
   "language": "python",
   "name": "python3"
  },
  "language_info": {
   "codemirror_mode": {
    "name": "ipython",
    "version": 3
   },
   "file_extension": ".py",
   "mimetype": "text/x-python",
   "name": "python",
   "nbconvert_exporter": "python",
   "pygments_lexer": "ipython3",
   "version": "3.10.12"
  }
 },
 "nbformat": 4,
 "nbformat_minor": 2
}
