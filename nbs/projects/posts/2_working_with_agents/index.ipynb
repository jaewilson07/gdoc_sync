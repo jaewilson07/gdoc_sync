{
 "cells": [
  {
   "cell_type": "markdown",
   "metadata": {},
   "source": [
    "# Agents"
   ]
  },
  {
   "cell_type": "code",
   "execution_count": 1,
   "metadata": {},
   "outputs": [],
   "source": [
    "from langchain.chat_models import ChatOpenAI\n",
    "\n",
    "llm = ChatOpenAI(\n",
    "    temperature=0, base_url=\"http://172.21.240.1:1234/v1\", openai_api_key=\"not_needed\"\n",
    ")"
   ]
  },
  {
   "cell_type": "code",
   "execution_count": 2,
   "metadata": {},
   "outputs": [],
   "source": [
    "def get_profile_url(text: str) -> str:\n",
    "    return text"
   ]
  },
  {
   "cell_type": "code",
   "execution_count": 4,
   "metadata": {},
   "outputs": [],
   "source": [
    "from langchain.agents import initialize_agent, Tool, AgentType\n",
    "from langchain import PromptTemplate\n",
    "\n",
    "\n",
    "def lookup(linkedin_user_name: str, llm) -> str:  # linkedin profile url\n",
    "    template = \"\"\"\n",
    "    given the full name of a person {name_of_person}, retrieve a link to their LinkedIn profile page\n",
    "    your answer should contain only a URL.\n",
    "    \"\"\"\n",
    "\n",
    "    tools_for_agent = [\n",
    "        Tool(\n",
    "            name=\"crawl Google 4 LinkedIn profile page\",\n",
    "            func= get_profile_url,\n",
    "            description=\"can be used to search for profile page url\",\n",
    "        )\n",
    "    ]\n",
    "\n",
    "    agent = initialize_agent(\n",
    "        tools=tools_for_agent,\n",
    "        agent=AgentType.ZERO_SHOT_REACT_DESCRIPTION,\n",
    "        verbose=True,\n",
    "        llm=llm,\n",
    "    )\n",
    "\n",
    "    prompt_template = PromptTemplate(\n",
    "        template=template, input_variables=[\"name_of_person\"]\n",
    "    )\n",
    "\n",
    "    linkedin_profile_url = agent.run(\n",
    "        prompt_template.format_prompt(name_of_person=linkedin_user_name)\n",
    "    )\n",
    "\n",
    "    return linkedin_profile_url"
   ]
  },
  {
   "cell_type": "code",
   "execution_count": 5,
   "metadata": {},
   "outputs": [
    {
     "name": "stdout",
     "output_type": "stream",
     "text": [
      "\n",
      "\n",
      "\u001b[1m> Entering new AgentExecutor chain...\u001b[0m\n"
     ]
    }
   ],
   "source": [
    "lookup(\"Eden Marco\", llm=llm)"
   ]
  }
 ],
 "metadata": {
  "kernelspec": {
   "display_name": ".venv",
   "language": "python",
   "name": "python3"
  },
  "language_info": {
   "codemirror_mode": {
    "name": "ipython",
    "version": 3
   },
   "file_extension": ".py",
   "mimetype": "text/x-python",
   "name": "python",
   "nbconvert_exporter": "python",
   "pygments_lexer": "ipython3",
   "version": "3.10.12"
  }
 },
 "nbformat": 4,
 "nbformat_minor": 2
}
