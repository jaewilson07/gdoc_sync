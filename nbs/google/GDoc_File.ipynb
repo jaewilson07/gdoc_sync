{
 "cells": [
  {
   "cell_type": "markdown",
   "metadata": {},
   "source": [
    "# GDoc_File\n",
    "\n",
    "A class based approach for interacting with GoogleDrive Files"
   ]
  },
  {
   "cell_type": "code",
   "execution_count": 1,
   "metadata": {},
   "outputs": [],
   "source": [
    "# | default_exp google.GDoc_File"
   ]
  },
  {
   "cell_type": "code",
   "execution_count": 2,
   "metadata": {},
   "outputs": [],
   "source": [
    "# | exporti\n",
    "\n",
    "\n",
    "import os\n",
    "\n",
    "from dataclasses import dataclass, field\n",
    "from enum import Enum\n",
    "from typing import List\n",
    "\n",
    "import datetime as dt\n",
    "\n",
    "\n",
    "from googleapiclient.errors import HttpError\n",
    "\n",
    "from gdoc_sync.utils import (\n",
    "    upsert_folder,\n",
    "    convert_str_to_date,\n",
    "    convert_str_file_name,\n",
    "    download_zip,\n",
    "    download_pptx,\n",
    ")\n",
    "\n",
    "import gdoc_sync.google.auth as ga\n",
    "\n",
    "from nbdev.showdoc import patch_to"
   ]
  },
  {
   "cell_type": "code",
   "execution_count": 3,
   "metadata": {},
   "outputs": [],
   "source": [
    "# | hide\n",
    "from nbdev.showdoc import show_doc\n",
    "from dotenv import load_dotenv\n",
    "\n",
    "assert load_dotenv(\"../.env\")"
   ]
  },
  {
   "cell_type": "code",
   "execution_count": 4,
   "metadata": {},
   "outputs": [],
   "source": [
    "# | exports\n",
    "\n",
    "\n",
    "class GoogleDrive_MimeType_Enum(Enum):\n",
    "    \"\"\"for translating Google Drive types into 'exports as'\"\"\"\n",
    "\n",
    "    docx = \"application/vnd.openxmlformats-officedocument.wordprocessingml.document\"\n",
    "    pptx = \"application/vnd.openxmlformats-officedocument.presentationml.presentation\"\n",
    "\n",
    "    odt = \"application/vnd.oasis.opendocument.text\"\n",
    "    rtf = \"application/rtf\"\n",
    "    pdf = \"application/pdf\"\n",
    "    txt = \"text/plain\"\n",
    "    zip_file = \"application/zip\"\n",
    "    epub = \"application/epub+zip\"\n",
    "\n",
    "    folder = \"application/vnd.google-apps.folder\"\n",
    "    gdoc = \"application/vnd.google-apps.document\"\n",
    "    gsheet = \"application/vnd.google-apps.spreadsheet\"\n",
    "    gshortcut = \"application/vnd.google-apps.shortcut\"\n",
    "    gslides = \"application/vnd.google-apps.presentation\"\n",
    "\n",
    "    # html = 'application/zip'\n",
    "    # 'tex'  = 'application/zip'\n",
    "    # 'html.zip'= 'application/zip'"
   ]
  },
  {
   "cell_type": "code",
   "execution_count": 5,
   "metadata": {},
   "outputs": [],
   "source": [
    "# | exporti\n",
    "\n",
    "download_factory = {\n",
    "    \"application/vnd.google-apps.presentation\": {\n",
    "        \"download_fn\": download_pptx,\n",
    "        \"export_type\": GoogleDrive_MimeType_Enum.pptx,\n",
    "    },\n",
    "    \"default\": {\n",
    "        \"download_fn\": download_zip,\n",
    "        \"export_type\": GoogleDrive_MimeType_Enum.zip_file,\n",
    "    },\n",
    "}"
   ]
  },
  {
   "cell_type": "markdown",
   "metadata": {},
   "source": [
    "# Google_Doc file"
   ]
  },
  {
   "cell_type": "code",
   "execution_count": 6,
   "metadata": {},
   "outputs": [],
   "source": [
    "# | export\n",
    "@dataclass\n",
    "class GDoc_File:\n",
    "    doc_id: str\n",
    "    doc_name: str\n",
    "    modified_time: dt.datetime\n",
    "    url: str\n",
    "\n",
    "    auth: ga.GoogleAuth = field(repr=False)\n",
    "    mime_str: str\n",
    "\n",
    "    mime_type: GoogleDrive_MimeType_Enum = None\n",
    "    download_factory: dict = None\n",
    "\n",
    "    parent_ls: List[str] = field(default=None)\n",
    "    parents: List = field(default=None, repr=False)\n",
    "\n",
    "    content = None\n",
    "\n",
    "    def __post_init__(self):\n",
    "        try:\n",
    "            self.mime_type = GoogleDrive_MimeType_Enum(self.mime_str).name\n",
    "\n",
    "        except Exception as e:\n",
    "            print(e)\n",
    "\n",
    "        if self.parent_ls:\n",
    "            self.parents = [\n",
    "                GDoc_File.get_from_id(document_id=parent, auth=self.auth)\n",
    "                for parent in self.parent_ls\n",
    "            ]\n",
    "\n",
    "    @classmethod\n",
    "    def _from_json(cls, obj: dict, auth: ga.GoogleAuth, parent_ls: [str] = None):\n",
    "        return cls(\n",
    "            mime_str=obj[\"mimeType\"],\n",
    "            url=obj[\"webViewLink\"],\n",
    "            doc_id=obj[\"id\"],\n",
    "            doc_name=obj[\"name\"],\n",
    "            modified_time=convert_str_to_date(obj[\"modifiedTime\"]),\n",
    "            parent_ls=parent_ls or obj.get(\"parents\", None),\n",
    "            auth=auth,\n",
    "        )"
   ]
  },
  {
   "cell_type": "code",
   "execution_count": 7,
   "metadata": {},
   "outputs": [
    {
     "data": {
      "text/markdown": [
       "---\n",
       "\n",
       "[source](https://github.com/jaewilson07/gdoc_sync/blob/main/gdoc_sync/google/GDoc_File.py#L68){target=\"_blank\" style=\"float:right; font-size:smaller\"}\n",
       "\n",
       "### GDoc_File\n",
       "\n",
       ">      GDoc_File (doc_id:str, doc_name:str, modified_time:datetime.datetime,\n",
       ">                 url:str, auth:gdoc_sync.google.auth.GoogleAuth, mime_str:str,\n",
       ">                 mime_type:__main__.GoogleDrive_MimeType_Enum=None,\n",
       ">                 download_factory:dict=None, parent_ls:List[str]=None,\n",
       ">                 parents:List=None)"
      ],
      "text/plain": [
       "---\n",
       "\n",
       "[source](https://github.com/jaewilson07/gdoc_sync/blob/main/gdoc_sync/google/GDoc_File.py#L68){target=\"_blank\" style=\"float:right; font-size:smaller\"}\n",
       "\n",
       "### GDoc_File\n",
       "\n",
       ">      GDoc_File (doc_id:str, doc_name:str, modified_time:datetime.datetime,\n",
       ">                 url:str, auth:gdoc_sync.google.auth.GoogleAuth, mime_str:str,\n",
       ">                 mime_type:__main__.GoogleDrive_MimeType_Enum=None,\n",
       ">                 download_factory:dict=None, parent_ls:List[str]=None,\n",
       ">                 parents:List=None)"
      ]
     },
     "execution_count": 7,
     "metadata": {},
     "output_type": "execute_result"
    }
   ],
   "source": [
    "show_doc(GDoc_File)"
   ]
  },
  {
   "cell_type": "code",
   "execution_count": 8,
   "metadata": {},
   "outputs": [],
   "source": [
    "# export\n",
    "class GDoc_File_ServiceRequired(Exception):\n",
    "    def __init__(self, doc_url=None, doc_id=None):\n",
    "        message = f\"service (googleclientapi.discovery.Resource) required to download {doc_url or doc_id}\"\n",
    "        super().__init__(message)"
   ]
  },
  {
   "cell_type": "code",
   "execution_count": 9,
   "metadata": {},
   "outputs": [],
   "source": [
    "# | exporti\n",
    "\n",
    "\n",
    "@patch_to(GDoc_File, cls_method=True)\n",
    "def get_from_id(\n",
    "    cls: GDoc_File,\n",
    "    document_id: str,\n",
    "    auth: ga.GoogleAuth = None,\n",
    "    return_raw: bool = False,\n",
    "):\n",
    "    data = (\n",
    "        auth.service.files()\n",
    "        .get(\n",
    "            fileId=document_id,\n",
    "            fields=\"id,webViewLink, name, mimeType,modifiedTime,parents \",\n",
    "        )\n",
    "        .execute()\n",
    "    )\n",
    "\n",
    "    if return_raw:\n",
    "        return data\n",
    "\n",
    "    return cls._from_json(obj=data, auth=auth)"
   ]
  },
  {
   "cell_type": "markdown",
   "metadata": {},
   "source": [
    "#### sample implementation of get_from_id"
   ]
  },
  {
   "cell_type": "code",
   "execution_count": 10,
   "metadata": {},
   "outputs": [
    {
     "name": "stdout",
     "output_type": "stream",
     "text": [
      "using saved token\n",
      "generating service object on GoogleAuth\n"
     ]
    },
    {
     "data": {
      "text/plain": [
       "{'doc_id': '1m48jciWr2iZqwnhN7rezM8_GposSDZhGwQhsIdRqLJg',\n",
       " 'doc_name': 'test_subfolder',\n",
       " 'modified_time': datetime.datetime(2023, 8, 17, 21, 1, 6, 479000, tzinfo=tzutc()),\n",
       " 'url': 'https://docs.google.com/document/d/1m48jciWr2iZqwnhN7rezM8_GposSDZhGwQhsIdRqLJg/edit?usp=drivesdk',\n",
       " 'auth': GoogleAuth(creds=<google.oauth2.credentials.Credentials object at 0x7ff35a0ba790>, service=<googleapiclient.discovery.Resource object at 0x7ff35a12f290>, scope=['https://www.googleapis.com/auth/drive', 'https://www.googleapis.com/auth/drive.file', 'https://www.googleapis.com/auth/drive.metadata.readonly', 'https://www.googleapis.com/auth/drive.readonly']),\n",
       " 'mime_str': 'application/vnd.google-apps.document',\n",
       " 'mime_type': 'gdoc',\n",
       " 'download_factory': None,\n",
       " 'parent_ls': ['1grGeTxDXjEoo8MkRsMzTg6v_Pdtuxi1T'],\n",
       " 'parents': [GDoc_File(doc_id='1grGeTxDXjEoo8MkRsMzTg6v_Pdtuxi1T', doc_name='subfolder_test', modified_time=datetime.datetime(2023, 8, 17, 21, 0, 55, 634000, tzinfo=tzutc()), url='https://drive.google.com/drive/folders/1grGeTxDXjEoo8MkRsMzTg6v_Pdtuxi1T', mime_str='application/vnd.google-apps.folder', mime_type='folder', download_factory=None, parent_ls=['1SRrD1dNgZgHYjnhkJtARbLhydMP94qWi'])]}"
      ]
     },
     "execution_count": 10,
     "metadata": {},
     "output_type": "execute_result"
    }
   ],
   "source": [
    "# import gdoc_sync.google.auth as ga\n",
    "\n",
    "DOCUMENT_ID = \"1m48jciWr2iZqwnhN7rezM8_GposSDZhGwQhsIdRqLJg\"\n",
    "\n",
    "\n",
    "# generates Credentials object\n",
    "google_auth = ga.GoogleAuth.get_creds_from_env(\n",
    "    credentials_env_key=\"GDOC_KEY\", token_env_key=\"GDOC_TOKEN\"\n",
    ")\n",
    "\n",
    "GDoc_File.get_from_id(\n",
    "    document_id=DOCUMENT_ID, auth=google_auth, return_raw=False\n",
    ").__dict__"
   ]
  },
  {
   "cell_type": "code",
   "execution_count": 11,
   "metadata": {},
   "outputs": [],
   "source": [
    "# | export\n",
    "class GDocFile_DownloadError(Exception):\n",
    "    def __init__(self, doc_url):\n",
    "        message = f\"failure to download content for {doc_url}\"\n",
    "        super().__init__(message)"
   ]
  },
  {
   "cell_type": "code",
   "execution_count": 12,
   "metadata": {},
   "outputs": [],
   "source": [
    "# | exporti\n",
    "@patch_to(GDoc_File)\n",
    "def get_content(self: GDoc_File):\n",
    "    self.download_factory = download_factory.get(\n",
    "        self.mime_type, download_factory[\"default\"]\n",
    "    )\n",
    "\n",
    "    loop = 0\n",
    "\n",
    "    while loop < 3 and self.content is None:\n",
    "        try:\n",
    "            loop += 1\n",
    "            self.content = (\n",
    "                self.auth.service.files()\n",
    "                .export(\n",
    "                    fileId=self.doc_id,\n",
    "                    mimeType=self.download_factory[\"export_type\"].value,\n",
    "                )\n",
    "                .execute()\n",
    "            )\n",
    "\n",
    "        except HttpError as err:\n",
    "            print(err)\n",
    "\n",
    "        except Exception as e:\n",
    "            print(e)\n",
    "\n",
    "    if not self.content:\n",
    "        raise GDocFile_DownloadError(self.webViewLink)\n",
    "\n",
    "    return self.content"
   ]
  },
  {
   "cell_type": "code",
   "execution_count": 13,
   "metadata": {},
   "outputs": [
    {
     "name": "stdout",
     "output_type": "stream",
     "text": [
      "using saved token\n",
      "generating service object on GoogleAuth\n"
     ]
    },
    {
     "data": {
      "text/plain": [
       "b'PK\\x03\\x04\\x14\\x00\\x08\\x08\\x08\\x00K\\x93%X\\x00\\x00\\x00\\x00\\x00\\x00\\x00\\x00\\x00\\x00\\x00\\x00\\x13\\x00\\x00\\x00test_subfolder.html\\x95R\\xcbn\\xc3 \\x10\\xfc\\x15\\x8bJ\\xbd\\xd1\\xc4Q\\xfa\\x10\\xd8\\x96z\\xe9\\x17\\xa4\\x1f\\x80\\xcd\\xda\\xa0b \\xb0N\\xe2~}\\xc1v\\x0e\\x95z\\xe9J\\xa0Y\\xed\\xec\\xec\\x88\\xa5R8\\x9a\\xa6R dS\\x8d\\x80\\xa2\\xe8\\x9cE\\xb0X\\x13\\x84\\x1b\\xeer\\x99\\x17\\x9d\\x12!\\x02\\xd6\\x9f\\xa7\\x0f\\xfaF\\n\\x85\\xe8)\\x9c\\'}\\xa9\\xc9F\\xa78{ M\\xb5[\\x95Z\\'\\xe7\\xa23\"\\xc6\\x9aH\\xd7\\xd1\\x8dE\\x8a\\x88\\xb3\\x81\\x9a\\xb4\\xa2\\xfb\\x1a\\x82\\x9b\\xacL%\\xe3\\x02{\\xe8\\x97\\xe0^H\\xa9\\xed\\xc0^\\x0f\\x1e\\x8b\\xdf\\x17\\x1f\\xc5\\x8d^\\xb5D\\xc5\\x8e/o\\x1e\\xd34\\x7f\\xd7\\xbb\\xb7\\xed\\x13)\\x0c\\xda&\\xb0\\xe9\\xee\\x97\\xe0}2@\\xa3\\xfe\\x06V\\x96IjI{1j3\\xb3\\xc7\\xf3\\xe4\\x90\\xbf\\x07-\\xcc\\n\\xb9\\xd1\\x16\\xa8\\x02=(d\\xe5S\\xf9\\xcc]\\xf0J\\xd8\\xc8\\x0e<\\xcdw\\xd7\\x0c\\xf2\\xebPa\\xf4`\\x99\\x81>\\x9b\\x89^\\xd8\\xbb\\x9f?\\x86_W\\xbdc\\xca\\x97^\\t\\x9d\\x0b\\x02\\xb5\\xb3\\xcc:\\x0b\\xfc\\x02\\x01u\\'\\xcc&\\xda\\x8a\\x08\\xd9\\xc7\\xff\\x9c\\xaf\\xe4\\xec!\\x89\\x86Q\\x18\\xd2\\x9c b\\x11\\xa7\\xb6wFB\\xa8v\\xd9f\\xda\\x93O\\'o)\\xaf,\\x7f\\x81\\x1fPK\\x07\\x08\\xed\\xeaA\\x90,\\x01\\x00\\x00\\t\\x02\\x00\\x00PK\\x01\\x02\\x14\\x00\\x14\\x00\\x08\\x08\\x08\\x00K\\x93%X\\xed\\xeaA\\x90,\\x01\\x00\\x00\\t\\x02\\x00\\x00\\x13\\x00\\x00\\x00\\x00\\x00\\x00\\x00\\x00\\x00\\x00\\x00\\x00\\x00\\x00\\x00\\x00\\x00test_subfolder.htmlPK\\x05\\x06\\x00\\x00\\x00\\x00\\x01\\x00\\x01\\x00A\\x00\\x00\\x00m\\x01\\x00\\x00\\x00\\x00'"
      ]
     },
     "execution_count": 13,
     "metadata": {},
     "output_type": "execute_result"
    }
   ],
   "source": [
    "import gdoc_sync.google.auth as ga\n",
    "\n",
    "DOCUMENT_ID = \"1m48jciWr2iZqwnhN7rezM8_GposSDZhGwQhsIdRqLJg\"\n",
    "\n",
    "\n",
    "# generates Credentials object\n",
    "google_auth = ga.GoogleAuth.get_creds_from_env(\n",
    "    credentials_env_key=\"GDOC_KEY\", token_env_key=\"GDOC_TOKEN\"\n",
    ")\n",
    "\n",
    "gdoc = GDoc_File.get_from_id(\n",
    "    document_id=DOCUMENT_ID, auth=google_auth, return_raw=False\n",
    ")\n",
    "\n",
    "gdoc.get_content()"
   ]
  },
  {
   "cell_type": "code",
   "execution_count": 14,
   "metadata": {},
   "outputs": [],
   "source": [
    "# | exporti\n",
    "@patch_to(GDoc_File)\n",
    "def download_file(\n",
    "    self: GDoc_File, output_folder: str = \"\", is_use_file_id: bool = False\n",
    "):\n",
    "    if not self.content:\n",
    "        self.get_content()\n",
    "\n",
    "    # create output_folder\n",
    "    clean_file_name = (\n",
    "        self.doc_id if is_use_file_id else convert_str_file_name(self.doc_name)\n",
    "    )\n",
    "\n",
    "    output_folder_path = os.path.join(output_folder, clean_file_name)\n",
    "    upsert_folder(output_folder_path)\n",
    "\n",
    "    return self.download_factory[\"download_fn\"](self.content, output_folder_path)"
   ]
  },
  {
   "cell_type": "code",
   "execution_count": 15,
   "metadata": {},
   "outputs": [
    {
     "name": "stdout",
     "output_type": "stream",
     "text": [
      "using saved token\n",
      "generating service object on GoogleAuth\n"
     ]
    },
    {
     "data": {
      "text/plain": [
       "'successfully downloaded zip to ../TEST/drive/gdoc_download-file/test_subfolder'"
      ]
     },
     "execution_count": 15,
     "metadata": {},
     "output_type": "execute_result"
    }
   ],
   "source": [
    "# import gdoc_sync.google.auth as ga\n",
    "\n",
    "DOCUMENT_ID = \"1m48jciWr2iZqwnhN7rezM8_GposSDZhGwQhsIdRqLJg\"\n",
    "\n",
    "# generates Credentials object\n",
    "google_auth = ga.GoogleAuth.get_creds_from_env(\n",
    "    credentials_env_key=\"GDOC_KEY\", token_env_key=\"GDOC_TOKEN\"\n",
    ")\n",
    "\n",
    "gdoc = GDoc_File.get_from_id(\n",
    "    document_id=DOCUMENT_ID, auth=google_auth, return_raw=False\n",
    ")\n",
    "gdoc.download_file(output_folder=\"../TEST/drive/gdoc_download-file\")"
   ]
  },
  {
   "cell_type": "code",
   "execution_count": 16,
   "metadata": {},
   "outputs": [
    {
     "ename": "JSONDecodeError",
     "evalue": "Expecting value: line 1 column 1 (char 0)",
     "output_type": "error",
     "traceback": [
      "\u001b[0;31m---------------------------------------------------------------------------\u001b[0m",
      "\u001b[0;31mJSONDecodeError\u001b[0m                           Traceback (most recent call last)",
      "Cell \u001b[0;32mIn[16], line 4\u001b[0m\n\u001b[1;32m      1\u001b[0m \u001b[38;5;66;03m# | hide\u001b[39;00m\n\u001b[1;32m      2\u001b[0m \u001b[38;5;28;01mimport\u001b[39;00m \u001b[38;5;21;01mnbdev\u001b[39;00m\n\u001b[0;32m----> 4\u001b[0m \u001b[43mnbdev\u001b[49m\u001b[38;5;241;43m.\u001b[39;49m\u001b[43mnbdev_export\u001b[49m\u001b[43m(\u001b[49m\u001b[43m)\u001b[49m\n",
      "File \u001b[0;32m/mnt/c/users/jaewi/GitHub/gdoc_sync/.venv/lib/python3.11/site-packages/fastcore/script.py:110\u001b[0m, in \u001b[0;36mcall_parse.<locals>._f\u001b[0;34m(*args, **kwargs)\u001b[0m\n\u001b[1;32m    107\u001b[0m \u001b[38;5;129m@wraps\u001b[39m(func)\n\u001b[1;32m    108\u001b[0m \u001b[38;5;28;01mdef\u001b[39;00m \u001b[38;5;21m_f\u001b[39m(\u001b[38;5;241m*\u001b[39margs, \u001b[38;5;241m*\u001b[39m\u001b[38;5;241m*\u001b[39mkwargs):\n\u001b[1;32m    109\u001b[0m     mod \u001b[38;5;241m=\u001b[39m inspect\u001b[38;5;241m.\u001b[39mgetmodule(inspect\u001b[38;5;241m.\u001b[39mcurrentframe()\u001b[38;5;241m.\u001b[39mf_back)\n\u001b[0;32m--> 110\u001b[0m     \u001b[38;5;28;01mif\u001b[39;00m \u001b[38;5;129;01mnot\u001b[39;00m mod: \u001b[38;5;28;01mreturn\u001b[39;00m \u001b[43mfunc\u001b[49m\u001b[43m(\u001b[49m\u001b[38;5;241;43m*\u001b[39;49m\u001b[43margs\u001b[49m\u001b[43m,\u001b[49m\u001b[43m \u001b[49m\u001b[38;5;241;43m*\u001b[39;49m\u001b[38;5;241;43m*\u001b[39;49m\u001b[43mkwargs\u001b[49m\u001b[43m)\u001b[49m\n\u001b[1;32m    111\u001b[0m     \u001b[38;5;28;01mif\u001b[39;00m \u001b[38;5;129;01mnot\u001b[39;00m SCRIPT_INFO\u001b[38;5;241m.\u001b[39mfunc \u001b[38;5;129;01mand\u001b[39;00m mod\u001b[38;5;241m.\u001b[39m\u001b[38;5;18m__name__\u001b[39m\u001b[38;5;241m==\u001b[39m\u001b[38;5;124m\"\u001b[39m\u001b[38;5;124m__main__\u001b[39m\u001b[38;5;124m\"\u001b[39m: SCRIPT_INFO\u001b[38;5;241m.\u001b[39mfunc \u001b[38;5;241m=\u001b[39m func\u001b[38;5;241m.\u001b[39m\u001b[38;5;18m__name__\u001b[39m\n\u001b[1;32m    112\u001b[0m     \u001b[38;5;28;01mif\u001b[39;00m \u001b[38;5;28mlen\u001b[39m(sys\u001b[38;5;241m.\u001b[39margv)\u001b[38;5;241m>\u001b[39m\u001b[38;5;241m1\u001b[39m \u001b[38;5;129;01mand\u001b[39;00m sys\u001b[38;5;241m.\u001b[39margv[\u001b[38;5;241m1\u001b[39m]\u001b[38;5;241m==\u001b[39m\u001b[38;5;124m'\u001b[39m\u001b[38;5;124m'\u001b[39m: sys\u001b[38;5;241m.\u001b[39margv\u001b[38;5;241m.\u001b[39mpop(\u001b[38;5;241m1\u001b[39m)\n",
      "File \u001b[0;32m/mnt/c/users/jaewi/GitHub/gdoc_sync/.venv/lib/python3.11/site-packages/nbdev/doclinks.py:142\u001b[0m, in \u001b[0;36mnbdev_export\u001b[0;34m(path, procs, **kwargs)\u001b[0m\n\u001b[1;32m    140\u001b[0m   procs \u001b[38;5;241m=\u001b[39m [\u001b[38;5;28mgetattr\u001b[39m(nbdev\u001b[38;5;241m.\u001b[39mexport, p) \u001b[38;5;28;01mfor\u001b[39;00m p \u001b[38;5;129;01min\u001b[39;00m L(procs)]\n\u001b[1;32m    141\u001b[0m files \u001b[38;5;241m=\u001b[39m nbglob(path\u001b[38;5;241m=\u001b[39mpath, as_path\u001b[38;5;241m=\u001b[39m\u001b[38;5;28;01mTrue\u001b[39;00m, \u001b[38;5;241m*\u001b[39m\u001b[38;5;241m*\u001b[39mkwargs)\u001b[38;5;241m.\u001b[39msorted(\u001b[38;5;124m'\u001b[39m\u001b[38;5;124mname\u001b[39m\u001b[38;5;124m'\u001b[39m)\n\u001b[0;32m--> 142\u001b[0m \u001b[38;5;28;01mfor\u001b[39;00m f \u001b[38;5;129;01min\u001b[39;00m files: \u001b[43mnb_export\u001b[49m\u001b[43m(\u001b[49m\u001b[43mf\u001b[49m\u001b[43m,\u001b[49m\u001b[43m \u001b[49m\u001b[43mprocs\u001b[49m\u001b[38;5;241;43m=\u001b[39;49m\u001b[43mprocs\u001b[49m\u001b[43m)\u001b[49m\n\u001b[1;32m    143\u001b[0m add_init(get_config()\u001b[38;5;241m.\u001b[39mlib_path)\n\u001b[1;32m    144\u001b[0m _build_modidx()\n",
      "File \u001b[0;32m/mnt/c/users/jaewi/GitHub/gdoc_sync/.venv/lib/python3.11/site-packages/nbdev/export.py:67\u001b[0m, in \u001b[0;36mnb_export\u001b[0;34m(nbname, lib_path, procs, debug, mod_maker, name)\u001b[0m\n\u001b[1;32m     65\u001b[0m \u001b[38;5;28;01mif\u001b[39;00m lib_path \u001b[38;5;129;01mis\u001b[39;00m \u001b[38;5;28;01mNone\u001b[39;00m: lib_path \u001b[38;5;241m=\u001b[39m get_config()\u001b[38;5;241m.\u001b[39mlib_path\n\u001b[1;32m     66\u001b[0m exp \u001b[38;5;241m=\u001b[39m ExportModuleProc()\n\u001b[0;32m---> 67\u001b[0m nb \u001b[38;5;241m=\u001b[39m \u001b[43mNBProcessor\u001b[49m\u001b[43m(\u001b[49m\u001b[43mnbname\u001b[49m\u001b[43m,\u001b[49m\u001b[43m \u001b[49m\u001b[43m[\u001b[49m\u001b[43mexp\u001b[49m\u001b[43m]\u001b[49m\u001b[38;5;241;43m+\u001b[39;49m\u001b[43mL\u001b[49m\u001b[43m(\u001b[49m\u001b[43mprocs\u001b[49m\u001b[43m)\u001b[49m\u001b[43m,\u001b[49m\u001b[43m \u001b[49m\u001b[43mdebug\u001b[49m\u001b[38;5;241;43m=\u001b[39;49m\u001b[43mdebug\u001b[49m\u001b[43m)\u001b[49m\n\u001b[1;32m     68\u001b[0m nb\u001b[38;5;241m.\u001b[39mprocess()\n\u001b[1;32m     69\u001b[0m \u001b[38;5;28;01mfor\u001b[39;00m mod,cells \u001b[38;5;129;01min\u001b[39;00m exp\u001b[38;5;241m.\u001b[39mmodules\u001b[38;5;241m.\u001b[39mitems():\n",
      "File \u001b[0;32m/mnt/c/users/jaewi/GitHub/gdoc_sync/.venv/lib/python3.11/site-packages/nbdev/process.py:93\u001b[0m, in \u001b[0;36mNBProcessor.__init__\u001b[0;34m(self, path, procs, nb, debug, rm_directives, process)\u001b[0m\n\u001b[1;32m     92\u001b[0m \u001b[38;5;28;01mdef\u001b[39;00m \u001b[38;5;21m__init__\u001b[39m(\u001b[38;5;28mself\u001b[39m, path\u001b[38;5;241m=\u001b[39m\u001b[38;5;28;01mNone\u001b[39;00m, procs\u001b[38;5;241m=\u001b[39m\u001b[38;5;28;01mNone\u001b[39;00m, nb\u001b[38;5;241m=\u001b[39m\u001b[38;5;28;01mNone\u001b[39;00m, debug\u001b[38;5;241m=\u001b[39m\u001b[38;5;28;01mFalse\u001b[39;00m, rm_directives\u001b[38;5;241m=\u001b[39m\u001b[38;5;28;01mTrue\u001b[39;00m, process\u001b[38;5;241m=\u001b[39m\u001b[38;5;28;01mFalse\u001b[39;00m):\n\u001b[0;32m---> 93\u001b[0m     \u001b[38;5;28mself\u001b[39m\u001b[38;5;241m.\u001b[39mnb \u001b[38;5;241m=\u001b[39m \u001b[43mread_nb\u001b[49m\u001b[43m(\u001b[49m\u001b[43mpath\u001b[49m\u001b[43m)\u001b[49m \u001b[38;5;28;01mif\u001b[39;00m nb \u001b[38;5;129;01mis\u001b[39;00m \u001b[38;5;28;01mNone\u001b[39;00m \u001b[38;5;28;01melse\u001b[39;00m nb\n\u001b[1;32m     94\u001b[0m     \u001b[38;5;28mself\u001b[39m\u001b[38;5;241m.\u001b[39mlang \u001b[38;5;241m=\u001b[39m nb_lang(\u001b[38;5;28mself\u001b[39m\u001b[38;5;241m.\u001b[39mnb)\n\u001b[1;32m     95\u001b[0m     \u001b[38;5;28;01mfor\u001b[39;00m cell \u001b[38;5;129;01min\u001b[39;00m \u001b[38;5;28mself\u001b[39m\u001b[38;5;241m.\u001b[39mnb\u001b[38;5;241m.\u001b[39mcells: cell\u001b[38;5;241m.\u001b[39mdirectives_ \u001b[38;5;241m=\u001b[39m extract_directives(cell, remove\u001b[38;5;241m=\u001b[39mrm_directives, lang\u001b[38;5;241m=\u001b[39m\u001b[38;5;28mself\u001b[39m\u001b[38;5;241m.\u001b[39mlang)\n",
      "File \u001b[0;32m/mnt/c/users/jaewi/GitHub/gdoc_sync/.venv/lib/python3.11/site-packages/execnb/nbio.py:57\u001b[0m, in \u001b[0;36mread_nb\u001b[0;34m(path)\u001b[0m\n\u001b[1;32m     55\u001b[0m \u001b[38;5;28;01mdef\u001b[39;00m \u001b[38;5;21mread_nb\u001b[39m(path):\n\u001b[1;32m     56\u001b[0m     \u001b[38;5;124m\"\u001b[39m\u001b[38;5;124mReturn notebook at `path`\u001b[39m\u001b[38;5;124m\"\u001b[39m\n\u001b[0;32m---> 57\u001b[0m     res \u001b[38;5;241m=\u001b[39m dict2nb(\u001b[43m_read_json\u001b[49m\u001b[43m(\u001b[49m\u001b[43mpath\u001b[49m\u001b[43m,\u001b[49m\u001b[43m \u001b[49m\u001b[43mencoding\u001b[49m\u001b[38;5;241;43m=\u001b[39;49m\u001b[38;5;124;43m'\u001b[39;49m\u001b[38;5;124;43mutf-8\u001b[39;49m\u001b[38;5;124;43m'\u001b[39;49m\u001b[43m)\u001b[49m)\n\u001b[1;32m     58\u001b[0m     res[\u001b[38;5;124m'\u001b[39m\u001b[38;5;124mpath_\u001b[39m\u001b[38;5;124m'\u001b[39m] \u001b[38;5;241m=\u001b[39m \u001b[38;5;28mstr\u001b[39m(path)\n\u001b[1;32m     59\u001b[0m     \u001b[38;5;28;01mreturn\u001b[39;00m res\n",
      "File \u001b[0;32m/mnt/c/users/jaewi/GitHub/gdoc_sync/.venv/lib/python3.11/site-packages/execnb/nbio.py:16\u001b[0m, in \u001b[0;36m_read_json\u001b[0;34m(self, encoding, errors)\u001b[0m\n\u001b[1;32m     15\u001b[0m \u001b[38;5;28;01mdef\u001b[39;00m \u001b[38;5;21m_read_json\u001b[39m(\u001b[38;5;28mself\u001b[39m, encoding\u001b[38;5;241m=\u001b[39m\u001b[38;5;28;01mNone\u001b[39;00m, errors\u001b[38;5;241m=\u001b[39m\u001b[38;5;28;01mNone\u001b[39;00m):\n\u001b[0;32m---> 16\u001b[0m     \u001b[38;5;28;01mreturn\u001b[39;00m \u001b[43mloads\u001b[49m\u001b[43m(\u001b[49m\u001b[43mPath\u001b[49m\u001b[43m(\u001b[49m\u001b[38;5;28;43mself\u001b[39;49m\u001b[43m)\u001b[49m\u001b[38;5;241;43m.\u001b[39;49m\u001b[43mread_text\u001b[49m\u001b[43m(\u001b[49m\u001b[43mencoding\u001b[49m\u001b[38;5;241;43m=\u001b[39;49m\u001b[43mencoding\u001b[49m\u001b[43m,\u001b[49m\u001b[43m \u001b[49m\u001b[43merrors\u001b[49m\u001b[38;5;241;43m=\u001b[39;49m\u001b[43merrors\u001b[49m\u001b[43m)\u001b[49m\u001b[43m)\u001b[49m\n",
      "File \u001b[0;32m/usr/lib/python3.11/json/__init__.py:346\u001b[0m, in \u001b[0;36mloads\u001b[0;34m(s, cls, object_hook, parse_float, parse_int, parse_constant, object_pairs_hook, **kw)\u001b[0m\n\u001b[1;32m    341\u001b[0m     s \u001b[38;5;241m=\u001b[39m s\u001b[38;5;241m.\u001b[39mdecode(detect_encoding(s), \u001b[38;5;124m'\u001b[39m\u001b[38;5;124msurrogatepass\u001b[39m\u001b[38;5;124m'\u001b[39m)\n\u001b[1;32m    343\u001b[0m \u001b[38;5;28;01mif\u001b[39;00m (\u001b[38;5;28mcls\u001b[39m \u001b[38;5;129;01mis\u001b[39;00m \u001b[38;5;28;01mNone\u001b[39;00m \u001b[38;5;129;01mand\u001b[39;00m object_hook \u001b[38;5;129;01mis\u001b[39;00m \u001b[38;5;28;01mNone\u001b[39;00m \u001b[38;5;129;01mand\u001b[39;00m\n\u001b[1;32m    344\u001b[0m         parse_int \u001b[38;5;129;01mis\u001b[39;00m \u001b[38;5;28;01mNone\u001b[39;00m \u001b[38;5;129;01mand\u001b[39;00m parse_float \u001b[38;5;129;01mis\u001b[39;00m \u001b[38;5;28;01mNone\u001b[39;00m \u001b[38;5;129;01mand\u001b[39;00m\n\u001b[1;32m    345\u001b[0m         parse_constant \u001b[38;5;129;01mis\u001b[39;00m \u001b[38;5;28;01mNone\u001b[39;00m \u001b[38;5;129;01mand\u001b[39;00m object_pairs_hook \u001b[38;5;129;01mis\u001b[39;00m \u001b[38;5;28;01mNone\u001b[39;00m \u001b[38;5;129;01mand\u001b[39;00m \u001b[38;5;129;01mnot\u001b[39;00m kw):\n\u001b[0;32m--> 346\u001b[0m     \u001b[38;5;28;01mreturn\u001b[39;00m \u001b[43m_default_decoder\u001b[49m\u001b[38;5;241;43m.\u001b[39;49m\u001b[43mdecode\u001b[49m\u001b[43m(\u001b[49m\u001b[43ms\u001b[49m\u001b[43m)\u001b[49m\n\u001b[1;32m    347\u001b[0m \u001b[38;5;28;01mif\u001b[39;00m \u001b[38;5;28mcls\u001b[39m \u001b[38;5;129;01mis\u001b[39;00m \u001b[38;5;28;01mNone\u001b[39;00m:\n\u001b[1;32m    348\u001b[0m     \u001b[38;5;28mcls\u001b[39m \u001b[38;5;241m=\u001b[39m JSONDecoder\n",
      "File \u001b[0;32m/usr/lib/python3.11/json/decoder.py:337\u001b[0m, in \u001b[0;36mJSONDecoder.decode\u001b[0;34m(self, s, _w)\u001b[0m\n\u001b[1;32m    332\u001b[0m \u001b[38;5;28;01mdef\u001b[39;00m \u001b[38;5;21mdecode\u001b[39m(\u001b[38;5;28mself\u001b[39m, s, _w\u001b[38;5;241m=\u001b[39mWHITESPACE\u001b[38;5;241m.\u001b[39mmatch):\n\u001b[1;32m    333\u001b[0m \u001b[38;5;250m    \u001b[39m\u001b[38;5;124;03m\"\"\"Return the Python representation of ``s`` (a ``str`` instance\u001b[39;00m\n\u001b[1;32m    334\u001b[0m \u001b[38;5;124;03m    containing a JSON document).\u001b[39;00m\n\u001b[1;32m    335\u001b[0m \n\u001b[1;32m    336\u001b[0m \u001b[38;5;124;03m    \"\"\"\u001b[39;00m\n\u001b[0;32m--> 337\u001b[0m     obj, end \u001b[38;5;241m=\u001b[39m \u001b[38;5;28;43mself\u001b[39;49m\u001b[38;5;241;43m.\u001b[39;49m\u001b[43mraw_decode\u001b[49m\u001b[43m(\u001b[49m\u001b[43ms\u001b[49m\u001b[43m,\u001b[49m\u001b[43m \u001b[49m\u001b[43midx\u001b[49m\u001b[38;5;241;43m=\u001b[39;49m\u001b[43m_w\u001b[49m\u001b[43m(\u001b[49m\u001b[43ms\u001b[49m\u001b[43m,\u001b[49m\u001b[43m \u001b[49m\u001b[38;5;241;43m0\u001b[39;49m\u001b[43m)\u001b[49m\u001b[38;5;241;43m.\u001b[39;49m\u001b[43mend\u001b[49m\u001b[43m(\u001b[49m\u001b[43m)\u001b[49m\u001b[43m)\u001b[49m\n\u001b[1;32m    338\u001b[0m     end \u001b[38;5;241m=\u001b[39m _w(s, end)\u001b[38;5;241m.\u001b[39mend()\n\u001b[1;32m    339\u001b[0m     \u001b[38;5;28;01mif\u001b[39;00m end \u001b[38;5;241m!=\u001b[39m \u001b[38;5;28mlen\u001b[39m(s):\n",
      "File \u001b[0;32m/usr/lib/python3.11/json/decoder.py:355\u001b[0m, in \u001b[0;36mJSONDecoder.raw_decode\u001b[0;34m(self, s, idx)\u001b[0m\n\u001b[1;32m    353\u001b[0m     obj, end \u001b[38;5;241m=\u001b[39m \u001b[38;5;28mself\u001b[39m\u001b[38;5;241m.\u001b[39mscan_once(s, idx)\n\u001b[1;32m    354\u001b[0m \u001b[38;5;28;01mexcept\u001b[39;00m \u001b[38;5;167;01mStopIteration\u001b[39;00m \u001b[38;5;28;01mas\u001b[39;00m err:\n\u001b[0;32m--> 355\u001b[0m     \u001b[38;5;28;01mraise\u001b[39;00m JSONDecodeError(\u001b[38;5;124m\"\u001b[39m\u001b[38;5;124mExpecting value\u001b[39m\u001b[38;5;124m\"\u001b[39m, s, err\u001b[38;5;241m.\u001b[39mvalue) \u001b[38;5;28;01mfrom\u001b[39;00m \u001b[38;5;28;01mNone\u001b[39;00m\n\u001b[1;32m    356\u001b[0m \u001b[38;5;28;01mreturn\u001b[39;00m obj, end\n",
      "\u001b[0;31mJSONDecodeError\u001b[0m: Expecting value: line 1 column 1 (char 0)"
     ]
    }
   ],
   "source": [
    "# | hide\n",
    "import nbdev\n",
    "\n",
    "nbdev.nbdev_export()"
   ]
  }
 ],
 "metadata": {
  "kernelspec": {
   "display_name": "python3",
   "language": "python",
   "name": "python3"
  },
  "language_info": {
   "codemirror_mode": {
    "name": "ipython",
    "version": 3
   },
   "file_extension": ".py",
   "mimetype": "text/x-python",
   "name": "python",
   "nbconvert_exporter": "python",
   "pygments_lexer": "ipython3",
   "version": "3.11.0rc1"
  }
 },
 "nbformat": 4,
 "nbformat_minor": 4
}
