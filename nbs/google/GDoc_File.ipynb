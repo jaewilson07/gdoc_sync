{
 "cells": [
  {
   "cell_type": "markdown",
   "metadata": {},
   "source": [
    "# GDoc_File\n",
    "\n",
    "A class based approach for interacting with GoogleDrive Files"
   ]
  },
  {
   "cell_type": "code",
   "execution_count": 1,
   "metadata": {},
   "outputs": [],
   "source": [
    "# | default_exp google.GDoc_File"
   ]
  },
  {
   "cell_type": "code",
   "execution_count": 2,
   "metadata": {},
   "outputs": [],
   "source": [
    "# | exporti\n",
    "\n",
    "\n",
    "import os\n",
    "\n",
    "from dataclasses import dataclass, field\n",
    "from enum import Enum\n",
    "from typing import List\n",
    "\n",
    "import datetime as dt\n",
    "\n",
    "\n",
    "from googleapiclient.errors import HttpError\n",
    "\n",
    "from gdoc_sync.utils import (\n",
    "    upsert_folder,\n",
    "    convert_str_to_date,\n",
    "    convert_str_file_name,\n",
    "    download_zip,\n",
    "    download_pptx,\n",
    ")\n",
    "\n",
    "import gdoc_sync.google.auth as ga\n",
    "\n",
    "from nbdev.showdoc import patch_to"
   ]
  },
  {
   "cell_type": "code",
   "execution_count": 3,
   "metadata": {},
   "outputs": [
    {
     "data": {
      "text/plain": [
       "True"
      ]
     },
     "execution_count": 3,
     "metadata": {},
     "output_type": "execute_result"
    }
   ],
   "source": [
    "# | hide\n",
    "from nbdev.showdoc import show_doc\n",
    "from dotenv import load_dotenv\n",
    "\n",
    "load_dotenv(\"../.env\")"
   ]
  },
  {
   "cell_type": "code",
   "execution_count": 4,
   "metadata": {},
   "outputs": [],
   "source": [
    "# | exports\n",
    "\n",
    "\n",
    "class GoogleDrive_MimeType_Enum(Enum):\n",
    "    \"\"\"for translating Google Drive types into 'exports as'\"\"\"\n",
    "\n",
    "    docx = \"application/vnd.openxmlformats-officedocument.wordprocessingml.document\"\n",
    "    pptx = \"application/vnd.openxmlformats-officedocument.presentationml.presentation\"\n",
    "\n",
    "    odt = \"application/vnd.oasis.opendocument.text\"\n",
    "    rtf = \"application/rtf\"\n",
    "    pdf = \"application/pdf\"\n",
    "    txt = \"text/plain\"\n",
    "    zip_file = \"application/zip\"\n",
    "    epub = \"application/epub+zip\"\n",
    "\n",
    "    folder = \"application/vnd.google-apps.folder\"\n",
    "    gdoc = \"application/vnd.google-apps.document\"\n",
    "    gsheet = \"application/vnd.google-apps.spreadsheet\"\n",
    "    gshortcut = \"application/vnd.google-apps.shortcut\"\n",
    "    gslides = \"application/vnd.google-apps.presentation\"\n",
    "\n",
    "    # html = 'application/zip'\n",
    "    # 'tex'  = 'application/zip'\n",
    "    # 'html.zip'= 'application/zip'"
   ]
  },
  {
   "cell_type": "code",
   "execution_count": 5,
   "metadata": {},
   "outputs": [],
   "source": [
    "# | exporti\n",
    "\n",
    "download_factory = {\n",
    "    \"application/vnd.google-apps.presentation\": {\n",
    "        \"download_fn\": download_pptx,\n",
    "        \"export_type\": GoogleDrive_MimeType_Enum.pptx,\n",
    "    },\n",
    "    \"default\": {\n",
    "        \"download_fn\": download_zip,\n",
    "        \"export_type\": GoogleDrive_MimeType_Enum.zip_file,\n",
    "    },\n",
    "}"
   ]
  },
  {
   "cell_type": "markdown",
   "metadata": {},
   "source": [
    "# Google_Doc file"
   ]
  },
  {
   "cell_type": "code",
   "execution_count": 6,
   "metadata": {},
   "outputs": [],
   "source": [
    "# | export\n",
    "@dataclass\n",
    "class GDoc_File:\n",
    "    doc_id: str\n",
    "    doc_name: str\n",
    "    modified_time: dt.datetime\n",
    "    url: str\n",
    "\n",
    "    auth: ga.GoogleAuth = field(repr=False)\n",
    "    mime_str: str\n",
    "\n",
    "    mime_type: GoogleDrive_MimeType_Enum = None\n",
    "    download_factory: dict = None\n",
    "\n",
    "    parent_ls: List[str] = field(default=None)\n",
    "    parents: List = field(default=None, repr=False)\n",
    "\n",
    "    content = None\n",
    "\n",
    "    def __post_init__(self):\n",
    "        try:\n",
    "            self.mime_type = GoogleDrive_MimeType_Enum(self.mime_str).name\n",
    "\n",
    "        except Exception as e:\n",
    "            print(e)\n",
    "\n",
    "        if self.parent_ls:\n",
    "            self.parents = [\n",
    "                GDoc_File.get_from_id(document_id=parent, auth=self.auth)\n",
    "                for parent in self.parent_ls\n",
    "            ]\n",
    "\n",
    "    @classmethod\n",
    "    def _from_json(cls, obj: dict, auth: ga.GoogleAuth, parent_ls: [str] = None):\n",
    "        return cls(\n",
    "            mime_str=obj[\"mimeType\"],\n",
    "            url=obj[\"webViewLink\"],\n",
    "            doc_id=obj[\"id\"],\n",
    "            doc_name=obj[\"name\"],\n",
    "            modified_time=convert_str_to_date(obj[\"modifiedTime\"]),\n",
    "            parent_ls=parent_ls or obj.get(\"parents\", None),\n",
    "            auth=auth,\n",
    "        )"
   ]
  },
  {
   "cell_type": "code",
   "execution_count": 7,
   "metadata": {},
   "outputs": [
    {
     "data": {
      "text/markdown": [
       "---\n",
       "\n",
       "[source](https://github.com/jaewilson07/gdoc_sync/blob/main/gdoc_sync/google/GDoc_File.py#L68){target=\"_blank\" style=\"float:right; font-size:smaller\"}\n",
       "\n",
       "### GDoc_File\n",
       "\n",
       ">      GDoc_File (doc_id:str, doc_name:str, modified_time:datetime.datetime,\n",
       ">                 url:str, auth:gdoc_sync.google.auth.GoogleAuth, mime_str:str,\n",
       ">                 mime_type:__main__.GoogleDrive_MimeType_Enum=None,\n",
       ">                 download_factory:dict=None, parent_ls:List[str]=None,\n",
       ">                 parents:List=None)"
      ],
      "text/plain": [
       "---\n",
       "\n",
       "[source](https://github.com/jaewilson07/gdoc_sync/blob/main/gdoc_sync/google/GDoc_File.py#L68){target=\"_blank\" style=\"float:right; font-size:smaller\"}\n",
       "\n",
       "### GDoc_File\n",
       "\n",
       ">      GDoc_File (doc_id:str, doc_name:str, modified_time:datetime.datetime,\n",
       ">                 url:str, auth:gdoc_sync.google.auth.GoogleAuth, mime_str:str,\n",
       ">                 mime_type:__main__.GoogleDrive_MimeType_Enum=None,\n",
       ">                 download_factory:dict=None, parent_ls:List[str]=None,\n",
       ">                 parents:List=None)"
      ]
     },
     "execution_count": 7,
     "metadata": {},
     "output_type": "execute_result"
    }
   ],
   "source": [
    "show_doc(GDoc_File)"
   ]
  },
  {
   "cell_type": "code",
   "execution_count": 8,
   "metadata": {},
   "outputs": [],
   "source": [
    "# export\n",
    "class GDoc_File_ServiceRequired(Exception):\n",
    "    def __init__(self, doc_url=None, doc_id=None):\n",
    "        message = f\"service (googleclientapi.discovery.Resource) required to download {doc_url or doc_id}\"\n",
    "        super().__init__(message)"
   ]
  },
  {
   "cell_type": "code",
   "execution_count": 9,
   "metadata": {},
   "outputs": [],
   "source": [
    "# | exporti\n",
    "\n",
    "\n",
    "@patch_to(GDoc_File, cls_method=True)\n",
    "def get_from_id(\n",
    "    cls: GDoc_File,\n",
    "    document_id: str,\n",
    "    auth: ga.GoogleAuth = None,\n",
    "    return_raw: bool = False,\n",
    "):\n",
    "    data = (\n",
    "        auth.service.files()\n",
    "        .get(\n",
    "            fileId=document_id,\n",
    "            fields=\"id,webViewLink, name, mimeType,modifiedTime,parents \",\n",
    "        )\n",
    "        .execute()\n",
    "    )\n",
    "\n",
    "    if return_raw:\n",
    "        return data\n",
    "\n",
    "    return cls._from_json(obj=data, auth=auth)"
   ]
  },
  {
   "cell_type": "markdown",
   "metadata": {},
   "source": [
    "#### sample implementation of get_from_id"
   ]
  },
  {
   "cell_type": "code",
   "execution_count": 10,
   "metadata": {},
   "outputs": [
    {
     "name": "stdout",
     "output_type": "stream",
     "text": [
      "using saved token\n",
      "refreshing creds using saved token\n",
      "generating service object on GoogleAuth\n"
     ]
    },
    {
     "data": {
      "text/plain": [
       "{'doc_id': '1m48jciWr2iZqwnhN7rezM8_GposSDZhGwQhsIdRqLJg',\n",
       " 'doc_name': 'test_subfolder',\n",
       " 'modified_time': datetime.datetime(2023, 8, 17, 21, 1, 6, 479000, tzinfo=tzutc()),\n",
       " 'url': 'https://docs.google.com/document/d/1m48jciWr2iZqwnhN7rezM8_GposSDZhGwQhsIdRqLJg/edit?usp=drivesdk',\n",
       " 'auth': GoogleAuth(creds=<google.oauth2.credentials.Credentials object at 0x7f9236aecc40>, service=<googleapiclient.discovery.Resource object at 0x7f9235201630>, scope=['https://www.googleapis.com/auth/drive', 'https://www.googleapis.com/auth/drive.file', 'https://www.googleapis.com/auth/drive.metadata.readonly', 'https://www.googleapis.com/auth/drive.readonly']),\n",
       " 'mime_str': 'application/vnd.google-apps.document',\n",
       " 'mime_type': 'gdoc',\n",
       " 'download_factory': None,\n",
       " 'parent_ls': ['1grGeTxDXjEoo8MkRsMzTg6v_Pdtuxi1T'],\n",
       " 'parents': [GDoc_File(doc_id='1grGeTxDXjEoo8MkRsMzTg6v_Pdtuxi1T', doc_name='subfolder_test', modified_time=datetime.datetime(2023, 8, 17, 21, 0, 55, 634000, tzinfo=tzutc()), url='https://drive.google.com/drive/folders/1grGeTxDXjEoo8MkRsMzTg6v_Pdtuxi1T', mime_str='application/vnd.google-apps.folder', mime_type='folder', download_factory=None, parent_ls=['1SRrD1dNgZgHYjnhkJtARbLhydMP94qWi'])]}"
      ]
     },
     "execution_count": 10,
     "metadata": {},
     "output_type": "execute_result"
    }
   ],
   "source": [
    "# import gdoc_sync.google.auth as ga\n",
    "\n",
    "DOCUMENT_ID = \"1m48jciWr2iZqwnhN7rezM8_GposSDZhGwQhsIdRqLJg\"\n",
    "\n",
    "\n",
    "# generates Credentials object\n",
    "google_auth = ga.GoogleAuth.get_creds_from_env(\n",
    "    credentials_env_key=\"GDOC_KEY\", token_env_key=\"GDOC_TOKEN\"\n",
    ")\n",
    "\n",
    "GDoc_File.get_from_id(\n",
    "    document_id=DOCUMENT_ID, auth=google_auth, return_raw=False\n",
    ").__dict__"
   ]
  },
  {
   "cell_type": "code",
   "execution_count": 11,
   "metadata": {},
   "outputs": [],
   "source": [
    "# | export\n",
    "class GDocFile_DownloadError(Exception):\n",
    "    def __init__(self, doc_url):\n",
    "        message = f\"failure to download content for {doc_url}\"\n",
    "        super().__init__(message)"
   ]
  },
  {
   "cell_type": "code",
   "execution_count": 12,
   "metadata": {},
   "outputs": [],
   "source": [
    "# | exporti\n",
    "@patch_to(GDoc_File)\n",
    "def get_content(self: GDoc_File):\n",
    "    self.download_factory = download_factory.get(\n",
    "        self.mime_type, download_factory[\"default\"]\n",
    "    )\n",
    "\n",
    "    loop = 0\n",
    "\n",
    "    while loop < 3 and self.content is None:\n",
    "        try:\n",
    "            loop += 1\n",
    "            self.content = (\n",
    "                self.auth.service.files()\n",
    "                .export(\n",
    "                    fileId=self.doc_id,\n",
    "                    mimeType=self.download_factory[\"export_type\"].value,\n",
    "                )\n",
    "                .execute()\n",
    "            )\n",
    "\n",
    "        except HttpError as err:\n",
    "            print(err)\n",
    "\n",
    "        except Exception as e:\n",
    "            print(e)\n",
    "\n",
    "    if not self.content:\n",
    "        raise GDocFile_DownloadError(self.webViewLink)\n",
    "\n",
    "    return self.content"
   ]
  },
  {
   "cell_type": "code",
   "execution_count": 13,
   "metadata": {},
   "outputs": [
    {
     "name": "stdout",
     "output_type": "stream",
     "text": [
      "using saved token\n",
      "refreshing creds using saved token\n",
      "generating service object on GoogleAuth\n"
     ]
    },
    {
     "data": {
      "text/plain": [
       "b'PK\\x03\\x04\\x14\\x00\\x08\\x08\\x08\\x00\\xa3r\\x9aW\\x00\\x00\\x00\\x00\\x00\\x00\\x00\\x00\\x00\\x00\\x00\\x00\\x13\\x00\\x00\\x00test_subfolder.html\\x95R\\xcbn\\xc3 \\x10\\xfc\\x15\\x8bJ\\xbd\\xd1\\xc4Q\\xfa\\x10\\xd8\\x96z\\xe9\\x17\\xa4\\x1f\\x80\\xcd\\xda\\xa0b \\xb0N\\xe2~}\\xc1v\\x0e\\x95z\\xe9J\\xa0Y\\xed\\xec\\xec\\x88\\xa5R8\\x9a\\xa6R dS\\x8d\\x80\\xa2\\xe8\\x9cE\\xb0X\\x13\\x84\\x1b\\xeer\\x99\\x17\\x9d\\x12!\\x02\\xd6\\x9f\\xa7\\x0f\\xfaF\\n\\x85\\xe8)\\x9c\\'}\\xa9\\xc9F\\xa78{ M\\xb5[\\x95Z\\'\\xe7\\xa23\"\\xc6\\x9aH\\xd7\\xd1\\x8dE\\x8a\\x88\\xb3\\x81\\x9a\\xb4\\xa2\\xfb\\x1a\\x82\\x9b\\xacL%\\xe3\\x02{\\xe8\\x97\\xe0^H\\xa9\\xed\\xc0^\\x0f\\x1e\\x8b\\xdf\\x17\\x1f\\xc5\\x8d^\\xb5D\\xc5\\x8e/o\\x1e\\xd34\\x7f\\xd7\\xbb\\xb7\\xed\\x13)\\x0c\\xda&\\xb0\\xe9\\xee\\x97\\xe0}2@\\xa3\\xfe\\x06V\\x96IjI{1j3\\xb3\\xc7\\xf3\\xe4\\x90\\xbf\\x07-\\xcc\\n\\xb9\\xd1\\x16\\xa8\\x02=(d\\xe5S\\xf9\\xcc]\\xf0J\\xd8\\xc8\\x0e<\\xcdw\\xd7\\x0c\\xf2\\xebPa\\xf4`\\x99\\x81>\\x9b\\x89^\\xd8\\xbb\\x9f?\\x86_W\\xbdc\\xca\\x97^\\t\\x9d\\x0b\\x02\\xb5\\xb3\\xcc:\\x0b\\xfc\\x02\\x01u\\'\\xcc&\\xda\\x8a\\x08\\xd9\\xc7\\xff\\x9c\\xaf\\xe4\\xec!\\x89\\x86Q\\x18\\xd2\\x9c b\\x11\\xa7\\xb6wFB\\xa8v\\xd9f\\xda\\x93O\\'o)\\xaf,\\x7f\\x81\\x1fPK\\x07\\x08\\xed\\xeaA\\x90,\\x01\\x00\\x00\\t\\x02\\x00\\x00PK\\x01\\x02\\x14\\x00\\x14\\x00\\x08\\x08\\x08\\x00\\xa3r\\x9aW\\xed\\xeaA\\x90,\\x01\\x00\\x00\\t\\x02\\x00\\x00\\x13\\x00\\x00\\x00\\x00\\x00\\x00\\x00\\x00\\x00\\x00\\x00\\x00\\x00\\x00\\x00\\x00\\x00test_subfolder.htmlPK\\x05\\x06\\x00\\x00\\x00\\x00\\x01\\x00\\x01\\x00A\\x00\\x00\\x00m\\x01\\x00\\x00\\x00\\x00'"
      ]
     },
     "execution_count": 13,
     "metadata": {},
     "output_type": "execute_result"
    }
   ],
   "source": [
    "import gdoc_sync.google.auth as ga\n",
    "\n",
    "DOCUMENT_ID = \"1m48jciWr2iZqwnhN7rezM8_GposSDZhGwQhsIdRqLJg\"\n",
    "\n",
    "\n",
    "# generates Credentials object\n",
    "google_auth = ga.GoogleAuth.get_creds_from_env(\n",
    "    credentials_env_key=\"GDOC_KEY\", token_env_key=\"GDOC_TOKEN\"\n",
    ")\n",
    "\n",
    "gdoc = GDoc_File.get_from_id(\n",
    "    document_id=DOCUMENT_ID, auth=google_auth, return_raw=False\n",
    ")\n",
    "\n",
    "gdoc.get_content()"
   ]
  },
  {
   "cell_type": "code",
   "execution_count": 14,
   "metadata": {},
   "outputs": [],
   "source": [
    "# | exporti\n",
    "@patch_to(GDoc_File)\n",
    "def download_file(\n",
    "    self: GDoc_File, output_folder: str = \"\", is_use_file_id: bool = False\n",
    "):\n",
    "    if not self.content:\n",
    "        self.get_content()\n",
    "\n",
    "    # create output_folder\n",
    "    clean_file_name = (\n",
    "        self.doc_id if is_use_file_id else convert_str_file_name(self.doc_name)\n",
    "    )\n",
    "\n",
    "    output_folder_path = os.path.join(output_folder, clean_file_name)\n",
    "    upsert_folder(output_folder_path)\n",
    "\n",
    "    return self.download_factory[\"download_fn\"](self.content, output_folder_path)"
   ]
  },
  {
   "cell_type": "code",
   "execution_count": 15,
   "metadata": {},
   "outputs": [
    {
     "name": "stdout",
     "output_type": "stream",
     "text": [
      "using saved token\n",
      "refreshing creds using saved token\n",
      "generating service object on GoogleAuth\n"
     ]
    },
    {
     "data": {
      "text/plain": [
       "'successfully downloaded zip to ../TEST/drive/gdoc_download-file/test_subfolder'"
      ]
     },
     "execution_count": 15,
     "metadata": {},
     "output_type": "execute_result"
    }
   ],
   "source": [
    "# import gdoc_sync.google.auth as ga\n",
    "\n",
    "DOCUMENT_ID = \"1m48jciWr2iZqwnhN7rezM8_GposSDZhGwQhsIdRqLJg\"\n",
    "\n",
    "# generates Credentials object\n",
    "google_auth = ga.GoogleAuth.get_creds_from_env(\n",
    "    credentials_env_key=\"GDOC_KEY\", token_env_key=\"GDOC_TOKEN\"\n",
    ")\n",
    "\n",
    "gdoc = GDoc_File.get_from_id(\n",
    "    document_id=DOCUMENT_ID, auth=google_auth, return_raw=False\n",
    ")\n",
    "gdoc.download_file(output_folder=\"../TEST/drive/gdoc_download-file\")"
   ]
  },
  {
   "cell_type": "code",
   "execution_count": 16,
   "metadata": {},
   "outputs": [],
   "source": [
    "# | hide\n",
    "import nbdev\n",
    "\n",
    "nbdev.nbdev_export()"
   ]
  }
 ],
 "metadata": {
  "kernelspec": {
   "display_name": "python3",
   "language": "python",
   "name": "python3"
  },
  "language_info": {
   "codemirror_mode": {
    "name": "ipython",
    "version": 3
   },
   "file_extension": ".py",
   "mimetype": "text/x-python",
   "name": "python",
   "nbconvert_exporter": "python",
   "pygments_lexer": "ipython3",
   "version": "3.10.12"
  }
 },
 "nbformat": 4,
 "nbformat_minor": 4
}
