{
 "cells": [
  {
   "cell_type": "markdown",
   "metadata": {},
   "source": [
    "# Creds\n",
    "\n",
    "> Fill in a module description here"
   ]
  },
  {
   "cell_type": "raw",
   "metadata": {},
   "source": [
    "---\n",
    "output-file: creds.html\n",
    "---"
   ]
  },
  {
   "cell_type": "code",
   "execution_count": 1,
   "metadata": {},
   "outputs": [],
   "source": [
    "#| default_exp google.creds"
   ]
  },
  {
   "cell_type": "code",
   "execution_count": 2,
   "metadata": {},
   "outputs": [],
   "source": [
    "#| hide\n",
    "from nbdev.showdoc import *\n"
   ]
  },
  {
   "cell_type": "code",
   "execution_count": 3,
   "metadata": {},
   "outputs": [],
   "source": [
    "#| exporti\n",
    "\n",
    "import os\n",
    "import json\n",
    "\n",
    "from google.oauth2.credentials import Credentials\n",
    "from google.auth.transport.requests import Request\n",
    "from google.auth.exceptions import RefreshError\n",
    "from google_auth_oauthlib.flow import InstalledAppFlow\n",
    "\n",
    "from dotenv import load_dotenv, set_key"
   ]
  },
  {
   "cell_type": "code",
   "execution_count": 4,
   "metadata": {},
   "outputs": [],
   "source": [
    "#|export\n",
    "SCOPE = [\n",
    "        \"https://www.googleapis.com/auth/drive\",\n",
    "        \"https://www.googleapis.com/auth/drive.file\",\n",
    "        \"https://www.googleapis.com/auth/drive.metadata.readonly\",\n",
    "        \"https://www.googleapis.com/auth/drive.readonly\",\n",
    "    ]\n",
    "\n",
    "def get_creds_from_file(scope, token_file_path=\"env_token.json\", credentials_file_path=\"env_creds.json\"):\n",
    "\n",
    "    \"\"\"\n",
    "    generate creds here, https://console.cloud.google.com/apis/credentials/oauthclient\n",
    "    for a new implementation you'll need to\n",
    "    1. set up a project at console.cloud.google.com,\n",
    "    2. enable (turn on) the appropriate APIs for that project\n",
    "    3. configure OAuth access (your python script will use an Oauth token to authenticate, so your project needs the OAuth screen)\n",
    "    4. download the creds file and store it as env_creds.json\n",
    "    \"\"\"\n",
    "\n",
    "    # If modifying these scopes, delete the file token.json.\n",
    "    \n",
    "\n",
    "    creds = None\n",
    "    # The file token.json stores the user's access and refresh tokens, and is\n",
    "    # created automatically when the authorization flow completes for the first\n",
    "    # time.\n",
    "    if token_file_path and os.path.exists(token_file_path):\n",
    "        creds = Credentials.from_authorized_user_file(token_file_path, scope)\n",
    "\n",
    "    if not creds or not creds.valid:\n",
    "        if creds and creds.expired and creds.refresh_token:\n",
    "            # if creds token can be refreshed, do it.\n",
    "            creds.refresh(Request())\n",
    "        else:\n",
    "            # If there are no (valid) credentials available, run the Oauth flow\n",
    "            flow = InstalledAppFlow.from_client_secrets_file(\n",
    "                credentials_file_path, scope\n",
    "            )\n",
    "            creds = flow.run_local_server(port=0)\n",
    "        # Save the credentials for the next run\n",
    "        with open(token_file_path, \"w\") as token:\n",
    "            token.write(creds.to_json())\n",
    "    return creds"
   ]
  },
  {
   "cell_type": "code",
   "execution_count": 5,
   "metadata": {},
   "outputs": [],
   "source": [
    "#|export\n",
    "\n",
    "def get_creds_from_env(scope, token_env_key : str = 'GDOC_TOKEN', credentials_env_key : str = 'GDOC_CLIENT', env_file = '.env'):\n",
    "    \"\"\"\n",
    "    credentials should be stored in the .env file as a json (NOT A STRING)\n",
    "    token will be stored as a string (NOT A JSON OBJ)\n",
    "    \n",
    "    generate creds here, https://console.cloud.google.com/apis/credentials/oauthclient\n",
    "    for a new implementation you'll need to\n",
    "    1. set up a project at console.cloud.google.com,\n",
    "    2. enable (turn on) the appropriate APIs for that project\n",
    "    3. configure OAuth access (your python script will use an Oauth token to authenticate, so your project needs the OAuth screen)\n",
    "    4. download the creds file and store it as env_creds.json\n",
    "    \"\"\"\n",
    "\n",
    "    creds = None\n",
    "\n",
    "    load_dotenv(env_file)\n",
    "    token_str = os.environ.get(token_env_key)\n",
    "    token_json = json.loads(token_str) if token_str else None\n",
    "\n",
    "    if token_json:\n",
    "        creds = Credentials.from_authorized_user_info(token_json, scope)\n",
    "    \n",
    "    if creds and creds.expired and creds.refresh_token:\n",
    "        # if creds token can be refreshed, do it.\n",
    "        try:\n",
    "            creds.refresh(Request())\n",
    "            \n",
    "        except RefreshError as e:\n",
    "            print(e)\n",
    "\n",
    "    if not creds or not creds.valid:\n",
    "        # If there are no (valid) credentials available, run the Oauth flow\n",
    "        credentials_json = json.loads(os.environ.get(credentials_env_key))\n",
    "\n",
    "        print(credentials_env_key,credentials_json)\n",
    "\n",
    "        flow = InstalledAppFlow.from_client_config(\n",
    "            credentials_json, scope\n",
    "        )\n",
    "        creds = flow.run_local_server(port=0)\n",
    "\n",
    "    # Save the credentials for the next run\n",
    "    set_key(env_file, token_env_key, creds.to_json())\n",
    "\n",
    "    return creds\n"
   ]
  },
  {
   "cell_type": "code",
   "execution_count": 6,
   "metadata": {},
   "outputs": [],
   "source": [
    "creds = get_creds_from_env(credentials_env_key= 'GDOC_CLIENT', token_env_key = 'GDOC_TOKEN',  scope = SCOPE, env_file = '../.env')"
   ]
  },
  {
   "cell_type": "markdown",
   "metadata": {},
   "source": [
    "#### sample implementation of get_creds_from_env"
   ]
  },
  {
   "cell_type": "code",
   "execution_count": 7,
   "metadata": {},
   "outputs": [],
   "source": [
    "#| hide\n",
    "import nbdev\n",
    "\n",
    "nbdev.nbdev_export()"
   ]
  }
 ],
 "metadata": {
  "kernelspec": {
   "display_name": "python3",
   "language": "python",
   "name": "python3"
  },
  "language_info": {
   "codemirror_mode": {
    "name": "ipython",
    "version": 3
   },
   "file_extension": ".py",
   "mimetype": "text/x-python",
   "name": "python",
   "nbconvert_exporter": "python",
   "pygments_lexer": "ipython3",
   "version": "3.10.9"
  }
 },
 "nbformat": 4,
 "nbformat_minor": 4
}
