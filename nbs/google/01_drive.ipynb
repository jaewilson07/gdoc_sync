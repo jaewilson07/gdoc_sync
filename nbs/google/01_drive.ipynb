{
 "cells": [
  {
   "cell_type": "markdown",
   "metadata": {},
   "source": [
    "# Google Drive Interactions\n",
    "\n",
    "> Fill in a module description here"
   ]
  },
  {
   "cell_type": "code",
   "execution_count": 1,
   "metadata": {},
   "outputs": [],
   "source": [
    "#| default_exp google.drive"
   ]
  },
  {
   "cell_type": "code",
   "execution_count": 2,
   "metadata": {},
   "outputs": [],
   "source": [
    "#| exporti\n",
    "\n",
    "from fastcore.basics import patch_to\n",
    "from nbdev.showdoc import *\n",
    "\n",
    "import os\n",
    "from enum import Enum\n",
    "from dataclasses import dataclass ,field\n",
    "\n",
    "import re\n",
    "import datetime as dt\n",
    "from dateutil.parser import parse as dtu_parse\n",
    "\n",
    "from google.oauth2.credentials import Credentials\n",
    "from googleapiclient.discovery import build, Resource\n",
    "\n",
    "\n",
    "# from googleapiclient.errors import HttpError\n",
    "# from google.auth.transport.requests import Request\n",
    "\n",
    "\n",
    "import pptx2md\n",
    "import zipfile\n",
    "import io\n",
    "import markdownify\n",
    "from markdownify import MarkdownConverter\n",
    "\n",
    "from bs4 import BeautifulSoup\n",
    "from PIL import Image\n"
   ]
  },
  {
   "cell_type": "code",
   "execution_count": 3,
   "metadata": {},
   "outputs": [],
   "source": [
    "#| export\n",
    "\n",
    "class GoogleDrive_MimeType_Enum(Enum):\n",
    "    \"\"\"for translating Google Drive types into 'exports as'\"\"\"\n",
    "    \n",
    "    docx  = 'application/vnd.openxmlformats-officedocument.wordprocessingml.document'\n",
    "    pptx = 'application/vnd.openxmlformats-officedocument.presentationml.presentation'\n",
    "    \n",
    "    odt  = 'application/vnd.oasis.opendocument.text'\n",
    "    rtf = 'application/rtf'\n",
    "    pdf = 'application/pdf'\n",
    "    txt = 'text/plain'\n",
    "    # html = 'application/zip'\n",
    "    zip = 'application/zip'\n",
    "    epub  = 'application/epub+zip'\n",
    "    \n",
    "    folder = 'application/vnd.google-apps.folder'\n",
    "    gdoc = 'application/vnd.google-apps.document'   \n",
    "    gsheet ='application/vnd.google-apps.spreadsheet'\n",
    "    gshortcut = 'application/vnd.google-apps.shortcut'\n",
    "    gslides = 'application/vnd.google-apps.presentation'\n",
    "    \n",
    "    # 'tex'  = 'application/zip'\n",
    "    # 'html.zip'= 'application/zip'"
   ]
  },
  {
   "cell_type": "code",
   "execution_count": 4,
   "metadata": {},
   "outputs": [
    {
     "name": "stdout",
     "output_type": "stream",
     "text": [
      "docx application/vnd.openxmlformats-officedocument.wordprocessingml.document\n",
      "pptx application/vnd.openxmlformats-officedocument.presentationml.presentation\n",
      "odt application/vnd.oasis.opendocument.text\n",
      "rtf application/rtf\n",
      "pdf application/pdf\n",
      "txt text/plain\n",
      "zip application/zip\n",
      "epub application/epub+zip\n",
      "folder application/vnd.google-apps.folder\n",
      "gdoc application/vnd.google-apps.document\n",
      "gsheet application/vnd.google-apps.spreadsheet\n",
      "gshortcut application/vnd.google-apps.shortcut\n",
      "gslides application/vnd.google-apps.presentation\n"
     ]
    }
   ],
   "source": [
    "for member in GoogleDrive_MimeType_Enum:\n",
    "    print(member.name, member.value)"
   ]
  },
  {
   "cell_type": "markdown",
   "metadata": {},
   "source": [
    "# Google Drive File Looper\n",
    "retrieves a listing of all the files and subfiles in a folder"
   ]
  },
  {
   "cell_type": "code",
   "execution_count": 5,
   "metadata": {},
   "outputs": [],
   "source": [
    "#| exporti\n",
    "def get_date(datefield):\n",
    "    return dtu_parse(datefield) if datefield else None\n"
   ]
  },
  {
   "cell_type": "code",
   "execution_count": 6,
   "metadata": {},
   "outputs": [
    {
     "data": {
      "text/plain": [
       "datetime.datetime(2021, 1, 1, 0, 0)"
      ]
     },
     "execution_count": 6,
     "metadata": {},
     "output_type": "execute_result"
    }
   ],
   "source": [
    "get_date('2021-01-01')"
   ]
  },
  {
   "cell_type": "code",
   "execution_count": 7,
   "metadata": {},
   "outputs": [],
   "source": [
    "# | export\n",
    "\n",
    "@dataclass\n",
    "class GDoc_File:\n",
    "    mime_type: str\n",
    "    webViewLink: str\n",
    "    doc_id: str\n",
    "    doc_name: str\n",
    "    modified_time: dt.datetime\n",
    "\n",
    "    parent_ls : [str] = field(default = None)\n",
    "    # parent_gdocs : list[dict] = field(default = None, repr = False)\n",
    "\n",
    "    folder_path : str = None\n",
    "    \n",
    "    folder_path: str = None\n",
    "    file_type: GoogleDrive_MimeType_Enum = None\n",
    "\n",
    "    service: Resource = field(default = None, repr = False)\n",
    "    creds: Credentials = field( default = None, repr = False)\n",
    "    \n",
    "    content = None\n",
    "\n",
    "    def __post_init__(self):\n",
    "        if self.creds and self.service is None:\n",
    "            self.service = self._generate_service(creds = self.creds)\n",
    "\n",
    "        # if self.parent_ls:\n",
    "        #     print(self.parent_ls)\n",
    "        #     self.parent_gdocs = [GDoc_File.get_from_id(document_id = parent, service = self.service) for parent in self.parent_ls]\n",
    "        #     self.folder_path = \" > \".join([ parent.doc_name for parent in self.parent_gdocs])\n",
    "\n",
    "    \n",
    "    @staticmethod\n",
    "    def _generate_service(creds: Credentials ):\n",
    "        return build(serviceName='drive',\n",
    "                             version='v3', \n",
    "                             credentials=creds)\n",
    "\n",
    "    @classmethod\n",
    "    def _from_json(cls, obj: dict, service=None, creds=None):\n",
    "\n",
    "        return cls(mime_type=obj['mimeType'],\n",
    "                   webViewLink=obj['webViewLink'],\n",
    "                   doc_id=obj['id'],\n",
    "                   doc_name=obj['name'],\n",
    "                   modified_time=get_date(obj['modifiedTime']),\n",
    "                   parent_ls = obj.get('parents', None),\n",
    "                   \n",
    "                   service=service,\n",
    "                   creds=creds)\n"
   ]
  },
  {
   "cell_type": "code",
   "execution_count": 8,
   "metadata": {},
   "outputs": [],
   "source": [
    "#export\n",
    "class GDoc_File_ServiceRequired(Exception):\n",
    "    def __init__(self, doc_url = None, doc_id = None):\n",
    "        message = f\"service (googleclientapi.discovery.Resource) required to download {doc_url or doc_id}\"\n",
    "        super().__init__(message)\n",
    "        "
   ]
  },
  {
   "cell_type": "code",
   "execution_count": 9,
   "metadata": {},
   "outputs": [],
   "source": [
    "@patch_to(GDoc_File, cls_method=True)\n",
    "def get_from_id(cls,\n",
    "                document_id : str,\n",
    "                creds: Credentials = None,\n",
    "                service: Resource = None,\n",
    "                return_raw: bool = False\n",
    "                ):\n",
    "\n",
    "    if not service and creds:\n",
    "        service = cls._generate_service(creds = creds) \n",
    "\n",
    "    if not service:\n",
    "        raise GDoc_File_ServiceRequired(doc_id=document_id)\n",
    "\n",
    "    document_data = service.files().get(fileId=document_id, fields=\"id,webViewLink, name, mimeType,modifiedTime,parents \").execute()\n",
    "\n",
    "    if return_raw:\n",
    "        return document_data\n",
    "\n",
    "    return cls._from_json(obj = document_data, creds = creds, service = service)\n"
   ]
  },
  {
   "cell_type": "markdown",
   "metadata": {},
   "source": [
    "#### sample implementation of get_from_id"
   ]
  },
  {
   "cell_type": "code",
   "execution_count": 10,
   "metadata": {},
   "outputs": [
    {
     "data": {
      "text/plain": [
       "GDoc_File(mime_type='application/vnd.google-apps.document', webViewLink='https://docs.google.com/document/d/1m48jciWr2iZqwnhN7rezM8_GposSDZhGwQhsIdRqLJg/edit?usp=drivesdk', doc_id='1m48jciWr2iZqwnhN7rezM8_GposSDZhGwQhsIdRqLJg', doc_name='test_subfolder', modified_time=datetime.datetime(2023, 8, 17, 21, 1, 6, 479000, tzinfo=tzutc()), parent_ls=['1grGeTxDXjEoo8MkRsMzTg6v_Pdtuxi1T'], folder_path=None, file_type=None)"
      ]
     },
     "execution_count": 10,
     "metadata": {},
     "output_type": "execute_result"
    }
   ],
   "source": [
    "from dotenv import load_dotenv\n",
    "import json\n",
    "import os\n",
    "import gdoc_sync.google.creds as gcred\n",
    "\n",
    "# DOCUMENT_ID = '1j7XsbvFy0xUgGL6i-3LSChKvzSmTZSOyimEt6tQS-Kk'\n",
    "DOCUMENT_ID = '1m48jciWr2iZqwnhN7rezM8_GposSDZhGwQhsIdRqLJg'\n",
    "\n",
    "\n",
    "# generates Credentials object\n",
    "creds = gcred.get_creds_from_env(credentials_env_key= 'GDOC_PUBLIC_CLIENT', token_env_key = 'GDOC_TOKEN',  scope = gcred.SCOPE, env_file = '../.env')\n",
    "\n",
    "GDoc_File.get_from_id(document_id= DOCUMENT_ID, creds = creds, return_raw= False)"
   ]
  },
  {
   "cell_type": "markdown",
   "metadata": {},
   "source": [
    "# Handle Downloading Documents"
   ]
  },
  {
   "cell_type": "code",
   "execution_count": 11,
   "metadata": {},
   "outputs": [],
   "source": [
    "#| exporti\n",
    "def upsert_folder(folder_path):\n",
    "    if not os.path.exists(folder_path):\n",
    "        os.makedirs(folder_path)\n",
    "\n",
    "def convert_to_snake(text_str):\n",
    "    \"\"\"converts 'snake_case_str' to 'snakeCaseStr'\"\"\"\n",
    "\n",
    "    return text_str.replace(\" \", \"_\").lower()\n",
    "\n",
    "\n",
    "def clean_url_name(path_name):\n",
    "    valid_chars = r\"[^a-zA-Z0-9_]\"\n",
    "\n",
    "    return re.sub(valid_chars, \"\", path_name)\n",
    "\n",
    "\n",
    "def generate_file_name(raw_name):\n",
    "    return clean_url_name(convert_to_snake(raw_name))"
   ]
  },
  {
   "cell_type": "markdown",
   "metadata": {},
   "source": [
    "## handle pptx"
   ]
  },
  {
   "cell_type": "code",
   "execution_count": 12,
   "metadata": {},
   "outputs": [],
   "source": [
    "#| exporti\n",
    "\n",
    "def download_pptx(content, output_folder):\n",
    "    output_ppt_index = os.path.join(output_folder, 'index.pptx')\n",
    "\n",
    "    with open(output_ppt_index, \"wb+\") as binary_file:\n",
    "        # Write bytes to file\n",
    "        binary_file.write(content)\n",
    "\n",
    "    pptx2md.convert(output_ppt_index,\n",
    "                    output=os.path.join(output_folder, 'index.md'),\n",
    "                    image_dir=os.path.join(output_folder, 'images'))\n",
    "    \n",
    "    return True"
   ]
  },
  {
   "cell_type": "markdown",
   "metadata": {},
   "source": [
    "## handle doc\n",
    "\n",
    "Download Zip will export the document as a .html file, convert it to beautiful soup and then use `markdownify` to convert HTML to markdown"
   ]
  },
  {
   "cell_type": "code",
   "execution_count": 13,
   "metadata": {},
   "outputs": [],
   "source": [
    "# | exporti\n",
    "def clean_bs4(html):\n",
    "    soup = BeautifulSoup(html, \"html.parser\")\n",
    "    return soup.find('body')\n",
    "\n",
    "#| export\n",
    "class ImageBlockConverter(MarkdownConverter):\n",
    "    \"\"\"\n",
    "    Create a custom MarkdownConverter that adds two newlines after an image\n",
    "    \"\"\"\n",
    "\n",
    "    def convert_img(self, el, text, convert_as_inline):\n",
    "\n",
    "        style_obj = {(obj.split(':')[0].strip()) : obj.split(':')[1].strip() for obj in el.get('style').split(';') if ':' in obj}\n",
    "        \n",
    "        file_path = os.path.join(os.path.dirname(self.options['file_path']), el['src'])\n",
    "\n",
    "        image = Image.open(file_path)\n",
    "\n",
    "        width = style_obj['width'].replace('px', '')\n",
    "        width = int(float(width))\n",
    "\n",
    "        height = style_obj['height'].replace('px', '')\n",
    "        height = int(float(height))\n",
    "\n",
    "\n",
    "        new_image = image.resize((width,height))\n",
    "        new_image.save(file_path)\n",
    "    \n",
    "        return super().convert_img(el, text, convert_as_inline)\n",
    "\n",
    "# Create shorthand method for conversion\n",
    "def md(html, **options):\n",
    "    return ImageBlockConverter(**options).convert(html)\n",
    "\n",
    "\n",
    "def convert_file_in_place(file_path):\n",
    "    with(open(file_path, encoding='utf-8')) as f:\n",
    "        html = f.read()\n",
    "    \n",
    "    h = md(str(html), keep_inline_images_in= ['td', 'span'], file_path =file_path)\n",
    "\n",
    "    md_path = file_path.replace(\".html\", \".md\")\n",
    "\n",
    "    with open(md_path, \"w+\", encoding=\"utf-8\") as f:\n",
    "        f.write(h)\n",
    "\n",
    "    return md_path\n",
    "\n",
    "def download_zip(content, output_folder):\n",
    "    zip = zipfile.ZipFile(io.BytesIO(content), 'r')\n",
    "    zip.extractall(output_folder)\n",
    "\n",
    "    file_ls = os.listdir(output_folder)\n",
    "\n",
    "    # rename the html file to index.html\n",
    "    for file_name in file_ls:\n",
    "        if file_name.endswith('.html'):\n",
    "            output_index = os.path.join(output_folder, 'index.html')\n",
    "            os.replace(os.path.join(output_folder, file_name), output_index)\n",
    "            convert_file_in_place(os.path.join(output_folder, 'index.html'))\n",
    "    \n",
    "    return True"
   ]
  },
  {
   "cell_type": "markdown",
   "metadata": {},
   "source": [
    "# Download Factory\n",
    "exted by adding more download functions"
   ]
  },
  {
   "cell_type": "code",
   "execution_count": 14,
   "metadata": {},
   "outputs": [],
   "source": [
    "#| exporti\n",
    "\n",
    "download_factory = {\n",
    "    'application/vnd.google-apps.presentation': {'download_fn': download_pptx,\n",
    "                                                 'export_type': GoogleDrive_MimeType_Enum.pptx},\n",
    "    'default': {'download_fn': download_zip,\n",
    "                'export_type': GoogleDrive_MimeType_Enum.zip}\n",
    "}\n"
   ]
  },
  {
   "cell_type": "code",
   "execution_count": 15,
   "metadata": {},
   "outputs": [],
   "source": [
    "#| export    \n",
    "class GDocFile_DownloadError(Exception):\n",
    "    def __init__(self, doc_url):\n",
    "        message = f\"failure to download content for {doc_url}\"\n",
    "        super().__init__(message)\n",
    "\n",
    "\n",
    "@patch_to(GDoc_File)\n",
    "def download_file(self :GDoc_File,\n",
    "                  service : Resource = None,\n",
    "                  output_folder: str = \"\",\n",
    "                  is_use_file_id : bool = False\n",
    "                  ):\n",
    "\n",
    "    service = service or self.service\n",
    "    factory = download_factory.get(self.mime_type, download_factory['default'])\n",
    "\n",
    "    loop = 0\n",
    "    content = None\n",
    "\n",
    "    while loop < 3 and content is None:\n",
    "        try:\n",
    "            loop += 1\n",
    "            content = service.files().export(\n",
    "                fileId=self.doc_id,\n",
    "                mimeType=factory['export_type'].value).execute()\n",
    "\n",
    "            self.content = content\n",
    "\n",
    "        except HttpError as err:\n",
    "            print(err)\n",
    "\n",
    "        except Exception as e:\n",
    "            print(e)\n",
    "\n",
    "    if not content:\n",
    "        raise GDocFile_DownloadError(self.webViewLink)\n",
    "    \n",
    "    # create output_folder\n",
    "    clean_file_name = self.doc_id if is_use_file_id else generate_file_name(self.doc_name)\n",
    "    output_folder_path = os.path.join(output_folder, clean_file_name)\n",
    "    upsert_folder(output_folder_path)\n",
    "\n",
    "    # download\n",
    "    return factory['download_fn'](content, output_folder_path)"
   ]
  },
  {
   "cell_type": "markdown",
   "metadata": {},
   "source": [
    "### sample implementation of download_file"
   ]
  },
  {
   "cell_type": "code",
   "execution_count": 16,
   "metadata": {},
   "outputs": [
    {
     "data": {
      "text/plain": [
       "True"
      ]
     },
     "execution_count": 16,
     "metadata": {},
     "output_type": "execute_result"
    }
   ],
   "source": [
    "from dotenv import load_dotenv\n",
    "import json\n",
    "import os\n",
    "import gdoc_sync.google.creds as gcred\n",
    "\n",
    "DOCUMENT_ID = '1j7XsbvFy0xUgGL6i-3LSChKvzSmTZSOyimEt6tQS-Kk'\n",
    "\n",
    "# generates Credentials object\n",
    "creds = gcred.get_creds_from_env(credentials_env_key= 'GDOC_PUBLIC_CLIENT', token_env_key = 'GDOC_TOKEN',  scope = gcred.SCOPE, env_file = '../.env')\n",
    "\n",
    "test_file = GDoc_File.get_from_id(document_id= DOCUMENT_ID, creds = creds, return_raw= False)\n",
    "\n",
    "test_file.download_file(output_folder= 'sample', is_use_file_id=  True)"
   ]
  },
  {
   "cell_type": "markdown",
   "metadata": {},
   "source": [
    "# Export Folders"
   ]
  },
  {
   "cell_type": "code",
   "execution_count": 17,
   "metadata": {},
   "outputs": [],
   "source": [
    "# | exporti\n",
    "\n",
    "def process_file(file_obj, folder_path):\n",
    "    \"\"\"gets the file type using GoogleDrive Enum, useful for processing & downloading a file\"\"\"\n",
    "\n",
    "    if folder_path:\n",
    "        file_obj.update({\"folder_path\": folder_path})\n",
    "\n",
    "    file_type = \"undefined_enum\"\n",
    "    try:\n",
    "        file_type = GoogleDrive_MimeType_Enum(file_obj[\"mimeType\"]).name\n",
    "\n",
    "    except Exception as e:\n",
    "        print(e)\n",
    "\n",
    "    finally:\n",
    "        file_obj.update({\"type\": file_type})\n",
    "        return file_obj\n",
    "\n",
    "\n",
    "def get_parent(parent_id, service):\n",
    "    return service.files().get(\n",
    "        fileId = parent_id,\n",
    "        fields=\"id,webViewLink, name, mimeType,modifiedTime,parents\",\n",
    "    ).execute()\n",
    "\n",
    "def get_file(file_id, service):\n",
    "    res = service.files().get(\n",
    "        fileId = file_id,\n",
    "        fields=\"id,webViewLink, name, mimeType,modifiedTime,parents\",\n",
    "    ).execute()\n",
    "\n",
    "    res['folder_path'] = get_parent(res.get('parents')[0], service = service).get('name')\n",
    "\n",
    "    return res\n",
    "\n",
    "\n",
    "def get_files(folder_id, service):\n",
    "    \"\"\"retrieves files in a folder\"\"\"\n",
    "    page_token = None\n",
    "    file_ls = []\n",
    "\n",
    "    while True:\n",
    "        res = (\n",
    "            service.files()\n",
    "            .list(\n",
    "                q=f\"'{folder_id}' in parents\",\n",
    "                pageSize=10,\n",
    "                fields=\"nextPageToken, files(id,webViewLink, name, mimeType,modifiedTime,parents )\",\n",
    "                pageToken=page_token,\n",
    "            )\n",
    "            .execute()\n",
    "        )\n",
    "\n",
    "\n",
    "        parent_ls = list(set([parent for file in res.get('files') for parent in file['parents']]))\n",
    "        parent_dict = { parent: get_parent(parent, service).get('name') for parent in parent_ls}\n",
    "        print(parent_dict)\n",
    "\n",
    "\n",
    "        items = res.get(\"files\", [])\n",
    "\n",
    "        [item.update({'folder_path': parent_dict.get(item['parents'][0])}) for item in items]\n",
    "\n",
    "        file_ls += items\n",
    "\n",
    "        page_token = res.get(\"nextPageToken\", None)\n",
    "\n",
    "        if page_token is None:\n",
    "            break\n",
    "    \n",
    "    return file_ls\n",
    "\n",
    "\n",
    "def get_file_looper(folder_id, service, file_ls=None, folder_path= \"\"):\n",
    "    if not file_ls:\n",
    "        file_ls = []\n",
    "\n",
    "    \"\"\"recursive function to get files in a folder and map over files in subfolder\"\"\"\n",
    "\n",
    "    new_files = get_files(folder_id=folder_id, service=service)\n",
    "\n",
    "    if len(new_files) == 0 : \n",
    "        file_ls = [ get_file(file_id = folder_id, service = service)]\n",
    "\n",
    "\n",
    "    new_files = [process_file(file_obj, folder_path) for file_obj in new_files]\n",
    "\n",
    "    file_ls += new_files\n",
    "\n",
    "    if new_files:\n",
    "        for file_obj in new_files:\n",
    "            if file_obj[\"type\"] == \"folder\":\n",
    "                sub_folder_path = os.path.join(\n",
    "                    folder_path, generate_file_name(file_obj.get(\"name\"))\n",
    "                )\n",
    "\n",
    "                get_file_looper(\n",
    "                    folder_id=file_obj.get(\"id\"),\n",
    "                    folder_path=sub_folder_path,\n",
    "                    service=service,\n",
    "                    file_ls=file_ls,\n",
    "                )\n",
    "    \n",
    "        \n",
    "    return file_ls"
   ]
  },
  {
   "cell_type": "code",
   "execution_count": 18,
   "metadata": {},
   "outputs": [],
   "source": [
    "#| export\n",
    "\n",
    "def get_folder_contents(folder_id, creds, folder_path='root', return_raw: bool = False) -> [dict]: # returns list of file objects\n",
    "\n",
    "    \"\"\"creates a list files in a folder using a set of credentials\"\"\"\n",
    "\n",
    "    service = build(serviceName='drive',\n",
    "                    version='v3',\n",
    "                    credentials=creds)\n",
    "\n",
    "    return get_file_looper(folder_id=folder_id, service=service, folder_path=folder_path, )\n"
   ]
  },
  {
   "cell_type": "code",
   "execution_count": 19,
   "metadata": {},
   "outputs": [
    {
     "name": "stdout",
     "output_type": "stream",
     "text": [
      "{}\n"
     ]
    },
    {
     "data": {
      "text/html": [
       "<div>\n",
       "<style scoped>\n",
       "    .dataframe tbody tr th:only-of-type {\n",
       "        vertical-align: middle;\n",
       "    }\n",
       "\n",
       "    .dataframe tbody tr th {\n",
       "        vertical-align: top;\n",
       "    }\n",
       "\n",
       "    .dataframe thead th {\n",
       "        text-align: right;\n",
       "    }\n",
       "</style>\n",
       "<table border=\"1\" class=\"dataframe\">\n",
       "  <thead>\n",
       "    <tr style=\"text-align: right;\">\n",
       "      <th></th>\n",
       "      <th>id</th>\n",
       "      <th>name</th>\n",
       "      <th>mimeType</th>\n",
       "      <th>parents</th>\n",
       "      <th>webViewLink</th>\n",
       "      <th>modifiedTime</th>\n",
       "      <th>folder_path</th>\n",
       "    </tr>\n",
       "  </thead>\n",
       "  <tbody>\n",
       "    <tr>\n",
       "      <th>0</th>\n",
       "      <td>1j7XsbvFy0xUgGL6i-3LSChKvzSmTZSOyimEt6tQS-Kk</td>\n",
       "      <td>Sample Doc for Google_Sync project</td>\n",
       "      <td>application/vnd.google-apps.document</td>\n",
       "      <td>[1SRrD1dNgZgHYjnhkJtARbLhydMP94qWi]</td>\n",
       "      <td>https://docs.google.com/document/d/1j7XsbvFy0x...</td>\n",
       "      <td>2023-11-27T19:39:00.131Z</td>\n",
       "      <td>gdoc_sync_sample</td>\n",
       "    </tr>\n",
       "  </tbody>\n",
       "</table>\n",
       "</div>"
      ],
      "text/plain": [
       "                                             id  \\\n",
       "0  1j7XsbvFy0xUgGL6i-3LSChKvzSmTZSOyimEt6tQS-Kk   \n",
       "\n",
       "                                 name                              mimeType  \\\n",
       "0  Sample Doc for Google_Sync project  application/vnd.google-apps.document   \n",
       "\n",
       "                               parents  \\\n",
       "0  [1SRrD1dNgZgHYjnhkJtARbLhydMP94qWi]   \n",
       "\n",
       "                                         webViewLink  \\\n",
       "0  https://docs.google.com/document/d/1j7XsbvFy0x...   \n",
       "\n",
       "               modifiedTime       folder_path  \n",
       "0  2023-11-27T19:39:00.131Z  gdoc_sync_sample  "
      ]
     },
     "execution_count": 19,
     "metadata": {},
     "output_type": "execute_result"
    }
   ],
   "source": [
    "import gdoc_sync.google.creds as gcred\n",
    "\n",
    "import pandas as pd\n",
    "\n",
    "FOLDER_ID ='1SRrD1dNgZgHYjnhkJtARbLhydMP94qWi'\n",
    "DOCUMENT_ID = '1j7XsbvFy0xUgGL6i-3LSChKvzSmTZSOyimEt6tQS-Kk'\n",
    "DOCUMENT_SUBFOLDER_ID = '1m48jciWr2iZqwnhN7rezM8_GposSDZhGwQhsIdRqLJg'\n",
    "\n",
    "# generates Credentials object\n",
    "creds = gcred.get_creds_from_env(credentials_env_key= 'GDOC_PUBLIC_CLIENT', token_env_key = 'GDOC_TOKEN',  scope = gcred.SCOPE, env_file = '../.env')\n",
    "\n",
    "\n",
    "res = get_folder_contents(folder_id = DOCUMENT_ID, creds = creds, return_raw= False)\n",
    "\n",
    "pd.DataFrame(res)"
   ]
  },
  {
   "cell_type": "code",
   "execution_count": 20,
   "metadata": {},
   "outputs": [],
   "source": [
    "#| hide\n",
    "import nbdev; \n",
    "nbdev.nbdev_export()"
   ]
  }
 ],
 "metadata": {
  "kernelspec": {
   "display_name": "python3",
   "language": "python",
   "name": "python3"
  },
  "language_info": {
   "codemirror_mode": {
    "name": "ipython",
    "version": 3
   },
   "file_extension": ".py",
   "mimetype": "text/x-python",
   "name": "python",
   "nbconvert_exporter": "python",
   "pygments_lexer": "ipython3",
   "version": "3.10.9"
  }
 },
 "nbformat": 4,
 "nbformat_minor": 4
}
