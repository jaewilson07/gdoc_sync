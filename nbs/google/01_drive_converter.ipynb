{
 "cells": [
  {
   "cell_type": "markdown",
   "metadata": {},
   "source": [
    "# Google Drive DownloadConverter"
   ]
  },
  {
   "cell_type": "code",
   "execution_count": 48,
   "metadata": {},
   "outputs": [],
   "source": [
    "#| default_exp google.converter"
   ]
  },
  {
   "cell_type": "code",
   "execution_count": null,
   "metadata": {},
   "outputs": [],
   "source": []
  },
  {
   "cell_type": "code",
   "execution_count": 49,
   "metadata": {},
   "outputs": [],
   "source": [
    "#| exporti\n",
    "\n",
    "import os\n",
    "\n",
    "from enum import Enum\n",
    "\n",
    "from bs4 import BeautifulSoup\n",
    "from markdownify import MarkdownConverter\n",
    "\n",
    "import zipfile\n",
    "import io\n",
    "from PIL import Image\n",
    "\n",
    "import pptx2md\n",
    "\n",
    "import gdoc_sync.google.auth as ga\n",
    "from gdoc_sync.client import upsert_folder\n"
   ]
  },
  {
   "cell_type": "code",
   "execution_count": 50,
   "metadata": {},
   "outputs": [],
   "source": [
    "#| export\n",
    "\n",
    "class GoogleDrive_MimeType_Enum(Enum):\n",
    "    \"\"\"for translating Google Drive types into 'exports as'\"\"\"\n",
    "    \n",
    "    docx  = 'application/vnd.openxmlformats-officedocument.wordprocessingml.document'\n",
    "    pptx = 'application/vnd.openxmlformats-officedocument.presentationml.presentation'\n",
    "    \n",
    "    odt  = 'application/vnd.oasis.opendocument.text'\n",
    "    rtf = 'application/rtf'\n",
    "    pdf = 'application/pdf'\n",
    "    txt = 'text/plain'\n",
    "    # html = 'application/zip'\n",
    "    zip_file = 'application/zip'\n",
    "    epub  = 'application/epub+zip'\n",
    "    \n",
    "    folder = 'application/vnd.google-apps.folder'\n",
    "    gdoc = 'application/vnd.google-apps.document'   \n",
    "    gsheet ='application/vnd.google-apps.spreadsheet'\n",
    "    gshortcut = 'application/vnd.google-apps.shortcut'\n",
    "    gslides = 'application/vnd.google-apps.presentation'\n",
    "    \n",
    "    # 'tex'  = 'application/zip'\n",
    "    # 'html.zip'= 'application/zip'"
   ]
  },
  {
   "cell_type": "code",
   "execution_count": 51,
   "metadata": {},
   "outputs": [
    {
     "name": "stdout",
     "output_type": "stream",
     "text": [
      "docx application/vnd.openxmlformats-officedocument.wordprocessingml.document\n",
      "pptx application/vnd.openxmlformats-officedocument.presentationml.presentation\n",
      "odt application/vnd.oasis.opendocument.text\n",
      "rtf application/rtf\n",
      "pdf application/pdf\n",
      "txt text/plain\n",
      "zip_file application/zip\n",
      "epub application/epub+zip\n",
      "folder application/vnd.google-apps.folder\n",
      "gdoc application/vnd.google-apps.document\n",
      "gsheet application/vnd.google-apps.spreadsheet\n",
      "gshortcut application/vnd.google-apps.shortcut\n",
      "gslides application/vnd.google-apps.presentation\n"
     ]
    }
   ],
   "source": [
    "for member in GoogleDrive_MimeType_Enum:\n",
    "    print(member.name, member.value)"
   ]
  },
  {
   "cell_type": "markdown",
   "metadata": {},
   "source": [
    "# Handle Downloading Documents\n",
    "\n",
    "## default download method  -- ZIPs\n",
    "\n",
    "- download and unpack zip file\n",
    "- convert index.html to markdown\n",
    "    - resize images referenced in markdown "
   ]
  },
  {
   "cell_type": "code",
   "execution_count": 52,
   "metadata": {},
   "outputs": [],
   "source": [
    "# | exporti\n",
    "\n",
    "def clean_bs4(html):\n",
    "    soup = BeautifulSoup(html, \"html.parser\")\n",
    "    return soup.find('body')\n",
    "\n",
    "class ImageBlockConverter(MarkdownConverter):\n",
    "    \"\"\"\n",
    "    Create a custom MarkdownConverter that adds two newlines after an image\n",
    "    \"\"\"\n",
    "\n",
    "    def convert_img(self, el, text, convert_as_inline, is_resize : bool = True):\n",
    "        \"\"\"\n",
    "        custom image downloader for ImabeBlockConverter\n",
    "        will handle resize\n",
    "        \"\"\"\n",
    "\n",
    "        if is_resize:\n",
    "            style_obj = {(obj.split(':')[0].strip()) : obj.split(':')[1].strip() for obj in el.get('style').split(';') if ':' in obj}\n",
    "            \n",
    "            file_path = os.path.join(os.path.dirname(self.options['file_path']), el['src'])\n",
    "\n",
    "            image = Image.open(file_path)\n",
    "\n",
    "            width = style_obj['width'].replace('px', '')\n",
    "            width = int(float(width))\n",
    "\n",
    "            height = style_obj['height'].replace('px', '')\n",
    "            height = int(float(height))\n",
    "\n",
    "            new_image = image.resize((width,height))\n",
    "            new_image.save(file_path)\n",
    "    \n",
    "        return super().convert_img(el, text, convert_as_inline)\n",
    "\n",
    "def md(html, **options):\n",
    "    \"\"\"Create shorthand method for handling conversion\"\"\"\n",
    "    return ImageBlockConverter(**options).convert(html)\n",
    "\n",
    "\n",
    "def convert_file_in_place(file_path):\n",
    "    \"\"\"converts html file to markdown in place\"\"\"\n",
    "    \n",
    "    with(open(file_path, encoding='utf-8')) as f:\n",
    "        html = f.read()\n",
    "    \n",
    "    markdown_content = md(str(html), keep_inline_images_in= ['td', 'span'], file_path =file_path, is_resize = True)\n",
    "\n",
    "    md_path = file_path.replace(\".html\", \".md\")\n",
    "\n",
    "    with open(md_path, \"w+\", encoding=\"utf-8\") as f:\n",
    "        f.write(markdown_content)\n",
    "\n",
    "    return \n",
    "\n",
    "def download_zip(content, output_folder):\n",
    "    \"\"\"save content to a zip file then convert html to markdown\"\"\"\n",
    "\n",
    "    zip = zipfile.ZipFile(io.BytesIO(content), 'r')\n",
    "    zip.extractall(output_folder)\n",
    "\n",
    "    file_ls = os.listdir(output_folder)\n",
    "\n",
    "    # rename the html file to index.html\n",
    "    for file_name in file_ls:\n",
    "        if file_name.endswith('.html'):\n",
    "            output_index = os.path.join(output_folder, 'index.html')\n",
    "            os.replace(os.path.join(output_folder, file_name), output_index)\n",
    "            convert_file_in_place(os.path.join(output_folder, 'index.html'))\n",
    "    \n",
    "    return f\"successfully downloaded zip to {output_folder}\""
   ]
  },
  {
   "cell_type": "markdown",
   "metadata": {},
   "source": [
    "#### sample implementation of download_zip"
   ]
  },
  {
   "cell_type": "code",
   "execution_count": 53,
   "metadata": {},
   "outputs": [
    {
     "name": "stdout",
     "output_type": "stream",
     "text": [
      "using saved token\n",
      "generating service object on GoogleAuth\n"
     ]
    },
    {
     "data": {
      "text/plain": [
       "'successfully downloaded zip to sample/drive_converter-download_zip'"
      ]
     },
     "execution_count": 53,
     "metadata": {},
     "output_type": "execute_result"
    }
   ],
   "source": [
    "from dotenv import load_dotenv\n",
    "import json\n",
    "import os\n",
    "\n",
    "DOCUMENT_ID = '1j7XsbvFy0xUgGL6i-3LSChKvzSmTZSOyimEt6tQS-Kk'\n",
    "\n",
    "\n",
    "# generates Credentials object\n",
    "google_auth = ga.GoogleAuth()\n",
    "google_auth.get_creds_from_env(credentials_env_key= 'GDOC_KEY', token_env_key = 'GDOC_TOKEN',   env_file = '.env')\n",
    "\n",
    "content = google_auth.service.files().export(fileId=DOCUMENT_ID, mimeType= 'application/zip').execute()\n",
    "download_zip(content, 'sample/drive_converter-download_zip')\n"
   ]
  },
  {
   "cell_type": "markdown",
   "metadata": {},
   "source": [
    "## Download PPTX files\n",
    "\n",
    "- export content to pptx file\n",
    "- convert pptx to markdown"
   ]
  },
  {
   "cell_type": "code",
   "execution_count": 54,
   "metadata": {},
   "outputs": [],
   "source": [
    "#|exporti\n",
    "\n",
    "def download_pptx(content, output_folder):\n",
    "    \n",
    "    upsert_folder(output_folder)\n",
    "\n",
    "    output_ppt_index = os.path.join(output_folder, 'index.pptx')\n",
    "\n",
    "    with open(output_ppt_index, \"wb+\") as binary_file:\n",
    "        # Write bytes to file\n",
    "        binary_file.write(content)\n",
    "\n",
    "    pptx2md.convert(output_ppt_index,\n",
    "                    output=os.path.join(output_folder, 'index.md'),\n",
    "                    image_dir=os.path.join(output_folder, 'images'))\n",
    "    \n",
    "    return f'successfully downloaded content to {output_folder}'\n",
    "\n",
    "\n"
   ]
  },
  {
   "cell_type": "code",
   "execution_count": 55,
   "metadata": {},
   "outputs": [
    {
     "name": "stdout",
     "output_type": "stream",
     "text": [
      "using saved token\n",
      "generating service object on GoogleAuth\n"
     ]
    },
    {
     "name": "stderr",
     "output_type": "stream",
     "text": [
      "Converting slides: 100%|██████████| 2/2 [00:00<00:00, 517.24it/s]\n"
     ]
    },
    {
     "data": {
      "text/plain": [
       "'successfully downloaded content to sample/drive_converter-download_pptx'"
      ]
     },
     "execution_count": 55,
     "metadata": {},
     "output_type": "execute_result"
    }
   ],
   "source": [
    "from dotenv import load_dotenv\n",
    "import json\n",
    "import os\n",
    "\n",
    "SLIDE_ID = '1_k4NRraKI1TmHNlpQCuqJrWr6dP7DNracdMCtfN8XlM'\n",
    "\n",
    "# generates Credentials object\n",
    "google_auth = ga.GoogleAuth()\n",
    "google_auth.get_creds_from_env(credentials_env_key= 'GDOC_KEY', token_env_key = 'GDOC_TOKEN',   env_file = '.env')\n",
    "\n",
    "content = google_auth.service.files().export(fileId=SLIDE_ID, mimeType= 'application/vnd.openxmlformats-officedocument.presentationml.presentation').execute()\n",
    "download_pptx(content, 'sample/drive_converter-download_pptx')\n"
   ]
  },
  {
   "cell_type": "markdown",
   "metadata": {},
   "source": [
    "# Download Factory\n",
    "Extend the download factory to support exporting different file types and converting them into useable formats"
   ]
  },
  {
   "cell_type": "code",
   "execution_count": 56,
   "metadata": {},
   "outputs": [],
   "source": [
    "#| export\n",
    "\n",
    "download_factory = {\n",
    "    'application/vnd.google-apps.presentation': {'download_fn': download_pptx,\n",
    "                                                 'export_type': GoogleDrive_MimeType_Enum.pptx},\n",
    "    'default': {'download_fn': download_zip,\n",
    "                'export_type': GoogleDrive_MimeType_Enum.zip_file}\n",
    "}"
   ]
  },
  {
   "cell_type": "code",
   "execution_count": 57,
   "metadata": {},
   "outputs": [],
   "source": [
    "#| hide\n",
    "\n",
    "import nbdev\n",
    "nbdev.nbdev_export()"
   ]
  }
 ],
 "metadata": {
  "kernelspec": {
   "display_name": "Python 3",
   "language": "python",
   "name": "python3"
  },
  "language_info": {
   "codemirror_mode": {
    "name": "ipython",
    "version": 3
   },
   "file_extension": ".py",
   "mimetype": "text/x-python",
   "name": "python",
   "nbconvert_exporter": "python",
   "pygments_lexer": "ipython3",
   "version": "3.10.8"
  }
 },
 "nbformat": 4,
 "nbformat_minor": 2
}
