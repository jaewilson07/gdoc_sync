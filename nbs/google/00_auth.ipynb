{
 "cells": [
  {
   "cell_type": "markdown",
   "metadata": {},
   "source": [
    "# Creds\n",
    "\n",
    "> Fill in a module description here\n"
   ]
  },
  {
   "cell_type": "raw",
   "metadata": {},
   "source": [
    "---\n",
    "output-file: google/auth.html\n",
    "---"
   ]
  },
  {
   "cell_type": "code",
   "execution_count": 16,
   "metadata": {},
   "outputs": [],
   "source": [
    "# | default_exp google.auth"
   ]
  },
  {
   "cell_type": "code",
   "execution_count": 17,
   "metadata": {},
   "outputs": [],
   "source": [
    "# | exporti\n",
    "\n",
    "import os\n",
    "import json\n",
    "from dataclasses import dataclass, field\n",
    "from typing import List\n",
    "\n",
    "from dotenv import load_dotenv, set_key\n",
    "\n",
    "from google_auth_oauthlib.flow import InstalledAppFlow\n",
    "from googleapiclient.discovery import build\n",
    "from google.auth.transport.requests import Request\n",
    "from google.auth.exceptions import RefreshError\n",
    "\n",
    "from nbdev.showdoc import patch_to"
   ]
  },
  {
   "cell_type": "code",
   "execution_count": 18,
   "metadata": {},
   "outputs": [],
   "source": [
    "# | hide\n",
    "from nbdev.showdoc import show_doc"
   ]
  },
  {
   "cell_type": "code",
   "execution_count": 19,
   "metadata": {},
   "outputs": [],
   "source": [
    "# | export\n",
    "from google.oauth2.credentials import Credentials\n",
    "from googleapiclient.discovery import Resource"
   ]
  },
  {
   "cell_type": "code",
   "execution_count": 20,
   "metadata": {},
   "outputs": [],
   "source": [
    "# | export\n",
    "\n",
    "DEFAULT_SCOPE = [\n",
    "    \"https://www.googleapis.com/auth/drive\",\n",
    "    \"https://www.googleapis.com/auth/drive.file\",\n",
    "    \"https://www.googleapis.com/auth/drive.metadata.readonly\",\n",
    "    \"https://www.googleapis.com/auth/drive.readonly\",\n",
    "]"
   ]
  },
  {
   "cell_type": "code",
   "execution_count": 21,
   "metadata": {},
   "outputs": [],
   "source": [
    "# | exports\n",
    "class GoogleAuth_NoEnv_Error(Exception):\n",
    "    def __init__(self, env_token):\n",
    "        super().__init__(f\"{env_token} not found in ENV\")"
   ]
  },
  {
   "cell_type": "code",
   "execution_count": 22,
   "metadata": {},
   "outputs": [],
   "source": [
    "# | export\n",
    "\n",
    "\n",
    "@dataclass\n",
    "class GoogleAuth:\n",
    "    creds: Credentials = None\n",
    "    service: Resource = None\n",
    "\n",
    "    scope: List[str] = field(default_factory=lambda: DEFAULT_SCOPE)\n",
    "\n",
    "    def _refresh_token(self) -> Credentials:\n",
    "        \"\"\"Refreshes the token or creates a new one if it does not exist\"\"\"\n",
    "\n",
    "        if (\n",
    "            self.creds\n",
    "            and isinstance(self.creds, Credentials)\n",
    "            and self.creds.expired\n",
    "            and self.creds.refresh_token\n",
    "        ):\n",
    "            # if creds token can be refreshed, do it.\n",
    "            try:\n",
    "                print(\"refreshing creds using saved token\")\n",
    "                self.creds.refresh(Request())\n",
    "\n",
    "            except RefreshError as e:\n",
    "                print(e)\n",
    "                self.creds.refresh(Request())\n",
    "\n",
    "        self.generate_service(service_name=\"drive\", service_version=\"v3\")\n",
    "\n",
    "        return self.creds\n",
    "\n",
    "    def _new_token_via_auth_flow(self, flow):\n",
    "        # If there are no (valid) credentials available, run the Oauth flow\n",
    "        print(\"generating a brand new token cred via auth flow\")\n",
    "\n",
    "        self.creds = flow.run_local_server(port=0)\n",
    "\n",
    "        self._refresh_token()\n",
    "\n",
    "        return self.creds\n",
    "\n",
    "    def generate_service(self, service_name=\"drive\", service_version=\"v3\") -> Resource:\n",
    "        \"\"\"Generates a service object for the given service name and version\"\"\"\n",
    "\n",
    "        print(f\"generating service object on {self.__class__.__name__}\")\n",
    "\n",
    "        self.service = build(\n",
    "            serviceName=service_name, version=service_version, credentials=self.creds\n",
    "        )\n",
    "\n",
    "        return self.service"
   ]
  },
  {
   "cell_type": "markdown",
   "metadata": {},
   "source": [
    "# Get Cred from ENV"
   ]
  },
  {
   "cell_type": "code",
   "execution_count": 23,
   "metadata": {},
   "outputs": [],
   "source": [
    "# |exporti\n",
    "\n",
    "\n",
    "@patch_to(GoogleAuth, cls_method=True)\n",
    "def get_creds_from_env(\n",
    "    cls: GoogleAuth,\n",
    "    scope=None,\n",
    "    credentials_env_key: str = \"GDOC_CLIENT\",\n",
    "    token_env_key: str = None,\n",
    "):\n",
    "    \"\"\"\n",
    "    credentials should be stored in the .env file as a json (NOT A STRING)\n",
    "    token will be stored as a string (NOT A JSON OBJ)\n",
    "\n",
    "    generate creds here, https://console.cloud.google.com/apis/credentials/oauthclient\n",
    "    for a new implementation you'll need to\n",
    "    1. set up a project at console.cloud.google.com,\n",
    "    2. enable (turn on) the appropriate APIs for that project\n",
    "    3. configure OAuth access (your python script will use an Oauth token to authenticate, so your project needs the OAuth screen)\n",
    "    4. download the creds file and store it as env_creds.json\n",
    "    \"\"\"\n",
    "\n",
    "    scope = scope or DEFAULT_SCOPE\n",
    "\n",
    "    credentials_str = os.getenv(credentials_env_key)\n",
    "\n",
    "    if not credentials_str:\n",
    "        raise GoogleAuth_NoEnv_Error(credentials_env_key)\n",
    "\n",
    "    credentials_json = (\n",
    "        json.loads(credentials_str)\n",
    "        if credentials_str and isinstance(credentials_str, str)\n",
    "        else credentials_str\n",
    "    )\n",
    "\n",
    "    if token_env_key:\n",
    "        token_str = os.getenv(token_env_key)\n",
    "\n",
    "        if not token_str:\n",
    "            raise GoogleAuth_NoEnv_Error(token_env_key)\n",
    "\n",
    "        token_json = (\n",
    "            json.loads(token_str)\n",
    "            if token_str and isinstance(token_str, str)\n",
    "            else token_str\n",
    "        )\n",
    "\n",
    "        print(\"using saved token\")\n",
    "        ga_auth = cls(\n",
    "            creds=Credentials.from_authorized_user_info(token_json, scope), scope=scope\n",
    "        )\n",
    "        ga_auth._refresh_token()\n",
    "        return ga_auth\n",
    "\n",
    "    flow = InstalledAppFlow.from_client_config(credentials_json, scope)\n",
    "\n",
    "    ga_auth = cls(scope=scope)\n",
    "    ga_auth._new_token_via_auth_flow(flow)\n",
    "\n",
    "    return ga_auth"
   ]
  },
  {
   "cell_type": "markdown",
   "metadata": {},
   "source": [
    "#### sample implementation of get_creds_from_env\n"
   ]
  },
  {
   "cell_type": "code",
   "execution_count": 24,
   "metadata": {},
   "outputs": [
    {
     "name": "stdout",
     "output_type": "stream",
     "text": [
      "using saved token\n",
      "generating service object on GoogleAuth\n"
     ]
    },
    {
     "data": {
      "text/plain": [
       "GoogleAuth(creds=<google.oauth2.credentials.Credentials object at 0x7f3df4d7f280>, service=<googleapiclient.discovery.Resource object at 0x7f3df4560730>, scope=['https://www.googleapis.com/auth/drive', 'https://www.googleapis.com/auth/drive.file', 'https://www.googleapis.com/auth/drive.metadata.readonly', 'https://www.googleapis.com/auth/drive.readonly'])"
      ]
     },
     "execution_count": 24,
     "metadata": {},
     "output_type": "execute_result"
    }
   ],
   "source": [
    "from dotenv import load_dotenv\n",
    "\n",
    "load_dotenv(\".env\")\n",
    "\n",
    "GoogleAuth.get_creds_from_env(\n",
    "    credentials_env_key=\"GDOC_KEY\",\n",
    "    token_env_key=\"GDOC_TOKEN\",\n",
    ")"
   ]
  },
  {
   "cell_type": "code",
   "execution_count": 25,
   "metadata": {},
   "outputs": [],
   "source": [
    "import datetime as dt\n",
    "from dotenv import set_key, load_dotenv"
   ]
  },
  {
   "cell_type": "code",
   "execution_count": 26,
   "metadata": {},
   "outputs": [
    {
     "name": "stdout",
     "output_type": "stream",
     "text": [
      "using saved token\n",
      "generating service object on GoogleAuth\n"
     ]
    }
   ],
   "source": [
    "# | hide\n",
    "# setup get_creds_from_file by exporting working creds to the env\n",
    "\n",
    "from gdoc_sync.utils import update_env\n",
    "import json\n",
    "\n",
    "from dotenv import load_dotenv\n",
    "\n",
    "load_dotenv(\".env\")\n",
    "\n",
    "# create credentials file\n",
    "credentials_env_key = \"GDOC_KEY\"\n",
    "credentials_env = os.environ.get(credentials_env_key)\n",
    "credentials_file_path = \"env_creds.json\"\n",
    "\n",
    "with open(credentials_file_path, \"w\") as f:\n",
    "    json.dump(json.loads(credentials_env), f)\n",
    "\n",
    "\n",
    "# create token file from valid GoogleAuth object\n",
    "token_key = \"GDOC_TOKEN\"\n",
    "token_file_path = \"env_token.json\"\n",
    "\n",
    "ga_auth = GoogleAuth.get_creds_from_env(\n",
    "    credentials_env_key=credentials_env_key,\n",
    "    token_env_key=token_key,\n",
    ")\n",
    "\n",
    "update_env(\".env\", token_key, json.loads(ga_auth.creds.to_json()), debug_prn=False)\n",
    "\n",
    "token_env = os.environ.get(token_key)\n",
    "\n",
    "with open(token_file_path, \"w\") as f:\n",
    "    json.dump(json.loads(token_env), f)"
   ]
  },
  {
   "cell_type": "markdown",
   "metadata": {},
   "source": [
    "# Get Creds from File"
   ]
  },
  {
   "cell_type": "code",
   "execution_count": 27,
   "metadata": {},
   "outputs": [],
   "source": [
    "# |exporti\n",
    "\n",
    "\n",
    "@patch_to(GoogleAuth, cls_method=True)\n",
    "def get_creds_from_file(\n",
    "    cls: GoogleAuth,\n",
    "    credentials_file_path=\"env_creds.json\",\n",
    "    token_file_path=None,\n",
    "    scope=None,\n",
    ") -> Credentials:\n",
    "    \"\"\"\n",
    "    generate creds here, https://console.cloud.google.com/apis/credentials/oauthclient\n",
    "    for a new implementation you'll need to\n",
    "    1. set up a project at console.cloud.google.com,\n",
    "    2. enable (turn on) the appropriate APIs for that project\n",
    "    3. configure OAuth access (your python script will use an Oauth token to authenticate, so your project needs the OAuth screen)\n",
    "    4. download the creds file and store it as env_creds.json\n",
    "    \"\"\"\n",
    "\n",
    "    scope = scope or DEFAULT_SCOPE\n",
    "\n",
    "    if token_file_path and os.path.exists(token_file_path):\n",
    "        print(f\"using saved token {token_file_path}\")\n",
    "        ga_auth = cls(\n",
    "            creds=Credentials.from_authorized_user_file(token_file_path, scope),\n",
    "            scope=scope,\n",
    "        )\n",
    "        ga_auth._refresh_token()\n",
    "        return ga_auth\n",
    "\n",
    "    flow = InstalledAppFlow.from_client_secrets_file(credentials_file_path, scope)\n",
    "\n",
    "    ga_auth = cls(scope=scope)\n",
    "    ga_auth._new_token_via_auth_flow(flow)\n",
    "    return ga_auth"
   ]
  },
  {
   "cell_type": "code",
   "execution_count": 28,
   "metadata": {},
   "outputs": [
    {
     "data": {
      "text/markdown": [
       "---\n",
       "\n",
       "[source](https://github.com/jaewilson07/gdoc_sync/blob/main/gdoc_sync/google/auth.py#L133){target=\"_blank\" style=\"float:right; font-size:smaller\"}\n",
       "\n",
       "### GoogleAuth.get_creds_from_file\n",
       "\n",
       ">      GoogleAuth.get_creds_from_file (credentials_file_path='env_creds.json',\n",
       ">                                      token_file_path=None, scope=None)\n",
       "\n",
       "generate creds here, https://console.cloud.google.com/apis/credentials/oauthclient\n",
       "for a new implementation you'll need to\n",
       "1. set up a project at console.cloud.google.com,\n",
       "2. enable (turn on) the appropriate APIs for that project\n",
       "3. configure OAuth access (your python script will use an Oauth token to authenticate, so your project needs the OAuth screen)\n",
       "4. download the creds file and store it as env_creds.json"
      ],
      "text/plain": [
       "---\n",
       "\n",
       "[source](https://github.com/jaewilson07/gdoc_sync/blob/main/gdoc_sync/google/auth.py#L133){target=\"_blank\" style=\"float:right; font-size:smaller\"}\n",
       "\n",
       "### GoogleAuth.get_creds_from_file\n",
       "\n",
       ">      GoogleAuth.get_creds_from_file (credentials_file_path='env_creds.json',\n",
       ">                                      token_file_path=None, scope=None)\n",
       "\n",
       "generate creds here, https://console.cloud.google.com/apis/credentials/oauthclient\n",
       "for a new implementation you'll need to\n",
       "1. set up a project at console.cloud.google.com,\n",
       "2. enable (turn on) the appropriate APIs for that project\n",
       "3. configure OAuth access (your python script will use an Oauth token to authenticate, so your project needs the OAuth screen)\n",
       "4. download the creds file and store it as env_creds.json"
      ]
     },
     "execution_count": 28,
     "metadata": {},
     "output_type": "execute_result"
    }
   ],
   "source": [
    "show_doc(GoogleAuth.get_creds_from_file)"
   ]
  },
  {
   "cell_type": "markdown",
   "metadata": {},
   "source": [
    "#### sample implementation of get_creds_from_file"
   ]
  },
  {
   "cell_type": "code",
   "execution_count": 29,
   "metadata": {},
   "outputs": [
    {
     "name": "stdout",
     "output_type": "stream",
     "text": [
      "using saved token env_token.json\n",
      "generating service object on GoogleAuth\n"
     ]
    },
    {
     "data": {
      "text/plain": [
       "GoogleAuth(creds=<google.oauth2.credentials.Credentials object at 0x7f3df45606a0>, service=<googleapiclient.discovery.Resource object at 0x7f3df4561180>, scope=['https://www.googleapis.com/auth/drive', 'https://www.googleapis.com/auth/drive.file', 'https://www.googleapis.com/auth/drive.metadata.readonly', 'https://www.googleapis.com/auth/drive.readonly'])"
      ]
     },
     "execution_count": 29,
     "metadata": {},
     "output_type": "execute_result"
    }
   ],
   "source": [
    "from dotenv import load_dotenv\n",
    "\n",
    "load_dotenv(\".env\")\n",
    "\n",
    "GoogleAuth.get_creds_from_file(\n",
    "    credentials_file_path=\"env_creds.json\", token_file_path=\"env_token.json\", scope=None\n",
    ")"
   ]
  },
  {
   "cell_type": "code",
   "execution_count": 30,
   "metadata": {},
   "outputs": [],
   "source": [
    "# | hide\n",
    "import nbdev\n",
    "\n",
    "nbdev.nbdev_export()"
   ]
  }
 ],
 "metadata": {
  "kernelspec": {
   "display_name": "python3",
   "language": "python",
   "name": "python3"
  },
  "language_info": {
   "codemirror_mode": {
    "name": "ipython",
    "version": 3
   },
   "file_extension": ".py",
   "mimetype": "text/x-python",
   "name": "python",
   "nbconvert_exporter": "python",
   "pygments_lexer": "ipython3",
   "version": "3.10.12"
  }
 },
 "nbformat": 4,
 "nbformat_minor": 4
}
