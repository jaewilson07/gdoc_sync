{
 "cells": [
  {
   "cell_type": "markdown",
   "metadata": {},
   "source": [
    "# Creds\n",
    "\n",
    "> Fill in a module description here\n"
   ]
  },
  {
   "cell_type": "raw",
   "metadata": {},
   "source": [
    "---\n",
    "output-file: auth.html\n",
    "---"
   ]
  },
  {
   "cell_type": "code",
   "execution_count": 100,
   "metadata": {},
   "outputs": [],
   "source": [
    "# | default_exp google.auth"
   ]
  },
  {
   "cell_type": "code",
   "execution_count": 101,
   "metadata": {},
   "outputs": [],
   "source": [
    "# | exporti\n",
    "\n",
    "import os\n",
    "import json\n",
    "from dataclasses import dataclass, field\n",
    "from typing import List\n",
    "\n",
    "from dotenv import load_dotenv, set_key\n",
    "\n",
    "from google_auth_oauthlib.flow import InstalledAppFlow\n",
    "from googleapiclient.discovery import build\n",
    "from google.auth.transport.requests import Request\n",
    "from google.auth.exceptions import RefreshError\n",
    "\n",
    "from nbdev.showdoc import patch_to"
   ]
  },
  {
   "cell_type": "code",
   "execution_count": 102,
   "metadata": {},
   "outputs": [],
   "source": [
    "# | export\n",
    "\n",
    "from google.oauth2.credentials import Credentials\n",
    "from googleapiclient.discovery import Resource"
   ]
  },
  {
   "cell_type": "code",
   "execution_count": 103,
   "metadata": {},
   "outputs": [],
   "source": [
    "# | exporti\n",
    "\n",
    "default_scope = [\n",
    "    \"https://www.googleapis.com/auth/drive\",\n",
    "    \"https://www.googleapis.com/auth/drive.file\",\n",
    "    \"https://www.googleapis.com/auth/drive.metadata.readonly\",\n",
    "    \"https://www.googleapis.com/auth/drive.readonly\",\n",
    "]"
   ]
  },
  {
   "cell_type": "code",
   "execution_count": 104,
   "metadata": {},
   "outputs": [],
   "source": [
    "# | export\n",
    "\n",
    "\n",
    "@dataclass\n",
    "class GoogleAuth:\n",
    "    creds: Credentials = None\n",
    "    service: Resource = None\n",
    "\n",
    "    scope: List[str] = field(default_factory=lambda: default_scope)\n",
    "\n",
    "    def _refresh_or_new_token(self, flow) -> Credentials:\n",
    "        \"\"\"Refreshes the token or creates a new one if it does not exist\"\"\"\n",
    "\n",
    "        if self.creds and isinstance(self.creds, Credentials) and self.creds.valid:\n",
    "            pass\n",
    "\n",
    "        elif (\n",
    "            self.creds\n",
    "            and isinstance(self.creds, Credentials)\n",
    "            and self.creds.expired\n",
    "            and self.creds.refresh_token\n",
    "        ):\n",
    "            # if creds token can be refreshed, do it.\n",
    "            try:\n",
    "                print(\"refreshing creds using saved token\")\n",
    "                self.creds.refresh(Request())\n",
    "\n",
    "            except RefreshError as e:\n",
    "                print(e)\n",
    "                self.creds.refresh(Request())\n",
    "\n",
    "        else:\n",
    "            # If there are no (valid) credentials available, run the Oauth flow\n",
    "            print(\"generating a brand new token cred via auth flow\")\n",
    "\n",
    "            self.creds = flow.run_local_server(port=0)\n",
    "\n",
    "        self.generate_service(service_name=\"drive\", service_version=\"v3\")\n",
    "\n",
    "        return self.creds\n",
    "\n",
    "    def generate_service(self, service_name=\"drive\", service_version=\"v3\") -> Resource:\n",
    "        \"\"\"Generates a service object for the given service name and version\"\"\"\n",
    "\n",
    "        print(f\"generating service object on {self.__class__.__name__}\")\n",
    "\n",
    "        self.service = build(\n",
    "            serviceName=service_name, version=service_version, credentials=self.creds\n",
    "        )\n",
    "\n",
    "        return self.service"
   ]
  },
  {
   "cell_type": "code",
   "execution_count": 105,
   "metadata": {},
   "outputs": [],
   "source": [
    "# |exporti\n",
    "\n",
    "\n",
    "@patch_to(GoogleAuth)\n",
    "def get_creds_from_file(\n",
    "    self: GoogleAuth,\n",
    "    token_file_path=\"env_token.json\",\n",
    "    credentials_file_path=\"env_creds.json\",\n",
    "    scope=None,\n",
    ") -> Credentials:\n",
    "    \"\"\"\n",
    "    generate creds here, https://console.cloud.google.com/apis/credentials/oauthclient\n",
    "    for a new implementation you'll need to\n",
    "    1. set up a project at console.cloud.google.com,\n",
    "    2. enable (turn on) the appropriate APIs for that project\n",
    "    3. configure OAuth access (your python script will use an Oauth token to authenticate, so your project needs the OAuth screen)\n",
    "    4. download the creds file and store it as env_creds.json\n",
    "    \"\"\"\n",
    "\n",
    "    scope = scope or self.scope\n",
    "\n",
    "    if token_file_path and os.path.exists(token_file_path):\n",
    "        print(f\"using saved token {token_file_path}\")\n",
    "        self.creds = Credentials.from_authorized_user_file(token_file_path, scope)\n",
    "\n",
    "    self.flow = InstalledAppFlow.from_client_secrets_file(credentials_file_path, scope)\n",
    "\n",
    "    return self._refresh_or_new_token(self.flow)"
   ]
  },
  {
   "cell_type": "code",
   "execution_count": 106,
   "metadata": {},
   "outputs": [
    {
     "name": "stdout",
     "output_type": "stream",
     "text": [
      "using saved token env_token.json\n",
      "refreshing creds using saved token\n",
      "generating service object on GoogleAuth\n",
      "<google.oauth2.credentials.Credentials object at 0x7faccb25d8d0>\n"
     ]
    }
   ],
   "source": [
    "# get_creds_from file requires the existence of a locally saved credentials file.\n",
    "# The auth flow will produce a token file (which facilitates refresh) if a token file doesn't exist\n",
    "\n",
    "load_dotenv(\".env\", override=True)\n",
    "\n",
    "token_file_path = \"env_token.json\"\n",
    "credentials_file_path = \"env_creds.json\"\n",
    "\n",
    "if not os.path.exists(credentials_file_path) and os.environ.get(\"GDOC_KEY\"):\n",
    "    with open(credentials_file_path, \"w\") as f:\n",
    "        json.dump(json.loads(os.environ[\"GDOC_KEY\"]), f)\n",
    "\n",
    "if not os.path.exists(token_file_path) and os.environ.get(\"GDOC_TOKEN\"):\n",
    "    with open(token_file_path, \"w\") as f:\n",
    "        json.dump(json.loads(os.environ[\"GDOC_TOKEN\"]), f)\n",
    "\n",
    "if os.path.exists(token_file_path) or os.path.exists(credentials_file_path):\n",
    "    google_auth = GoogleAuth()\n",
    "    creds = google_auth.get_creds_from_file(\n",
    "        credentials_file_path=credentials_file_path, token_file_path=token_file_path\n",
    "    )\n",
    "    print(creds)"
   ]
  },
  {
   "cell_type": "code",
   "execution_count": null,
   "metadata": {},
   "outputs": [],
   "source": []
  },
  {
   "cell_type": "code",
   "execution_count": 107,
   "metadata": {},
   "outputs": [],
   "source": [
    "# | exporti\n",
    "\n",
    "\n",
    "def _load_creds_from_env(token_env_key, creds_env_key):\n",
    "    token_str = os.getenv(token_env_key)\n",
    "    creds_str = os.getenv(creds_env_key)\n",
    "\n",
    "    token_json = (\n",
    "        json.loads(token_str) if token_str and isinstance(token_str, str) else token_str\n",
    "    )\n",
    "    creds_json = (\n",
    "        json.loads(creds_str) if creds_str and isinstance(creds_str, str) else creds_str\n",
    "    )\n",
    "\n",
    "    return token_json, creds_json"
   ]
  },
  {
   "cell_type": "code",
   "execution_count": 108,
   "metadata": {},
   "outputs": [],
   "source": [
    "google_auth = GoogleAuth()\n",
    "token_json, creds_json = _load_creds_from_env(\n",
    "    token_env_key=\"GDOC_TOKEN\", creds_env_key=\"GDOC_KEY\"\n",
    ")\n",
    "assert token_json, creds_json"
   ]
  },
  {
   "cell_type": "code",
   "execution_count": 109,
   "metadata": {},
   "outputs": [],
   "source": [
    "# | exporti\n",
    "\n",
    "\n",
    "def _update_env(env_file=\".env\", key=None, value=None):\n",
    "    \"\"\"\n",
    "    updates a .env file with a key value pair\n",
    "    then reloads the env_file\n",
    "    \"\"\"\n",
    "\n",
    "    if not os.path.exists(env_file):\n",
    "        with open(env_file, \"w\", encoding=\"utf-8\") as f:\n",
    "            f.write(\"\")\n",
    "\n",
    "    if key and value:\n",
    "        set_key(env_file, key, value)\n",
    "\n",
    "    load_dotenv(env_file, override=True)"
   ]
  },
  {
   "cell_type": "code",
   "execution_count": 110,
   "metadata": {},
   "outputs": [
    {
     "data": {
      "text/plain": [
       "{'test_update_env': 'updated - 2023-12-02'}"
      ]
     },
     "execution_count": 110,
     "metadata": {},
     "output_type": "execute_result"
    }
   ],
   "source": [
    "import datetime as dt\n",
    "\n",
    "google_auth = GoogleAuth()\n",
    "\n",
    "env_file = \".env\"\n",
    "prop_name = \"test_update_env\"\n",
    "\n",
    "_update_env(env_file=env_file, key=prop_name, value=f\"updated - {dt.date.today()}\")\n",
    "\n",
    "load_dotenv(\".env\", override=True)\n",
    "\n",
    "{prop_name: os.getenv(prop_name)}"
   ]
  },
  {
   "cell_type": "code",
   "execution_count": 111,
   "metadata": {},
   "outputs": [],
   "source": [
    "# |exporti\n",
    "\n",
    "\n",
    "@patch_to(GoogleAuth)\n",
    "def get_creds_from_env(\n",
    "    self: GoogleAuth,\n",
    "    scope=None,\n",
    "    token_env_key: str = \"GDOC_TOKEN\",\n",
    "    credentials_env_key: str = \"GDOC_CLIENT\",\n",
    "    env_file=\".env\",\n",
    "):\n",
    "    \"\"\"\n",
    "    credentials should be stored in the .env file as a json (NOT A STRING)\n",
    "    token will be stored as a string (NOT A JSON OBJ)\n",
    "\n",
    "    generate creds here, https://console.cloud.google.com/apis/credentials/oauthclient\n",
    "    for a new implementation you'll need to\n",
    "    1. set up a project at console.cloud.google.com,\n",
    "    2. enable (turn on) the appropriate APIs for that project\n",
    "    3. configure OAuth access (your python script will use an Oauth token to authenticate, so your project needs the OAuth screen)\n",
    "    4. download the creds file and store it as env_creds.json\n",
    "    \"\"\"\n",
    "\n",
    "    token_json, credentials_json = _load_creds_from_env(\n",
    "        token_env_key, credentials_env_key\n",
    "    )\n",
    "\n",
    "    if token_json:\n",
    "        print(\"using saved token\")\n",
    "        self.creds = Credentials.from_authorized_user_info(token_json, scope)\n",
    "\n",
    "    self.flow = InstalledAppFlow.from_client_config(credentials_json, self.scope)\n",
    "\n",
    "    self._refresh_or_new_token(self.flow)\n",
    "\n",
    "    # Save the credentials for the next run\n",
    "    _update_env(env_file, token_env_key, self.creds.to_json())\n",
    "\n",
    "    return self.creds"
   ]
  },
  {
   "cell_type": "markdown",
   "metadata": {},
   "source": [
    "#### sample implementation of get_creds_from_env\n"
   ]
  },
  {
   "cell_type": "code",
   "execution_count": 112,
   "metadata": {},
   "outputs": [
    {
     "name": "stdout",
     "output_type": "stream",
     "text": [
      "using saved token\n",
      "generating service object on GoogleAuth\n"
     ]
    },
    {
     "data": {
      "text/plain": [
       "<google.oauth2.credentials.Credentials at 0x7faccd36be80>"
      ]
     },
     "execution_count": 112,
     "metadata": {},
     "output_type": "execute_result"
    }
   ],
   "source": [
    "google_auth = GoogleAuth()\n",
    "google_auth.get_creds_from_env(\n",
    "    credentials_env_key=\"GDOC_KEY\", token_env_key=\"GDOC_TOKEN\", env_file=\".env\"\n",
    ")"
   ]
  },
  {
   "cell_type": "code",
   "execution_count": 113,
   "metadata": {},
   "outputs": [],
   "source": [
    "# | hide\n",
    "import nbdev\n",
    "\n",
    "nbdev.nbdev_export()"
   ]
  }
 ],
 "metadata": {
  "kernelspec": {
   "display_name": "python3",
   "language": "python",
   "name": "python3"
  },
  "language_info": {
   "codemirror_mode": {
    "name": "ipython",
    "version": 3
   },
   "file_extension": ".py",
   "mimetype": "text/x-python",
   "name": "python",
   "nbconvert_exporter": "python",
   "pygments_lexer": "ipython3",
   "version": "3.10.8"
  }
 },
 "nbformat": 4,
 "nbformat_minor": 4
}
