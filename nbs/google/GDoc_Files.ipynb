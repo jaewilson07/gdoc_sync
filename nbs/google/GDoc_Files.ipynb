{
 "cells": [
  {
   "cell_type": "markdown",
   "metadata": {},
   "source": [
    "# GDoc_Files\n",
    "\n",
    "> a class based approach for interacting with folder structures in Google Drive"
   ]
  },
  {
   "cell_type": "code",
   "execution_count": 1,
   "metadata": {},
   "outputs": [],
   "source": [
    "# | default_exp google.GDoc_Files"
   ]
  },
  {
   "cell_type": "code",
   "execution_count": 2,
   "metadata": {},
   "outputs": [],
   "source": [
    "# | exporti\n",
    "\n",
    "import os\n",
    "\n",
    "from dataclasses import dataclass, field\n",
    "from typing import List\n",
    "\n",
    "from gdoc_sync.utils import convert_str_to_date, convert_str_file_name\n",
    "import gdoc_sync.google.auth as ga\n",
    "import gdoc_sync.google.GDoc_File as gd\n",
    "import gdoc_sync.client as ut\n",
    "\n",
    "\n",
    "from nbdev.showdoc import patch_to"
   ]
  },
  {
   "cell_type": "code",
   "execution_count": 3,
   "metadata": {},
   "outputs": [
    {
     "data": {
      "text/plain": [
       "True"
      ]
     },
     "execution_count": 3,
     "metadata": {},
     "output_type": "execute_result"
    }
   ],
   "source": [
    "# | hide\n",
    "from nbdev.showdoc import show_doc\n",
    "from dotenv import load_dotenv\n",
    "\n",
    "load_dotenv(\"../google/.env\")"
   ]
  },
  {
   "cell_type": "markdown",
   "metadata": {},
   "source": [
    "# Google Drive File Looper\n",
    "\n",
    "retrieves a listing of all the files and subfiles in a folder\n"
   ]
  },
  {
   "cell_type": "code",
   "execution_count": 4,
   "metadata": {},
   "outputs": [],
   "source": [
    "# | export\n",
    "@dataclass\n",
    "class GDoc_Files:\n",
    "    auth: ga.GoogleAuth = field(repr=False)\n",
    "\n",
    "    folder_id: str = None\n",
    "    folder_content: List[gd.GDoc_File] = field(default_factory=lambda: [])\n",
    "\n",
    "    service: ga.Resource = field(default=None, repr=False)\n",
    "    creds: ga.Credentials = field(default=None, repr=False)\n",
    "\n",
    "    def __post_init__(self):\n",
    "        self.creds = self.auth.creds\n",
    "        self.service = self.auth.generate_service(\n",
    "            service_name=\"drive\", service_version=\"v3\"\n",
    "        )"
   ]
  },
  {
   "cell_type": "code",
   "execution_count": 5,
   "metadata": {},
   "outputs": [],
   "source": [
    "# | exporti\n",
    "\n",
    "\n",
    "@patch_to(GDoc_Files)\n",
    "def _get_folder_contents(\n",
    "    self: GDoc_Files, folder_id: str, return_raw: bool = False\n",
    ") -> List[gd.GDoc_File]:\n",
    "    \"\"\"\n",
    "    retrieves dictionary representation of objects in google_drive folder\n",
    "    if the folder_id maps to a file will return list with one object\n",
    "    \"\"\"\n",
    "    auth = self.auth\n",
    "    page_token = None\n",
    "    file_ls = []\n",
    "\n",
    "    while True:\n",
    "        res = (\n",
    "            auth.service.files()\n",
    "            .list(\n",
    "                q=f\"'{folder_id}' in parents\",\n",
    "                pageSize=10,\n",
    "                fields=\"nextPageToken, files(id,webViewLink, name, mimeType,modifiedTime )\",\n",
    "                pageToken=page_token,\n",
    "            )\n",
    "            .execute()\n",
    "        )\n",
    "\n",
    "        file_ls += res.get(\"files\", [])\n",
    "\n",
    "        page_token = res.get(\"nextPageToken\", None)\n",
    "\n",
    "        if not page_token:\n",
    "            break\n",
    "\n",
    "    if return_raw:\n",
    "        return file_ls\n",
    "\n",
    "    return [gd.GDoc_File._from_json(file_obj, auth=self.auth) for file_obj in file_ls]"
   ]
  },
  {
   "cell_type": "code",
   "execution_count": 6,
   "metadata": {},
   "outputs": [
    {
     "name": "stdout",
     "output_type": "stream",
     "text": [
      "using saved token\n",
      "generating service object on GoogleAuth\n",
      "generating service object on GoogleAuth\n"
     ]
    },
    {
     "data": {
      "text/plain": [
       "[GDoc_File(doc_id='1j7XsbvFy0xUgGL6i-3LSChKvzSmTZSOyimEt6tQS-Kk', doc_name='Sample Doc for Google_Sync project', modified_time=datetime.datetime(2023, 11, 27, 19, 39, 0, 131000, tzinfo=tzutc()), url='https://docs.google.com/document/d/1j7XsbvFy0xUgGL6i-3LSChKvzSmTZSOyimEt6tQS-Kk/edit?usp=drivesdk', mime_str='application/vnd.google-apps.document', mime_type='gdoc', download_factory=None, parent_ls=None),\n",
       " GDoc_File(doc_id='1grGeTxDXjEoo8MkRsMzTg6v_Pdtuxi1T', doc_name='subfolder_test', modified_time=datetime.datetime(2023, 8, 17, 21, 0, 55, 634000, tzinfo=tzutc()), url='https://drive.google.com/drive/folders/1grGeTxDXjEoo8MkRsMzTg6v_Pdtuxi1T', mime_str='application/vnd.google-apps.folder', mime_type='folder', download_factory=None, parent_ls=None),\n",
       " GDoc_File(doc_id='1_k4NRraKI1TmHNlpQCuqJrWr6dP7DNracdMCtfN8XlM', doc_name='sample slide', modified_time=datetime.datetime(2023, 8, 17, 13, 54, 31, 973000, tzinfo=tzutc()), url='https://docs.google.com/presentation/d/1_k4NRraKI1TmHNlpQCuqJrWr6dP7DNracdMCtfN8XlM/edit?usp=drivesdk', mime_str='application/vnd.google-apps.presentation', mime_type='gslides', download_factory=None, parent_ls=None)]"
      ]
     },
     "execution_count": 6,
     "metadata": {},
     "output_type": "execute_result"
    }
   ],
   "source": [
    "FOLDER_ID = \"1SRrD1dNgZgHYjnhkJtARbLhydMP94qWi\"\n",
    "\n",
    "# generates Credentials object\n",
    "google_auth = ga.GoogleAuth.get_creds_from_env(\n",
    "    credentials_env_key=\"GDOC_KEY\", token_env_key=\"GDOC_TOKEN\"\n",
    ")\n",
    "\n",
    "gdoc_files = GDoc_Files(folder_id=FOLDER_ID, auth=google_auth)\n",
    "\n",
    "gdoc_files._get_folder_contents(folder_id=FOLDER_ID)"
   ]
  },
  {
   "cell_type": "code",
   "execution_count": 7,
   "metadata": {},
   "outputs": [],
   "source": [
    "# | exporti\n",
    "\n",
    "\n",
    "@patch_to(GDoc_Files)\n",
    "def get_files(\n",
    "    self: GDoc_Files, folder_id, file_ls=None, folder_path=\"\", is_recursive: bool = True\n",
    "):\n",
    "    auth = self.auth\n",
    "\n",
    "    if not file_ls:\n",
    "        file_ls = []\n",
    "\n",
    "    \"\"\"recursive function to get files in a folder and map over files in subfolder\"\"\"\n",
    "\n",
    "    new_files = self._get_folder_contents(folder_id=folder_id)\n",
    "\n",
    "    file_ls += new_files\n",
    "\n",
    "    if new_files and is_recursive:\n",
    "        [\n",
    "            self.get_files(\n",
    "                folder_id=google_doc.doc_id,\n",
    "                folder_path=os.path.join(\n",
    "                    folder_path, convert_str_file_name(google_doc.doc_name)\n",
    "                ),\n",
    "                file_ls=file_ls,\n",
    "            )\n",
    "            for google_doc in new_files\n",
    "            if google_doc.mime_type == \"folder\"\n",
    "        ]\n",
    "\n",
    "    self.file_ls = file_ls\n",
    "    return self.file_ls"
   ]
  },
  {
   "cell_type": "code",
   "execution_count": 8,
   "metadata": {},
   "outputs": [
    {
     "name": "stdout",
     "output_type": "stream",
     "text": [
      "using saved token\n",
      "generating service object on GoogleAuth\n",
      "generating service object on GoogleAuth\n"
     ]
    },
    {
     "data": {
      "text/plain": [
       "[GDoc_File(doc_id='1j7XsbvFy0xUgGL6i-3LSChKvzSmTZSOyimEt6tQS-Kk', doc_name='Sample Doc for Google_Sync project', modified_time=datetime.datetime(2023, 11, 27, 19, 39, 0, 131000, tzinfo=tzutc()), url='https://docs.google.com/document/d/1j7XsbvFy0xUgGL6i-3LSChKvzSmTZSOyimEt6tQS-Kk/edit?usp=drivesdk', mime_str='application/vnd.google-apps.document', mime_type='gdoc', download_factory=None, parent_ls=None),\n",
       " GDoc_File(doc_id='1grGeTxDXjEoo8MkRsMzTg6v_Pdtuxi1T', doc_name='subfolder_test', modified_time=datetime.datetime(2023, 8, 17, 21, 0, 55, 634000, tzinfo=tzutc()), url='https://drive.google.com/drive/folders/1grGeTxDXjEoo8MkRsMzTg6v_Pdtuxi1T', mime_str='application/vnd.google-apps.folder', mime_type='folder', download_factory=None, parent_ls=None),\n",
       " GDoc_File(doc_id='1_k4NRraKI1TmHNlpQCuqJrWr6dP7DNracdMCtfN8XlM', doc_name='sample slide', modified_time=datetime.datetime(2023, 8, 17, 13, 54, 31, 973000, tzinfo=tzutc()), url='https://docs.google.com/presentation/d/1_k4NRraKI1TmHNlpQCuqJrWr6dP7DNracdMCtfN8XlM/edit?usp=drivesdk', mime_str='application/vnd.google-apps.presentation', mime_type='gslides', download_factory=None, parent_ls=None),\n",
       " GDoc_File(doc_id='1D3X1miEQJPHbUqYK4NwASJjp1yr2-04j', doc_name='more subfolder', modified_time=datetime.datetime(2023, 11, 27, 20, 49, 31, 588000, tzinfo=tzutc()), url='https://drive.google.com/drive/folders/1D3X1miEQJPHbUqYK4NwASJjp1yr2-04j', mime_str='application/vnd.google-apps.folder', mime_type='folder', download_factory=None, parent_ls=None),\n",
       " GDoc_File(doc_id='1m48jciWr2iZqwnhN7rezM8_GposSDZhGwQhsIdRqLJg', doc_name='test_subfolder', modified_time=datetime.datetime(2023, 8, 17, 21, 1, 6, 479000, tzinfo=tzutc()), url='https://docs.google.com/document/d/1m48jciWr2iZqwnhN7rezM8_GposSDZhGwQhsIdRqLJg/edit?usp=drivesdk', mime_str='application/vnd.google-apps.document', mime_type='gdoc', download_factory=None, parent_ls=None),\n",
       " GDoc_File(doc_id='1I76uOv-e1yVjQ86Rl1OpGs_JwdUXxfU42b4JKy4KxvY', doc_name='sub sub test', modified_time=datetime.datetime(2023, 11, 27, 20, 50, 4, 143000, tzinfo=tzutc()), url='https://docs.google.com/document/d/1I76uOv-e1yVjQ86Rl1OpGs_JwdUXxfU42b4JKy4KxvY/edit?usp=drivesdk', mime_str='application/vnd.google-apps.document', mime_type='gdoc', download_factory=None, parent_ls=None)]"
      ]
     },
     "execution_count": 8,
     "metadata": {},
     "output_type": "execute_result"
    }
   ],
   "source": [
    "FOLDER_ID = \"1SRrD1dNgZgHYjnhkJtARbLhydMP94qWi\"\n",
    "\n",
    "# generates Credentials object\n",
    "google_auth = ga.GoogleAuth.get_creds_from_env(\n",
    "    credentials_env_key=\"GDOC_KEY\", token_env_key=\"GDOC_TOKEN\"\n",
    ")\n",
    "\n",
    "gdoc_files = GDoc_Files(auth=google_auth)\n",
    "gdoc_files.get_files(folder_id=FOLDER_ID, is_recursive=True)"
   ]
  },
  {
   "cell_type": "code",
   "execution_count": 9,
   "metadata": {},
   "outputs": [],
   "source": [
    "# | hide\n",
    "import nbdev\n",
    "\n",
    "nbdev.nbdev_export()"
   ]
  }
 ],
 "metadata": {
  "kernelspec": {
   "display_name": "python3",
   "language": "python",
   "name": "python3"
  },
  "language_info": {
   "codemirror_mode": {
    "name": "ipython",
    "version": 3
   },
   "file_extension": ".py",
   "mimetype": "text/x-python",
   "name": "python",
   "nbconvert_exporter": "python",
   "pygments_lexer": "ipython3",
   "version": "3.10.12"
  }
 },
 "nbformat": 4,
 "nbformat_minor": 4
}
