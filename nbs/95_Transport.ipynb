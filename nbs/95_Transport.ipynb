{
 "cells": [
  {
   "attachments": {},
   "cell_type": "markdown",
   "metadata": {},
   "source": [
    "# Transport\n",
    "> a series of classes to simplify asynchronous and synchronous API requests"
   ]
  },
  {
   "cell_type": "code",
   "execution_count": null,
   "metadata": {},
   "outputs": [],
   "source": [
    "# | default_exp Transport\n"
   ]
  },
  {
   "cell_type": "code",
   "execution_count": null,
   "metadata": {},
   "outputs": [],
   "source": [
    "# | hide\n",
    "from nbdev.showdoc import show_doc\n"
   ]
  },
  {
   "cell_type": "code",
   "execution_count": null,
   "metadata": {},
   "outputs": [],
   "source": [
    "# | export\n",
    "from fastcore.basics import patch_to\n",
    "from fastcore.test import test_eq\n",
    "\n",
    "from dataclasses import dataclass, field\n",
    "from enum import Enum\n",
    "\n",
    "from abc import abstractmethod\n",
    "\n",
    "from typing import Optional, Union\n",
    "\n",
    "from requests_toolbelt.utils import dump\n",
    "import json\n",
    "\n",
    "import requests\n",
    "\n",
    "import aiohttp\n",
    "import asyncio\n",
    "\n",
    "from nbdev_domo.ResponseGetData import ResponseGetData\n"
   ]
  },
  {
   "attachments": {},
   "cell_type": "markdown",
   "metadata": {},
   "source": [
    "# Transport Methods by Library\n",
    "\n",
    "This code base supports two API request libraries, `requests.request` (synchronous) and `aiohttp.ClientRequest` (asynchronous) this can be extended as new libraries emerge with different performance characteristics."
   ]
  },
  {
   "cell_type": "code",
   "execution_count": null,
   "metadata": {},
   "outputs": [],
   "source": [
    "# | exporti\n",
    "class RequestTransport:\n",
    "    \"\"\"\n",
    "    The `RequestTransport` abstract base class adds consistency to the transport methods with consistent methods for \n",
    "    generating headers, as well as generating requests from APIs.\n",
    "    \"\"\"\n",
    "\n",
    "    def __init__(self, auth_header: Optional[dict] = None,  # optional API authentication header\n",
    "                 # defalt timeout to prevent infinite loops\n",
    "                 request_timeout: Optional[int] = 10\n",
    "                 ):\n",
    "\n",
    "        self.auth_header = auth_header\n",
    "        self.request_timeout = request_timeout\n",
    "\n",
    "    @abstractmethod\n",
    "    def _request() -> ResponseGetData:\n",
    "        \"\"\"Because each library has their own request methods, _request will be implemented in the interface classes of RequestTransport\"\"\"\n",
    "        pass\n",
    "\n",
    "    def dump_response(self, response):\n",
    "        data = dump.dump_all(response)\n",
    "        return str(data.decode('utf-8'))\n",
    "\n",
    "    @staticmethod\n",
    "    def _obj_to_json(obj):\n",
    "        return json.dumps(obj, default=str)\n",
    "\n",
    "    def _headers_default_receive_json(self):\n",
    "        headers = {'Accept': 'application/json'}\n",
    "        if self.auth_header:\n",
    "            headers.update(self.auth_header)\n",
    "        return headers\n",
    "\n",
    "    def _headers_receive_csv(self):\n",
    "        headers = self._headers_default_receive_json()\n",
    "        headers['Accept'] = 'text/csv'\n",
    "        return headers\n",
    "\n",
    "    def _headers_send_json(self):\n",
    "        headers = self._headers_default_receive_json()\n",
    "        headers['Content-Type'] = 'application/json'\n",
    "        return headers\n",
    "\n",
    "    def _headers_send_csv(self):\n",
    "        headers = self._headers_default_receive_json()\n",
    "        headers['Content-Type'] = 'text/csv'\n",
    "        return headers\n",
    "\n",
    "    def _headers_send_gzip(self):\n",
    "        headers = self._headers_default_receive_json()\n",
    "        headers['Content-Type'] = 'text/csv'\n",
    "        headers['Content-Encoding'] = 'gzip'\n",
    "        return headers\n"
   ]
  },
  {
   "cell_type": "code",
   "execution_count": null,
   "metadata": {},
   "outputs": [],
   "source": [
    "# if users pass auth_header to RequestTransport will be added to all auth requests\n",
    "\n",
    "rt = RequestTransport(auth_header={'x-domo-authentication': '123'})\n",
    "headers = rt._headers_default_receive_json()\n",
    "\n",
    "# validate headers include authentication header\n",
    "test_eq(headers.keys(), ['Accept', 'x-domo-authentication'])\n",
    "\n",
    "# validate timeout defaults to 10 seconds\n",
    "test_eq(rt.request_timeout, 10)\n"
   ]
  },
  {
   "cell_type": "code",
   "execution_count": null,
   "metadata": {},
   "outputs": [],
   "source": [
    "# | exporti\n",
    "class HTTPMethod(Enum):\n",
    "    \"\"\"utility class used by RequestTransport to enumerate HTTP methods\"\"\"\n",
    "\n",
    "    GET = 'GET'\n",
    "    POST = 'POST'\n",
    "    PUT = 'PUT'\n",
    "    PATCH = 'PATCH'\n",
    "    DELETE = 'DELETE'\n"
   ]
  },
  {
   "cell_type": "code",
   "execution_count": null,
   "metadata": {},
   "outputs": [],
   "source": [
    "# | exporti\n",
    "# Each method establishes the appropriate headers before calling the request method.\n",
    "\n",
    "\n",
    "@patch_to(RequestTransport)\n",
    "def get(self, url, params=None, request_timeout: Optional[int] = None, session: Optional[aiohttp.ClientSession] = None):\n",
    "    if request_timeout:\n",
    "        self.request_timeout = request_timeout\n",
    "\n",
    "    headers = self._headers_default_receive_json()\n",
    "    return self._request(url, HTTPMethod.GET, headers, params, session=session)\n",
    "\n",
    "\n",
    "@patch_to(RequestTransport)\n",
    "def get_csv(self, url, params=None, request_timeout: Optional[int] = None, session: Optional[aiohttp.ClientSession] = None):\n",
    "    if request_timeout:\n",
    "        self.request_timeout = request_timeout\n",
    "\n",
    "    headers = self._headers_receive_csv()\n",
    "    return self._request(url, HTTPMethod.GET, headers, params, session=session)\n",
    "\n",
    "\n",
    "@patch_to(RequestTransport)\n",
    "def post(self, url, body, params=None, request_timeout: Optional[int] = None, session: Optional[aiohttp.ClientSession] = None) -> ResponseGetData:\n",
    "    if request_timeout:\n",
    "        self.request_timeout = request_timeout\n",
    "\n",
    "    headers = self._headers_send_json()\n",
    "    return self._request(url, HTTPMethod.POST, headers, params,\n",
    "                         self._obj_to_json(body), session=session)\n",
    "\n",
    "\n",
    "@patch_to(RequestTransport)\n",
    "def put(self, url, body, request_timeout: Optional[int] = None, session: Optional[aiohttp.ClientSession] = None):\n",
    "    if request_timeout:\n",
    "        self.request_timeout = request_timeout\n",
    "\n",
    "    headers = self._headers_send_json()\n",
    "    return self._request(url, HTTPMethod.PUT, headers, {},\n",
    "                         self._obj_to_json(body), session=session)\n",
    "\n",
    "\n",
    "@patch_to(RequestTransport)\n",
    "def put_csv(self, url, body, request_timeout: Optional[int] = None, session: Optional[aiohttp.ClientSession] = None):\n",
    "    if request_timeout:\n",
    "        self.request_timeout = request_timeout\n",
    "\n",
    "    headers = self._headers_send_csv()\n",
    "    return self._request(url, HTTPMethod.PUT, headers, {}, body, session=session)\n",
    "\n",
    "\n",
    "@patch_to(RequestTransport)\n",
    "def put_gzip(self, url, body, request_timeout: Optional[int] = None, session: Optional[aiohttp.ClientSession] = None):\n",
    "    if request_timeout:\n",
    "        self.request_timeout = request_timeout\n",
    "\n",
    "    headers = self._headers_send_gzip()\n",
    "    return self._request(url, HTTPMethod.PUT, headers, {}, body, session=session)\n",
    "\n",
    "\n",
    "@patch_to(RequestTransport)\n",
    "def patch(self, url, body, request_timeout: Optional[int] = None, session: Optional[aiohttp.ClientSession] = None):\n",
    "    if request_timeout:\n",
    "        self.request_timeout = request_timeout\n",
    "\n",
    "    headers = self._headers_send_json()\n",
    "    return self._request(url, HTTPMethod.PATCH, headers, {},\n",
    "                         self._obj_to_json(body), session=session)\n",
    "\n",
    "\n",
    "@patch_to(RequestTransport)\n",
    "def delete(self, url, request_timeout: Optional[int] = None, session: Optional[aiohttp.ClientSession] = None):\n",
    "    if request_timeout:\n",
    "        self.request_timeout = request_timeout\n",
    "\n",
    "    headers = self._headers_default_receive_json()\n",
    "    return self._request(url, HTTPMethod.DELETE, headers, session=session)\n"
   ]
  },
  {
   "attachments": {},
   "cell_type": "markdown",
   "metadata": {},
   "source": [
    "## Requests.request - for synchronous code execution\n",
    "The `TransportSync` class is a simple wrapper for `requests.request`"
   ]
  },
  {
   "cell_type": "code",
   "execution_count": null,
   "metadata": {},
   "outputs": [],
   "source": [
    "# | export\n",
    "class TransportSync(RequestTransport):\n",
    "    def __init__(self, auth_header: Optional[dict] = None,  # for API Authentication\n",
    "                 request_timeout: int = 10  # for default timeout to prevent infinite loops\n",
    "                 ):\n",
    "        super().__init__(auth_header=auth_header, request_timeout=request_timeout)\n",
    "\n",
    "    def _request(self,\n",
    "                 url: str,\n",
    "                 method: HTTPMethod,\n",
    "                 headers: dict,\n",
    "                 params: dict = field(default_factory=dict),\n",
    "                 body: Union[str, dict, None] = None, **kwargs\n",
    "                 ):\n",
    "\n",
    "        # self.logger.debug('{} {} {}'.format(method, url, body))\n",
    "\n",
    "        request_args = {'method': method.value,\n",
    "                        'url': url,\n",
    "                        'headers': headers,\n",
    "                        'params': params,\n",
    "                        'data': body,\n",
    "                        'stream': True}\n",
    "\n",
    "        if self.request_timeout:\n",
    "            request_args['timeout'] = self.request_timeout\n",
    "\n",
    "        res = requests.request(**request_args)\n",
    "        return ResponseGetData._from_requests_response(res=res, auth_header=self.auth_header)\n"
   ]
  },
  {
   "attachments": {},
   "cell_type": "markdown",
   "metadata": {},
   "source": [
    "#### Sample implementation of TransportSync"
   ]
  },
  {
   "cell_type": "code",
   "execution_count": null,
   "metadata": {},
   "outputs": [],
   "source": [
    "ts = TransportSync(auth_header={'x-domo-authentication': '123'})\n",
    "\n",
    "test_eq(isinstance(ts, TransportSync), True)\n",
    "\n",
    "get_res = ts.get(\n",
    "    url='http://www.thecocktaildb.com/api/json/v1/1/search.php?s=margarita')\n",
    "\n",
    "# test for a 200 status\n",
    "test_eq(get_res.status, 200)\n",
    "\n",
    "# validate that the response object includes the sent headers\n",
    "test_eq(get_res.auth_header.keys(), ['x-domo-authentication'])\n"
   ]
  },
  {
   "attachments": {},
   "cell_type": "markdown",
   "metadata": {},
   "source": [
    "## Asyncio.session - for asynchronous code execution\n",
    "\n",
    "The `TransportAsync` class is a wrapper for `aiohttp`'s ClientSession and ClientResponse implementations.  Notice the use of ```async/await``` in the code samples\n"
   ]
  },
  {
   "cell_type": "code",
   "execution_count": null,
   "metadata": {},
   "outputs": [],
   "source": [
    "# | export\n",
    "class TransportAsync(RequestTransport):\n",
    "    \"\"\"wrapper for aiohttp.ClientSession and aiohttp.ClientResponse for handling asynchronous code execution.  In the event of request_timeout, will default to synchronous code execution via requests.request library\"\"\"\n",
    "\n",
    "    def __init__(self,\n",
    "                 # API Authentication header\n",
    "                 auth_header: Optional[dict] = None,\n",
    "                 request_timeout: int = 10,  # request timeout to prevent infinite loops\n",
    "                 session: Optional[aiohttp.ClientSession] = None\n",
    "                 ):\n",
    "\n",
    "        self.session = session\n",
    "        super().__init__(auth_header=auth_header, request_timeout=request_timeout)\n",
    "\n",
    "    async def _request(self,\n",
    "                       url: str,\n",
    "                       method: HTTPMethod,\n",
    "                       headers: dict,\n",
    "                       params: dict = field(default_factory=dict),\n",
    "                       body: Union[str, dict, None] = None,\n",
    "                       session: Optional[aiohttp.ClientSession] = None,\n",
    "                       ):\n",
    "\n",
    "        session = session or self.session\n",
    "\n",
    "        if session is None:\n",
    "            is_close_session = True\n",
    "            session = aiohttp.ClientSession()\n",
    "        else:\n",
    "            is_close_session = False\n",
    "\n",
    "        # self.logger.debug('{} {} {}'.format(method, url, body))\n",
    "\n",
    "        request_args = {'url': url,\n",
    "                        'headers': headers,\n",
    "                        'params': params,\n",
    "                        'data': body}\n",
    "\n",
    "        try:\n",
    "            res = await getattr(session, method.value.lower())(\n",
    "                timeout=aiohttp.ClientTimeout(total=self.request_timeout),\n",
    "                **request_args)\n",
    "\n",
    "            return await ResponseGetData._from_aiohttp_response(res, auth_header=self.auth_header)\n",
    "\n",
    "        except asyncio.TimeoutError as e:\n",
    "            print('defaulting to sync request.  TimeoutError')\n",
    "\n",
    "            res = requests.request(\n",
    "                method=method.value,\n",
    "                timeout=self.request_timeout,\n",
    "                **request_args)\n",
    "\n",
    "            return ResponseGetData._from_requests_response(res, auth_header=self.auth_header)\n",
    "\n",
    "        finally:\n",
    "            if is_close_session:\n",
    "                await session.close()\n"
   ]
  },
  {
   "cell_type": "markdown",
   "metadata": {},
   "source": [
    "#### Basic implementation of TransportAsync"
   ]
  },
  {
   "cell_type": "code",
   "execution_count": null,
   "metadata": {},
   "outputs": [
    {
     "data": {
      "text/plain": [
       "'11007'"
      ]
     },
     "execution_count": null,
     "metadata": {},
     "output_type": "execute_result"
    }
   ],
   "source": [
    "tas = TransportAsync(auth_header={'x-domo-authentication': '123'})\n",
    "test_eq(isinstance(tas, TransportAsync), True)\n",
    "\n",
    "get_res = await tas.get(url='http://www.thecocktaildb.com/api/json/v1/1/search.php?s=margarita', request_timeout=10)\n",
    "\n",
    "get_res.response.get('drinks')[0].get('idDrink')\n",
    "\n",
    "# test for a 200 status\n",
    "test_eq(get_res.status, 200)\n",
    "\n",
    "# validate that the response object includes the sent headers\n",
    "test_eq(get_res.auth_header.keys(), ['x-domo-authentication'])\n",
    "\n",
    "get_res.response.get('drinks')[0].get('idDrink')\n"
   ]
  },
  {
   "attachments": {},
   "cell_type": "markdown",
   "metadata": {},
   "source": [
    "#### Sample implementation of TransportAsync with loop\n",
    "To LOOP over asynchronous code blocks, take advantage of `asyncio.gather()`\n",
    "\n",
    "1. Notice how the ```get_drink()``` function implements what would usually be contained within the FOR LOOP allowing us to implement a list comprehension.  The ```asyncio.sleep()``` function highlights the fact that we are retrieving all the requests simultaneously.\n",
    "\n",
    "2. Use ```await asyncio.gather( * [list_of_asynchronous_functions])``` forces the code to wait till all the APIs have returned a response before proceeding to the final step of printing the results.\n",
    "\n",
    "3. Each ```.get()``` request returns a `ResponseGetData` object.  We can test ```iif(ResponseGetData.is_success)``` to validate having received a 200 response.  The response contenent will always be in the .response attribute."
   ]
  },
  {
   "cell_type": "code",
   "execution_count": null,
   "metadata": {},
   "outputs": [
    {
     "name": "stdout",
     "output_type": "stream",
     "text": [
      "getting - \"http://www.thecocktaildb.com/api/json/v1/1/search.php?s=margarita\"\n",
      "getting - \"http://www.thecocktaildb.com/api/json/v1/1/search.php?s=old fashioned\"\n",
      "getting - \"http://www.thecocktaildb.com/api/json/v1/1/search.php?s=gin and tonic\"\n",
      "getting - \"http://www.thecocktaildb.com/api/json/v1/1/search.php?s=screwdriver\"\n",
      "getting - \"http://www.thecocktaildb.com/api/json/v1/1/search.php?s=vodka tonic\"\n",
      "11007\n",
      "11118\n",
      "17216\n",
      "16158\n",
      "12322\n",
      "178332\n",
      "11001\n",
      "11403\n",
      "12162\n",
      "12091\n",
      "178364\n"
     ]
    }
   ],
   "source": [
    "async def get_drink(drink_name: str):\n",
    "    url = f'http://www.thecocktaildb.com/api/json/v1/1/search.php?s={drink_name}'\n",
    "    print(f'getting - \"{url}\"')\n",
    "\n",
    "    await(asyncio.sleep(2))\n",
    "    return await tas.get(url=url)\n",
    "\n",
    "drink_names = ['margarita', 'old fashioned',\n",
    "               'gin and tonic', 'screwdriver', 'vodka tonic']\n",
    "\n",
    "drinks_requests = await asyncio.gather(\n",
    "    * [get_drink(drink_name) for drink_name in drink_names]\n",
    ")\n",
    "\n",
    "for drink in drinks_requests:\n",
    "    [print(drink_match.get('idDrink'))\n",
    "     for drink_match in drink.response.get('drinks') if drink.is_success]\n"
   ]
  }
 ],
 "metadata": {
  "kernelspec": {
   "display_name": "Python 3",
   "language": "python",
   "name": "python3"
  },
  "language_info": {
   "name": "python",
   "version": "3.10.4 (main, Nov 29 2022, 20:00:25) [GCC 9.4.0]"
  },
  "vscode": {
   "interpreter": {
    "hash": "3ad933181bd8a04b432d3370b9dc3b0662ad032c4dfaa4e4f1596c548f763858"
   }
  }
 },
 "nbformat": 4,
 "nbformat_minor": 2
}
