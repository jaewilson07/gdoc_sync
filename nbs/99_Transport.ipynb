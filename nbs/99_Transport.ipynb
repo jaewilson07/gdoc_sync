{
 "cells": [
  {
   "cell_type": "code",
   "execution_count": 56,
   "metadata": {},
   "outputs": [
    {
     "name": "stdout",
     "output_type": "stream",
     "text": [
      "Defaulting to user installation because normal site-packages is not writeable\n",
      "Requirement already satisfied: requests_toolbelt in c:\\users\\jwilson1\\appdata\\roaming\\python\\python39\\site-packages (0.10.1)\n",
      "Requirement already satisfied: requests<3.0.0,>=2.0.1 in c:\\programdata\\miniconda3\\lib\\site-packages (from requests_toolbelt) (2.27.1)\n",
      "Requirement already satisfied: urllib3<1.27,>=1.21.1 in c:\\programdata\\miniconda3\\lib\\site-packages (from requests<3.0.0,>=2.0.1->requests_toolbelt) (1.26.8)\n",
      "Requirement already satisfied: charset-normalizer~=2.0.0 in c:\\programdata\\miniconda3\\lib\\site-packages (from requests<3.0.0,>=2.0.1->requests_toolbelt) (2.0.4)\n",
      "Requirement already satisfied: certifi>=2017.4.17 in c:\\programdata\\miniconda3\\lib\\site-packages (from requests<3.0.0,>=2.0.1->requests_toolbelt) (2022.9.24)\n",
      "Requirement already satisfied: idna<4,>=2.5 in c:\\programdata\\miniconda3\\lib\\site-packages (from requests<3.0.0,>=2.0.1->requests_toolbelt) (3.3)\n",
      "Note: you may need to restart the kernel to use updated packages.\n"
     ]
    }
   ],
   "source": [
    "%pip install requests_toolbelt"
   ]
  },
  {
   "cell_type": "code",
   "execution_count": 57,
   "metadata": {},
   "outputs": [],
   "source": [
    "from fastcore.basics import patch_to\n",
    "from fastcore.test import test_eq\n",
    "\n",
    "import logging\n",
    "\n",
    "from abc import ABC, abstractmethod\n",
    "from dataclasses import dataclass\n",
    "\n",
    "from requests_toolbelt.utils import dump\n",
    "import json\n",
    "\n",
    "import requests\n",
    "\n",
    "import aiohttp\n",
    "import asyncio\n"
   ]
  },
  {
   "cell_type": "code",
   "execution_count": 58,
   "metadata": {},
   "outputs": [],
   "source": [
    "@dataclass\n",
    "class ResponseGetData:\n",
    "    \"\"\"return this object from any API route\n",
    "    \"\"\"\n",
    "\n",
    "    status: int  # api status\n",
    "    response: any  # response from api\n",
    "    is_success: bool\n",
    "\n",
    "    @classmethod\n",
    "    def _from_requests_response(cls, res : requests.Response):\n",
    "        \"\"\" returns ResponseGetData from requests.Response\"\"\"\n",
    "\n",
    "        if res.ok and \"application/json\" in res.headers.get(\"Content-Type\", {}):\n",
    "            return ResponseGetData(\n",
    "                status = res.status_code, \n",
    "                response = res.json(),\n",
    "                is_success=True\n",
    "            )\n",
    "\n",
    "        elif res.ok:\n",
    "            return ResponseGetData(\n",
    "                status=res.status_code,\n",
    "                response=response.text,\n",
    "                is_success=True\n",
    "            )\n",
    "        \n",
    "        return ResponseGetData(\n",
    "            status=res.status_code,\n",
    "            response=res.reason,\n",
    "            is_success=False\n",
    "        )\n",
    "    \n",
    "    @classmethod\n",
    "    async def _from_aihottp_response(cls, res: aiohttp.ClientResponse):\n",
    "        \"\"\" returns ResponseGetData from asyncronous aiohttp.Client.Response\"\"\"\n",
    "        if (\n",
    "            res.status == 200\n",
    "            and hasattr(res, \"headers\")\n",
    "            and res.headers.get(\"Content-Type\")\n",
    "            and \"application/json\" in res.headers.get(\"Content-Type\")\n",
    "        ):\n",
    "\n",
    "            # handle if unable to decode json()\n",
    "            try:\n",
    "                return ResponseGetData(\n",
    "                    status=res.status, response=await res.json(), is_success=True\n",
    "                )\n",
    "\n",
    "            except Exception as e:\n",
    "                print(e)\n",
    "                print(\"response included json, but defaulted to backup decode method\")\n",
    "\n",
    "                response = await res.read()\n",
    "                return ResponseGetData(\n",
    "                    status=res.status, response=response.decode(), is_success=True\n",
    "                )\n",
    "        # response is text\n",
    "        elif res.status == 200:\n",
    "            return ResponseGetData(\n",
    "                status=res.status, response=await res.text(), is_success=True\n",
    "            )\n",
    "\n",
    "        # response is error\n",
    "        else:\n",
    "            return ResponseGetData(status=res.status, response=res.reason, is_success=False)"
   ]
  },
  {
   "cell_type": "code",
   "execution_count": 59,
   "metadata": {},
   "outputs": [
    {
     "data": {
      "text/plain": [
       "ResponseGetData(status=200, response='test', is_success=True)"
      ]
     },
     "execution_count": 59,
     "metadata": {},
     "output_type": "execute_result"
    }
   ],
   "source": [
    "rgd = ResponseGetData(status = 200, response = \"test\", is_success = True)\n",
    "\n",
    "test_eq(rgd.is_success , True)\n",
    "\n",
    "rgd"
   ]
  },
  {
   "attachments": {},
   "cell_type": "markdown",
   "metadata": {},
   "source": [
    "# Transport Methods by Library\n",
    "\n",
    "This code base supports two API request libraries, `requests.request` (synchronous) and `aiohttp.ClientRequest` (asynchronous) this can be extended as new libraries emerge with different performance characteristics.\n",
    "\n",
    "The `RequestTransport` abstract base class adds consistency to the transport methods with consistent methods for generating headers, as well as generating requests from APIs."
   ]
  },
  {
   "cell_type": "code",
   "execution_count": 60,
   "metadata": {},
   "outputs": [],
   "source": [
    "class RequestTransport(ABC):\n",
    "    \"\"\"Universal transport for handling API request headers\n",
    "    \"\"\"\n",
    "\n",
    "    def __init__(self, \n",
    "                 request_timeout : int = None # set request timeout\n",
    "                 ):\n",
    "        logger = logging.getLogger('dcdomo')\n",
    "        logger.setLevel(logging.WARNING)\n",
    "        self.logger = logging\n",
    "        self.request_timeout = request_timeout\n",
    "        self.default_timeout = 10\n",
    "\n",
    "    @abstractmethod\n",
    "    def _request() -> ResponseGetData:\n",
    "        \"\"\"sends request to an API\"\"\"\n",
    "        pass\n",
    "\n",
    "    def dump_response(self, response):\n",
    "        data = dump.dump_all(response)\n",
    "        return str(data.decode('utf-8'))\n",
    "\n",
    "\n",
    "    @staticmethod\n",
    "    def _obj_to_json(obj):\n",
    "        return json.dumps(obj, default=str)\n",
    "\n",
    "    def _headers_default_receive_json(self):\n",
    "        return { 'Accept': 'application/json' }\n",
    "    \n",
    "    def _headers_receive_csv(self):\n",
    "        headers = self._headers_default_receive_json()\n",
    "        headers['Accept'] = 'text/csv'\n",
    "        return headers\n",
    "\n",
    "    def _headers_send_json(self):\n",
    "        headers = self._headers_default_receive_json()\n",
    "        headers['Content-Type'] = 'application/json'\n",
    "        return headers\n",
    "\n",
    "    def _headers_send_csv(self):\n",
    "        headers = self._headers_default_receive_json()\n",
    "        headers['Content-Type'] = 'text/csv'\n",
    "        return headers\n",
    "\n",
    "    def _headers_send_gzip(self):\n",
    "        headers = self._headers_default_receive_json()\n",
    "        headers['Content-Type'] = 'text/csv'\n",
    "        headers['Content-Encoding'] = 'gzip'\n",
    "        return headers\n",
    "\n"
   ]
  },
  {
   "attachments": {},
   "cell_type": "markdown",
   "metadata": {},
   "source": [
    "### RequestTransport request methods\n",
    "\n",
    "Each method establishes the appropriate headers before calling the request method.\n",
    "\n",
    "Implements request methods.  The hidden ```._request()``` method will be determined by the Transport method (synchronous or asynchronous)."
   ]
  },
  {
   "cell_type": "code",
   "execution_count": 61,
   "metadata": {},
   "outputs": [],
   "source": [
    "class HTTPMethod:\n",
    "    \"\"\"utility class used by RequestTransport to enumerate HTTP methods\"\"\"\n",
    "\n",
    "    GET = 'GET'\n",
    "    POST = 'POST'\n",
    "    PUT = 'PUT'\n",
    "    PATCH = 'PATCH'\n",
    "    DELETE = 'DELETE'"
   ]
  },
  {
   "cell_type": "code",
   "execution_count": 62,
   "metadata": {},
   "outputs": [],
   "source": [
    "@patch_to(RequestTransport)\n",
    "def get(self, url, params = None , request_timeout : int = None):\n",
    "    if request_timeout:\n",
    "        self.request_timeout = request_timeout\n",
    "\n",
    "    headers = self._headers_default_receive_json()\n",
    "    return self._request(url, HTTPMethod.GET, headers, params)\n",
    "\n",
    "@patch_to(RequestTransport)\n",
    "def get_csv(self, url, params, request_timeout : int = None):\n",
    "    if request_timeout:\n",
    "        self.request_timeout = request_timeout\n",
    "\n",
    "    headers = self._headers_receive_csv()\n",
    "    return self._request(url, HTTPMethod.GET, headers, params)\n",
    "\n",
    "@patch_to(RequestTransport)\n",
    "def post(self, url, body, params, request_timeout : int = None) -> ResponseGetData:\n",
    "    if request_timeout:\n",
    "        self.request_timeout = request_timeout\n",
    "\n",
    "    headers = self._headers_send_json()\n",
    "    return self._request(url, HTTPMethod.POST, headers, params,\n",
    "                        self._obj_to_json(body))\n",
    "\n",
    "@patch_to(RequestTransport)\n",
    "def put(self, url, body ,request_timeout : int = None ):\n",
    "    if request_timeout:\n",
    "        self.request_timeout = request_timeout\n",
    "\n",
    "    headers = self._headers_send_json()\n",
    "    return self._request(url, HTTPMethod.PUT, headers, {},\n",
    "                        self._obj_to_json(body))\n",
    "\n",
    "@patch_to(RequestTransport)\n",
    "def put_csv(self, url, body, request_timeout : int = None):\n",
    "    if request_timeout:\n",
    "        self.request_timeout = request_timeout\n",
    "\n",
    "    headers = self._headers_send_csv()\n",
    "    return self._request(url, HTTPMethod.PUT, headers, {}, body)\n",
    "\n",
    "@patch_to(RequestTransport)\n",
    "def put_gzip(self, url, body, request_timeout : int = None):\n",
    "    if request_timeout:\n",
    "        self.request_timeout = request_timeout\n",
    "\n",
    "    headers = self._headers_send_gzip()\n",
    "    return self._request(url, HTTPMethod.PUT, headers, {}, body)\n",
    "\n",
    "@patch_to(RequestTransport)\n",
    "def patch(self, url, body, request_timeout : int = None):\n",
    "    if request_timeout:\n",
    "        self.request_timeout = request_timeout\n",
    "\n",
    "    headers = self._headers_send_json()\n",
    "    return self._request(url, HTTPMethod.PATCH, headers, {},\n",
    "                        self._obj_to_json(body))\n",
    "\n",
    "@patch_to(RequestTransport)\n",
    "def delete(self, url, request_timeout : int = None):\n",
    "    if request_timeout:\n",
    "        self.request_timeout = request_timeout\n",
    "\n",
    "    headers = self._headers_default_receive_json()\n",
    "    return self._request(url, HTTPMethod.DELETE, headers)"
   ]
  },
  {
   "attachments": {},
   "cell_type": "markdown",
   "metadata": {},
   "source": [
    "## Synchronous Code Execution\n",
    "The `TransportSync` class is a simple wrapper for `requests.request`"
   ]
  },
  {
   "cell_type": "code",
   "execution_count": 63,
   "metadata": {},
   "outputs": [],
   "source": [
    "class TransportSync(RequestTransport):\n",
    "    def __init__(self):\n",
    "        super().__init__()\n",
    "\n",
    "    def _request(self,\n",
    "                url : str,\n",
    "                method : HTTPMethod,\n",
    "                headers : dict ,\n",
    "                params : dict = None,\n",
    "                body : str or dict = None):\n",
    "\n",
    "        self.logger.debug('{} {} {}'.format(method, url, body))\n",
    "\n",
    "        request_args = {'method': method, \n",
    "                        'url': url,\n",
    "                        'headers': headers,\n",
    "                        'params': params,\n",
    "                        'data': body,\n",
    "                        'stream': True}\n",
    "\n",
    "        if self.request_timeout:\n",
    "            request_args['timeout'] = self.request_timeout\n",
    "\n",
    "        res = requests.request(**request_args)\n",
    "        return ResponseGetData._from_requests_response(res)"
   ]
  },
  {
   "cell_type": "code",
   "execution_count": 64,
   "metadata": {},
   "outputs": [],
   "source": [
    "ts = TransportSync()\n",
    "\n",
    "test_eq(isinstance(ts, TransportSync), True)\n",
    "\n",
    "get_res = ts.get(url = 'http://www.thecocktaildb.com/api/json/v1/1/search.php?s=margarita')\n",
    "\n",
    "test_eq(get_res.status, 200)"
   ]
  },
  {
   "attachments": {},
   "cell_type": "markdown",
   "metadata": {},
   "source": [
    "\n",
    "## Asynchronous Code Execution\n",
    "\n",
    "The `TransportAsync` class is a wrapper for `aiohttp`'s ClientSession and ClientResponse implementations.  Notice the use of ```async/await``` in the code samples\n"
   ]
  },
  {
   "cell_type": "code",
   "execution_count": 65,
   "metadata": {},
   "outputs": [],
   "source": [
    "class TransportAsync(RequestTransport):\n",
    "    \"\"\"wrapper for aiohttp.ClientSession and aiohttp.ClientResponse for handling asynchronous code execution.  In the event of request_timeout, will default to synchronous code execution via requests.request library\"\"\"\n",
    "    \n",
    "    def __init__(self):\n",
    "        super().__init__()\n",
    "\n",
    "    async def _request(self,\n",
    "                url : str,\n",
    "                method : HTTPMethod,\n",
    "                headers : dict ,\n",
    "                params : dict = None,\n",
    "                body : str or dict = None,\n",
    "                session : aiohttp.ClientSession = None,\n",
    "                ):\n",
    "\n",
    "        if session is None:\n",
    "            is_close_session = True\n",
    "            session = aiohttp.ClientSession()\n",
    "        else:\n",
    "            is_close_session = False\n",
    "        \n",
    "        self.logger.debug('{} {} {}'.format(method, url, body))\n",
    "\n",
    "        request_args = {'url': url,\n",
    "                        'headers': headers,\n",
    "                        'params': params,\n",
    "                        'data': body}\n",
    "\n",
    "        try:\n",
    "            res = await getattr(session, method.lower())(\n",
    "                timeout = aiohttp.ClientTimeout(total = self.request_timeout),\n",
    "                **request_args )\n",
    "            \n",
    "            return await ResponseGetData._from_aihottp_response(res)\n",
    "        \n",
    "        except asyncio.TimeoutError as e:\n",
    "            print('defaulting to sync request.  TimeoutError')\n",
    "            \n",
    "            res = requests.request(\n",
    "                method = method, \n",
    "                timeout = self.default_timeout,\n",
    "                **request_args)\n",
    "\n",
    "            return ResponseGetData._from_requests_response(res)\n",
    "        \n",
    "        finally:\n",
    "            if is_close_session:\n",
    "                await session.close()\n"
   ]
  },
  {
   "cell_type": "code",
   "execution_count": 66,
   "metadata": {},
   "outputs": [
    {
     "data": {
      "text/plain": [
       "'11007'"
      ]
     },
     "execution_count": 66,
     "metadata": {},
     "output_type": "execute_result"
    }
   ],
   "source": [
    "tas = TransportAsync()\n",
    "test_eq(isinstance(tas, TransportAsync), True)\n",
    "\n",
    "get_res = await tas.get(url = 'http://www.thecocktaildb.com/api/json/v1/1/search.php?s=margarita', request_timeout = 1)\n",
    "\n",
    "test_eq(get_res.status, 200)\n",
    "\n",
    "get_res.response.get('drinks')[0].get('idDrink')"
   ]
  },
  {
   "attachments": {},
   "cell_type": "markdown",
   "metadata": {},
   "source": [
    "To LOOP over asynchronous code blocks, take advantage of `asyncio.gather()`\n",
    "\n",
    "1. Notice how the ```get_drink()``` function implements what would usually be contained within the FOR LOOP allowing us to implement a list comprehension.  The ```asyncio.sleep()``` function highlights the fact that we are retrieving all the requests simultaneously.\n",
    "\n",
    "2. Use ```await asyncio.gather( * [list_of_asynchronous_functions])``` forces the code to wait till all the APIs have returned a response before proceeding to the final step of printing the results.\n",
    "\n",
    "3. Each ```.get()``` request returns a `ResponseGetData` object.  We can test ```iif(ResponseGetData.is_success)``` to validate having received a 200 response.  The response contenent will always be in the .response attribute."
   ]
  },
  {
   "cell_type": "code",
   "execution_count": 72,
   "metadata": {},
   "outputs": [
    {
     "ename": "NameError",
     "evalue": "name 'request_fn' is not defined",
     "output_type": "error",
     "traceback": [
      "\u001b[1;31m---------------------------------------------------------------------------\u001b[0m",
      "\u001b[1;31mNameError\u001b[0m                                 Traceback (most recent call last)",
      "Cell \u001b[1;32mIn[72], line 4\u001b[0m\n\u001b[0;32m      1\u001b[0m Token \u001b[39m=\u001b[39m \u001b[39mstr\u001b[39m\n\u001b[0;32m      2\u001b[0m AuthHeader \u001b[39m=\u001b[39m \u001b[39mdict\u001b[39m\n\u001b[1;32m----> 4\u001b[0m \u001b[39mclass\u001b[39;00m \u001b[39mDomoAuth\u001b[39;00m(ABC):\n\u001b[0;32m      5\u001b[0m     auth_header: \u001b[39mstr\u001b[39m \u001b[39m=\u001b[39m \u001b[39mNone\u001b[39;00m\n\u001b[0;32m      6\u001b[0m     auth_token: \u001b[39mstr\u001b[39m \u001b[39m=\u001b[39m \u001b[39mNone\u001b[39;00m\n",
      "Cell \u001b[1;32mIn[72], line 7\u001b[0m, in \u001b[0;36mDomoAuth\u001b[1;34m()\u001b[0m\n\u001b[0;32m      5\u001b[0m auth_header: \u001b[39mstr\u001b[39m \u001b[39m=\u001b[39m \u001b[39mNone\u001b[39;00m\n\u001b[0;32m      6\u001b[0m auth_token: \u001b[39mstr\u001b[39m \u001b[39m=\u001b[39m \u001b[39mNone\u001b[39;00m\n\u001b[1;32m----> 7\u001b[0m request_fn\n\u001b[0;32m     10\u001b[0m \u001b[39m@abstractmethod\u001b[39m\n\u001b[0;32m     11\u001b[0m \u001b[39mdef\u001b[39;00m \u001b[39mset_header\u001b[39m():\n\u001b[0;32m     12\u001b[0m     \u001b[39m\"\"\"sets a header on the `DomoAuth` class\"\"\"\u001b[39;00m\n",
      "\u001b[1;31mNameError\u001b[0m: name 'request_fn' is not defined"
     ]
    }
   ],
   "source": [
    "Token = str\n",
    "AuthHeader = dict\n",
    "\n",
    "class DomoAuth(ABC):\n",
    "    auth_header: str = None\n",
    "    auth_token: str = None\n",
    "    \n",
    "\n",
    "    @abstractmethod\n",
    "    def set_header():\n",
    "        \"\"\"sets a header on the `DomoAuth` class\"\"\"\n",
    "        pass\n",
    "\n",
    "    @abstractmethod\n",
    "    def get_auth_token() -> Token:\n",
    "        \"\"\"retrieves and sets an auth `Token` on `DomoAuth` class\"\"\"\n",
    "        pass\n",
    "\n",
    "class DomoFullAuth(DomoAuth):\n",
    "    def __init__(self, \n",
    "                 domo_username:str,\n",
    "                 domo_password:str,\n",
    "                 domo_instance:str):\n",
    "        self.domo_username = domo_username\n",
    "        self.domo_password = domo_password\n",
    "        self.domo_instance = domo_instance\n",
    "\n",
    "        super().__init__():\n",
    "        \n",
    "    async def get_auth_token(self) -> Token:\n",
    "        \n",
    "        url = f'https://{domo_instance}.domo.com/api/content/v2/authentication'\n",
    "\n",
    "        body = {\n",
    "            'method': 'password',\n",
    "            'emailAddress': domo_username,\n",
    "            'password': domo_password\n",
    "        }\n",
    "\n",
    "        tsa = TransportAsync()\n",
    "        res = await tsa.post(url = url, body = body)\n",
    "\n",
    "        if not tsa.is_succss:\n",
    "            return \n",
    "\n",
    "\n",
    "    def set_header(self ) -> AuthHeader:\n",
    "        auth_header = {'x-domo-authentication': self.auth_token }\n",
    "        \n",
    "        self.auth_header = auth_header\n",
    "        return auth_header\n",
    "\n",
    "\n",
    "\n",
    "def header_client_auth(access_token):\n",
    "    return {\n",
    "            'Authorization': 'bearer ' + access_token,\n",
    "        }\n",
    "\n",
    "\n",
    "def header_developer_auth(access_token):\n",
    "    return {\n",
    "            'x-domo-developer-token': access_token,\n",
    "        }\n"
   ]
  },
  {
   "cell_type": "code",
   "execution_count": null,
   "metadata": {},
   "outputs": [
    {
     "data": {
      "text/markdown": [
       "---\n",
       "\n",
       "### DomoFullAuth.set_header\n",
       "\n",
       ">      DomoFullAuth.set_header ()"
      ],
      "text/plain": [
       "---\n",
       "\n",
       "### DomoFullAuth.set_header\n",
       "\n",
       ">      DomoFullAuth.set_header ()"
      ]
     },
     "execution_count": 47,
     "metadata": {},
     "output_type": "execute_result"
    }
   ],
   "source": [
    "import nbdev\n",
    "nbdev.show_doc(DomoFullAuth.get_auth_token)\n",
    "\n",
    "nbdev.show_doc(DomoFullAuth.set_header)"
   ]
  },
  {
   "cell_type": "markdown",
   "metadata": {},
   "source": []
  },
  {
   "cell_type": "code",
   "execution_count": null,
   "metadata": {},
   "outputs": [
    {
     "name": "stdout",
     "output_type": "stream",
     "text": [
      "getting - \"http://www.thecocktaildb.com/api/json/v1/1/search.php?s=margarita\"\n",
      "getting - \"http://www.thecocktaildb.com/api/json/v1/1/search.php?s=old fashioned\"\n",
      "getting - \"http://www.thecocktaildb.com/api/json/v1/1/search.php?s=gin and tonic\"\n",
      "getting - \"http://www.thecocktaildb.com/api/json/v1/1/search.php?s=screwdriver\"\n",
      "getting - \"http://www.thecocktaildb.com/api/json/v1/1/search.php?s=vodka tonic\"\n",
      "11007\n",
      "11118\n",
      "17216\n",
      "16158\n",
      "12322\n",
      "178332\n",
      "11001\n",
      "11403\n",
      "12162\n",
      "12091\n",
      "178364\n"
     ]
    }
   ],
   "source": [
    "async def get_drink(drink_name: str):    \n",
    "    url = f'http://www.thecocktaildb.com/api/json/v1/1/search.php?s={drink_name}'\n",
    "    print(f'getting - \"{url}\"')\n",
    "\n",
    "    await(asyncio.sleep(2))    \n",
    "    return await tas.get(url = url)\n",
    "\n",
    "drink_names = ['margarita', 'old fashioned', 'gin and tonic', 'screwdriver', 'vodka tonic']\n",
    "\n",
    "drinks_requests = await asyncio.gather(\n",
    "    * [get_drink(drink_name) for drink_name in drink_names]\n",
    ")\n",
    "\n",
    "for drink in drinks_requests:\n",
    "    [ print(drink_match.get('idDrink')) for drink_match in drink.response.get('drinks') if drink.is_success ]\n",
    "        \n"
   ]
  }
 ],
 "metadata": {
  "kernelspec": {
   "display_name": "base",
   "language": "python",
   "name": "python3"
  },
  "language_info": {
   "codemirror_mode": {
    "name": "ipython",
    "version": 3
   },
   "file_extension": ".py",
   "mimetype": "text/x-python",
   "name": "python",
   "nbconvert_exporter": "python",
   "pygments_lexer": "ipython3",
   "version": "3.9.12"
  },
  "orig_nbformat": 4,
  "vscode": {
   "interpreter": {
    "hash": "19d1d53a962d236aa061289c2ac16dc8e6d9648c89fe79f459ae9a3493bc67b4"
   }
  }
 },
 "nbformat": 4,
 "nbformat_minor": 2
}
