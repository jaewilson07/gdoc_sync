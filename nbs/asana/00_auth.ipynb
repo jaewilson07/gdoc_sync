{
 "cells": [
  {
   "cell_type": "markdown",
   "metadata": {},
   "source": [
    "# Auth"
   ]
  },
  {
   "cell_type": "code",
   "execution_count": 1,
   "metadata": {},
   "outputs": [],
   "source": [
    "# | default_exp asana.auth"
   ]
  },
  {
   "cell_type": "code",
   "execution_count": 2,
   "metadata": {},
   "outputs": [],
   "source": [
    "# | exporti\n",
    "\n",
    "from __future__ import annotations\n",
    "\n",
    "from dotenv import load_dotenv\n",
    "import os\n",
    "import json\n",
    "from dataclasses import dataclass, field\n",
    "from typing import List\n",
    "import datetime as dt\n",
    "from dateutil.parser import parse as dtu_parse\n",
    "from mdutils.mdutils import MdUtils\n",
    "\n",
    "from nbdev.showdoc import patch_to\n",
    "\n",
    "import gdoc_sync.client as gd"
   ]
  },
  {
   "cell_type": "markdown",
   "metadata": {},
   "source": []
  },
  {
   "cell_type": "code",
   "execution_count": 4,
   "metadata": {},
   "outputs": [],
   "source": [
    "# |export\n",
    "from dataclassabc import dataclassabc\n",
    "\n",
    "\n",
    "@dataclassabc\n",
    "class AsanaAuth(gd.Auth):\n",
    "    token: str\n",
    "    workspace_id: str\n",
    "    base_url = \"https://app.asana.com/api/1.0\"\n",
    "    auth_header: dict = field(repr=False, default=None)\n",
    "\n",
    "    def __post_init__(self):\n",
    "        self.generate_auth_header()\n",
    "\n",
    "    def get_auth_token(self):\n",
    "        return self.token\n",
    "\n",
    "    def generate_auth_header(self):\n",
    "        self.auth_header = {\n",
    "            \"authorization\": f\"Bearer {self.token}\",\n",
    "        }\n",
    "        return self.auth_header"
   ]
  },
  {
   "cell_type": "code",
   "execution_count": 7,
   "metadata": {},
   "outputs": [
    {
     "data": {
      "text/plain": [
       "AsanaAuth(token='2/1206043147237379/1206043196710290:ffdb99ecfd96835a9555e33d5422ca8d', workspace_id='1206043185525448')"
      ]
     },
     "execution_count": 7,
     "metadata": {},
     "output_type": "execute_result"
    }
   ],
   "source": [
    "# destructure auth fields from env\n",
    "asana_obj = json.loads(os.environ[\"ASANA_PUBLIC\"])\n",
    "asana_client_id, asana_client_secret, asana_pat = asana_obj.values()\n",
    "\n",
    "workspace_id = \"1206043185525448\"\n",
    "AsanaAuth(token=asana_pat, workspace_id=workspace_id)"
   ]
  },
  {
   "cell_type": "code",
   "execution_count": 6,
   "metadata": {},
   "outputs": [],
   "source": [
    "# | hide\n",
    "import nbdev\n",
    "\n",
    "nbdev.nbdev_export()"
   ]
  }
 ],
 "metadata": {
  "kernelspec": {
   "display_name": "base",
   "language": "python",
   "name": "python3"
  },
  "language_info": {
   "codemirror_mode": {
    "name": "ipython",
    "version": 3
   },
   "file_extension": ".py",
   "mimetype": "text/x-python",
   "name": "python",
   "nbconvert_exporter": "python",
   "pygments_lexer": "ipython3",
   "version": "3.10.8"
  }
 },
 "nbformat": 4,
 "nbformat_minor": 2
}
