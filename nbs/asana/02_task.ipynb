{
 "cells": [
  {
   "cell_type": "markdown",
   "metadata": {},
   "source": [
    "# Task Library"
   ]
  },
  {
   "cell_type": "code",
   "execution_count": null,
   "metadata": {},
   "outputs": [],
   "source": [
    "# | default_exp asana.task"
   ]
  },
  {
   "cell_type": "code",
   "execution_count": null,
   "metadata": {},
   "outputs": [],
   "source": [
    "# | exporti\n",
    "\n",
    "from __future__ import annotations\n",
    "\n",
    "from dataclasses import dataclass, field\n",
    "from typing import List, Optional\n",
    "\n",
    "import datetime as dt\n",
    "\n",
    "from mdutils.mdutils import MdUtils\n",
    "\n",
    "from nbdev.showdoc import patch_to\n",
    "\n",
    "import domolibrary_extensions.utils as ut\n",
    "import domolibrary_extensions.client as gd\n",
    "import domolibrary_extensions.asana.auth as aa\n",
    "import domolibrary_extensions.asana.user as au\n",
    "import domolibrary_extensions.asana.project as ap"
   ]
  },
  {
   "cell_type": "code",
   "execution_count": null,
   "metadata": {},
   "outputs": [
    {
     "data": {
      "text/plain": [
       "True"
      ]
     },
     "execution_count": null,
     "metadata": {},
     "output_type": "execute_result"
    }
   ],
   "source": [
    "# | hide\n",
    "from nbdev.showdoc import show_doc\n",
    "\n",
    "from dotenv import load_dotenv\n",
    "import os\n",
    "import json\n",
    "\n",
    "load_dotenv(\"../.env\")"
   ]
  },
  {
   "cell_type": "code",
   "execution_count": null,
   "metadata": {},
   "outputs": [],
   "source": [
    "# | export\n",
    "\n",
    "\n",
    "@dataclass\n",
    "class AsanaSection:\n",
    "    id: str\n",
    "    name: str\n",
    "    resource_type: str\n",
    "    auth: aa.AsanaAuth = field(repr=False)\n",
    "\n",
    "    @classmethod\n",
    "    def _from_json(cls, data: dict, auth=auth) -> \"AsanaSection\":\n",
    "        return cls(\n",
    "            id=data.get(\"gid\"),\n",
    "            name=data.get(\"name\"),\n",
    "            resource_type=data.get(\"resource_type\"),\n",
    "            auth=auth,\n",
    "        )\n",
    "\n",
    "\n",
    "@dataclass\n",
    "class AsanaMembership:\n",
    "    \"\"\"relates a section to a project\"\"\"\n",
    "\n",
    "    project: ap.AsanaProject\n",
    "    section: AsanaSection\n",
    "    auth: aa.AsanaAuth = field(repr=False)\n",
    "\n",
    "    @classmethod\n",
    "    def _from_json(cls, data: dict, auth: aa.AsanaAuth) -> \"AsanaMembership\":\n",
    "        project = (\n",
    "            ap.AsanaProject._from_json(data[\"project\"], auth=auth)\n",
    "            if data.get(\"project\")\n",
    "            else None\n",
    "        )\n",
    "        section = (\n",
    "            AsanaSection._from_json(data[\"section\"], auth=auth)\n",
    "            if data.get(\"section\")\n",
    "            else None\n",
    "        )\n",
    "        return cls(project=project, section=section, auth=auth)\n",
    "\n",
    "    def to_text(self):\n",
    "        return f\"{self.project.name} -> {self.section.name}\"\n",
    "\n",
    "\n",
    "@dataclass\n",
    "class AsanaStory:\n",
    "    id: str\n",
    "    created_at: dt.DateTime\n",
    "    created_by: au.AsanaUser\n",
    "    text: str\n",
    "    type: str\n",
    "    resource_subtype: str\n",
    "\n",
    "    auth: aa.AsanaAuth = field(repr=False)\n",
    "\n",
    "    @classmethod\n",
    "    def _from_json(cls, data: dict, auth: aa.AsanaAuth) -> AsanaStory:\n",
    "        created_by = (\n",
    "            au.AsanaUser._from_json(data[\"created_by\"], auth=auth)\n",
    "            if data.get(\"created_by\")\n",
    "            else None\n",
    "        )\n",
    "\n",
    "        return cls(\n",
    "            id=data.get(\"gid\"),\n",
    "            created_at=ut.convert_str_to_date(data.get(\"created_at\")),\n",
    "            created_by=created_by,\n",
    "            text=data.get(\"text\"),\n",
    "            type=data.get(\"type\"),\n",
    "            resource_subtype=data.get(\"resource_subtype\"),\n",
    "            auth=auth,\n",
    "        )\n",
    "\n",
    "    def to_text(self):\n",
    "        return f\"{self.created_at.date()} - {self.created_by.name} - {self.text}\""
   ]
  },
  {
   "cell_type": "markdown",
   "metadata": {},
   "source": [
    "# Asana Task"
   ]
  },
  {
   "cell_type": "code",
   "execution_count": null,
   "metadata": {},
   "outputs": [],
   "source": [
    "# | export\n",
    "@dataclass\n",
    "class AsanaTask:\n",
    "    id: str\n",
    "    name: str\n",
    "    workspace_id: str\n",
    "\n",
    "    auth: aa.AsanaAuth = field(repr=False)\n",
    "    assignee: au.AsanaUser = None\n",
    "\n",
    "    assignee_status: str = None\n",
    "\n",
    "    is_completed: bool = None\n",
    "\n",
    "    created_at: dt.datetime = None\n",
    "    completed_on: dt.datetime = None\n",
    "    due_on: dt.datetime = None\n",
    "    modified_at: dt.datetime = None\n",
    "\n",
    "    memberships: List[dict] = None\n",
    "\n",
    "    notes: str = None\n",
    "\n",
    "    parent: Optional[dict] = None\n",
    "    permalink_url: str = None\n",
    "    projects: List[ap.AsanaProject] = None\n",
    "    stories: List[AsanaStory] = None\n",
    "\n",
    "    tags: List[dict] = None\n",
    "\n",
    "    @classmethod\n",
    "    def _from_json(cls, obj: dict, auth: aa.AsanaAuth) -> AsanaTask:\n",
    "        assignee = (\n",
    "            au.AsanaUser._from_json(obj.get(\"assignee\"), auth=auth)\n",
    "            if obj.get(\"assignee\")\n",
    "            else None\n",
    "        )\n",
    "\n",
    "        projects = [\n",
    "            ap.AsanaProject._from_json(project, auth=auth)\n",
    "            for project in obj.get(\"projects\", [])\n",
    "        ]\n",
    "\n",
    "        memberships = [\n",
    "            AsanaMembership._from_json(member_obj, auth=auth)\n",
    "            for member_obj in obj.get(\"memberships\", [])\n",
    "        ]\n",
    "        return cls(\n",
    "            id=obj.get(\"gid\"),\n",
    "            name=obj.get(\"name\"),\n",
    "            auth=auth,\n",
    "            workspace_id=obj.get(\"workspace\", {}).get(\"gid\"),\n",
    "            assignee=assignee,\n",
    "            is_completed=obj.get(\"completed\"),\n",
    "            assignee_status=obj.get(\"assignee_status\"),\n",
    "            completed_on=ut.convert_str_to_date(obj.get(\"completed_at\")),\n",
    "            created_at=ut.convert_str_to_date(obj.get(\"created_at\")),\n",
    "            due_on=ut.convert_str_to_date(obj.get(\"due_on\")),\n",
    "            modified_at=ut.convert_str_to_date(obj.get(\"modified_at\")),\n",
    "            memberships=memberships,\n",
    "            notes=obj.get(\"notes\"),\n",
    "            parent=obj.get(\"parent\"),\n",
    "            permalink_url=obj.get(\"permalink_url\"),\n",
    "            tags=obj.get(\"tags\", []),\n",
    "            projects=projects,\n",
    "        )"
   ]
  },
  {
   "cell_type": "code",
   "execution_count": null,
   "metadata": {},
   "outputs": [
    {
     "data": {
      "text/markdown": [
       "---\n",
       "\n",
       "[source](https://github.com/jaewilson07/domolibrary_extensions/blob/main/domolibrary_extensions/asana/task.py#L103){target=\"_blank\" style=\"float:right; font-size:smaller\"}\n",
       "\n",
       "### AsanaTask\n",
       "\n",
       ">      AsanaTask (id:str, name:str, workspace_id:str,\n",
       ">                 auth:domolibrary_extensions.asana.auth.AsanaAuth,\n",
       ">                 assignee:domolibrary_extensions.asana.user.AsanaUser=None,\n",
       ">                 assignee_status:str=None, is_completed:bool=None,\n",
       ">                 created_at:datetime.datetime=None,\n",
       ">                 completed_on:datetime.datetime=None,\n",
       ">                 due_on:datetime.datetime=None,\n",
       ">                 modified_at:datetime.datetime=None,\n",
       ">                 memberships:List[dict]=None, notes:str=None,\n",
       ">                 parent:Optional[dict]=None, permalink_url:str=None,\n",
       ">                 projects:List[domolibrary_extensions.asana.project.AsanaProject]=None,\n",
       ">                 stories:List[__main__.AsanaStory]=None, tags:List[dict]=None)"
      ],
      "text/plain": [
       "---\n",
       "\n",
       "[source](https://github.com/jaewilson07/domolibrary_extensions/blob/main/domolibrary_extensions/asana/task.py#L103){target=\"_blank\" style=\"float:right; font-size:smaller\"}\n",
       "\n",
       "### AsanaTask\n",
       "\n",
       ">      AsanaTask (id:str, name:str, workspace_id:str,\n",
       ">                 auth:domolibrary_extensions.asana.auth.AsanaAuth,\n",
       ">                 assignee:domolibrary_extensions.asana.user.AsanaUser=None,\n",
       ">                 assignee_status:str=None, is_completed:bool=None,\n",
       ">                 created_at:datetime.datetime=None,\n",
       ">                 completed_on:datetime.datetime=None,\n",
       ">                 due_on:datetime.datetime=None,\n",
       ">                 modified_at:datetime.datetime=None,\n",
       ">                 memberships:List[dict]=None, notes:str=None,\n",
       ">                 parent:Optional[dict]=None, permalink_url:str=None,\n",
       ">                 projects:List[domolibrary_extensions.asana.project.AsanaProject]=None,\n",
       ">                 stories:List[__main__.AsanaStory]=None, tags:List[dict]=None)"
      ]
     },
     "execution_count": null,
     "metadata": {},
     "output_type": "execute_result"
    }
   ],
   "source": [
    "show_doc(AsanaTask)"
   ]
  },
  {
   "cell_type": "code",
   "execution_count": null,
   "metadata": {},
   "outputs": [],
   "source": [
    "# | exporti\n",
    "@patch_to(AsanaTask, cls_method=True)\n",
    "async def get_by_id(\n",
    "    cls, auth, task_id, debug_api: bool = False, return_raw: bool = False\n",
    "):\n",
    "    url = f\"{auth.base_url}/tasks/{task_id}\"\n",
    "\n",
    "    res = await gd.get_data(\n",
    "        auth=auth,\n",
    "        method=\"GET\",\n",
    "        url=url,\n",
    "        debug_api=debug_api,\n",
    "    )\n",
    "\n",
    "    if return_raw:\n",
    "        return res\n",
    "\n",
    "    return cls._from_json(res.response[\"data\"], auth=auth)"
   ]
  },
  {
   "cell_type": "code",
   "execution_count": null,
   "metadata": {},
   "outputs": [
    {
     "data": {
      "text/markdown": [
       "---\n",
       "\n",
       "[source](https://github.com/jaewilson07/domolibrary_extensions/blob/main/domolibrary_extensions/asana/task.py#L170){target=\"_blank\" style=\"float:right; font-size:smaller\"}\n",
       "\n",
       "### AsanaTask.get_by_id\n",
       "\n",
       ">      AsanaTask.get_by_id (auth, task_id, debug_api:bool=False,\n",
       ">                           return_raw:bool=False)"
      ],
      "text/plain": [
       "---\n",
       "\n",
       "[source](https://github.com/jaewilson07/domolibrary_extensions/blob/main/domolibrary_extensions/asana/task.py#L170){target=\"_blank\" style=\"float:right; font-size:smaller\"}\n",
       "\n",
       "### AsanaTask.get_by_id\n",
       "\n",
       ">      AsanaTask.get_by_id (auth, task_id, debug_api:bool=False,\n",
       ">                           return_raw:bool=False)"
      ]
     },
     "execution_count": null,
     "metadata": {},
     "output_type": "execute_result"
    }
   ],
   "source": [
    "show_doc(AsanaTask.get_by_id)"
   ]
  },
  {
   "cell_type": "code",
   "execution_count": null,
   "metadata": {},
   "outputs": [
    {
     "data": {
      "text/plain": [
       "AsanaTask(id='1206043185525463', name='Draft project brief', workspace_id='1206043147237389', assignee=AsanaUser(id='1206043147237379', name='Jae Wilson', email=None), assignee_status='inbox', is_completed=False, created_at=datetime.datetime(2023, 11, 27, 22, 34, 14, 216000, tzinfo=tzutc()), completed_on=None, due_on=datetime.datetime(2023, 11, 29, 0, 0), modified_at=datetime.datetime(2023, 11, 29, 7, 11, 25, 487000, tzinfo=tzutc()), memberships=[AsanaMembership(project=AsanaProject(id='1206043185525448', name='asana_sync', workspace_id=None, permalink_url=None, is_archived=None, is_completed=None, created_date=None, modified_date=None, owner=None, members=None, due_date=None, completed_date=None), section=AsanaSection(id='1206043185525449', name='To do', resource_type='section'))], notes='Do the thing mr. wilson', parent=None, permalink_url='https://app.asana.com/0/1206043185525448/1206043185525463', projects=[AsanaProject(id='1206043185525448', name='asana_sync', workspace_id=None, permalink_url=None, is_archived=None, is_completed=None, created_date=None, modified_date=None, owner=None, members=None, due_date=None, completed_date=None)], stories=None, tags=[])"
      ]
     },
     "execution_count": null,
     "metadata": {},
     "output_type": "execute_result"
    }
   ],
   "source": [
    "asana_pat = json.loads(os.environ[\"ASANA_PUBLIC\"])[\"ASANA_PAT\"]\n",
    "workspace_id = \"1206043185525448\"\n",
    "asana_auth = aa.AsanaAuth(token=asana_pat, workspace_id=workspace_id)\n",
    "\n",
    "task_id = \"1206043185525463\"\n",
    "await AsanaTask.get_by_id(task_id=task_id, auth=asana_auth, return_raw=False)"
   ]
  },
  {
   "cell_type": "code",
   "execution_count": null,
   "metadata": {},
   "outputs": [],
   "source": [
    "# | exporti\n",
    "@patch_to(AsanaTask)\n",
    "async def get_stories(\n",
    "    self,\n",
    "    debug_api: bool = False,\n",
    "    return_raw: bool = False,\n",
    "    is_only_comments: bool = False,  # stories include any changes to the task, comments are a subtype of stories\n",
    "):\n",
    "    auth = self.auth\n",
    "\n",
    "    url = f\"{auth.base_url}/tasks/{self.id}/stories\"\n",
    "\n",
    "    res = await gd.get_data(\n",
    "        auth=self.auth,\n",
    "        method=\"GET\",\n",
    "        url=url,\n",
    "        debug_api=debug_api,\n",
    "    )\n",
    "\n",
    "    if return_raw:\n",
    "        return res\n",
    "\n",
    "    self.stories = [\n",
    "        AsanaStory._from_json(story_obj, auth=auth)\n",
    "        for story_obj in res.response[\"data\"]\n",
    "    ]\n",
    "\n",
    "    if is_only_comments:\n",
    "        self.stories = [\n",
    "            story for story in self.stories if \"comment\" in story.resource_subtype\n",
    "        ]\n",
    "\n",
    "    return self.stories"
   ]
  },
  {
   "cell_type": "code",
   "execution_count": null,
   "metadata": {},
   "outputs": [
    {
     "data": {
      "text/markdown": [
       "---\n",
       "\n",
       "[source](https://github.com/fastai/nbdev/blob/master/nbdev/showdoc.py#LNone){target=\"_blank\" style=\"float:right; font-size:smaller\"}\n",
       "\n",
       "### show_doc\n",
       "\n",
       ">      show_doc (sym, renderer=None, name:str|None=None, title_level:int=3)\n",
       "\n",
       "Show signature and docstring for `sym`\n",
       "\n",
       "|    | **Type** | **Default** | **Details** |\n",
       "| -- | -------- | ----------- | ----------- |\n",
       "| sym |  |  | Symbol to document |\n",
       "| renderer | NoneType | None | Optional renderer (defaults to markdown) |\n",
       "| name | str \\| None | None | Optionally override displayed name of `sym` |\n",
       "| title_level | int | 3 | Heading level to use for symbol name |"
      ],
      "text/plain": [
       "---\n",
       "\n",
       "[source](https://github.com/fastai/nbdev/blob/master/nbdev/showdoc.py#LNone){target=\"_blank\" style=\"float:right; font-size:smaller\"}\n",
       "\n",
       "### show_doc\n",
       "\n",
       ">      show_doc (sym, renderer=None, name:str|None=None, title_level:int=3)\n",
       "\n",
       "Show signature and docstring for `sym`\n",
       "\n",
       "|    | **Type** | **Default** | **Details** |\n",
       "| -- | -------- | ----------- | ----------- |\n",
       "| sym |  |  | Symbol to document |\n",
       "| renderer | NoneType | None | Optional renderer (defaults to markdown) |\n",
       "| name | str \\| None | None | Optionally override displayed name of `sym` |\n",
       "| title_level | int | 3 | Heading level to use for symbol name |"
      ]
     },
     "execution_count": null,
     "metadata": {},
     "output_type": "execute_result"
    }
   ],
   "source": [
    "show_doc(get_stories)"
   ]
  },
  {
   "cell_type": "code",
   "execution_count": null,
   "metadata": {},
   "outputs": [
    {
     "data": {
      "text/plain": [
       "[AsanaStory(id='1206043165446912', created_at=datetime.datetime(2023, 11, 27, 22, 49, 29, 310000, tzinfo=tzutc()), created_by=AsanaUser(id='1206043147237379', name='Jae Wilson', email=None), text='we need to get this done fast!', type='comment', resource_subtype='comment_added')]"
      ]
     },
     "execution_count": null,
     "metadata": {},
     "output_type": "execute_result"
    }
   ],
   "source": [
    "asana_pat = json.loads(os.environ[\"ASANA_PUBLIC\"])[\"ASANA_PAT\"]\n",
    "workspace_id = \"1206043185525448\"\n",
    "asana_auth = aa.AsanaAuth(token=asana_pat, workspace_id=workspace_id)\n",
    "\n",
    "task_id = \"1206043185525463\"\n",
    "asana_task = await AsanaTask.get_by_id(\n",
    "    task_id=task_id, auth=asana_auth, return_raw=False\n",
    ")\n",
    "\n",
    "await asana_task.get_stories(return_raw=False, is_only_comments=True, debug_api=False)"
   ]
  },
  {
   "cell_type": "code",
   "execution_count": null,
   "metadata": {},
   "outputs": [],
   "source": [
    "# | exporti\n",
    "def handle_render_user(mdFile, key, value):\n",
    "    mdFile.new_line(f\"{key} - {value.name}\")\n",
    "\n",
    "\n",
    "def handle_render_datetime(mdFile, key, value):\n",
    "    mdFile.new_line(f\"{key} - {value.date()}\")\n",
    "\n",
    "\n",
    "render_factory_values = {\n",
    "    \"AsanaUser\": handle_render_user,\n",
    "    \"datetime\": handle_render_datetime,\n",
    "}\n",
    "\n",
    "\n",
    "def handle_render_membership(mdFile, key, value):\n",
    "    mdFile.new_header(level=1, title=key)\n",
    "    [mdFile.new_line(asana_class.to_text()) for asana_class in value]\n",
    "\n",
    "\n",
    "def handle_render_stories(mdFile, key, value):\n",
    "    mdFile.new_header(level=1, title=key)\n",
    "    [\n",
    "        mdFile.new_line(asana_class.to_text())\n",
    "        for asana_class in value\n",
    "        if \"comment\" in asana_class.resource_subtype\n",
    "    ]\n",
    "\n",
    "\n",
    "def handle_render_default(mdFile, key, value):\n",
    "    mdFile.new_line(f\"{key} - {value}\")\n",
    "\n",
    "\n",
    "render_factory_keys = {\n",
    "    \"memberships\": handle_render_membership,\n",
    "    \"stories\": handle_render_stories,\n",
    "    \"default\": handle_render_default,\n",
    "}\n",
    "\n",
    "\n",
    "def render_field(key: str, value: str, mdFile):\n",
    "    if key in [\"name\", \"projects\"] or not value:\n",
    "        return\n",
    "\n",
    "    render_fn = (\n",
    "        render_factory_values.get(value.__class__.__name__)\n",
    "        or render_factory_keys.get(key)\n",
    "        or render_factory_keys.get(\"default\")\n",
    "    )\n",
    "\n",
    "    render_fn(mdFile=mdFile, key=key, value=value)\n",
    "\n",
    "\n",
    "@patch_to(AsanaTask)\n",
    "def to_md(self, output_folder=\"markdown\", output_file=None):\n",
    "    ut.upsert_folder(output_folder)\n",
    "\n",
    "    mdFile = MdUtils(\n",
    "        file_name=f\"{output_folder}/{output_file or self.id}\",\n",
    "        title=output_file or self.name,\n",
    "    )\n",
    "\n",
    "    [\n",
    "        render_field(key, getattr(self, key), mdFile)\n",
    "        for key in self.__dict__.keys()\n",
    "        if key not in [\"auth\", \"workspace_id\"]\n",
    "    ]\n",
    "    mdFile.create_md_file()\n",
    "\n",
    "    return f\"done exporting {mdFile.file_name}\"\n",
    "    # mdFile.new_table(columns=3, rows=6, text=list_of_strings, text_align='center')"
   ]
  },
  {
   "cell_type": "code",
   "execution_count": null,
   "metadata": {},
   "outputs": [
    {
     "data": {
      "text/markdown": [
       "---\n",
       "\n",
       "[source](https://github.com/jaewilson07/domolibrary_extensions/blob/main/domolibrary_extensions/asana/task.py#L275){target=\"_blank\" style=\"float:right; font-size:smaller\"}\n",
       "\n",
       "### AsanaTask.to_md\n",
       "\n",
       ">      AsanaTask.to_md (output_folder='markdown', output_file=None)"
      ],
      "text/plain": [
       "---\n",
       "\n",
       "[source](https://github.com/jaewilson07/domolibrary_extensions/blob/main/domolibrary_extensions/asana/task.py#L275){target=\"_blank\" style=\"float:right; font-size:smaller\"}\n",
       "\n",
       "### AsanaTask.to_md\n",
       "\n",
       ">      AsanaTask.to_md (output_folder='markdown', output_file=None)"
      ]
     },
     "execution_count": null,
     "metadata": {},
     "output_type": "execute_result"
    }
   ],
   "source": [
    "show_doc(AsanaTask.to_md)"
   ]
  },
  {
   "cell_type": "code",
   "execution_count": null,
   "metadata": {},
   "outputs": [
    {
     "data": {
      "text/plain": [
       "'done exporting ../TEST/asana/task//sample_task.md'"
      ]
     },
     "execution_count": null,
     "metadata": {},
     "output_type": "execute_result"
    }
   ],
   "source": [
    "await asana_task.get_stories()\n",
    "\n",
    "asana_task.to_md(output_folder=\"../TEST/asana/task/\", output_file=\"sample_task.md\")"
   ]
  },
  {
   "cell_type": "markdown",
   "metadata": {},
   "source": [
    "# Reverse Patch Projects"
   ]
  },
  {
   "cell_type": "code",
   "execution_count": null,
   "metadata": {},
   "outputs": [],
   "source": [
    "# | exporti\n",
    "@patch_to(ap.AsanaProject)\n",
    "async def get_tasks(\n",
    "    self: ap.AsanaProject, debug_api: bool = False, return_raw: bool = False\n",
    "):\n",
    "    import domolibrary_extensions.asana.task as at\n",
    "\n",
    "    auth = self.auth\n",
    "    params = {\"project\": self.id}\n",
    "\n",
    "    url = f\"{auth.base_url}/tasks\"\n",
    "\n",
    "    res = await gd.get_data(\n",
    "        auth=auth, method=\"GET\", url=url, debug_api=debug_api, params=params\n",
    "    )\n",
    "\n",
    "    if return_raw:\n",
    "        return res\n",
    "\n",
    "    return [\n",
    "        AsanaTask._from_json(task_obj, auth=auth) for task_obj in res.response[\"data\"]\n",
    "    ]"
   ]
  },
  {
   "cell_type": "code",
   "execution_count": null,
   "metadata": {},
   "outputs": [
    {
     "data": {
      "text/plain": [
       "[AsanaTask(id='1206043185525463', name='Draft project brief', workspace_id=None, assignee=None, assignee_status=None, is_completed=None, created_at=None, completed_on=None, due_on=None, modified_at=None, memberships=[], notes=None, parent=None, permalink_url=None, projects=[], stories=None, tags=[]),\n",
       " AsanaTask(id='1206043185525465', name='Schedule kickoff meeting', workspace_id=None, assignee=None, assignee_status=None, is_completed=None, created_at=None, completed_on=None, due_on=None, modified_at=None, memberships=[], notes=None, parent=None, permalink_url=None, projects=[], stories=None, tags=[]),\n",
       " AsanaTask(id='1206043185525467', name='Share timeline with teammates', workspace_id=None, assignee=None, assignee_status=None, is_completed=None, created_at=None, completed_on=None, due_on=None, modified_at=None, memberships=[], notes=None, parent=None, permalink_url=None, projects=[], stories=None, tags=[])]"
      ]
     },
     "execution_count": null,
     "metadata": {},
     "output_type": "execute_result"
    }
   ],
   "source": [
    "asana_pat = json.loads(os.environ[\"ASANA_PUBLIC\"])[\"ASANA_PAT\"]\n",
    "workspace_id = \"1206043185525448\"\n",
    "project_id = \"1206043185525448\"\n",
    "\n",
    "asana_auth = aa.AsanaAuth(token=asana_pat, workspace_id=workspace_id)\n",
    "\n",
    "asana_project = await ap.AsanaProject.get_by_id(auth=asana_auth, project_id=project_id)\n",
    "\n",
    "await asana_project.get_tasks()"
   ]
  },
  {
   "cell_type": "code",
   "execution_count": null,
   "metadata": {},
   "outputs": [
    {
     "ename": "JSONDecodeError",
     "evalue": "Expecting value: line 1 column 1 (char 0)",
     "output_type": "error",
     "traceback": [
      "\u001b[0;31m---------------------------------------------------------------------------\u001b[0m",
      "\u001b[0;31mJSONDecodeError\u001b[0m                           Traceback (most recent call last)",
      "Cell \u001b[0;32mIn[18], line 5\u001b[0m\n\u001b[1;32m      1\u001b[0m \u001b[38;5;66;03m# | hide\u001b[39;00m\n\u001b[1;32m      3\u001b[0m \u001b[38;5;28;01mimport\u001b[39;00m \u001b[38;5;21;01mnbdev\u001b[39;00m\n\u001b[0;32m----> 5\u001b[0m \u001b[43mnbdev\u001b[49m\u001b[38;5;241;43m.\u001b[39;49m\u001b[43mnbdev_export\u001b[49m\u001b[43m(\u001b[49m\u001b[43m)\u001b[49m\n",
      "File \u001b[0;32m/mnt/c/users/jaewi/GitHub/domolibrary_extensions/.venv/lib/python3.11/site-packages/fastcore/script.py:110\u001b[0m, in \u001b[0;36mcall_parse.<locals>._f\u001b[0;34m(*args, **kwargs)\u001b[0m\n\u001b[1;32m    107\u001b[0m \u001b[38;5;129m@wraps\u001b[39m(func)\n\u001b[1;32m    108\u001b[0m \u001b[38;5;28;01mdef\u001b[39;00m \u001b[38;5;21m_f\u001b[39m(\u001b[38;5;241m*\u001b[39margs, \u001b[38;5;241m*\u001b[39m\u001b[38;5;241m*\u001b[39mkwargs):\n\u001b[1;32m    109\u001b[0m     mod \u001b[38;5;241m=\u001b[39m inspect\u001b[38;5;241m.\u001b[39mgetmodule(inspect\u001b[38;5;241m.\u001b[39mcurrentframe()\u001b[38;5;241m.\u001b[39mf_back)\n\u001b[0;32m--> 110\u001b[0m     \u001b[38;5;28;01mif\u001b[39;00m \u001b[38;5;129;01mnot\u001b[39;00m mod: \u001b[38;5;28;01mreturn\u001b[39;00m \u001b[43mfunc\u001b[49m\u001b[43m(\u001b[49m\u001b[38;5;241;43m*\u001b[39;49m\u001b[43margs\u001b[49m\u001b[43m,\u001b[49m\u001b[43m \u001b[49m\u001b[38;5;241;43m*\u001b[39;49m\u001b[38;5;241;43m*\u001b[39;49m\u001b[43mkwargs\u001b[49m\u001b[43m)\u001b[49m\n\u001b[1;32m    111\u001b[0m     \u001b[38;5;28;01mif\u001b[39;00m \u001b[38;5;129;01mnot\u001b[39;00m SCRIPT_INFO\u001b[38;5;241m.\u001b[39mfunc \u001b[38;5;129;01mand\u001b[39;00m mod\u001b[38;5;241m.\u001b[39m\u001b[38;5;18m__name__\u001b[39m\u001b[38;5;241m==\u001b[39m\u001b[38;5;124m\"\u001b[39m\u001b[38;5;124m__main__\u001b[39m\u001b[38;5;124m\"\u001b[39m: SCRIPT_INFO\u001b[38;5;241m.\u001b[39mfunc \u001b[38;5;241m=\u001b[39m func\u001b[38;5;241m.\u001b[39m\u001b[38;5;18m__name__\u001b[39m\n\u001b[1;32m    112\u001b[0m     \u001b[38;5;28;01mif\u001b[39;00m \u001b[38;5;28mlen\u001b[39m(sys\u001b[38;5;241m.\u001b[39margv)\u001b[38;5;241m>\u001b[39m\u001b[38;5;241m1\u001b[39m \u001b[38;5;129;01mand\u001b[39;00m sys\u001b[38;5;241m.\u001b[39margv[\u001b[38;5;241m1\u001b[39m]\u001b[38;5;241m==\u001b[39m\u001b[38;5;124m'\u001b[39m\u001b[38;5;124m'\u001b[39m: sys\u001b[38;5;241m.\u001b[39margv\u001b[38;5;241m.\u001b[39mpop(\u001b[38;5;241m1\u001b[39m)\n",
      "File \u001b[0;32m/mnt/c/users/jaewi/GitHub/domolibrary_extensions/.venv/lib/python3.11/site-packages/nbdev/doclinks.py:142\u001b[0m, in \u001b[0;36mnbdev_export\u001b[0;34m(path, procs, **kwargs)\u001b[0m\n\u001b[1;32m    140\u001b[0m   procs \u001b[38;5;241m=\u001b[39m [\u001b[38;5;28mgetattr\u001b[39m(nbdev\u001b[38;5;241m.\u001b[39mexport, p) \u001b[38;5;28;01mfor\u001b[39;00m p \u001b[38;5;129;01min\u001b[39;00m L(procs)]\n\u001b[1;32m    141\u001b[0m files \u001b[38;5;241m=\u001b[39m nbglob(path\u001b[38;5;241m=\u001b[39mpath, as_path\u001b[38;5;241m=\u001b[39m\u001b[38;5;28;01mTrue\u001b[39;00m, \u001b[38;5;241m*\u001b[39m\u001b[38;5;241m*\u001b[39mkwargs)\u001b[38;5;241m.\u001b[39msorted(\u001b[38;5;124m'\u001b[39m\u001b[38;5;124mname\u001b[39m\u001b[38;5;124m'\u001b[39m)\n\u001b[0;32m--> 142\u001b[0m \u001b[38;5;28;01mfor\u001b[39;00m f \u001b[38;5;129;01min\u001b[39;00m files: \u001b[43mnb_export\u001b[49m\u001b[43m(\u001b[49m\u001b[43mf\u001b[49m\u001b[43m,\u001b[49m\u001b[43m \u001b[49m\u001b[43mprocs\u001b[49m\u001b[38;5;241;43m=\u001b[39;49m\u001b[43mprocs\u001b[49m\u001b[43m)\u001b[49m\n\u001b[1;32m    143\u001b[0m add_init(get_config()\u001b[38;5;241m.\u001b[39mlib_path)\n\u001b[1;32m    144\u001b[0m _build_modidx()\n",
      "File \u001b[0;32m/mnt/c/users/jaewi/GitHub/domolibrary_extensions/.venv/lib/python3.11/site-packages/nbdev/export.py:67\u001b[0m, in \u001b[0;36mnb_export\u001b[0;34m(nbname, lib_path, procs, debug, mod_maker, name)\u001b[0m\n\u001b[1;32m     65\u001b[0m \u001b[38;5;28;01mif\u001b[39;00m lib_path \u001b[38;5;129;01mis\u001b[39;00m \u001b[38;5;28;01mNone\u001b[39;00m: lib_path \u001b[38;5;241m=\u001b[39m get_config()\u001b[38;5;241m.\u001b[39mlib_path\n\u001b[1;32m     66\u001b[0m exp \u001b[38;5;241m=\u001b[39m ExportModuleProc()\n\u001b[0;32m---> 67\u001b[0m nb \u001b[38;5;241m=\u001b[39m \u001b[43mNBProcessor\u001b[49m\u001b[43m(\u001b[49m\u001b[43mnbname\u001b[49m\u001b[43m,\u001b[49m\u001b[43m \u001b[49m\u001b[43m[\u001b[49m\u001b[43mexp\u001b[49m\u001b[43m]\u001b[49m\u001b[38;5;241;43m+\u001b[39;49m\u001b[43mL\u001b[49m\u001b[43m(\u001b[49m\u001b[43mprocs\u001b[49m\u001b[43m)\u001b[49m\u001b[43m,\u001b[49m\u001b[43m \u001b[49m\u001b[43mdebug\u001b[49m\u001b[38;5;241;43m=\u001b[39;49m\u001b[43mdebug\u001b[49m\u001b[43m)\u001b[49m\n\u001b[1;32m     68\u001b[0m nb\u001b[38;5;241m.\u001b[39mprocess()\n\u001b[1;32m     69\u001b[0m \u001b[38;5;28;01mfor\u001b[39;00m mod,cells \u001b[38;5;129;01min\u001b[39;00m exp\u001b[38;5;241m.\u001b[39mmodules\u001b[38;5;241m.\u001b[39mitems():\n",
      "File \u001b[0;32m/mnt/c/users/jaewi/GitHub/domolibrary_extensions/.venv/lib/python3.11/site-packages/nbdev/process.py:93\u001b[0m, in \u001b[0;36mNBProcessor.__init__\u001b[0;34m(self, path, procs, nb, debug, rm_directives, process)\u001b[0m\n\u001b[1;32m     92\u001b[0m \u001b[38;5;28;01mdef\u001b[39;00m \u001b[38;5;21m__init__\u001b[39m(\u001b[38;5;28mself\u001b[39m, path\u001b[38;5;241m=\u001b[39m\u001b[38;5;28;01mNone\u001b[39;00m, procs\u001b[38;5;241m=\u001b[39m\u001b[38;5;28;01mNone\u001b[39;00m, nb\u001b[38;5;241m=\u001b[39m\u001b[38;5;28;01mNone\u001b[39;00m, debug\u001b[38;5;241m=\u001b[39m\u001b[38;5;28;01mFalse\u001b[39;00m, rm_directives\u001b[38;5;241m=\u001b[39m\u001b[38;5;28;01mTrue\u001b[39;00m, process\u001b[38;5;241m=\u001b[39m\u001b[38;5;28;01mFalse\u001b[39;00m):\n\u001b[0;32m---> 93\u001b[0m     \u001b[38;5;28mself\u001b[39m\u001b[38;5;241m.\u001b[39mnb \u001b[38;5;241m=\u001b[39m \u001b[43mread_nb\u001b[49m\u001b[43m(\u001b[49m\u001b[43mpath\u001b[49m\u001b[43m)\u001b[49m \u001b[38;5;28;01mif\u001b[39;00m nb \u001b[38;5;129;01mis\u001b[39;00m \u001b[38;5;28;01mNone\u001b[39;00m \u001b[38;5;28;01melse\u001b[39;00m nb\n\u001b[1;32m     94\u001b[0m     \u001b[38;5;28mself\u001b[39m\u001b[38;5;241m.\u001b[39mlang \u001b[38;5;241m=\u001b[39m nb_lang(\u001b[38;5;28mself\u001b[39m\u001b[38;5;241m.\u001b[39mnb)\n\u001b[1;32m     95\u001b[0m     \u001b[38;5;28;01mfor\u001b[39;00m cell \u001b[38;5;129;01min\u001b[39;00m \u001b[38;5;28mself\u001b[39m\u001b[38;5;241m.\u001b[39mnb\u001b[38;5;241m.\u001b[39mcells: cell\u001b[38;5;241m.\u001b[39mdirectives_ \u001b[38;5;241m=\u001b[39m extract_directives(cell, remove\u001b[38;5;241m=\u001b[39mrm_directives, lang\u001b[38;5;241m=\u001b[39m\u001b[38;5;28mself\u001b[39m\u001b[38;5;241m.\u001b[39mlang)\n",
      "File \u001b[0;32m/mnt/c/users/jaewi/GitHub/domolibrary_extensions/.venv/lib/python3.11/site-packages/execnb/nbio.py:57\u001b[0m, in \u001b[0;36mread_nb\u001b[0;34m(path)\u001b[0m\n\u001b[1;32m     55\u001b[0m \u001b[38;5;28;01mdef\u001b[39;00m \u001b[38;5;21mread_nb\u001b[39m(path):\n\u001b[1;32m     56\u001b[0m     \u001b[38;5;124m\"\u001b[39m\u001b[38;5;124mReturn notebook at `path`\u001b[39m\u001b[38;5;124m\"\u001b[39m\n\u001b[0;32m---> 57\u001b[0m     res \u001b[38;5;241m=\u001b[39m dict2nb(\u001b[43m_read_json\u001b[49m\u001b[43m(\u001b[49m\u001b[43mpath\u001b[49m\u001b[43m,\u001b[49m\u001b[43m \u001b[49m\u001b[43mencoding\u001b[49m\u001b[38;5;241;43m=\u001b[39;49m\u001b[38;5;124;43m'\u001b[39;49m\u001b[38;5;124;43mutf-8\u001b[39;49m\u001b[38;5;124;43m'\u001b[39;49m\u001b[43m)\u001b[49m)\n\u001b[1;32m     58\u001b[0m     res[\u001b[38;5;124m'\u001b[39m\u001b[38;5;124mpath_\u001b[39m\u001b[38;5;124m'\u001b[39m] \u001b[38;5;241m=\u001b[39m \u001b[38;5;28mstr\u001b[39m(path)\n\u001b[1;32m     59\u001b[0m     \u001b[38;5;28;01mreturn\u001b[39;00m res\n",
      "File \u001b[0;32m/mnt/c/users/jaewi/GitHub/domolibrary_extensions/.venv/lib/python3.11/site-packages/execnb/nbio.py:16\u001b[0m, in \u001b[0;36m_read_json\u001b[0;34m(self, encoding, errors)\u001b[0m\n\u001b[1;32m     15\u001b[0m \u001b[38;5;28;01mdef\u001b[39;00m \u001b[38;5;21m_read_json\u001b[39m(\u001b[38;5;28mself\u001b[39m, encoding\u001b[38;5;241m=\u001b[39m\u001b[38;5;28;01mNone\u001b[39;00m, errors\u001b[38;5;241m=\u001b[39m\u001b[38;5;28;01mNone\u001b[39;00m):\n\u001b[0;32m---> 16\u001b[0m     \u001b[38;5;28;01mreturn\u001b[39;00m \u001b[43mloads\u001b[49m\u001b[43m(\u001b[49m\u001b[43mPath\u001b[49m\u001b[43m(\u001b[49m\u001b[38;5;28;43mself\u001b[39;49m\u001b[43m)\u001b[49m\u001b[38;5;241;43m.\u001b[39;49m\u001b[43mread_text\u001b[49m\u001b[43m(\u001b[49m\u001b[43mencoding\u001b[49m\u001b[38;5;241;43m=\u001b[39;49m\u001b[43mencoding\u001b[49m\u001b[43m,\u001b[49m\u001b[43m \u001b[49m\u001b[43merrors\u001b[49m\u001b[38;5;241;43m=\u001b[39;49m\u001b[43merrors\u001b[49m\u001b[43m)\u001b[49m\u001b[43m)\u001b[49m\n",
      "File \u001b[0;32m/usr/lib/python3.11/json/__init__.py:346\u001b[0m, in \u001b[0;36mloads\u001b[0;34m(s, cls, object_hook, parse_float, parse_int, parse_constant, object_pairs_hook, **kw)\u001b[0m\n\u001b[1;32m    341\u001b[0m     s \u001b[38;5;241m=\u001b[39m s\u001b[38;5;241m.\u001b[39mdecode(detect_encoding(s), \u001b[38;5;124m'\u001b[39m\u001b[38;5;124msurrogatepass\u001b[39m\u001b[38;5;124m'\u001b[39m)\n\u001b[1;32m    343\u001b[0m \u001b[38;5;28;01mif\u001b[39;00m (\u001b[38;5;28mcls\u001b[39m \u001b[38;5;129;01mis\u001b[39;00m \u001b[38;5;28;01mNone\u001b[39;00m \u001b[38;5;129;01mand\u001b[39;00m object_hook \u001b[38;5;129;01mis\u001b[39;00m \u001b[38;5;28;01mNone\u001b[39;00m \u001b[38;5;129;01mand\u001b[39;00m\n\u001b[1;32m    344\u001b[0m         parse_int \u001b[38;5;129;01mis\u001b[39;00m \u001b[38;5;28;01mNone\u001b[39;00m \u001b[38;5;129;01mand\u001b[39;00m parse_float \u001b[38;5;129;01mis\u001b[39;00m \u001b[38;5;28;01mNone\u001b[39;00m \u001b[38;5;129;01mand\u001b[39;00m\n\u001b[1;32m    345\u001b[0m         parse_constant \u001b[38;5;129;01mis\u001b[39;00m \u001b[38;5;28;01mNone\u001b[39;00m \u001b[38;5;129;01mand\u001b[39;00m object_pairs_hook \u001b[38;5;129;01mis\u001b[39;00m \u001b[38;5;28;01mNone\u001b[39;00m \u001b[38;5;129;01mand\u001b[39;00m \u001b[38;5;129;01mnot\u001b[39;00m kw):\n\u001b[0;32m--> 346\u001b[0m     \u001b[38;5;28;01mreturn\u001b[39;00m \u001b[43m_default_decoder\u001b[49m\u001b[38;5;241;43m.\u001b[39;49m\u001b[43mdecode\u001b[49m\u001b[43m(\u001b[49m\u001b[43ms\u001b[49m\u001b[43m)\u001b[49m\n\u001b[1;32m    347\u001b[0m \u001b[38;5;28;01mif\u001b[39;00m \u001b[38;5;28mcls\u001b[39m \u001b[38;5;129;01mis\u001b[39;00m \u001b[38;5;28;01mNone\u001b[39;00m:\n\u001b[1;32m    348\u001b[0m     \u001b[38;5;28mcls\u001b[39m \u001b[38;5;241m=\u001b[39m JSONDecoder\n",
      "File \u001b[0;32m/usr/lib/python3.11/json/decoder.py:337\u001b[0m, in \u001b[0;36mJSONDecoder.decode\u001b[0;34m(self, s, _w)\u001b[0m\n\u001b[1;32m    332\u001b[0m \u001b[38;5;28;01mdef\u001b[39;00m \u001b[38;5;21mdecode\u001b[39m(\u001b[38;5;28mself\u001b[39m, s, _w\u001b[38;5;241m=\u001b[39mWHITESPACE\u001b[38;5;241m.\u001b[39mmatch):\n\u001b[1;32m    333\u001b[0m \u001b[38;5;250m    \u001b[39m\u001b[38;5;124;03m\"\"\"Return the Python representation of ``s`` (a ``str`` instance\u001b[39;00m\n\u001b[1;32m    334\u001b[0m \u001b[38;5;124;03m    containing a JSON document).\u001b[39;00m\n\u001b[1;32m    335\u001b[0m \n\u001b[1;32m    336\u001b[0m \u001b[38;5;124;03m    \"\"\"\u001b[39;00m\n\u001b[0;32m--> 337\u001b[0m     obj, end \u001b[38;5;241m=\u001b[39m \u001b[38;5;28;43mself\u001b[39;49m\u001b[38;5;241;43m.\u001b[39;49m\u001b[43mraw_decode\u001b[49m\u001b[43m(\u001b[49m\u001b[43ms\u001b[49m\u001b[43m,\u001b[49m\u001b[43m \u001b[49m\u001b[43midx\u001b[49m\u001b[38;5;241;43m=\u001b[39;49m\u001b[43m_w\u001b[49m\u001b[43m(\u001b[49m\u001b[43ms\u001b[49m\u001b[43m,\u001b[49m\u001b[43m \u001b[49m\u001b[38;5;241;43m0\u001b[39;49m\u001b[43m)\u001b[49m\u001b[38;5;241;43m.\u001b[39;49m\u001b[43mend\u001b[49m\u001b[43m(\u001b[49m\u001b[43m)\u001b[49m\u001b[43m)\u001b[49m\n\u001b[1;32m    338\u001b[0m     end \u001b[38;5;241m=\u001b[39m _w(s, end)\u001b[38;5;241m.\u001b[39mend()\n\u001b[1;32m    339\u001b[0m     \u001b[38;5;28;01mif\u001b[39;00m end \u001b[38;5;241m!=\u001b[39m \u001b[38;5;28mlen\u001b[39m(s):\n",
      "File \u001b[0;32m/usr/lib/python3.11/json/decoder.py:355\u001b[0m, in \u001b[0;36mJSONDecoder.raw_decode\u001b[0;34m(self, s, idx)\u001b[0m\n\u001b[1;32m    353\u001b[0m     obj, end \u001b[38;5;241m=\u001b[39m \u001b[38;5;28mself\u001b[39m\u001b[38;5;241m.\u001b[39mscan_once(s, idx)\n\u001b[1;32m    354\u001b[0m \u001b[38;5;28;01mexcept\u001b[39;00m \u001b[38;5;167;01mStopIteration\u001b[39;00m \u001b[38;5;28;01mas\u001b[39;00m err:\n\u001b[0;32m--> 355\u001b[0m     \u001b[38;5;28;01mraise\u001b[39;00m JSONDecodeError(\u001b[38;5;124m\"\u001b[39m\u001b[38;5;124mExpecting value\u001b[39m\u001b[38;5;124m\"\u001b[39m, s, err\u001b[38;5;241m.\u001b[39mvalue) \u001b[38;5;28;01mfrom\u001b[39;00m \u001b[38;5;28;01mNone\u001b[39;00m\n\u001b[1;32m    356\u001b[0m \u001b[38;5;28;01mreturn\u001b[39;00m obj, end\n",
      "\u001b[0;31mJSONDecodeError\u001b[0m: Expecting value: line 1 column 1 (char 0)"
     ]
    }
   ],
   "source": [
    "# | hide\n",
    "\n",
    "import nbdev\n",
    "\n",
    "nbdev.nbdev_export()"
   ]
  }
 ],
 "metadata": {
  "kernelspec": {
   "display_name": "python3",
   "language": "python",
   "name": "python3"
  }
 },
 "nbformat": 4,
 "nbformat_minor": 2
}
