{
 "cells": [
  {
   "cell_type": "markdown",
   "metadata": {},
   "source": [
    "# Task Library"
   ]
  },
  {
   "cell_type": "code",
   "execution_count": 1,
   "metadata": {},
   "outputs": [],
   "source": [
    "# | default_exp asana.task"
   ]
  },
  {
   "cell_type": "code",
   "execution_count": 2,
   "metadata": {},
   "outputs": [],
   "source": [
    "# | exporti\n",
    "\n",
    "from __future__ import annotations\n",
    "\n",
    "from dataclasses import dataclass, field\n",
    "from typing import List, Optional\n",
    "\n",
    "import datetime as dt\n",
    "\n",
    "from mdutils.mdutils import MdUtils\n",
    "\n",
    "from nbdev.showdoc import patch_to\n",
    "\n",
    "import domolibrary_extensions.utils.utils as ut\n",
    "import domolibrary_extensions.client as gd\n",
    "import domolibrary_extensions.asana.auth as aa\n",
    "import domolibrary_extensions.asana.user as au\n",
    "import domolibrary_extensions.asana.project as ap"
   ]
  },
  {
   "cell_type": "code",
   "execution_count": 3,
   "metadata": {},
   "outputs": [
    {
     "data": {
      "text/plain": [
       "True"
      ]
     },
     "execution_count": 3,
     "metadata": {},
     "output_type": "execute_result"
    }
   ],
   "source": [
    "# | hide\n",
    "from nbdev.showdoc import show_doc\n",
    "\n",
    "from dotenv import load_dotenv\n",
    "import os\n",
    "import json\n",
    "\n",
    "load_dotenv(\"../.env\")"
   ]
  },
  {
   "cell_type": "code",
   "execution_count": 4,
   "metadata": {},
   "outputs": [],
   "source": [
    "# | export\n",
    "\n",
    "\n",
    "@dataclass\n",
    "class AsanaSection:\n",
    "    id: str\n",
    "    name: str\n",
    "    resource_type: str\n",
    "    auth: aa.AsanaAuth = field(repr=False)\n",
    "\n",
    "    @classmethod\n",
    "    def _from_json(cls, data: dict, auth=auth) -> \"AsanaSection\":\n",
    "        return cls(\n",
    "            id=data.get(\"gid\"),\n",
    "            name=data.get(\"name\"),\n",
    "            resource_type=data.get(\"resource_type\"),\n",
    "            auth=auth,\n",
    "        )\n",
    "\n",
    "\n",
    "@dataclass\n",
    "class AsanaMembership:\n",
    "    \"\"\"relates a section to a project\"\"\"\n",
    "\n",
    "    project: ap.AsanaProject\n",
    "    section: AsanaSection\n",
    "    auth: aa.AsanaAuth = field(repr=False)\n",
    "\n",
    "    @classmethod\n",
    "    def _from_json(cls, data: dict, auth: aa.AsanaAuth) -> \"AsanaMembership\":\n",
    "        project = (\n",
    "            ap.AsanaProject._from_json(data[\"project\"], auth=auth)\n",
    "            if data.get(\"project\")\n",
    "            else None\n",
    "        )\n",
    "        section = (\n",
    "            AsanaSection._from_json(data[\"section\"], auth=auth)\n",
    "            if data.get(\"section\")\n",
    "            else None\n",
    "        )\n",
    "        return cls(project=project, section=section, auth=auth)\n",
    "\n",
    "    def to_text(self):\n",
    "        return f\"{self.project.name} -> {self.section.name}\"\n",
    "\n",
    "\n",
    "@dataclass\n",
    "class AsanaStory:\n",
    "    id: str\n",
    "    created_at: dt.DateTime\n",
    "    created_by: au.AsanaUser\n",
    "    text: str\n",
    "    type: str\n",
    "    resource_subtype: str\n",
    "\n",
    "    auth: aa.AsanaAuth = field(repr=False)\n",
    "\n",
    "    @classmethod\n",
    "    def _from_json(cls, data: dict, auth: aa.AsanaAuth) -> AsanaStory:\n",
    "        created_by = (\n",
    "            au.AsanaUser._from_json(data[\"created_by\"], auth=auth)\n",
    "            if data.get(\"created_by\")\n",
    "            else None\n",
    "        )\n",
    "\n",
    "        return cls(\n",
    "            id=data.get(\"gid\"),\n",
    "            created_at=ut.convert_str_to_date(data.get(\"created_at\")),\n",
    "            created_by=created_by,\n",
    "            text=data.get(\"text\"),\n",
    "            type=data.get(\"type\"),\n",
    "            resource_subtype=data.get(\"resource_subtype\"),\n",
    "            auth=auth,\n",
    "        )\n",
    "\n",
    "    def to_text(self):\n",
    "        return f\"{self.created_at.date()} - {self.created_by.name} - {self.text}\""
   ]
  },
  {
   "cell_type": "markdown",
   "metadata": {},
   "source": [
    "# Asana Task"
   ]
  },
  {
   "cell_type": "code",
   "execution_count": 5,
   "metadata": {},
   "outputs": [],
   "source": [
    "# | export\n",
    "@dataclass\n",
    "class AsanaTask:\n",
    "    id: str\n",
    "    name: str\n",
    "    workspace_id: str\n",
    "\n",
    "    auth: aa.AsanaAuth = field(repr=False)\n",
    "    assignee: au.AsanaUser = None\n",
    "\n",
    "    assignee_status: str = None\n",
    "\n",
    "    is_completed: bool = None\n",
    "\n",
    "    created_at: dt.datetime = None\n",
    "    completed_on: dt.datetime = None\n",
    "    due_on: dt.datetime = None\n",
    "    modified_at: dt.datetime = None\n",
    "\n",
    "    memberships: List[dict] = None\n",
    "\n",
    "    notes: str = None\n",
    "\n",
    "    parent: Optional[dict] = None\n",
    "    permalink_url: str = None\n",
    "    projects: List[ap.AsanaProject] = None\n",
    "    stories: List[AsanaStory] = None\n",
    "\n",
    "    tags: List[dict] = None\n",
    "\n",
    "    @classmethod\n",
    "    def _from_json(cls, obj: dict, auth: aa.AsanaAuth) -> AsanaTask:\n",
    "        assignee = (\n",
    "            au.AsanaUser._from_json(obj.get(\"assignee\"), auth=auth)\n",
    "            if obj.get(\"assignee\")\n",
    "            else None\n",
    "        )\n",
    "\n",
    "        projects = [\n",
    "            ap.AsanaProject._from_json(project, auth=auth)\n",
    "            for project in obj.get(\"projects\", [])\n",
    "        ]\n",
    "\n",
    "        memberships = [\n",
    "            AsanaMembership._from_json(member_obj, auth=auth)\n",
    "            for member_obj in obj.get(\"memberships\", [])\n",
    "        ]\n",
    "        return cls(\n",
    "            id=obj.get(\"gid\"),\n",
    "            name=obj.get(\"name\"),\n",
    "            auth=auth,\n",
    "            workspace_id=obj.get(\"workspace\", {}).get(\"gid\"),\n",
    "            assignee=assignee,\n",
    "            is_completed=obj.get(\"completed\"),\n",
    "            assignee_status=obj.get(\"assignee_status\"),\n",
    "            completed_on=ut.convert_str_to_date(obj.get(\"completed_at\")),\n",
    "            created_at=ut.convert_str_to_date(obj.get(\"created_at\")),\n",
    "            due_on=ut.convert_str_to_date(obj.get(\"due_on\")),\n",
    "            modified_at=ut.convert_str_to_date(obj.get(\"modified_at\")),\n",
    "            memberships=memberships,\n",
    "            notes=obj.get(\"notes\"),\n",
    "            parent=obj.get(\"parent\"),\n",
    "            permalink_url=obj.get(\"permalink_url\"),\n",
    "            tags=obj.get(\"tags\", []),\n",
    "            projects=projects,\n",
    "        )"
   ]
  },
  {
   "cell_type": "code",
   "execution_count": 6,
   "metadata": {},
   "outputs": [
    {
     "data": {
      "text/markdown": [
       "---\n",
       "\n",
       "[source](https://github.com/jaewilson07/domolibrary_extensions/blob/main/domolibrary_extensions/asana/task.py#L102){target=\"_blank\" style=\"float:right; font-size:smaller\"}\n",
       "\n",
       "### AsanaTask\n",
       "\n",
       ">      AsanaTask (id:str, name:str, workspace_id:str,\n",
       ">                 auth:domolibrary_extensions.asana.auth.AsanaAuth,\n",
       ">                 assignee:domolibrary_extensions.asana.user.AsanaUser=None,\n",
       ">                 assignee_status:str=None, is_completed:bool=None,\n",
       ">                 created_at:datetime.datetime=None,\n",
       ">                 completed_on:datetime.datetime=None,\n",
       ">                 due_on:datetime.datetime=None,\n",
       ">                 modified_at:datetime.datetime=None,\n",
       ">                 memberships:List[dict]=None, notes:str=None,\n",
       ">                 parent:Optional[dict]=None, permalink_url:str=None, projects:L\n",
       ">                 ist[domolibrary_extensions.asana.project.AsanaProject]=None,\n",
       ">                 stories:List[__main__.AsanaStory]=None, tags:List[dict]=None)"
      ],
      "text/plain": [
       "---\n",
       "\n",
       "[source](https://github.com/jaewilson07/domolibrary_extensions/blob/main/domolibrary_extensions/asana/task.py#L102){target=\"_blank\" style=\"float:right; font-size:smaller\"}\n",
       "\n",
       "### AsanaTask\n",
       "\n",
       ">      AsanaTask (id:str, name:str, workspace_id:str,\n",
       ">                 auth:domolibrary_extensions.asana.auth.AsanaAuth,\n",
       ">                 assignee:domolibrary_extensions.asana.user.AsanaUser=None,\n",
       ">                 assignee_status:str=None, is_completed:bool=None,\n",
       ">                 created_at:datetime.datetime=None,\n",
       ">                 completed_on:datetime.datetime=None,\n",
       ">                 due_on:datetime.datetime=None,\n",
       ">                 modified_at:datetime.datetime=None,\n",
       ">                 memberships:List[dict]=None, notes:str=None,\n",
       ">                 parent:Optional[dict]=None, permalink_url:str=None, projects:L\n",
       ">                 ist[domolibrary_extensions.asana.project.AsanaProject]=None,\n",
       ">                 stories:List[__main__.AsanaStory]=None, tags:List[dict]=None)"
      ]
     },
     "execution_count": 6,
     "metadata": {},
     "output_type": "execute_result"
    }
   ],
   "source": [
    "show_doc(AsanaTask)"
   ]
  },
  {
   "cell_type": "code",
   "execution_count": 7,
   "metadata": {},
   "outputs": [],
   "source": [
    "# | exporti\n",
    "@patch_to(AsanaTask, cls_method=True)\n",
    "async def get_by_id(\n",
    "    cls, auth, task_id, debug_api: bool = False, return_raw: bool = False\n",
    "):\n",
    "    url = f\"{auth.base_url}/tasks/{task_id}\"\n",
    "\n",
    "    res = await gd.get_data(\n",
    "        auth=auth,\n",
    "        method=\"GET\",\n",
    "        url=url,\n",
    "        debug_api=debug_api,\n",
    "    )\n",
    "\n",
    "    if return_raw:\n",
    "        return res\n",
    "\n",
    "    return cls._from_json(res.response[\"data\"], auth=auth)"
   ]
  },
  {
   "cell_type": "code",
   "execution_count": 8,
   "metadata": {},
   "outputs": [
    {
     "data": {
      "text/markdown": [
       "---\n",
       "\n",
       "[source](https://github.com/jaewilson07/domolibrary_extensions/blob/main/domolibrary_extensions/asana/task.py#L169){target=\"_blank\" style=\"float:right; font-size:smaller\"}\n",
       "\n",
       "### AsanaTask.get_by_id\n",
       "\n",
       ">      AsanaTask.get_by_id (auth, task_id, debug_api:bool=False,\n",
       ">                           return_raw:bool=False)"
      ],
      "text/plain": [
       "---\n",
       "\n",
       "[source](https://github.com/jaewilson07/domolibrary_extensions/blob/main/domolibrary_extensions/asana/task.py#L169){target=\"_blank\" style=\"float:right; font-size:smaller\"}\n",
       "\n",
       "### AsanaTask.get_by_id\n",
       "\n",
       ">      AsanaTask.get_by_id (auth, task_id, debug_api:bool=False,\n",
       ">                           return_raw:bool=False)"
      ]
     },
     "execution_count": 8,
     "metadata": {},
     "output_type": "execute_result"
    }
   ],
   "source": [
    "show_doc(AsanaTask.get_by_id)"
   ]
  },
  {
   "cell_type": "code",
   "execution_count": 9,
   "metadata": {},
   "outputs": [
    {
     "data": {
      "text/plain": [
       "AsanaTask(id='1206043185525463', name='Draft project brief', workspace_id='1206043147237389', assignee=AsanaUser(id='1206043147237379', name='Jae Wilson', email=None), assignee_status='inbox', is_completed=False, created_at=datetime.datetime(2023, 11, 27, 22, 34, 14, 216000, tzinfo=tzutc()), completed_on=None, due_on=datetime.datetime(2023, 11, 29, 0, 0), modified_at=datetime.datetime(2023, 11, 29, 7, 11, 25, 487000, tzinfo=tzutc()), memberships=[AsanaMembership(project=AsanaProject(id='1206043185525448', name='asana_sync', workspace_id=None, permalink_url=None, is_archived=None, is_completed=None, created_date=None, modified_date=None, owner=None, members=None, due_date=None, completed_date=None), section=AsanaSection(id='1206043185525449', name='To do', resource_type='section'))], notes='Do the thing mr. wilson', parent=None, permalink_url='https://app.asana.com/0/1206043185525448/1206043185525463', projects=[AsanaProject(id='1206043185525448', name='asana_sync', workspace_id=None, permalink_url=None, is_archived=None, is_completed=None, created_date=None, modified_date=None, owner=None, members=None, due_date=None, completed_date=None)], stories=None, tags=[])"
      ]
     },
     "execution_count": 9,
     "metadata": {},
     "output_type": "execute_result"
    }
   ],
   "source": [
    "asana_pat = json.loads(os.environ[\"ASANA_PUBLIC\"])[\"ASANA_PAT\"]\n",
    "workspace_id = \"1206043185525448\"\n",
    "asana_auth = aa.AsanaAuth(token=asana_pat, workspace_id=workspace_id)\n",
    "\n",
    "task_id = \"1206043185525463\"\n",
    "await AsanaTask.get_by_id(task_id=task_id, auth=asana_auth, return_raw=False)"
   ]
  },
  {
   "cell_type": "code",
   "execution_count": 10,
   "metadata": {},
   "outputs": [],
   "source": [
    "# | exporti\n",
    "@patch_to(AsanaTask)\n",
    "async def get_stories(\n",
    "    self,\n",
    "    debug_api: bool = False,\n",
    "    return_raw: bool = False,\n",
    "    is_only_comments: bool = False,  # stories include any changes to the task, comments are a subtype of stories\n",
    "):\n",
    "    auth = self.auth\n",
    "\n",
    "    url = f\"{auth.base_url}/tasks/{self.id}/stories\"\n",
    "\n",
    "    res = await gd.get_data(\n",
    "        auth=self.auth,\n",
    "        method=\"GET\",\n",
    "        url=url,\n",
    "        debug_api=debug_api,\n",
    "    )\n",
    "\n",
    "    if return_raw:\n",
    "        return res\n",
    "\n",
    "    self.stories = [\n",
    "        AsanaStory._from_json(story_obj, auth=auth)\n",
    "        for story_obj in res.response[\"data\"]\n",
    "    ]\n",
    "\n",
    "    if is_only_comments:\n",
    "        self.stories = [\n",
    "            story for story in self.stories if \"comment\" in story.resource_subtype\n",
    "        ]\n",
    "\n",
    "    return self.stories"
   ]
  },
  {
   "cell_type": "code",
   "execution_count": 11,
   "metadata": {},
   "outputs": [
    {
     "data": {
      "text/markdown": [
       "---\n",
       "\n",
       "[source](https://github.com/fastai/nbdev/blob/master/nbdev/showdoc.py#LNone){target=\"_blank\" style=\"float:right; font-size:smaller\"}\n",
       "\n",
       "### show_doc\n",
       "\n",
       ">      show_doc (sym, renderer=None, name:str|None=None, title_level:int=3)\n",
       "\n",
       "Show signature and docstring for `sym`\n",
       "\n",
       "|    | **Type** | **Default** | **Details** |\n",
       "| -- | -------- | ----------- | ----------- |\n",
       "| sym |  |  | Symbol to document |\n",
       "| renderer | NoneType | None | Optional renderer (defaults to markdown) |\n",
       "| name | str \\| None | None | Optionally override displayed name of `sym` |\n",
       "| title_level | int | 3 | Heading level to use for symbol name |"
      ],
      "text/plain": [
       "---\n",
       "\n",
       "[source](https://github.com/fastai/nbdev/blob/master/nbdev/showdoc.py#LNone){target=\"_blank\" style=\"float:right; font-size:smaller\"}\n",
       "\n",
       "### show_doc\n",
       "\n",
       ">      show_doc (sym, renderer=None, name:str|None=None, title_level:int=3)\n",
       "\n",
       "Show signature and docstring for `sym`\n",
       "\n",
       "|    | **Type** | **Default** | **Details** |\n",
       "| -- | -------- | ----------- | ----------- |\n",
       "| sym |  |  | Symbol to document |\n",
       "| renderer | NoneType | None | Optional renderer (defaults to markdown) |\n",
       "| name | str \\| None | None | Optionally override displayed name of `sym` |\n",
       "| title_level | int | 3 | Heading level to use for symbol name |"
      ]
     },
     "execution_count": 11,
     "metadata": {},
     "output_type": "execute_result"
    }
   ],
   "source": [
    "show_doc(get_stories)"
   ]
  },
  {
   "cell_type": "code",
   "execution_count": 12,
   "metadata": {},
   "outputs": [
    {
     "data": {
      "text/plain": [
       "[AsanaStory(id='1206043165446912', created_at=datetime.datetime(2023, 11, 27, 22, 49, 29, 310000, tzinfo=tzutc()), created_by=AsanaUser(id='1206043147237379', name='Jae Wilson', email=None), text='we need to get this done fast!', type='comment', resource_subtype='comment_added')]"
      ]
     },
     "execution_count": 12,
     "metadata": {},
     "output_type": "execute_result"
    }
   ],
   "source": [
    "asana_pat = json.loads(os.environ[\"ASANA_PUBLIC\"])[\"ASANA_PAT\"]\n",
    "workspace_id = \"1206043185525448\"\n",
    "asana_auth = aa.AsanaAuth(token=asana_pat, workspace_id=workspace_id)\n",
    "\n",
    "task_id = \"1206043185525463\"\n",
    "asana_task = await AsanaTask.get_by_id(\n",
    "    task_id=task_id, auth=asana_auth, return_raw=False\n",
    ")\n",
    "\n",
    "await asana_task.get_stories(return_raw=False, is_only_comments=True, debug_api=False)"
   ]
  },
  {
   "cell_type": "code",
   "execution_count": 13,
   "metadata": {},
   "outputs": [],
   "source": [
    "# | exporti\n",
    "def handle_render_user(mdFile, key, value):\n",
    "    mdFile.new_line(f\"{key} - {value.name}\")\n",
    "\n",
    "\n",
    "def handle_render_datetime(mdFile, key, value):\n",
    "    mdFile.new_line(f\"{key} - {value.date()}\")\n",
    "\n",
    "\n",
    "render_factory_values = {\n",
    "    \"AsanaUser\": handle_render_user,\n",
    "    \"datetime\": handle_render_datetime,\n",
    "}\n",
    "\n",
    "\n",
    "def handle_render_membership(mdFile, key, value):\n",
    "    mdFile.new_header(level=1, title=key)\n",
    "    [mdFile.new_line(asana_class.to_text()) for asana_class in value]\n",
    "\n",
    "\n",
    "def handle_render_stories(mdFile, key, value):\n",
    "    mdFile.new_header(level=1, title=key)\n",
    "    [\n",
    "        mdFile.new_line(asana_class.to_text())\n",
    "        for asana_class in value\n",
    "        if \"comment\" in asana_class.resource_subtype\n",
    "    ]\n",
    "\n",
    "\n",
    "def handle_render_default(mdFile, key, value):\n",
    "    mdFile.new_line(f\"{key} - {value}\")\n",
    "\n",
    "\n",
    "render_factory_keys = {\n",
    "    \"memberships\": handle_render_membership,\n",
    "    \"stories\": handle_render_stories,\n",
    "    \"default\": handle_render_default,\n",
    "}\n",
    "\n",
    "\n",
    "def render_field(key: str, value: str, mdFile):\n",
    "    if key in [\"name\", \"projects\"] or not value:\n",
    "        return\n",
    "\n",
    "    render_fn = (\n",
    "        render_factory_values.get(value.__class__.__name__)\n",
    "        or render_factory_keys.get(key)\n",
    "        or render_factory_keys.get(\"default\")\n",
    "    )\n",
    "\n",
    "    render_fn(mdFile=mdFile, key=key, value=value)\n",
    "\n",
    "\n",
    "@patch_to(AsanaTask)\n",
    "def to_md(self, output_folder=\"markdown\", output_file=None):\n",
    "    ut.upsert_folder(output_folder)\n",
    "\n",
    "    mdFile = MdUtils(\n",
    "        file_name=f\"{output_folder}/{output_file or self.id}\",\n",
    "        title=output_file or self.name,\n",
    "    )\n",
    "\n",
    "    [\n",
    "        render_field(key, getattr(self, key), mdFile)\n",
    "        for key in self.__dict__.keys()\n",
    "        if key not in [\"auth\", \"workspace_id\"]\n",
    "    ]\n",
    "    mdFile.create_md_file()\n",
    "\n",
    "    return f\"done exporting {mdFile.file_name}\"\n",
    "    # mdFile.new_table(columns=3, rows=6, text=list_of_strings, text_align='center')"
   ]
  },
  {
   "cell_type": "code",
   "execution_count": 14,
   "metadata": {},
   "outputs": [
    {
     "data": {
      "text/markdown": [
       "---\n",
       "\n",
       "[source](https://github.com/jaewilson07/domolibrary_extensions/blob/main/domolibrary_extensions/asana/task.py#L274){target=\"_blank\" style=\"float:right; font-size:smaller\"}\n",
       "\n",
       "### AsanaTask.to_md\n",
       "\n",
       ">      AsanaTask.to_md (output_folder='markdown', output_file=None)"
      ],
      "text/plain": [
       "---\n",
       "\n",
       "[source](https://github.com/jaewilson07/domolibrary_extensions/blob/main/domolibrary_extensions/asana/task.py#L274){target=\"_blank\" style=\"float:right; font-size:smaller\"}\n",
       "\n",
       "### AsanaTask.to_md\n",
       "\n",
       ">      AsanaTask.to_md (output_folder='markdown', output_file=None)"
      ]
     },
     "execution_count": 14,
     "metadata": {},
     "output_type": "execute_result"
    }
   ],
   "source": [
    "show_doc(AsanaTask.to_md)"
   ]
  },
  {
   "cell_type": "code",
   "execution_count": 15,
   "metadata": {},
   "outputs": [
    {
     "data": {
      "text/plain": [
       "'done exporting ../TEST/asana/task//sample_task.md'"
      ]
     },
     "execution_count": 15,
     "metadata": {},
     "output_type": "execute_result"
    }
   ],
   "source": [
    "await asana_task.get_stories()\n",
    "\n",
    "asana_task.to_md(output_folder=\"../TEST/asana/task/\", output_file=\"sample_task.md\")"
   ]
  },
  {
   "cell_type": "markdown",
   "metadata": {},
   "source": [
    "# Reverse Patch Projects"
   ]
  },
  {
   "cell_type": "code",
   "execution_count": 16,
   "metadata": {},
   "outputs": [],
   "source": [
    "# | exporti\n",
    "@patch_to(ap.AsanaProject)\n",
    "async def get_tasks(\n",
    "    self: ap.AsanaProject, debug_api: bool = False, return_raw: bool = False\n",
    "):\n",
    "    import domolibrary_extensions.asana.task as at\n",
    "\n",
    "    auth = self.auth\n",
    "    params = {\"project\": self.id}\n",
    "\n",
    "    url = f\"{auth.base_url}/tasks\"\n",
    "\n",
    "    res = await gd.get_data(\n",
    "        auth=auth, method=\"GET\", url=url, debug_api=debug_api, params=params\n",
    "    )\n",
    "\n",
    "    if return_raw:\n",
    "        return res\n",
    "\n",
    "    return [\n",
    "        AsanaTask._from_json(task_obj, auth=auth) for task_obj in res.response[\"data\"]\n",
    "    ]"
   ]
  },
  {
   "cell_type": "code",
   "execution_count": 17,
   "metadata": {},
   "outputs": [
    {
     "data": {
      "text/plain": [
       "[AsanaTask(id='1206043185525463', name='Draft project brief', workspace_id=None, assignee=None, assignee_status=None, is_completed=None, created_at=None, completed_on=None, due_on=None, modified_at=None, memberships=[], notes=None, parent=None, permalink_url=None, projects=[], stories=None, tags=[]),\n",
       " AsanaTask(id='1206043185525465', name='Schedule kickoff meeting', workspace_id=None, assignee=None, assignee_status=None, is_completed=None, created_at=None, completed_on=None, due_on=None, modified_at=None, memberships=[], notes=None, parent=None, permalink_url=None, projects=[], stories=None, tags=[]),\n",
       " AsanaTask(id='1206043185525467', name='Share timeline with teammates', workspace_id=None, assignee=None, assignee_status=None, is_completed=None, created_at=None, completed_on=None, due_on=None, modified_at=None, memberships=[], notes=None, parent=None, permalink_url=None, projects=[], stories=None, tags=[])]"
      ]
     },
     "execution_count": 17,
     "metadata": {},
     "output_type": "execute_result"
    }
   ],
   "source": [
    "asana_pat = json.loads(os.environ[\"ASANA_PUBLIC\"])[\"ASANA_PAT\"]\n",
    "workspace_id = \"1206043185525448\"\n",
    "project_id = \"1206043185525448\"\n",
    "\n",
    "asana_auth = aa.AsanaAuth(token=asana_pat, workspace_id=workspace_id)\n",
    "\n",
    "asana_project = await ap.AsanaProject.get_by_id(auth=asana_auth, project_id=project_id)\n",
    "\n",
    "await asana_project.get_tasks()"
   ]
  },
  {
   "cell_type": "code",
   "execution_count": 18,
   "metadata": {},
   "outputs": [],
   "source": [
    "# | hide\n",
    "\n",
    "import nbdev\n",
    "\n",
    "nbdev.nbdev_export()"
   ]
  }
 ],
 "metadata": {
  "kernelspec": {
   "display_name": "python3",
   "language": "python",
   "name": "python3"
  },
  "language_info": {
   "codemirror_mode": {
    "name": "ipython",
    "version": 3
   },
   "file_extension": ".py",
   "mimetype": "text/x-python",
   "name": "python",
   "nbconvert_exporter": "python",
   "pygments_lexer": "ipython3",
   "version": "3.10.12"
  }
 },
 "nbformat": 4,
 "nbformat_minor": 2
}
