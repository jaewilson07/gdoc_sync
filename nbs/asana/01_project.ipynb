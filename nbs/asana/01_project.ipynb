{
 "cells": [
  {
   "cell_type": "markdown",
   "metadata": {},
   "source": [
    "# Project Library"
   ]
  },
  {
   "cell_type": "code",
   "execution_count": 1,
   "metadata": {},
   "outputs": [],
   "source": [
    "# | default_exp asana.project"
   ]
  },
  {
   "cell_type": "code",
   "execution_count": 2,
   "metadata": {},
   "outputs": [],
   "source": [
    "# | exporti\n",
    "\n",
    "from __future__ import annotations\n",
    "\n",
    "from dataclasses import dataclass, field\n",
    "from typing import List\n",
    "import datetime as dt\n",
    "\n",
    "from nbdev.showdoc import patch_to\n",
    "\n",
    "import domolibrary_extensions.utils.utils as ut\n",
    "import domolibrary_extensions.client as gd\n",
    "import domolibrary_extensions.asana.auth as aa\n",
    "import domolibrary_extensions.asana.user as au"
   ]
  },
  {
   "cell_type": "code",
   "execution_count": 3,
   "metadata": {},
   "outputs": [],
   "source": [
    "# |hide\n",
    "from dotenv import load_dotenv\n",
    "import os\n",
    "import json\n",
    "\n",
    "assert load_dotenv(\"../.env\")"
   ]
  },
  {
   "cell_type": "code",
   "execution_count": 4,
   "metadata": {},
   "outputs": [],
   "source": [
    "# | export\n",
    "@dataclass\n",
    "class AsanaProject:\n",
    "    id: str\n",
    "    name: str\n",
    "    workspace_id: str\n",
    "    permalink_url: str\n",
    "    auth: aa.AsanaAuth = field(repr=False)\n",
    "\n",
    "    is_archived: bool\n",
    "    is_completed: bool\n",
    "\n",
    "    created_date: dt.datetime\n",
    "    modified_date: dt.datetime\n",
    "\n",
    "    owner: au.AsanaUser\n",
    "    members: List[au.AsanaUser]\n",
    "\n",
    "    due_date: dt.datetime = None\n",
    "    completed_date: dt.datetime = None\n",
    "\n",
    "    tasks = None  # AsanaTask\n",
    "\n",
    "    @classmethod\n",
    "    def _from_json(cls, obj, auth: aa.AsanaAuth):\n",
    "        owner = (\n",
    "            au.AsanaUser._from_json(obj.get(\"owner\"), auth=auth)\n",
    "            if obj.get(\"owner\")\n",
    "            else None\n",
    "        )\n",
    "\n",
    "        members = (\n",
    "            [\n",
    "                au.AsanaUser._from_json(member, auth=auth)\n",
    "                for member in obj.get(\"members\", [])\n",
    "            ]\n",
    "            if obj.get(\"members\")\n",
    "            else None\n",
    "        )\n",
    "\n",
    "        created_date = ut.convert_str_to_date(obj.get(\"created_at\"))\n",
    "        modified_date = ut.convert_str_to_date(obj.get(\"modified_at\"))\n",
    "        due_date = ut.convert_str_to_date(obj.get(\"due_on\"))\n",
    "        completed_date = ut.convert_str_to_date(obj.get(\"completed_at\"))\n",
    "\n",
    "        return cls(\n",
    "            auth=auth,\n",
    "            id=obj.get(\"gid\"),\n",
    "            name=obj.get(\"name\"),\n",
    "            workspace_id=obj.get(\"workspace\", {}).get(\"gid\"),\n",
    "            permalink_url=obj.get(\"permalink_url\"),\n",
    "            is_archived=obj.get(\"archived\"),\n",
    "            is_completed=obj.get(\"completed\"),\n",
    "            created_date=created_date,\n",
    "            modified_date=modified_date,\n",
    "            owner=owner,\n",
    "            members=members,\n",
    "            due_date=due_date,\n",
    "            completed_date=completed_date,\n",
    "        )"
   ]
  },
  {
   "cell_type": "code",
   "execution_count": 5,
   "metadata": {},
   "outputs": [],
   "source": [
    "# |exporti\n",
    "@patch_to(AsanaProject, cls_method=True)\n",
    "async def get_projects(\n",
    "    cls: AsanaProject,\n",
    "    auth: aa.AsanaAuth,\n",
    "    debug_api: bool = False,\n",
    "    return_raw: bool = False,\n",
    "):\n",
    "    url = f\"{auth.base_url}/projects\"\n",
    "\n",
    "    res = await gd.get_data(\n",
    "        auth=auth,\n",
    "        method=\"GET\",\n",
    "        url=url,\n",
    "        debug_api=debug_api,\n",
    "    )\n",
    "\n",
    "    if return_raw:\n",
    "        return res\n",
    "\n",
    "    return [\n",
    "        AsanaProject._from_json(proj_obj, auth=auth)\n",
    "        for proj_obj in res.response[\"data\"]\n",
    "    ]"
   ]
  },
  {
   "cell_type": "markdown",
   "metadata": {},
   "source": [
    "#### sample implementation of get_projects"
   ]
  },
  {
   "cell_type": "code",
   "execution_count": 6,
   "metadata": {},
   "outputs": [
    {
     "data": {
      "text/plain": [
       "[AsanaProject(id='1206043185525448', name='asana_sync', workspace_id=None, permalink_url=None, is_archived=None, is_completed=None, created_date=None, modified_date=None, owner=None, members=None, due_date=None, completed_date=None)]"
      ]
     },
     "execution_count": 6,
     "metadata": {},
     "output_type": "execute_result"
    }
   ],
   "source": [
    "# destructure auth fields from env\n",
    "\n",
    "asana_pat = json.loads(os.environ[\"ASANA_PUBLIC\"])[\"ASANA_PAT\"]\n",
    "\n",
    "workspace_id = \"1206043185525448\"\n",
    "user_id = \"1206043147237379\"\n",
    "asana_auth = aa.AsanaAuth(token=asana_pat, workspace_id=workspace_id)\n",
    "\n",
    "asana_projects = await AsanaProject.get_projects(\n",
    "    auth=asana_auth, debug_api=True, return_raw=False\n",
    ")\n",
    "asana_projects"
   ]
  },
  {
   "cell_type": "code",
   "execution_count": 7,
   "metadata": {},
   "outputs": [],
   "source": [
    "# | exporti\n",
    "@patch_to(AsanaProject, cls_method=True)\n",
    "async def get_by_id(\n",
    "    cls: AsanaProject,\n",
    "    auth: aa.AsanaAuth,\n",
    "    project_id,\n",
    "    debug_api: bool = False,\n",
    "    return_raw: bool = False,\n",
    "):\n",
    "    url = f\"{auth.base_url}/projects/{project_id}\"\n",
    "\n",
    "    res = await gd.get_data(\n",
    "        auth=auth,\n",
    "        method=\"GET\",\n",
    "        url=url,\n",
    "        debug_api=debug_api,\n",
    "    )\n",
    "\n",
    "    if return_raw:\n",
    "        return res\n",
    "\n",
    "    return cls._from_json(res.response[\"data\"], auth=auth)"
   ]
  },
  {
   "cell_type": "markdown",
   "metadata": {},
   "source": [
    "#### sample implementation of get_project_by_id"
   ]
  },
  {
   "cell_type": "code",
   "execution_count": 8,
   "metadata": {},
   "outputs": [
    {
     "data": {
      "text/plain": [
       "AsanaProject(id='1206043185525448', name='asana_sync', workspace_id='1206043147237389', permalink_url='https://app.asana.com/0/1206043185525448/1206043185525448', is_archived=False, is_completed=False, created_date=datetime.datetime(2023, 11, 27, 22, 34, 13, 86000, tzinfo=tzutc()), modified_date=datetime.datetime(2023, 11, 27, 22, 49, 29, 374000, tzinfo=tzutc()), owner=AsanaUser(id='1206043147237379', name='Jae Wilson', email=None), members=[AsanaUser(id='1206043147237379', name='Jae Wilson', email=None)], due_date=None, completed_date=None)"
      ]
     },
     "execution_count": 8,
     "metadata": {},
     "output_type": "execute_result"
    }
   ],
   "source": [
    "project_id = asana_projects[0].id\n",
    "\n",
    "asana_project = await AsanaProject.get_by_id(auth=asana_auth, project_id=project_id)\n",
    "asana_project"
   ]
  },
  {
   "cell_type": "code",
   "execution_count": 9,
   "metadata": {},
   "outputs": [],
   "source": [
    "# | hide\n",
    "\n",
    "import nbdev\n",
    "\n",
    "nbdev.nbdev_export()"
   ]
  }
 ],
 "metadata": {
  "kernelspec": {
   "display_name": "python3",
   "language": "python",
   "name": "python3"
  },
  "language_info": {
   "codemirror_mode": {
    "name": "ipython",
    "version": 3
   },
   "file_extension": ".py",
   "mimetype": "text/x-python",
   "name": "python",
   "nbconvert_exporter": "python",
   "pygments_lexer": "ipython3",
   "version": "3.10.12"
  }
 },
 "nbformat": 4,
 "nbformat_minor": 2
}
