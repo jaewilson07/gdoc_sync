{
 "cells": [
  {
   "cell_type": "markdown",
   "metadata": {},
   "source": [
    "# Asana Library"
   ]
  },
  {
   "cell_type": "code",
   "execution_count": 33,
   "metadata": {},
   "outputs": [],
   "source": [
    "# | default_exp asana.user"
   ]
  },
  {
   "cell_type": "code",
   "execution_count": 34,
   "metadata": {},
   "outputs": [],
   "source": [
    "# | exporti\n",
    "\n",
    "from __future__ import annotations\n",
    "\n",
    "from dataclasses import dataclass, field\n",
    "from typing import List\n",
    "\n",
    "from nbdev.showdoc import patch_to\n",
    "\n",
    "import gdoc_sync.asana.auth as aa\n",
    "import gdoc_sync.client as gd"
   ]
  },
  {
   "cell_type": "code",
   "execution_count": 45,
   "metadata": {},
   "outputs": [],
   "source": [
    "# | export\n",
    "@dataclass\n",
    "class AsanaUser:\n",
    "    id: str\n",
    "    name: str\n",
    "    auth: aa.AsanaAuth = field(repr=False)\n",
    "    resource_type: str = field(repr=False)\n",
    "    email: str = None\n",
    "\n",
    "    @classmethod\n",
    "    def _from_json(cls, obj, auth: aa.AsanaAuth):\n",
    "        return cls(\n",
    "            id=obj[\"gid\"],\n",
    "            name=obj[\"name\"],\n",
    "            email=obj.get(\"email\"),\n",
    "            resource_type=obj[\"resource_type\"],\n",
    "            auth=auth,\n",
    "        )"
   ]
  },
  {
   "cell_type": "code",
   "execution_count": 46,
   "metadata": {},
   "outputs": [],
   "source": [
    "@patch_to(AsanaUser, cls_method=True)\n",
    "async def get_user(\n",
    "    cls, auth: aa.AsanaAuth, debug_api: bool = False, return_raw: bool = False\n",
    ") -> List[AsanaUser]:\n",
    "    url = f\"{auth.base_url}/users/\"\n",
    "\n",
    "    res = await gd.get_data(url, auth=auth, method=\"GET\", debug_api=debug_api)\n",
    "\n",
    "    if return_raw:\n",
    "        return res\n",
    "\n",
    "    return [cls._from_json(user_obj, auth=auth) for user_obj in res.response[\"data\"]]"
   ]
  },
  {
   "cell_type": "code",
   "execution_count": 49,
   "metadata": {},
   "outputs": [
    {
     "data": {
      "text/plain": [
       "[AsanaUser(id='1206043147237379', name='Jae Wilson', email=None)]"
      ]
     },
     "execution_count": 49,
     "metadata": {},
     "output_type": "execute_result"
    }
   ],
   "source": [
    "import os, json\n",
    "\n",
    "# destructure auth fields from env\n",
    "asana_pat = json.loads(os.environ[\"ASANA_PUBLIC\"])[\"ASANA_PAT\"]\n",
    "\n",
    "workspace_id = \"1206043185525448\"\n",
    "\n",
    "asana_auth = aa.AsanaAuth(token=asana_pat, workspace_id=workspace_id)\n",
    "\n",
    "await AsanaUser.get_user(auth=asana_auth, debug_api=False, return_raw=False)"
   ]
  },
  {
   "cell_type": "code",
   "execution_count": 50,
   "metadata": {},
   "outputs": [],
   "source": [
    "# | exporti\n",
    "\n",
    "\n",
    "@patch_to(AsanaUser, cls_method=True)\n",
    "async def get_by_id(\n",
    "    cls,\n",
    "    user_id: str,\n",
    "    auth: aa.AsanaAuth,\n",
    "    debug_api: bool = False,\n",
    "    return_raw: bool = False,\n",
    ") -> AsanaUser:\n",
    "    \"\"\"Get a user by ID\"\"\"\n",
    "    url = f\"{auth.base_url}/users/{user_id}\"\n",
    "\n",
    "    res = await gd.get_data(url, auth=auth, method=\"GET\", debug_api=debug_api)\n",
    "\n",
    "    if return_raw:\n",
    "        return res\n",
    "\n",
    "    return cls._from_json(res.response[\"data\"], auth=auth)"
   ]
  },
  {
   "cell_type": "code",
   "execution_count": 51,
   "metadata": {},
   "outputs": [
    {
     "data": {
      "text/plain": [
       "AsanaUser(id='1206043147237379', name='Jae Wilson', email='jaewilson07@gmail.com')"
      ]
     },
     "execution_count": 51,
     "metadata": {},
     "output_type": "execute_result"
    }
   ],
   "source": [
    "import os, json\n",
    "\n",
    "# destructure auth fields from env\n",
    "asana_pat = json.loads(os.environ[\"ASANA_PUBLIC\"])[\"ASANA_PAT\"]\n",
    "\n",
    "workspace_id = \"1206043185525448\"\n",
    "user_id = \"1206043147237379\"\n",
    "asana_auth = aa.AsanaAuth(token=asana_pat, workspace_id=workspace_id)\n",
    "\n",
    "await AsanaUser.get_by_id(user_id=user_id, auth=asana_auth, return_raw=False)"
   ]
  },
  {
   "cell_type": "code",
   "execution_count": 40,
   "metadata": {},
   "outputs": [],
   "source": [
    "# | hide\n",
    "import nbdev\n",
    "\n",
    "nbdev.nbdev_export()"
   ]
  }
 ],
 "metadata": {
  "kernelspec": {
   "display_name": "base",
   "language": "python",
   "name": "python3"
  },
  "language_info": {
   "codemirror_mode": {
    "name": "ipython",
    "version": 3
   },
   "file_extension": ".py",
   "mimetype": "text/x-python",
   "name": "python",
   "nbconvert_exporter": "python",
   "pygments_lexer": "ipython3",
   "version": "3.10.8"
  }
 },
 "nbformat": 4,
 "nbformat_minor": 2
}
