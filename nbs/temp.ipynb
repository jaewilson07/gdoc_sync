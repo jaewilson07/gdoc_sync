{
 "cells": [
  {
   "cell_type": "code",
   "execution_count": 4,
   "metadata": {},
   "outputs": [
    {
     "data": {
      "text/plain": [
       "'black black[jupyter] bs4 fastcore google-oauth httpx jupyterlab jupyterlab-quarto langchain markdownify mdutils nbdev openai pandas pptx2md python-dotenv'"
      ]
     },
     "execution_count": 4,
     "metadata": {},
     "output_type": "execute_result"
    }
   ],
   "source": [
    "new = \"nbdev httpx google-oauth mdutils pptx2md markdownify bs4 black python-dotenv black black[jupyter] fastcore pandas httpx nbdev jupyterlab jupyterlab-quarto python-dotenv langchain openai\"\n",
    "\n",
    "\" \".join(sorted(list(set(new.split(\" \")))))"
   ]
  }
 ],
 "metadata": {
  "kernelspec": {
   "display_name": "Python 3",
   "language": "python",
   "name": "python3"
  },
  "language_info": {
   "codemirror_mode": {
    "name": "ipython",
    "version": 3
   },
   "file_extension": ".py",
   "mimetype": "text/x-python",
   "name": "python",
   "nbconvert_exporter": "python",
   "pygments_lexer": "ipython3",
   "version": "3.10.12"
  }
 },
 "nbformat": 4,
 "nbformat_minor": 2
}
