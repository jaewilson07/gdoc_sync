{
 "cells": [
  {
   "cell_type": "markdown",
   "metadata": {},
   "source": [
    "# ResponseGetData\n",
    "\n",
    "> preferred response class for all API requests"
   ]
  },
  {
   "cell_type": "code",
   "execution_count": null,
   "metadata": {},
   "outputs": [],
   "source": [
    "#| default_exp ResponseGetData"
   ]
  },
  {
   "cell_type": "code",
   "execution_count": null,
   "metadata": {},
   "outputs": [],
   "source": [
    "#| hide\n",
    "from nbdev.showdoc import *"
   ]
  },
  {
   "cell_type": "code",
   "execution_count": null,
   "metadata": {},
   "outputs": [],
   "source": [
    "#| export\n",
    "from dataclasses import dataclass, field\n",
    "from fastcore.utils import patch_to\n",
    "from fastcore.test import test_eq\n",
    "\n",
    "import requests\n",
    "import asyncio\n",
    "import aiohttp"
   ]
  },
  {
   "cell_type": "code",
   "execution_count": null,
   "metadata": {},
   "outputs": [],
   "source": [
    "#| export\n",
    "API_Response = any\n",
    "\n",
    "@dataclass\n",
    "class ResponseGetData:\n",
    "    \"\"\"preferred response class for all API Requests\"\"\"\n",
    "    status: int\n",
    "    response: API_Response\n",
    "    is_success: bool\n",
    "    auth: dict = field(default=None)"
   ]
  },
  {
   "cell_type": "code",
   "execution_count": null,
   "metadata": {},
   "outputs": [
    {
     "data": {
      "text/plain": [
       "ResponseGetData(status=200, response='test', is_success=True, auth=None)"
      ]
     },
     "execution_count": null,
     "metadata": {},
     "output_type": "execute_result"
    }
   ],
   "source": [
    "rgd = ResponseGetData(status = 200, response = \"test\", is_success = True)\n",
    "rgd"
   ]
  },
  {
   "cell_type": "code",
   "execution_count": null,
   "metadata": {},
   "outputs": [],
   "source": [
    "#| hide\n",
    "test_eq(rgd.is_success , True)"
   ]
  },
  {
   "cell_type": "markdown",
   "metadata": {},
   "source": [
    "# Classmethods from Response objects by library\n",
    "\n",
    "This code base supports two API request libraries, `requests.request` (synchronous) and `aiohttp.ClientRequest` (asynchronous) this can be extended as new libraries emerge with different performance characteristics."
   ]
  },
  {
   "cell_type": "code",
   "execution_count": null,
   "metadata": {},
   "outputs": [],
   "source": [
    "#| export\n",
    "@patch_to(ResponseGetData, cls_method = True)\n",
    "def _from_requests_response(cls, res : requests.Response #requests response object\n",
    "                           ) -> ResponseGetData:\n",
    "    \"\"\"returns ResponseGetData\"\"\"\n",
    "    \n",
    "    #JSON responses\n",
    "    if res.ok and \"application/json\" in res.headers.get(\"Content-Type\", {}):\n",
    "        return ResponseGetData(\n",
    "            status = res.status_code, \n",
    "            response = res.json(),\n",
    "            is_success=True\n",
    "        )\n",
    "\n",
    "    #default text responses\n",
    "    elif res.ok:\n",
    "        return ResponseGetData(\n",
    "            status=res.status_code,\n",
    "            response=response.text,\n",
    "            is_success=True\n",
    "        )\n",
    "    \n",
    "    # errors\n",
    "    return ResponseGetData(\n",
    "        status=res.status_code,\n",
    "        response=res.reason,\n",
    "        is_success=False\n",
    "    )"
   ]
  },
  {
   "cell_type": "code",
   "execution_count": null,
   "metadata": {},
   "outputs": [
    {
     "data": {
      "text/markdown": [
       "---\n",
       "\n",
       "### ResponseGetData._from_requests_response\n",
       "\n",
       ">      ResponseGetData._from_requests_response (res:requests.models.Response)\n",
       "\n",
       "returns ResponseGetData\n",
       "\n",
       "|    | **Type** | **Details** |\n",
       "| -- | -------- | ----------- |\n",
       "| res | Response | requests response object |\n",
       "| **Returns** | **ResponseGetData** |  |"
      ],
      "text/plain": [
       "---\n",
       "\n",
       "### ResponseGetData._from_requests_response\n",
       "\n",
       ">      ResponseGetData._from_requests_response (res:requests.models.Response)\n",
       "\n",
       "returns ResponseGetData\n",
       "\n",
       "|    | **Type** | **Details** |\n",
       "| -- | -------- | ----------- |\n",
       "| res | Response | requests response object |\n",
       "| **Returns** | **ResponseGetData** |  |"
      ]
     },
     "execution_count": null,
     "metadata": {},
     "output_type": "execute_result"
    }
   ],
   "source": [
    "show_doc(ResponseGetData._from_requests_response)"
   ]
  },
  {
   "cell_type": "code",
   "execution_count": null,
   "metadata": {},
   "outputs": [],
   "source": [
    "# test _from_requests_response returns ResponseGetData class\n",
    "\n",
    "test_url = 'http://www.thecocktaildb.com/api/json/v1/1/search.php?s=margarita'\n",
    "\n",
    "res = requests.request(method = 'GET', url = test_url)\n",
    "\n",
    "test_res = ResponseGetData._from_requests_response(res)\n",
    "test_res.__dict__.keys()"
   ]
  },
  {
   "cell_type": "code",
   "execution_count": null,
   "metadata": {},
   "outputs": [],
   "source": [
    "#| hide\n",
    "test_eq(isinstance( test_res, ResponseGetData), True)"
   ]
  },
  {
   "cell_type": "code",
   "execution_count": null,
   "metadata": {},
   "outputs": [],
   "source": [
    "#| export\n",
    "@patch_to(ResponseGetData, cls_method = True)\n",
    "async def _from_aiohttp_response(cls, res : aiohttp.ClientResponse #requests response object\n",
    "                           ) -> ResponseGetData:\n",
    "    \n",
    "    \"\"\"async method returns ResponseGetData\"\"\"\n",
    "    \n",
    "    if res.ok and \"application/json\" in res.headers.get(\"Content-Type\", {}) :\n",
    "        try:\n",
    "            return ResponseGetData(\n",
    "                status=res.status, response=await res.json(), is_success=True\n",
    "            )\n",
    "\n",
    "        # handle if unable to decode json()\n",
    "        except asyncio.TimeoutError as e:\n",
    "            print(e)\n",
    "            print(\"response included json, but defaulted to backup decode method\")\n",
    "\n",
    "            return ResponseGetData(\n",
    "                status=res.status, response=await res.read(), is_success=True\n",
    "            )\n",
    "\n",
    "        # response is text\n",
    "    elif res.ok:\n",
    "        return ResponseGetData(\n",
    "            status=res.status, response=await res.text(), is_success=True\n",
    "        )\n",
    "\n",
    "    # response is error\n",
    "    else:\n",
    "        return ResponseGetData(status=res.status, response=res.reason, is_success=False)"
   ]
  },
  {
   "cell_type": "code",
   "execution_count": null,
   "metadata": {},
   "outputs": [
    {
     "data": {
      "text/markdown": [
       "---\n",
       "\n",
       "[source](https://github.com/jaewilson07/domo_library/blob/main/domo_library/ResponseGetData.py#L28){target=\"_blank\" style=\"float:right; font-size:smaller\"}\n",
       "\n",
       "### ResponseGetData._from_aiohttp_response\n",
       "\n",
       ">      ResponseGetData._from_aiohttp_response\n",
       ">                                              (res:aiohttp.client_reqrep.Client\n",
       ">                                              Response)\n",
       "\n",
       "async method returns ResponseGetData"
      ],
      "text/plain": [
       "---\n",
       "\n",
       "[source](https://github.com/jaewilson07/domo_library/blob/main/domo_library/ResponseGetData.py#L28){target=\"_blank\" style=\"float:right; font-size:smaller\"}\n",
       "\n",
       "### ResponseGetData._from_aiohttp_response\n",
       "\n",
       ">      ResponseGetData._from_aiohttp_response\n",
       ">                                              (res:aiohttp.client_reqrep.Client\n",
       ">                                              Response)\n",
       "\n",
       "async method returns ResponseGetData"
      ]
     },
     "execution_count": null,
     "metadata": {},
     "output_type": "execute_result"
    }
   ],
   "source": [
    "show_doc(ResponseGetData._from_aiohttp_response)"
   ]
  },
  {
   "cell_type": "code",
   "execution_count": null,
   "metadata": {},
   "outputs": [],
   "source": [
    "# test _from_aiohttp_response returns ResponseGetData class\n",
    "\n",
    "test_url = 'http://www.thecocktaildb.com/api/json/v1/1/search.php?s=margarita'\n",
    "\n",
    "session = aiohttp.ClientSession()\n",
    "res = await session.get(url = test_url)\n",
    "await session.close()\n",
    "\n",
    "test_res = await ResponseGetData._from_aiohttp_response(res)\n",
    "test_res.__dict__.keys()"
   ]
  },
  {
   "cell_type": "code",
   "execution_count": null,
   "metadata": {},
   "outputs": [],
   "source": [
    "#| hide\n",
    "test_eq(isinstance( test_res, ResponseGetData), True)"
   ]
  },
  {
   "cell_type": "code",
   "execution_count": null,
   "metadata": {},
   "outputs": [],
   "source": [
    "#| hide\n",
    "import nbdev; nbdev.nbdev_export()"
   ]
  }
 ],
 "metadata": {
  "kernelspec": {
   "display_name": "Python 3 (ipykernel)",
   "language": "python",
   "name": "python3"
  }
 },
 "nbformat": 4,
 "nbformat_minor": 4
}
