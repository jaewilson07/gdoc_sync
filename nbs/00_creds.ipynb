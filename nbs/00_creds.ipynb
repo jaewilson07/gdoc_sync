{
 "cells": [
  {
   "cell_type": "markdown",
   "metadata": {},
   "source": [
    "# core\n",
    "\n",
    "> Fill in a module description here"
   ]
  },
  {
   "cell_type": "raw",
   "metadata": {},
   "source": [
    "---\n",
    "output-file: creds.html\n",
    "---"
   ]
  },
  {
   "cell_type": "code",
   "execution_count": 69,
   "metadata": {},
   "outputs": [],
   "source": [
    "#| default_exp creds"
   ]
  },
  {
   "cell_type": "code",
   "execution_count": 70,
   "metadata": {},
   "outputs": [],
   "source": [
    "#| hide\n",
    "from nbdev.showdoc import *\n"
   ]
  },
  {
   "cell_type": "code",
   "execution_count": 71,
   "metadata": {},
   "outputs": [],
   "source": [
    "#| exporti\n",
    "from typing import Union\n",
    "from enum import Enum\n",
    "import httpx\n",
    "\n",
    "import domolibrary.client.get_data as gd\n",
    "import domolibrary.client.ResponseGetData as rgd\n",
    "import domolibrary.client.DomoAuth as dmda\n",
    "import domolibrary.client.DomoError as de"
   ]
  },
  {
   "cell_type": "code",
   "execution_count": 72,
   "metadata": {},
   "outputs": [],
   "source": [
    "#| exporti\n",
    "\n",
    "import os\n",
    "import json\n",
    "\n",
    "from google.oauth2.credentials import Credentials\n",
    "from google.auth.transport.requests import Request\n",
    "from google_auth_oauthlib.flow import InstalledAppFlow"
   ]
  },
  {
   "cell_type": "code",
   "execution_count": 73,
   "metadata": {},
   "outputs": [],
   "source": [
    "#| export\n",
    "\n",
    "class GenerateTokenFile_RequiresClientInfo(Exception):\n",
    "    def __init__(self):\n",
    "        super().__init__(\"must pass client_secret_path or client_secret_info, this information can be downloaded from https://console.cloud.google.com/apis/credentials/oauthclient\")\n",
    "\n",
    "\n",
    "def generate_token_from_oauth_with_client_info(token_file_path: str = 'env_token.json',\n",
    "                        client_secret_path: str = None,\n",
    "                        client_secret_info: dict = None,\n",
    "                        scopes: [str] = ['https://www.googleapis.com/auth/drive.metadata.readonly',\n",
    "                                         'https://www.googleapis.com/auth/drive.readonly']\n",
    "                        ):\n",
    "\n",
    "    \"\"\"the client information, downloaded from https://console.cloud.google.com/apis/credentials/oauthclient will be used to generate a token file which will be used to authenticate API requests\n",
    "    \n",
    "this function accepts the client_secret_path (a local .json file) or the client_secret_info dictionary\n",
    "then initiates the ouath flow for exchanging a token file.\n",
    "\n",
    "The file env_token.json stores the user's access and refresh tokens, and is\n",
    "created automatically when the authorization flow completes for the first time.\n",
    "\n",
    "    \"\"\"\n",
    "\n",
    "    if not client_secret_info and not client_secret_path:\n",
    "        raise GenerateTokenFile_RequiresClientInfo()\n",
    "\n",
    "    if client_secret_path:\n",
    "        flow = InstalledAppFlow.from_client_secrets_file(client_secret_path, scopes)\n",
    "    \n",
    "    elif client_secret_info:\n",
    "        flow = InstalledAppFlow.from_client_config(client_secret_info, scopes)\n",
    "    \n",
    "    token = flow.run_local_server(port= 0,)\n",
    "\n",
    "    # Save the credentials for the next run\n",
    "    with open(token_file_path, 'w') as f:\n",
    "        f.write(token.to_json())\n",
    "    \n",
    "    return token\n"
   ]
  },
  {
   "cell_type": "code",
   "execution_count": 74,
   "metadata": {},
   "outputs": [],
   "source": [
    "# in this example we assume the client secret information is loaded into the environment as GDOC_KEY using a .env file\n",
    "# we must generate an env_token.json file for authenticating queries\n",
    "\n",
    "from dotenv import load_dotenv\n",
    "\n",
    "load_dotenv('.env')\n",
    "\n",
    "client_secret_info=json.loads(os.environ['GDOC_KEY'])\n",
    "\n",
    "if not os.path.exists('env_token.json'):\n",
    "    generate_token_from_oauth_with_client_info(client_secret_info = client_secret_info)\n"
   ]
  },
  {
   "cell_type": "markdown",
   "metadata": {},
   "source": [
    "#### sample implementation of get_creds"
   ]
  },
  {
   "cell_type": "code",
   "execution_count": 75,
   "metadata": {},
   "outputs": [],
   "source": [
    "#| export\n",
    "\n",
    "def generate_creds_object(\n",
    "        token_file_path: str = None,\n",
    "        token_info: dict = None,\n",
    "        client_secret_path: str = None,\n",
    "        client_secret_info: dict = None):\n",
    "    \"\"\"generate creds object from token file\"\"\"\n",
    "    \n",
    "    creds = None\n",
    "\n",
    "    if token_file_path:\n",
    "        creds = Credentials.from_authorized_user_file(token_file_path)\n",
    "\n",
    "    if token_info:\n",
    "        creds = Credentials.from_authorized_user_info(token_info)\n",
    "\n",
    "    if creds and creds.valid:\n",
    "        return creds\n",
    "\n",
    "    if creds and creds.expired and creds.refresh_token:\n",
    "        creds.refresh(Request())\n",
    "        return creds\n",
    "\n",
    "    # If there are no (valid) credentials available, let the user log in.\n",
    "    return generate_token_from_oauth_with_client_info(token_file_path=token_file_path or 'env_token.json',\n",
    "                                                      client_secret_path=client_secret_path,\n",
    "                                                      client_secret_info=client_secret_info)\n"
   ]
  },
  {
   "cell_type": "code",
   "execution_count": 76,
   "metadata": {},
   "outputs": [
    {
     "data": {
      "text/plain": [
       "<google.oauth2.credentials.Credentials at 0x1b814d47040>"
      ]
     },
     "execution_count": 76,
     "metadata": {},
     "output_type": "execute_result"
    }
   ],
   "source": [
    "from dotenv import load_dotenv\n",
    "\n",
    "load_dotenv('.env')\n",
    "\n",
    "client_secret_info=json.loads(os.environ['GDOC_KEY'])\n",
    "\n",
    "token_info = json.loads(os.environ['GDOC_TOKEN'])\n",
    "\n",
    "generate_creds_object(client_secret_info=client_secret_info, token_info = token_info)"
   ]
  },
  {
   "cell_type": "code",
   "execution_count": 77,
   "metadata": {},
   "outputs": [],
   "source": [
    "#| hide\n",
    "import nbdev; nbdev.nbdev_export()"
   ]
  }
 ],
 "metadata": {
  "kernelspec": {
   "display_name": "python3",
   "language": "python",
   "name": "python3"
  },
  "language_info": {
   "codemirror_mode": {
    "name": "ipython",
    "version": 3
   },
   "file_extension": ".py",
   "mimetype": "text/x-python",
   "name": "python",
   "nbconvert_exporter": "python",
   "pygments_lexer": "ipython3",
   "version": "3.10.9"
  }
 },
 "nbformat": 4,
 "nbformat_minor": 4
}
