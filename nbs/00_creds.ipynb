{
 "cells": [
  {
   "cell_type": "markdown",
   "metadata": {},
   "source": [
    "# core\n",
    "\n",
    "> Fill in a module description here"
   ]
  },
  {
   "cell_type": "code",
   "execution_count": null,
   "metadata": {},
   "outputs": [],
   "source": [
    "#| default_exp"
   ]
  },
  {
   "cell_type": "code",
   "execution_count": 3,
   "metadata": {},
   "outputs": [],
   "source": [
    "#| hide\n",
    "from nbdev.showdoc import *\n",
    "\n",
    "import os\n",
    "\n",
    "from google.oauth2.credentials import Credentials\n",
    "from google.auth.transport.requests import Request\n",
    "from google_auth_oauthlib.flow import InstalledAppFlow\n",
    "\n",
    "import google"
   ]
  },
  {
   "cell_type": "code",
   "execution_count": 11,
   "metadata": {},
   "outputs": [],
   "source": [
    "#| export\n",
    "class GetCreds_AuthException(Exception):\n",
    "    def __init__(self):\n",
    "        super().__init__( \"must pass `token_file_path` or `creds` of type google.oauth2.credentials.Credentials class to get_creds()\")\n",
    "\n",
    "class GetCreds_InvalidTokenPath(Exception):\n",
    "    def __init__(self):\n",
    "        super().__init__( \"invalid `token_file_path`.  Correct or pass `creds` of type google.oauth2.credentials.Credentials class to get_creds()\")\n"
   ]
  },
  {
   "cell_type": "code",
   "execution_count": 12,
   "metadata": {},
   "outputs": [],
   "source": [
    "# | export\n",
    "\n",
    "def get_creds(token_file_path: str = None,\n",
    "              credentials_file_path: str = None,\n",
    "              creds: google.oauth2.credentials.Credentials = None):\n",
    "    \"\"\"generate project and associated creds for google drive project here, https://console.cloud.google.com/apis/credentials/oauthclient\"\"\"\n",
    "\n",
    "    if not creds and not token_file_path:\n",
    "        raise GetCreds_AuthException()\n",
    "\n",
    "    if not creds and not os.path.exists(token_file_path):\n",
    "        raise GetCreds_InvalidTokenPath()\n",
    "\n",
    "    # If modifying these scopes, delete the file token.json.\n",
    "    SCOPES = ['https://www.googleapis.com/auth/drive',\n",
    "              'https://www.googleapis.com/auth/drive.file',\n",
    "              'https://www.googleapis.com/auth/drive.metadata.readonly',\n",
    "              'https://www.googleapis.com/auth/drive.readonly']\n",
    "\n",
    "    # The file token.json stores the user's access and refresh tokens, and is\n",
    "    # created automatically when the authorization flow completes for the first\n",
    "    # time.\n",
    "\n",
    "    if not creds:\n",
    "        creds = Credentials.from_authorized_user_file(token_file_path, SCOPES)\n",
    "\n",
    "    # If there are no (valid) credentials available, let the user log in.\n",
    "    if not creds.valid:\n",
    "        if creds.expired and creds.refresh_token:\n",
    "            creds.refresh(Request())\n",
    "        \n",
    "        else:\n",
    "            flow = InstalledAppFlow.from_client_secrets_file(\n",
    "                credentials_file_path, SCOPES)\n",
    "            creds = flow.run_local_server(port=0)\n",
    "\n",
    "        # Save the credentials for the next run\n",
    "        with open(token_file_path, 'w') as token:\n",
    "            token.write(creds.to_json())\n",
    "    \n",
    "    return creds"
   ]
  },
  {
   "cell_type": "markdown",
   "metadata": {},
   "source": [
    "#### sample implementation of get_creds"
   ]
  },
  {
   "cell_type": "code",
   "execution_count": null,
   "metadata": {},
   "outputs": [],
   "source": [
    "from google.oauth2.credentials import Credentials\n",
    "\n",
    "Credentials.from_authorized_user_file(token_file_path, SCOPES)\n",
    "\n",
    "\n",
    "def get_creds(token_file_path: str = None,\n",
    "              credentials_file_path: str = None,\n",
    "              creds: google.oauth2.credentials.Credentials = None)"
   ]
  },
  {
   "cell_type": "code",
   "execution_count": null,
   "metadata": {},
   "outputs": [],
   "source": [
    "#| hide\n",
    "import nbdev; nbdev.nbdev_export()"
   ]
  }
 ],
 "metadata": {
  "kernelspec": {
   "display_name": "python3",
   "language": "python",
   "name": "python3"
  },
  "language_info": {
   "codemirror_mode": {
    "name": "ipython",
    "version": 3
   },
   "file_extension": ".py",
   "mimetype": "text/x-python",
   "name": "python",
   "nbconvert_exporter": "python",
   "pygments_lexer": "ipython3",
   "version": "3.10.8"
  }
 },
 "nbformat": 4,
 "nbformat_minor": 4
}
