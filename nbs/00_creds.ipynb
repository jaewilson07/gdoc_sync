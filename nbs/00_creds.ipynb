{
 "cells": [
  {
   "cell_type": "markdown",
   "metadata": {},
   "source": [
    "# core\n",
    "\n",
    "> Fill in a module description here"
   ]
  },
  {
   "cell_type": "raw",
   "metadata": {},
   "source": [
    "---\n",
    "output-file: creds.html\n",
    "---"
   ]
  },
  {
   "cell_type": "code",
   "execution_count": 31,
   "metadata": {},
   "outputs": [],
   "source": [
    "#| default_exp google.creds"
   ]
  },
  {
   "cell_type": "code",
   "execution_count": 32,
   "metadata": {},
   "outputs": [],
   "source": [
    "#| hide\n",
    "from nbdev.showdoc import *\n"
   ]
  },
  {
   "cell_type": "code",
   "execution_count": 33,
   "metadata": {},
   "outputs": [
    {
     "ename": "ModuleNotFoundError",
     "evalue": "No module named 'google.oauth2'",
     "output_type": "error",
     "traceback": [
      "\u001b[0;31m---------------------------------------------------------------------------\u001b[0m",
      "\u001b[0;31mModuleNotFoundError\u001b[0m                       Traceback (most recent call last)",
      "\u001b[1;32m/workspaces/gdoc_sync/nbs/00_creds.ipynb Cell 5\u001b[0m line \u001b[0;36m5\n\u001b[1;32m      <a href='vscode-notebook-cell://codespaces%2Breimagined-rotary-phone-9gg59jrjx727qv6/workspaces/gdoc_sync/nbs/00_creds.ipynb#W5sdnNjb2RlLXJlbW90ZQ%3D%3D?line=0'>1</a>\u001b[0m \u001b[39m#| exporti\u001b[39;00m\n\u001b[1;32m      <a href='vscode-notebook-cell://codespaces%2Breimagined-rotary-phone-9gg59jrjx727qv6/workspaces/gdoc_sync/nbs/00_creds.ipynb#W5sdnNjb2RlLXJlbW90ZQ%3D%3D?line=2'>3</a>\u001b[0m \u001b[39mimport\u001b[39;00m \u001b[39mos\u001b[39;00m\n\u001b[0;32m----> <a href='vscode-notebook-cell://codespaces%2Breimagined-rotary-phone-9gg59jrjx727qv6/workspaces/gdoc_sync/nbs/00_creds.ipynb#W5sdnNjb2RlLXJlbW90ZQ%3D%3D?line=4'>5</a>\u001b[0m \u001b[39mfrom\u001b[39;00m \u001b[39mgoogle\u001b[39;00m\u001b[39m.\u001b[39;00m\u001b[39moauth2\u001b[39;00m\u001b[39m.\u001b[39;00m\u001b[39mcredentials\u001b[39;00m \u001b[39mimport\u001b[39;00m Credentials\n\u001b[1;32m      <a href='vscode-notebook-cell://codespaces%2Breimagined-rotary-phone-9gg59jrjx727qv6/workspaces/gdoc_sync/nbs/00_creds.ipynb#W5sdnNjb2RlLXJlbW90ZQ%3D%3D?line=5'>6</a>\u001b[0m \u001b[39mfrom\u001b[39;00m \u001b[39mgoogle\u001b[39;00m\u001b[39m.\u001b[39;00m\u001b[39mauth\u001b[39;00m\u001b[39m.\u001b[39;00m\u001b[39mtransport\u001b[39;00m\u001b[39m.\u001b[39;00m\u001b[39mrequests\u001b[39;00m \u001b[39mimport\u001b[39;00m Request\n\u001b[1;32m      <a href='vscode-notebook-cell://codespaces%2Breimagined-rotary-phone-9gg59jrjx727qv6/workspaces/gdoc_sync/nbs/00_creds.ipynb#W5sdnNjb2RlLXJlbW90ZQ%3D%3D?line=6'>7</a>\u001b[0m \u001b[39mfrom\u001b[39;00m \u001b[39mgoogle_auth_oauthlib\u001b[39;00m\u001b[39m.\u001b[39;00m\u001b[39mflow\u001b[39;00m \u001b[39mimport\u001b[39;00m InstalledAppFlow\n",
      "\u001b[0;31mModuleNotFoundError\u001b[0m: No module named 'google.oauth2'"
     ]
    }
   ],
   "source": [
    "#| exporti\n",
    "\n",
    "import os\n",
    "\n",
    "from google.oauth2.credentials import Credentials\n",
    "from google.auth.transport.requests import Request\n",
    "from google_auth_oauthlib.flow import InstalledAppFlow"
   ]
  },
  {
   "cell_type": "code",
   "execution_count": null,
   "metadata": {},
   "outputs": [],
   "source": [
    "#|export\n",
    "\n",
    "def get_creds(token_file_path=\"env_token.json\", credentials_file_path=\"env_creds.json\"):\n",
    "    \"\"\"generate creds here, https://console.cloud.google.com/apis/credentials/oauthclient/214272795931-8l2hleihje6d14a0ltali43dpu26jjob.apps.googleusercontent.com?authuser=2&project=plated-ensign-355620\n",
    "    for a new implementation you'll need to\n",
    "    1. set up a project at console.cloud.google.com,\n",
    "    2. enable (turn on) the appropriate APIs for that project\n",
    "    3. configure OAuth access (your python script will use an Oauth token to authenticate, so your project needs the OAuth screen)\n",
    "    4. download the creds file and store it as env_creds.json\n",
    "    \"\"\"\n",
    "\n",
    "    # If modifying these scopes, delete the file token.json.\n",
    "    SCOPES = [\n",
    "        \"https://www.googleapis.com/auth/drive\",\n",
    "        \"https://www.googleapis.com/auth/drive.file\",\n",
    "        \"https://www.googleapis.com/auth/drive.metadata.readonly\",\n",
    "        \"https://www.googleapis.com/auth/drive.readonly\",\n",
    "    ]\n",
    "\n",
    "    creds = None\n",
    "    # The file token.json stores the user's access and refresh tokens, and is\n",
    "    # created automatically when the authorization flow completes for the first\n",
    "    # time.\n",
    "    if token_file_path and os.path.exists(token_file_path):\n",
    "        creds = Credentials.from_authorized_user_file(token_file_path, SCOPES)\n",
    "\n",
    "    if not creds or not creds.valid:\n",
    "        if creds and creds.expired and creds.refresh_token:\n",
    "            # if creds token can be refreshed, do it.\n",
    "            creds.refresh(Request())\n",
    "        else:\n",
    "            # If there are no (valid) credentials available, run the Oauth flow\n",
    "            flow = InstalledAppFlow.from_client_secrets_file(\n",
    "                credentials_file_path, SCOPES\n",
    "            )\n",
    "            creds = flow.run_local_server(port=0)\n",
    "        # Save the credentials for the next run\n",
    "        with open(token_file_path, \"w\") as token:\n",
    "            token.write(creds.to_json())\n",
    "    return creds\n",
    "\n",
    "\n",
    "creds = get_creds()"
   ]
  },
  {
   "cell_type": "code",
   "execution_count": null,
   "metadata": {},
   "outputs": [],
   "source": [
    "# in this example we assume the client secret information is loaded into the environment as GDOC_KEY using a .env file\n",
    "# we must generate an env_token.json file for authenticating queries\n",
    "\n",
    "from dotenv import load_dotenv\n",
    "\n",
    "load_dotenv('.env')\n",
    "\n",
    "client_secret_info=json.loads(os.environ['GDOC_KEY'])\n",
    "\n",
    "if not os.path.exists('env_token.json'):\n",
    "    generate_token_from_oauth_with_client_info(client_secret_info = client_secret_info)\n"
   ]
  },
  {
   "cell_type": "markdown",
   "metadata": {},
   "source": [
    "#### sample implementation of get_creds"
   ]
  },
  {
   "cell_type": "code",
   "execution_count": null,
   "metadata": {},
   "outputs": [],
   "source": [
    "#| export\n",
    "\n",
    "def generate_creds_object(\n",
    "        token_file_path: str = None,\n",
    "        token_info: dict = None,\n",
    "        client_secret_path: str = None,\n",
    "        client_secret_info: dict = None):\n",
    "    \"\"\"generate creds object from token file\"\"\"\n",
    "    \n",
    "    creds = None\n",
    "\n",
    "    if token_file_path:\n",
    "        creds = Credentials.from_authorized_user_file(token_file_path)\n",
    "\n",
    "    if token_info:\n",
    "        creds = Credentials.from_authorized_user_info(token_info)\n",
    "\n",
    "    if creds and creds.valid:\n",
    "        return creds\n",
    "\n",
    "    if creds and creds.expired and creds.refresh_token:\n",
    "        creds.refresh(Request())\n",
    "        return creds\n",
    "\n",
    "    # If there are no (valid) credentials available, let the user log in.\n",
    "    return generate_token_from_oauth_with_client_info(token_file_path=token_file_path or 'env_token.json',\n",
    "                                                      client_secret_path=client_secret_path,\n",
    "                                                      client_secret_info=client_secret_info)\n"
   ]
  },
  {
   "cell_type": "code",
   "execution_count": null,
   "metadata": {},
   "outputs": [],
   "source": [
    "from dotenv import load_dotenv\n",
    "\n",
    "load_dotenv('.env')\n",
    "\n",
    "client_secret_info=json.loads(os.environ['GDOC_KEY'])\n",
    "\n",
    "token_info = json.loads(os.environ['GDOC_TOKEN'])\n",
    "\n",
    "generate_creds_object(client_secret_info=client_secret_info, token_info = token_info)"
   ]
  },
  {
   "cell_type": "code",
   "execution_count": null,
   "metadata": {},
   "outputs": [],
   "source": [
    "#| hide\n",
    "import nbdev; nbdev.nbdev_export()"
   ]
  }
 ],
 "metadata": {
  "kernelspec": {
   "display_name": "python3",
   "language": "python",
   "name": "python3"
  },
  "language_info": {
   "codemirror_mode": {
    "name": "ipython",
    "version": 3
   },
   "file_extension": ".py",
   "mimetype": "text/x-python",
   "name": "python",
   "nbconvert_exporter": "python",
   "pygments_lexer": "ipython3",
   "version": "3.10.8"
  }
 },
 "nbformat": 4,
 "nbformat_minor": 4
}
