{
 "cells": [
  {
   "cell_type": "raw",
   "metadata": {},
   "source": [
    "---\n",
    "output-file: utils.html\n",
    "---"
   ]
  },
  {
   "cell_type": "markdown",
   "metadata": {},
   "source": [
    "# Utils\n",
    "> supporting functions"
   ]
  },
  {
   "cell_type": "code",
   "execution_count": 7,
   "metadata": {},
   "outputs": [],
   "source": [
    "# | default_exp utils"
   ]
  },
  {
   "cell_type": "code",
   "execution_count": 8,
   "metadata": {},
   "outputs": [],
   "source": [
    "#| export\n",
    "from PIL.Image import Image"
   ]
  },
  {
   "cell_type": "code",
   "execution_count": 9,
   "metadata": {},
   "outputs": [],
   "source": [
    "# | exporti\n",
    "\n",
    "import os\n",
    "from typing import List, Tuple, Union\n",
    "\n",
    "import re\n",
    "import pathlib\n",
    "import unicodedata\n",
    "import json\n",
    "import chardet\n",
    "from urllib.parse import urljoin, urlparse\n",
    "\n",
    "from bs4 import BeautifulSoup\n",
    "from markdownify import MarkdownConverter\n",
    "import PIL\n",
    "\n",
    "import datetime as dt\n",
    "import base64\n",
    "\n",
    "import asyncio\n",
    "\n",
    "import pptx2md\n",
    "\n",
    "import zipfile\n",
    "import io\n",
    "\n",
    "\n",
    "import datetime as dt\n",
    "from dateutil.parser import parse as dtu_parse\n",
    "\n",
    "from dotenv import set_key, load_dotenv\n",
    "\n",
    "from nbdev.showdoc import patch_to"
   ]
  },
  {
   "cell_type": "code",
   "execution_count": 10,
   "metadata": {},
   "outputs": [],
   "source": [
    "# | hide\n",
    "from nbdev.showdoc import show_doc\n",
    "from dotenv import load_dotenv\n",
    "\n",
    "import domolibrary_extensions.google.auth as ga\n"
   ]
  },
  {
   "cell_type": "markdown",
   "metadata": {},
   "source": [
    "# Codespace Mangement"
   ]
  },
  {
   "cell_type": "code",
   "execution_count": 11,
   "metadata": {},
   "outputs": [],
   "source": [
    "#| exports\n",
    "default_keys = ['DOCKER_BUILDKIT',\n",
    " 'ENABLE_DYNAMIC_INSTALL',\n",
    " 'LESSOPEN',\n",
    " 'GIT_COMMITTER_NAME',\n",
    " 'PYTHONIOENCODING',\n",
    " 'GITHUB_CODESPACE_TOKEN',\n",
    " 'USER',\n",
    " 'RVM_PATH',\n",
    " 'NVS_ROOT',\n",
    " 'HOSTNAME',\n",
    " 'DOTNET_USE_POLLING_FILE_WATCHER',\n",
    " 'CONDA_SCRIPT',\n",
    " 'PIPX_HOME',\n",
    " 'SHLVL',\n",
    " 'GITHUB_CODESPACES_PORT_FORWARDING_DOMAIN',\n",
    " 'GCP_KEY',\n",
    " 'HUGO_ROOT',\n",
    " 'HOME',\n",
    " 'OLDPWD',\n",
    " 'ORYX_ENV_TYPE',\n",
    " 'NVM_BIN',\n",
    " 'CODESPACES',\n",
    " 'DOTNET_RUNNING_IN_CONTAINER',\n",
    " 'NVM_SYMLINK_CURRENT',\n",
    " 'DYNAMIC_INSTALL_ROOT_DIR',\n",
    " 'PIPX_BIN_DIR',\n",
    " 'NVM_INC',\n",
    " 'rvm_stored_umask',\n",
    " 'ORYX_DIR',\n",
    " 'GRADLE_HOME',\n",
    " 'rvm_user_install_flag',\n",
    " 'MAVEN_HOME',\n",
    " 'GOROOT',\n",
    " 'NODE_ROOT',\n",
    " 'GITHUB_GRAPHQL_URL',\n",
    " 'GITHUB_USER',\n",
    " 'NVM_DIR',\n",
    " 'PYTHON_PATH',\n",
    " 'DOTNET_SKIP_FIRST_TIME_EXPERIENCE',\n",
    " 'ContainerVersion',\n",
    " 'NVS_HOME',\n",
    " 'GITHUB_API_URL',\n",
    " 'rvm_bin_path',\n",
    " 'SDKMAN_CANDIDATES_API',\n",
    " '_',\n",
    " 'RUBY_VERSION',\n",
    " 'PROMPT_DIRTRIM',\n",
    " 'IRBRC',\n",
    " 'CLOUDENV_ENVIRONMENT_ID',\n",
    " 'DOTNET_ROOT',\n",
    " 'NVS_DIR',\n",
    " 'PHP_ROOT',\n",
    " 'PATH',\n",
    " 'JAVA_ROOT',\n",
    " 'VSCODE_AGENT_FOLDER',\n",
    " 'SDKMAN_CANDIDATES_DIR',\n",
    " 'HUGO_DIR',\n",
    " 'NPM_GLOBAL',\n",
    " 'SHELL_LOGGED_IN',\n",
    " 'MY_RUBY_HOME',\n",
    " 'LANG',\n",
    " 'SDKMAN_DIR',\n",
    " 'RUBY_ROOT',\n",
    " 'LS_COLORS',\n",
    " 'SDKMAN_PLATFORM',\n",
    " 'GITHUB_REPOSITORY',\n",
    " 'SHELL',\n",
    " 'GOPATH',\n",
    " 'rvm_prefix',\n",
    " 'rvm_loaded_flag',\n",
    " 'GEM_HOME',\n",
    " 'ORYX_PREFER_USER_INSTALLED_SDKS',\n",
    " 'LESSCLOSE',\n",
    " 'ORYX_SDK_STORAGE_BASE_URL',\n",
    " 'CONDA_DIR',\n",
    " 'rvm_version',\n",
    " 'DEBIAN_FLAVOR',\n",
    " 'GIT_COMMITTER_EMAIL',\n",
    " 'GEM_PATH',\n",
    " 'JAVA_HOME',\n",
    " 'NVS_USE_XZ',\n",
    " 'INTERNAL_VSCS_TARGET_URL',\n",
    " 'PWD',\n",
    " 'NVM_CD_FLAGS',\n",
    " 'GITHUB_SERVER_URL',\n",
    " 'PHP_PATH',\n",
    " 'PYTHON_ROOT',\n",
    " 'RAILS_DEVELOPMENT_HOSTS',\n",
    " 'NVS_OS',\n",
    " 'CODESPACE_NAME',\n",
    " 'RUBY_HOME',\n",
    " 'MAVEN_ROOT',\n",
    " 'rvm_path',\n",
    " 'NUGET_XMLDOC_MODE',\n",
    " 'VSCODE_HANDLES_SIGPIPE',\n",
    " 'VSCODE_AMD_ENTRYPOINT',\n",
    " 'VSCODE_HANDLES_UNCAUGHT_ERRORS',\n",
    " 'VSCODE_NLS_CONFIG',\n",
    " 'BROWSER',\n",
    " 'VSCODE_CWD',\n",
    " 'ELECTRON_RUN_AS_NODE',\n",
    " 'VSCODE_IPC_HOOK_CLI',\n",
    " 'VSCODE_L10N_BUNDLE_LOCATION',\n",
    " 'DEBUG',\n",
    " 'PYDEVD_IPYTHON_COMPATIBLE_DEBUGGING',\n",
    " 'PYTHONUNBUFFERED',\n",
    " 'PYDEVD_USE_FRAME_EVAL',\n",
    " 'TERM',\n",
    " 'CLICOLOR',\n",
    " 'FORCE_COLOR',\n",
    " 'CLICOLOR_FORCE',\n",
    " 'PAGER',\n",
    " 'GIT_PAGER',\n",
    " 'MPLBACKEND']\n",
    "\n",
    "def export_env(\n",
    "        default_keys,\n",
    "        output_file_path\n",
    "):\n",
    "    keep_keys = [key for key in os.environ.keys() if key not in default_keys]\n",
    "\n",
    "    with open(output_file_path , 'w+') as f:\n",
    "        f.writelines([ f\"{key} = '{value}'\\n\" for key, value in os.environ.items() if key in keep_keys])\n",
    "        f.write(f\"_OUTPUT_DATE = '{dt.datetime.now().strftime('%Y-%m-%d %H:%M')}'\")"
   ]
  },
  {
   "cell_type": "code",
   "execution_count": 12,
   "metadata": {},
   "outputs": [],
   "source": [
    "export_env(default_keys= default_keys,\n",
    "           output_file_path= '../.env')"
   ]
  },
  {
   "cell_type": "markdown",
   "metadata": {},
   "source": [
    "# Code Execution"
   ]
  },
  {
   "cell_type": "code",
   "execution_count": 13,
   "metadata": {},
   "outputs": [],
   "source": [
    "#| export\n",
    "async def gather_with_concurrency(\n",
    "    *coros,  # list of coroutines to await\n",
    "    n=60,  # number of open coroutines\n",
    "):\n",
    "    \"\"\"limits the number of open coroutines at a time.\"\"\"\n",
    "\n",
    "    semaphore = asyncio.Semaphore(n)\n",
    "\n",
    "    async def sem_coro(coro):\n",
    "        async with semaphore:\n",
    "            return await coro\n",
    "\n",
    "    return await asyncio.gather(*(sem_coro(c) for c in coros))\n",
    "     "
   ]
  },
  {
   "cell_type": "markdown",
   "metadata": {},
   "source": [
    "# File Management"
   ]
  },
  {
   "cell_type": "code",
   "execution_count": 14,
   "metadata": {},
   "outputs": [],
   "source": [
    "#|exports\n",
    "\n",
    "def rename_filepath_to_match_datatype(data, file_path):\n",
    "\n",
    "    is_path_ext = os.path.splitext(file_path)[-1].lower()\n",
    "\n",
    "    old_suffix = pathlib.Path(file_path).suffix if is_path_ext else None\n",
    "\n",
    "    new_suffix = ''\n",
    "\n",
    "    print(type(data))\n",
    "\n",
    "    if isinstance(data, str) or isinstance(data, bytes) or isinstance(data, bytearray) : new_suffix = '.txt'\n",
    "    if isinstance(data, dict) : new_suffix = '.json'\n",
    "\n",
    "    file_path = file_path+new_suffix\n",
    "    \n",
    "    if old_suffix:\n",
    "        file_path = file_path.replace(old_suffix,'')\n",
    "\n",
    "    return file_path"
   ]
  },
  {
   "cell_type": "code",
   "execution_count": 15,
   "metadata": {},
   "outputs": [
    {
     "name": "stdout",
     "output_type": "stream",
     "text": [
      "<class 'str'>\n",
      "<class 'dict'>\n",
      "<class 'bytes'>\n",
      "<class 'bytearray'>\n"
     ]
    },
    {
     "data": {
      "text/plain": [
       "['/Users/pankaj/abc.txt',\n",
       " '/Users/pankaj/abc.json',\n",
       " '/Users/pankaj/abc.txt',\n",
       " '/Users/pankaj/abc.txt']"
      ]
     },
     "execution_count": 15,
     "metadata": {},
     "output_type": "execute_result"
    }
   ],
   "source": [
    "content = [ \"hello world\" , {\"a\" : \"b\"}, b'\\xC3\\xA9', bytearray(b'\\x02\\x03\\x05\\x07')]\n",
    "\n",
    "[rename_filepath_to_match_datatype(test, \"/Users/pankaj/abc\") for test in content]"
   ]
  },
  {
   "cell_type": "code",
   "execution_count": 16,
   "metadata": {},
   "outputs": [],
   "source": [
    "# | exports\n",
    "def detect_encoding(file_path, debug_prn: bool = False):\n",
    "    detector = chardet.universaldetector.UniversalDetector()\n",
    "    with open(file_path, \"rb\") as f:\n",
    "        for line in f:\n",
    "            detector.feed(line)\n",
    "            if detector.done:\n",
    "                break\n",
    "    detector.close()\n",
    "\n",
    "    encoding = detector.result\n",
    "\n",
    "    return encoding"
   ]
  },
  {
   "cell_type": "code",
   "execution_count": 17,
   "metadata": {},
   "outputs": [
    {
     "data": {
      "text/plain": [
       "{'encoding': 'utf-8', 'confidence': 0.99, 'language': ''}"
      ]
     },
     "execution_count": 17,
     "metadata": {},
     "output_type": "execute_result"
    }
   ],
   "source": [
    "detect_encoding(\"./utils.ipynb\")"
   ]
  },
  {
   "cell_type": "code",
   "execution_count": 18,
   "metadata": {},
   "outputs": [],
   "source": [
    "# | export\n",
    "def read_html_file(\n",
    "    file_path, is_convert_to_soup: bool = True\n",
    ") -> Union[str, BeautifulSoup]:\n",
    "    if not os.path.exists(file_path):\n",
    "        raise FileNotFoundError(file_path)\n",
    "\n",
    "    page_encoding = detect_encoding(file_path)\n",
    "\n",
    "    with open(file_path, encoding=page_encoding[\"encoding\"]) as fp:\n",
    "        if is_convert_to_soup:\n",
    "            return BeautifulSoup(fp, \"lxml\")\n",
    "\n",
    "        return fp.read()"
   ]
  },
  {
   "cell_type": "markdown",
   "metadata": {},
   "source": [
    "# Handle URLS"
   ]
  },
  {
   "cell_type": "code",
   "execution_count": 19,
   "metadata": {},
   "outputs": [],
   "source": [
    "# | exports\n",
    "def remove_query_params_from_url(url):\n",
    "    u = urlparse(url)\n",
    "    return urljoin(url, urlparse(url).path)"
   ]
  },
  {
   "cell_type": "code",
   "execution_count": 20,
   "metadata": {},
   "outputs": [
    {
     "data": {
      "text/plain": [
       "['https://domo-support.domo.com/s/article/36004740075',\n",
       " 'https://domo-support.domo.com/s/topic/0TO5w000000ZlOmGAK/20202023',\n",
       " 'https://domo-support.domo.com/s/topic/0TO5w000000Zan7GAC/archived-feature-release-notes',\n",
       " 'https://domo-support.domo.com/s/knowledge-base']"
      ]
     },
     "execution_count": 20,
     "metadata": {},
     "output_type": "execute_result"
    }
   ],
   "source": [
    "test_urls = [\n",
    "    \"https://domo-support.domo.com/s/article/36004740075\",\n",
    "    \"https://domo-support.domo.com/s/topic/0TO5w000000ZlOmGAK/20202023\",  # list of articles\n",
    "    \"https://domo-support.domo.com/s/topic/0TO5w000000Zan7GAC/archived-feature-release-notes\",  # list of topics\n",
    "    \"https://domo-support.domo.com/s/knowledge-base\",\n",
    "]\n",
    "\n",
    "[remove_query_params_from_url(url) for url in test_urls]"
   ]
  },
  {
   "cell_type": "code",
   "execution_count": 21,
   "metadata": {},
   "outputs": [],
   "source": [
    "# | exports\n",
    "def update_env(env_path: str, key: str, value: str, debug_prn: bool = False) -> dict:\n",
    "    \"\"\"\n",
    "    updates a .env file with a key value pair\n",
    "    then reloads the env_file\n",
    "    \"\"\"\n",
    "\n",
    "    if not os.path.exists(env_path):\n",
    "        with open(env_path, \"w\", encoding=\"utf-8\") as f:\n",
    "            f.write(\"\")\n",
    "\n",
    "    quote_mode = \"always\"\n",
    "\n",
    "    if isinstance(value, dict):\n",
    "        quote_mode = \"never\"\n",
    "        value = json.dumps(value)\n",
    "\n",
    "    if debug_prn:\n",
    "        from pprint import pprint\n",
    "\n",
    "        pprint(\n",
    "            {\n",
    "                \"env_path\": env_path,\n",
    "                \"key\": key,\n",
    "                \"value\": value,\n",
    "                \"type\": type(value),\n",
    "                \"quote_mode\": quote_mode,\n",
    "            }\n",
    "        )\n",
    "\n",
    "    set_key(env_path, key, value, quote_mode=quote_mode)\n",
    "\n",
    "    set_key(env_path, \"env_last_modified\", f\"updated - {dt.date.today()}\")\n",
    "\n",
    "    load_dotenv(env_path, override=True)\n",
    "\n",
    "    return {key: os.getenv(key)}"
   ]
  },
  {
   "cell_type": "code",
   "execution_count": 22,
   "metadata": {},
   "outputs": [],
   "source": [
    "# | exports\n",
    "def upsert_folder(folder_path: str, debug_prn: bool = False):\n",
    "    folder_path = os.path.dirname(folder_path)\n",
    "\n",
    "    if debug_prn:\n",
    "        print(\n",
    "            {\n",
    "                \"upsert_folder\": os.path.abspath(folder_path),\n",
    "                \"is_exist\": os.path.exists(folder_path),\n",
    "            }\n",
    "        )\n",
    "\n",
    "    if not os.path.exists(folder_path):\n",
    "        os.makedirs(folder_path)"
   ]
  },
  {
   "cell_type": "code",
   "execution_count": 23,
   "metadata": {},
   "outputs": [],
   "source": [
    "# |exports\n",
    "\n",
    "\n",
    "def get_all_files_and_folders(\n",
    "    directory, file_type=None  # to only retrieve a specific file type\n",
    ") -> Union[Tuple, List]:\n",
    "    \"\"\"walk a directory and retrieve a list of files and a list of directory\n",
    "    returns Tuple of file_ls , dir_ls OR file_ls if file_type supplied\n",
    "    \"\"\"\n",
    "    if not os.path.exists(directory):\n",
    "        raise FileNotFoundError(directory)\n",
    "\n",
    "    file_ls = []\n",
    "    dir_ls = []\n",
    "    for root, dirs, files in os.walk(directory):\n",
    "        for name in files:\n",
    "            if file_type:\n",
    "                if not name.lower().endswith(file_type.lower()):\n",
    "                    continue\n",
    "            file_ls.append(os.path.join(root, name))\n",
    "\n",
    "        if file_type:\n",
    "            continue\n",
    "\n",
    "        for name in dirs:\n",
    "            dir_ls.append(os.path.join(root, name))\n",
    "\n",
    "    if file_type:\n",
    "        return file_ls\n",
    "\n",
    "    return file_ls, dir_ls"
   ]
  },
  {
   "cell_type": "code",
   "execution_count": 24,
   "metadata": {},
   "outputs": [
    {
     "data": {
      "text/plain": [
       "['./jira/CACHE/onyxreporting_atlassian_net/rest/agile/1_0/board.json',\n",
       " './jira/CACHE/onyxreporting_atlassian_net/rest/agile/1_0/epic/10002.json',\n",
       " './jira/CACHE/onyxreporting_atlassian_net/rest/agile/1_0/board/1.json',\n",
       " './jira/CACHE/onyxreporting_atlassian_net/rest/agile/1_0/board/3/epic.json',\n",
       " './jira/CACHE/onyxreporting_atlassian_net/rest/agile/1_0/board/3/issue.json',\n",
       " './jira/CACHE/onyxreporting_atlassian_net/rest/api/2/myself.json']"
      ]
     },
     "execution_count": 24,
     "metadata": {},
     "output_type": "execute_result"
    }
   ],
   "source": [
    "# Use the function\n",
    "get_all_files_and_folders(\"./jira\", \".json\")"
   ]
  },
  {
   "cell_type": "markdown",
   "metadata": {},
   "source": [
    "# Image class"
   ]
  },
  {
   "cell_type": "code",
   "execution_count": 57,
   "metadata": {},
   "outputs": [],
   "source": [
    "#| export\n",
    "@patch_to(Image, cls_method = True)\n",
    "def from_image_file(cls, image_path : str) -> Image:\n",
    "    if not os.path.exists(image_path):\n",
    "        raise FileNotFoundError(image_path)\n",
    "        \n",
    "\n",
    "    with open(image_path, \"rb\") as image_file:\n",
    "        data = base64.b64encode(image_file.read())\n",
    "        im = PIL.Image.open(io.BytesIO(base64.b64decode(data)))\n",
    "\n",
    "        im.base64 = data\n",
    "        im.image_type = os.path.splitext(image_path)[1][1:]\n",
    "\n",
    "        return im\n",
    "\n"
   ]
  },
  {
   "cell_type": "code",
   "execution_count": 79,
   "metadata": {},
   "outputs": [
    {
     "data": {
      "image/png": "[encoded data removed]",
      "text/plain": [
       "<PIL.Image.Image image mode=RGBA size=256x256>"
      ]
     },
     "execution_count": 79,
     "metadata": {},
     "output_type": "execute_result"
    }
   ],
   "source": [
    "@patch_to(Image)\n",
    "def crop_square(self):\n",
    "\n",
    "    width, height = self.size   # Get dimensions\n",
    "\n",
    "    new_edge = min(width, height)\n",
    "\n",
    "    left = (width - new_edge)/2\n",
    "    top = (height - new_edge)/2\n",
    "    right = (width + new_edge)/2\n",
    "    bottom = (height + new_edge)/2\n",
    "\n",
    "    # Crop the center of the image\n",
    "    return self.crop((left, top, right, bottom))\n",
    "\n",
    "img.crop_square()"
   ]
  },
  {
   "cell_type": "code",
   "execution_count": 78,
   "metadata": {},
   "outputs": [
    {
     "data": {
      "image/png": "[encoded data removed]",
      "text/plain": [
       "<PIL.PngImagePlugin.PngImageFile image mode=RGBA size=256x265>"
      ]
     },
     "execution_count": 78,
     "metadata": {},
     "output_type": "execute_result"
    }
   ],
   "source": [
    "\n",
    "img = Image.from_image_file('./TEST/icon.png')\n",
    "# img.base64\n",
    "img"
   ]
  },
  {
   "cell_type": "code",
   "execution_count": 76,
   "metadata": {},
   "outputs": [],
   "source": [
    "#|exporti\n",
    "@patch_to(Image)\n",
    "def to_decoded_str(self, add_html_encoding: bool = False) -> str:\n",
    "    \"\"\"decodes the bytestring to string, optionally add HTML encoding for use in websites or by APIs\"\"\"\n",
    "\n",
    "    text = f\"{self.base64.decode()}\"\n",
    "    if add_html_encoding:\n",
    "        html_encoding = f'data:image/{self.image_type};base64,'\n",
    "        return html_encoding + text\n",
    "\n",
    "    return text"
   ]
  },
  {
   "cell_type": "code",
   "execution_count": 77,
   "metadata": {},
   "outputs": [
    {
     "data": {
      "text/plain": [
       "'data:image/png;base64,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'"
      ]
     },
     "execution_count": 77,
     "metadata": {},
     "output_type": "execute_result"
    }
   ],
   "source": [
    "img.to_str(add_html_encoding= True)"
   ]
  },
  {
   "cell_type": "markdown",
   "metadata": {},
   "source": [
    "## handle converting Files to Markdown"
   ]
  },
  {
   "cell_type": "code",
   "execution_count": null,
   "metadata": {},
   "outputs": [],
   "source": [
    "# | exports\n",
    "\n",
    "\n",
    "class ImageBlockConverter(MarkdownConverter):\n",
    "    \"\"\"\n",
    "    Create a custom MarkdownConverter that adds two newlines after an image\n",
    "    \"\"\"\n",
    "\n",
    "    def convert_img(self, el, text, convert_as_inline, is_resize: bool = True):\n",
    "        \"\"\"\n",
    "        custom image downloader for ImabeBlockConverter\n",
    "        will handle resize\n",
    "        \"\"\"\n",
    "\n",
    "        if is_resize:\n",
    "            style_obj = {\n",
    "                (obj.split(\":\")[0].strip()): obj.split(\":\")[1].strip()\n",
    "                for obj in el.get(\"style\").split(\";\")\n",
    "                if \":\" in obj\n",
    "            }\n",
    "\n",
    "            file_path = os.path.join(\n",
    "                os.path.dirname(self.options[\"file_path\"]), el[\"src\"]\n",
    "            )\n",
    "\n",
    "            image = PIL.Image.open(file_path)\n",
    "\n",
    "            width = style_obj[\"width\"].replace(\"px\", \"\")\n",
    "            width = int(float(width))\n",
    "\n",
    "            height = style_obj[\"height\"].replace(\"px\", \"\")\n",
    "            height = int(float(height))\n",
    "\n",
    "            new_image = image.resize((width, height))\n",
    "            new_image.save(file_path)\n",
    "\n",
    "        return super().convert_img(el, text, convert_as_inline)\n",
    "\n",
    "\n",
    "def md(html, **options):\n",
    "    \"\"\"Create shorthand method for handling conversion\"\"\"\n",
    "    return ImageBlockConverter(**options).convert(html)"
   ]
  },
  {
   "cell_type": "code",
   "execution_count": null,
   "metadata": {},
   "outputs": [],
   "source": [
    "# |exports\n",
    "def convert_html_to_markdown(file_path):\n",
    "    \"\"\"converts html file to markdown in place\"\"\"\n",
    "\n",
    "    with open(file_path, encoding=\"utf-8\") as f:\n",
    "        html = f.read()\n",
    "\n",
    "    markdown_content = md(\n",
    "        str(html),\n",
    "        keep_inline_images_in=[\"td\", \"span\"],\n",
    "        file_path=file_path,\n",
    "        is_resize=True,\n",
    "    )\n",
    "\n",
    "    md_path = file_path.replace(\".html\", \".md\")\n",
    "\n",
    "    with open(md_path, \"w+\", encoding=\"utf-8\") as f:\n",
    "        f.write(markdown_content)\n",
    "\n",
    "    return"
   ]
  },
  {
   "cell_type": "code",
   "execution_count": null,
   "metadata": {},
   "outputs": [],
   "source": [
    "# | exports\n",
    "\n",
    "\n",
    "def download_zip(zip_bytes_content, output_folder, is_convert_to_markdown: bool = True):\n",
    "    \"\"\"save bytes content to a zip file then convert html to markdown\"\"\"\n",
    "\n",
    "    zip = zipfile.ZipFile(io.BytesIO(zip_bytes_content), \"r\")\n",
    "    zip.extractall(output_folder)\n",
    "\n",
    "    file_ls = os.listdir(output_folder)\n",
    "\n",
    "    # rename the html file to index.html\n",
    "    for file_name in file_ls:\n",
    "        if file_name.endswith(\".html\"):\n",
    "            output_index = os.path.join(output_folder, \"index.html\")\n",
    "            os.replace(os.path.join(output_folder, file_name), output_index)\n",
    "\n",
    "            if is_convert_to_markdown:\n",
    "                convert_html_to_markdown(os.path.join(output_folder, \"index.html\"))\n",
    "\n",
    "    return f\"successfully downloaded zip to {output_folder}\""
   ]
  },
  {
   "cell_type": "markdown",
   "metadata": {},
   "source": [
    "#### sample implementation of downloading a zip from google docs and converting it to markdown"
   ]
  },
  {
   "cell_type": "code",
   "execution_count": null,
   "metadata": {},
   "outputs": [
    {
     "name": "stdout",
     "output_type": "stream",
     "text": [
      "using saved token\n",
      "refreshing creds using saved token\n",
      "('invalid_grant: Bad Request', {'error': 'invalid_grant', 'error_description': 'Bad Request'})\n"
     ]
    },
    {
     "ename": "RefreshError",
     "evalue": "('invalid_grant: Bad Request', {'error': 'invalid_grant', 'error_description': 'Bad Request'})",
     "output_type": "error",
     "traceback": [
      "\u001b[0;31m---------------------------------------------------------------------------\u001b[0m",
      "\u001b[0;31mRefreshError\u001b[0m                              Traceback (most recent call last)",
      "File \u001b[0;32m~/GitHub/gdoc_sync/domolibrary_extensions/google/auth.py:58\u001b[0m, in \u001b[0;36mGoogleAuth._refresh_token\u001b[0;34m(self)\u001b[0m\n\u001b[1;32m     57\u001b[0m     \u001b[38;5;28mprint\u001b[39m(\u001b[38;5;124m\"\u001b[39m\u001b[38;5;124mrefreshing creds using saved token\u001b[39m\u001b[38;5;124m\"\u001b[39m)\n\u001b[0;32m---> 58\u001b[0m     \u001b[38;5;28;43mself\u001b[39;49m\u001b[38;5;241;43m.\u001b[39;49m\u001b[43mcreds\u001b[49m\u001b[38;5;241;43m.\u001b[39;49m\u001b[43mrefresh\u001b[49m\u001b[43m(\u001b[49m\u001b[43mRequest\u001b[49m\u001b[43m(\u001b[49m\u001b[43m)\u001b[49m\u001b[43m)\u001b[49m\n\u001b[1;32m     60\u001b[0m \u001b[38;5;28;01mexcept\u001b[39;00m RefreshError \u001b[38;5;28;01mas\u001b[39;00m e:\n",
      "File \u001b[0;32m~/GitHub/gdoc_sync/.venv/lib/python3.10/site-packages/google/oauth2/credentials.py:431\u001b[0m, in \u001b[0;36mCredentials.refresh\u001b[0;34m(self, request)\u001b[0m\n\u001b[1;32m    419\u001b[0m     \u001b[38;5;28;01mraise\u001b[39;00m exceptions\u001b[38;5;241m.\u001b[39mRefreshError(\n\u001b[1;32m    420\u001b[0m         \u001b[38;5;124m\"\u001b[39m\u001b[38;5;124mThe credentials do not contain the necessary fields need to \u001b[39m\u001b[38;5;124m\"\u001b[39m\n\u001b[1;32m    421\u001b[0m         \u001b[38;5;124m\"\u001b[39m\u001b[38;5;124mrefresh the access token. You must specify refresh_token, \u001b[39m\u001b[38;5;124m\"\u001b[39m\n\u001b[1;32m    422\u001b[0m         \u001b[38;5;124m\"\u001b[39m\u001b[38;5;124mtoken_uri, client_id, and client_secret.\u001b[39m\u001b[38;5;124m\"\u001b[39m\n\u001b[1;32m    423\u001b[0m     )\n\u001b[1;32m    425\u001b[0m (\n\u001b[1;32m    426\u001b[0m     access_token,\n\u001b[1;32m    427\u001b[0m     refresh_token,\n\u001b[1;32m    428\u001b[0m     expiry,\n\u001b[1;32m    429\u001b[0m     grant_response,\n\u001b[1;32m    430\u001b[0m     rapt_token,\n\u001b[0;32m--> 431\u001b[0m ) \u001b[38;5;241m=\u001b[39m \u001b[43mreauth\u001b[49m\u001b[38;5;241;43m.\u001b[39;49m\u001b[43mrefresh_grant\u001b[49m\u001b[43m(\u001b[49m\n\u001b[1;32m    432\u001b[0m \u001b[43m    \u001b[49m\u001b[43mrequest\u001b[49m\u001b[43m,\u001b[49m\n\u001b[1;32m    433\u001b[0m \u001b[43m    \u001b[49m\u001b[38;5;28;43mself\u001b[39;49m\u001b[38;5;241;43m.\u001b[39;49m\u001b[43m_token_uri\u001b[49m\u001b[43m,\u001b[49m\n\u001b[1;32m    434\u001b[0m \u001b[43m    \u001b[49m\u001b[38;5;28;43mself\u001b[39;49m\u001b[38;5;241;43m.\u001b[39;49m\u001b[43m_refresh_token\u001b[49m\u001b[43m,\u001b[49m\n\u001b[1;32m    435\u001b[0m \u001b[43m    \u001b[49m\u001b[38;5;28;43mself\u001b[39;49m\u001b[38;5;241;43m.\u001b[39;49m\u001b[43m_client_id\u001b[49m\u001b[43m,\u001b[49m\n\u001b[1;32m    436\u001b[0m \u001b[43m    \u001b[49m\u001b[38;5;28;43mself\u001b[39;49m\u001b[38;5;241;43m.\u001b[39;49m\u001b[43m_client_secret\u001b[49m\u001b[43m,\u001b[49m\n\u001b[1;32m    437\u001b[0m \u001b[43m    \u001b[49m\u001b[43mscopes\u001b[49m\u001b[38;5;241;43m=\u001b[39;49m\u001b[43mscopes\u001b[49m\u001b[43m,\u001b[49m\n\u001b[1;32m    438\u001b[0m \u001b[43m    \u001b[49m\u001b[43mrapt_token\u001b[49m\u001b[38;5;241;43m=\u001b[39;49m\u001b[38;5;28;43mself\u001b[39;49m\u001b[38;5;241;43m.\u001b[39;49m\u001b[43m_rapt_token\u001b[49m\u001b[43m,\u001b[49m\n\u001b[1;32m    439\u001b[0m \u001b[43m    \u001b[49m\u001b[43menable_reauth_refresh\u001b[49m\u001b[38;5;241;43m=\u001b[39;49m\u001b[38;5;28;43mself\u001b[39;49m\u001b[38;5;241;43m.\u001b[39;49m\u001b[43m_enable_reauth_refresh\u001b[49m\u001b[43m,\u001b[49m\n\u001b[1;32m    440\u001b[0m \u001b[43m\u001b[49m\u001b[43m)\u001b[49m\n\u001b[1;32m    442\u001b[0m \u001b[38;5;28mself\u001b[39m\u001b[38;5;241m.\u001b[39mtoken \u001b[38;5;241m=\u001b[39m access_token\n",
      "File \u001b[0;32m~/GitHub/gdoc_sync/.venv/lib/python3.10/site-packages/google/oauth2/reauth.py:365\u001b[0m, in \u001b[0;36mrefresh_grant\u001b[0;34m(request, token_uri, refresh_token, client_id, client_secret, scopes, rapt_token, enable_reauth_refresh)\u001b[0m\n\u001b[1;32m    364\u001b[0m \u001b[38;5;28;01mif\u001b[39;00m \u001b[38;5;129;01mnot\u001b[39;00m response_status_ok:\n\u001b[0;32m--> 365\u001b[0m     \u001b[43m_client\u001b[49m\u001b[38;5;241;43m.\u001b[39;49m\u001b[43m_handle_error_response\u001b[49m\u001b[43m(\u001b[49m\u001b[43mresponse_data\u001b[49m\u001b[43m,\u001b[49m\u001b[43m \u001b[49m\u001b[43mretryable_error\u001b[49m\u001b[43m)\u001b[49m\n\u001b[1;32m    366\u001b[0m \u001b[38;5;28;01mreturn\u001b[39;00m _client\u001b[38;5;241m.\u001b[39m_handle_refresh_grant_response(response_data, refresh_token) \u001b[38;5;241m+\u001b[39m (\n\u001b[1;32m    367\u001b[0m     rapt_token,\n\u001b[1;32m    368\u001b[0m )\n",
      "File \u001b[0;32m~/GitHub/gdoc_sync/.venv/lib/python3.10/site-packages/google/oauth2/_client.py:72\u001b[0m, in \u001b[0;36m_handle_error_response\u001b[0;34m(response_data, retryable_error)\u001b[0m\n\u001b[1;32m     70\u001b[0m     error_details \u001b[38;5;241m=\u001b[39m json\u001b[38;5;241m.\u001b[39mdumps(response_data)\n\u001b[0;32m---> 72\u001b[0m \u001b[38;5;28;01mraise\u001b[39;00m exceptions\u001b[38;5;241m.\u001b[39mRefreshError(\n\u001b[1;32m     73\u001b[0m     error_details, response_data, retryable\u001b[38;5;241m=\u001b[39mretryable_error\n\u001b[1;32m     74\u001b[0m )\n",
      "\u001b[0;31mRefreshError\u001b[0m: ('invalid_grant: Bad Request', {'error': 'invalid_grant', 'error_description': 'Bad Request'})",
      "\nDuring handling of the above exception, another exception occurred:\n",
      "\u001b[0;31mRefreshError\u001b[0m                              Traceback (most recent call last)",
      "Cell \u001b[0;32mIn[45], line 6\u001b[0m\n\u001b[1;32m      3\u001b[0m DOCUMENT_ID \u001b[38;5;241m=\u001b[39m \u001b[38;5;124m\"\u001b[39m\u001b[38;5;124m1j7XsbvFy0xUgGL6i-3LSChKvzSmTZSOyimEt6tQS-Kk\u001b[39m\u001b[38;5;124m\"\u001b[39m\n\u001b[1;32m      5\u001b[0m \u001b[38;5;66;03m# generates Credentials object\u001b[39;00m\n\u001b[0;32m----> 6\u001b[0m google_auth \u001b[38;5;241m=\u001b[39m \u001b[43mga\u001b[49m\u001b[38;5;241;43m.\u001b[39;49m\u001b[43mGoogleAuth\u001b[49m\u001b[38;5;241;43m.\u001b[39;49m\u001b[43mget_creds_from_env\u001b[49m\u001b[43m(\u001b[49m\n\u001b[1;32m      7\u001b[0m \u001b[43m    \u001b[49m\u001b[43mcredentials_env_key\u001b[49m\u001b[38;5;241;43m=\u001b[39;49m\u001b[38;5;124;43m\"\u001b[39;49m\u001b[38;5;124;43mGDOC_KEY\u001b[39;49m\u001b[38;5;124;43m\"\u001b[39;49m\u001b[43m,\u001b[49m\n\u001b[1;32m      8\u001b[0m \u001b[43m    \u001b[49m\u001b[43mtoken_env_key\u001b[49m\u001b[38;5;241;43m=\u001b[39;49m\u001b[38;5;124;43m\"\u001b[39;49m\u001b[38;5;124;43mGDOC_TOKEN\u001b[39;49m\u001b[38;5;124;43m\"\u001b[39;49m\u001b[43m,\u001b[49m\n\u001b[1;32m      9\u001b[0m \u001b[43m)\u001b[49m\n\u001b[1;32m     10\u001b[0m google_auth\n\u001b[1;32m     11\u001b[0m content \u001b[38;5;241m=\u001b[39m (\n\u001b[1;32m     12\u001b[0m     google_auth\u001b[38;5;241m.\u001b[39mservice\u001b[38;5;241m.\u001b[39mfiles()\n\u001b[1;32m     13\u001b[0m     \u001b[38;5;241m.\u001b[39mexport(fileId\u001b[38;5;241m=\u001b[39mDOCUMENT_ID, mimeType\u001b[38;5;241m=\u001b[39m\u001b[38;5;124m\"\u001b[39m\u001b[38;5;124mapplication/zip\u001b[39m\u001b[38;5;124m\"\u001b[39m)\n\u001b[1;32m     14\u001b[0m     \u001b[38;5;241m.\u001b[39mexecute()\n\u001b[1;32m     15\u001b[0m )\n",
      "File \u001b[0;32m~/GitHub/gdoc_sync/domolibrary_extensions/google/auth.py:138\u001b[0m, in \u001b[0;36mget_creds_from_env\u001b[0;34m(cls, scope, credentials_env_key, token_env_key)\u001b[0m\n\u001b[1;32m    134\u001b[0m     \u001b[38;5;28mprint\u001b[39m(\u001b[38;5;124m\"\u001b[39m\u001b[38;5;124musing saved token\u001b[39m\u001b[38;5;124m\"\u001b[39m)\n\u001b[1;32m    135\u001b[0m     ga_auth \u001b[38;5;241m=\u001b[39m \u001b[38;5;28mcls\u001b[39m(\n\u001b[1;32m    136\u001b[0m         creds\u001b[38;5;241m=\u001b[39mCredentials\u001b[38;5;241m.\u001b[39mfrom_authorized_user_info(token_json, scope), scope\u001b[38;5;241m=\u001b[39mscope\n\u001b[1;32m    137\u001b[0m     )\n\u001b[0;32m--> 138\u001b[0m     \u001b[43mga_auth\u001b[49m\u001b[38;5;241;43m.\u001b[39;49m\u001b[43m_refresh_token\u001b[49m\u001b[43m(\u001b[49m\u001b[43m)\u001b[49m\n\u001b[1;32m    139\u001b[0m     \u001b[38;5;28;01mreturn\u001b[39;00m ga_auth\n\u001b[1;32m    141\u001b[0m flow \u001b[38;5;241m=\u001b[39m InstalledAppFlow\u001b[38;5;241m.\u001b[39mfrom_client_config(credentials_json, scope)\n",
      "File \u001b[0;32m~/GitHub/gdoc_sync/domolibrary_extensions/google/auth.py:62\u001b[0m, in \u001b[0;36mGoogleAuth._refresh_token\u001b[0;34m(self)\u001b[0m\n\u001b[1;32m     60\u001b[0m     \u001b[38;5;28;01mexcept\u001b[39;00m RefreshError \u001b[38;5;28;01mas\u001b[39;00m e:\n\u001b[1;32m     61\u001b[0m         \u001b[38;5;28mprint\u001b[39m(e)\n\u001b[0;32m---> 62\u001b[0m         \u001b[38;5;28;43mself\u001b[39;49m\u001b[38;5;241;43m.\u001b[39;49m\u001b[43mcreds\u001b[49m\u001b[38;5;241;43m.\u001b[39;49m\u001b[43mrefresh\u001b[49m\u001b[43m(\u001b[49m\u001b[43mRequest\u001b[49m\u001b[43m(\u001b[49m\u001b[43m)\u001b[49m\u001b[43m)\u001b[49m\n\u001b[1;32m     64\u001b[0m \u001b[38;5;28mself\u001b[39m\u001b[38;5;241m.\u001b[39mgenerate_service(service_name\u001b[38;5;241m=\u001b[39m\u001b[38;5;124m\"\u001b[39m\u001b[38;5;124mdrive\u001b[39m\u001b[38;5;124m\"\u001b[39m, service_version\u001b[38;5;241m=\u001b[39m\u001b[38;5;124m\"\u001b[39m\u001b[38;5;124mv3\u001b[39m\u001b[38;5;124m\"\u001b[39m)\n\u001b[1;32m     66\u001b[0m \u001b[38;5;28;01mreturn\u001b[39;00m \u001b[38;5;28mself\u001b[39m\u001b[38;5;241m.\u001b[39mcreds\n",
      "File \u001b[0;32m~/GitHub/gdoc_sync/.venv/lib/python3.10/site-packages/google/oauth2/credentials.py:431\u001b[0m, in \u001b[0;36mCredentials.refresh\u001b[0;34m(self, request)\u001b[0m\n\u001b[1;32m    413\u001b[0m \u001b[38;5;28;01mif\u001b[39;00m (\n\u001b[1;32m    414\u001b[0m     \u001b[38;5;28mself\u001b[39m\u001b[38;5;241m.\u001b[39m_refresh_token \u001b[38;5;129;01mis\u001b[39;00m \u001b[38;5;28;01mNone\u001b[39;00m\n\u001b[1;32m    415\u001b[0m     \u001b[38;5;129;01mor\u001b[39;00m \u001b[38;5;28mself\u001b[39m\u001b[38;5;241m.\u001b[39m_token_uri \u001b[38;5;129;01mis\u001b[39;00m \u001b[38;5;28;01mNone\u001b[39;00m\n\u001b[1;32m    416\u001b[0m     \u001b[38;5;129;01mor\u001b[39;00m \u001b[38;5;28mself\u001b[39m\u001b[38;5;241m.\u001b[39m_client_id \u001b[38;5;129;01mis\u001b[39;00m \u001b[38;5;28;01mNone\u001b[39;00m\n\u001b[1;32m    417\u001b[0m     \u001b[38;5;129;01mor\u001b[39;00m \u001b[38;5;28mself\u001b[39m\u001b[38;5;241m.\u001b[39m_client_secret \u001b[38;5;129;01mis\u001b[39;00m \u001b[38;5;28;01mNone\u001b[39;00m\n\u001b[1;32m    418\u001b[0m ):\n\u001b[1;32m    419\u001b[0m     \u001b[38;5;28;01mraise\u001b[39;00m exceptions\u001b[38;5;241m.\u001b[39mRefreshError(\n\u001b[1;32m    420\u001b[0m         \u001b[38;5;124m\"\u001b[39m\u001b[38;5;124mThe credentials do not contain the necessary fields need to \u001b[39m\u001b[38;5;124m\"\u001b[39m\n\u001b[1;32m    421\u001b[0m         \u001b[38;5;124m\"\u001b[39m\u001b[38;5;124mrefresh the access token. You must specify refresh_token, \u001b[39m\u001b[38;5;124m\"\u001b[39m\n\u001b[1;32m    422\u001b[0m         \u001b[38;5;124m\"\u001b[39m\u001b[38;5;124mtoken_uri, client_id, and client_secret.\u001b[39m\u001b[38;5;124m\"\u001b[39m\n\u001b[1;32m    423\u001b[0m     )\n\u001b[1;32m    425\u001b[0m (\n\u001b[1;32m    426\u001b[0m     access_token,\n\u001b[1;32m    427\u001b[0m     refresh_token,\n\u001b[1;32m    428\u001b[0m     expiry,\n\u001b[1;32m    429\u001b[0m     grant_response,\n\u001b[1;32m    430\u001b[0m     rapt_token,\n\u001b[0;32m--> 431\u001b[0m ) \u001b[38;5;241m=\u001b[39m \u001b[43mreauth\u001b[49m\u001b[38;5;241;43m.\u001b[39;49m\u001b[43mrefresh_grant\u001b[49m\u001b[43m(\u001b[49m\n\u001b[1;32m    432\u001b[0m \u001b[43m    \u001b[49m\u001b[43mrequest\u001b[49m\u001b[43m,\u001b[49m\n\u001b[1;32m    433\u001b[0m \u001b[43m    \u001b[49m\u001b[38;5;28;43mself\u001b[39;49m\u001b[38;5;241;43m.\u001b[39;49m\u001b[43m_token_uri\u001b[49m\u001b[43m,\u001b[49m\n\u001b[1;32m    434\u001b[0m \u001b[43m    \u001b[49m\u001b[38;5;28;43mself\u001b[39;49m\u001b[38;5;241;43m.\u001b[39;49m\u001b[43m_refresh_token\u001b[49m\u001b[43m,\u001b[49m\n\u001b[1;32m    435\u001b[0m \u001b[43m    \u001b[49m\u001b[38;5;28;43mself\u001b[39;49m\u001b[38;5;241;43m.\u001b[39;49m\u001b[43m_client_id\u001b[49m\u001b[43m,\u001b[49m\n\u001b[1;32m    436\u001b[0m \u001b[43m    \u001b[49m\u001b[38;5;28;43mself\u001b[39;49m\u001b[38;5;241;43m.\u001b[39;49m\u001b[43m_client_secret\u001b[49m\u001b[43m,\u001b[49m\n\u001b[1;32m    437\u001b[0m \u001b[43m    \u001b[49m\u001b[43mscopes\u001b[49m\u001b[38;5;241;43m=\u001b[39;49m\u001b[43mscopes\u001b[49m\u001b[43m,\u001b[49m\n\u001b[1;32m    438\u001b[0m \u001b[43m    \u001b[49m\u001b[43mrapt_token\u001b[49m\u001b[38;5;241;43m=\u001b[39;49m\u001b[38;5;28;43mself\u001b[39;49m\u001b[38;5;241;43m.\u001b[39;49m\u001b[43m_rapt_token\u001b[49m\u001b[43m,\u001b[49m\n\u001b[1;32m    439\u001b[0m \u001b[43m    \u001b[49m\u001b[43menable_reauth_refresh\u001b[49m\u001b[38;5;241;43m=\u001b[39;49m\u001b[38;5;28;43mself\u001b[39;49m\u001b[38;5;241;43m.\u001b[39;49m\u001b[43m_enable_reauth_refresh\u001b[49m\u001b[43m,\u001b[49m\n\u001b[1;32m    440\u001b[0m \u001b[43m\u001b[49m\u001b[43m)\u001b[49m\n\u001b[1;32m    442\u001b[0m \u001b[38;5;28mself\u001b[39m\u001b[38;5;241m.\u001b[39mtoken \u001b[38;5;241m=\u001b[39m access_token\n\u001b[1;32m    443\u001b[0m \u001b[38;5;28mself\u001b[39m\u001b[38;5;241m.\u001b[39mexpiry \u001b[38;5;241m=\u001b[39m expiry\n",
      "File \u001b[0;32m~/GitHub/gdoc_sync/.venv/lib/python3.10/site-packages/google/oauth2/reauth.py:365\u001b[0m, in \u001b[0;36mrefresh_grant\u001b[0;34m(request, token_uri, refresh_token, client_id, client_secret, scopes, rapt_token, enable_reauth_refresh)\u001b[0m\n\u001b[1;32m    356\u001b[0m     (\n\u001b[1;32m    357\u001b[0m         response_status_ok,\n\u001b[1;32m    358\u001b[0m         response_data,\n\u001b[0;32m   (...)\u001b[0m\n\u001b[1;32m    361\u001b[0m         request, token_uri, body, headers\u001b[38;5;241m=\u001b[39mmetrics_header\n\u001b[1;32m    362\u001b[0m     )\n\u001b[1;32m    364\u001b[0m \u001b[38;5;28;01mif\u001b[39;00m \u001b[38;5;129;01mnot\u001b[39;00m response_status_ok:\n\u001b[0;32m--> 365\u001b[0m     \u001b[43m_client\u001b[49m\u001b[38;5;241;43m.\u001b[39;49m\u001b[43m_handle_error_response\u001b[49m\u001b[43m(\u001b[49m\u001b[43mresponse_data\u001b[49m\u001b[43m,\u001b[49m\u001b[43m \u001b[49m\u001b[43mretryable_error\u001b[49m\u001b[43m)\u001b[49m\n\u001b[1;32m    366\u001b[0m \u001b[38;5;28;01mreturn\u001b[39;00m _client\u001b[38;5;241m.\u001b[39m_handle_refresh_grant_response(response_data, refresh_token) \u001b[38;5;241m+\u001b[39m (\n\u001b[1;32m    367\u001b[0m     rapt_token,\n\u001b[1;32m    368\u001b[0m )\n",
      "File \u001b[0;32m~/GitHub/gdoc_sync/.venv/lib/python3.10/site-packages/google/oauth2/_client.py:72\u001b[0m, in \u001b[0;36m_handle_error_response\u001b[0;34m(response_data, retryable_error)\u001b[0m\n\u001b[1;32m     69\u001b[0m \u001b[38;5;28;01mexcept\u001b[39;00m (\u001b[38;5;167;01mKeyError\u001b[39;00m, \u001b[38;5;167;01mValueError\u001b[39;00m):\n\u001b[1;32m     70\u001b[0m     error_details \u001b[38;5;241m=\u001b[39m json\u001b[38;5;241m.\u001b[39mdumps(response_data)\n\u001b[0;32m---> 72\u001b[0m \u001b[38;5;28;01mraise\u001b[39;00m exceptions\u001b[38;5;241m.\u001b[39mRefreshError(\n\u001b[1;32m     73\u001b[0m     error_details, response_data, retryable\u001b[38;5;241m=\u001b[39mretryable_error\n\u001b[1;32m     74\u001b[0m )\n",
      "\u001b[0;31mRefreshError\u001b[0m: ('invalid_grant: Bad Request', {'error': 'invalid_grant', 'error_description': 'Bad Request'})"
     ]
    }
   ],
   "source": [
    "# import domolibrary_extensions.google.auth as ga\n",
    "\n",
    "DOCUMENT_ID = \"1j7XsbvFy0xUgGL6i-3LSChKvzSmTZSOyimEt6tQS-Kk\"\n",
    "\n",
    "# generates Credentials object\n",
    "google_auth = ga.GoogleAuth.get_creds_from_env(\n",
    "    credentials_env_key=\"GDOC_KEY\",\n",
    "    token_env_key=\"GDOC_TOKEN\",\n",
    ")\n",
    "google_auth\n",
    "content = (\n",
    "    google_auth.service.files()\n",
    "    .export(fileId=DOCUMENT_ID, mimeType=\"application/zip\")\n",
    "    .execute()\n",
    ")\n",
    "\n",
    "download_zip(content, \"../TEST/utils/drive_converter-download_zip\")"
   ]
  },
  {
   "cell_type": "code",
   "execution_count": null,
   "metadata": {},
   "outputs": [],
   "source": [
    "# |exports\n",
    "\n",
    "\n",
    "def download_pptx(\n",
    "    pptx_bytes_content, output_folder, is_convert_to_markdown: bool = True\n",
    "):\n",
    "    \"\"\"save bytes content to a pptx file then converts to markdown\"\"\"\n",
    "\n",
    "    upsert_folder(output_folder)\n",
    "\n",
    "    output_ppt_index = os.path.join(output_folder, \"index.pptx\")\n",
    "\n",
    "    with open(output_ppt_index, \"wb+\") as binary_file:\n",
    "        # Write bytes to file\n",
    "        binary_file.write(pptx_bytes_content)\n",
    "\n",
    "    if is_convert_to_markdown:\n",
    "        pptx2md.convert(\n",
    "            output_ppt_index,\n",
    "            output=os.path.join(output_folder, \"index.md\"),\n",
    "            image_dir=os.path.join(output_folder, \"images\"),\n",
    "        )\n",
    "\n",
    "    return f\"successfully downloaded content to {output_folder}\""
   ]
  },
  {
   "cell_type": "markdown",
   "metadata": {},
   "source": [
    "#### sample implementation of download pptx from google drive"
   ]
  },
  {
   "cell_type": "code",
   "execution_count": null,
   "metadata": {},
   "outputs": [
    {
     "name": "stdout",
     "output_type": "stream",
     "text": [
      "using saved token\n",
      "generating service object on GoogleAuth\n"
     ]
    },
    {
     "name": "stderr",
     "output_type": "stream",
     "text": [
      "Converting slides: 100%|██████████| 2/2 [00:00<00:00, 1045.18it/s]\n"
     ]
    },
    {
     "data": {
      "text/plain": [
       "'successfully downloaded content to ./TEST/utils/drive_converter-download_pptx'"
      ]
     },
     "execution_count": 20,
     "metadata": {},
     "output_type": "execute_result"
    }
   ],
   "source": [
    "# | import domolibrary_extensions.google.auth as ga\n",
    "\n",
    "SLIDE_ID = \"1_k4NRraKI1TmHNlpQCuqJrWr6dP7DNracdMCtfN8XlM\"\n",
    "\n",
    "# generates Credentials object\n",
    "google_auth = ga.GoogleAuth.get_creds_from_env(\n",
    "    credentials_env_key=\"GDOC_KEY\", token_env_key=\"GDOC_TOKEN\"\n",
    ")\n",
    "\n",
    "content = (\n",
    "    google_auth.service.files()\n",
    "    .export(\n",
    "        fileId=SLIDE_ID,\n",
    "        mimeType=\"application/vnd.openxmlformats-officedocument.presentationml.presentation\",\n",
    "    )\n",
    "    .execute()\n",
    ")\n",
    "download_pptx(content, \"./TEST/utils/drive_converter-download_pptx\")"
   ]
  },
  {
   "cell_type": "markdown",
   "metadata": {},
   "source": [
    "# Text Cleaning"
   ]
  },
  {
   "cell_type": "code",
   "execution_count": null,
   "metadata": {},
   "outputs": [],
   "source": [
    "# | exports\n",
    "def convert_str_to_snake_case(text_str):\n",
    "    \"\"\"converts 'snake_case_str' to 'snakeCaseStr'\"\"\"\n",
    "\n",
    "    return text_str.replace(\" \", \"_\").lower()"
   ]
  },
  {
   "cell_type": "code",
   "execution_count": null,
   "metadata": {},
   "outputs": [],
   "source": [
    "# | exports\n",
    "def convert_str_remove_accents(text_str: str) -> str:\n",
    "    return \"\".join(\n",
    "        c\n",
    "        for c in unicodedata.normalize(\"NFD\", text_str)\n",
    "        if unicodedata.category(c) != \"Mn\"\n",
    "    )"
   ]
  },
  {
   "cell_type": "code",
   "execution_count": null,
   "metadata": {},
   "outputs": [
    {
     "data": {
      "text/plain": [
       "('est etre', 'kozuscek')"
      ]
     },
     "execution_count": 23,
     "metadata": {},
     "output_type": "execute_result"
    }
   ],
   "source": [
    "convert_str_remove_accents(\"est être\"), convert_str_remove_accents(\"kožušček\")"
   ]
  },
  {
   "cell_type": "code",
   "execution_count": null,
   "metadata": {},
   "outputs": [],
   "source": [
    "# | exports\n",
    "def convert_str_keep_alphanumeric(text_str) -> str:\n",
    "    pattern = \"[^0-9a-zA-Z_\\s]+\"\n",
    "\n",
    "    return re.sub(pattern, \"\", text_str)"
   ]
  },
  {
   "cell_type": "code",
   "execution_count": null,
   "metadata": {},
   "outputs": [],
   "source": [
    "# | exports\n",
    "def convert_str_file_name(text_str: str) -> str:\n",
    "    \"\"\"convert strings to clean file name or url\"\"\"\n",
    "\n",
    "    return convert_str_keep_alphanumeric(\n",
    "        convert_str_to_snake_case(convert_str_remove_accents(text_str))\n",
    "    )"
   ]
  },
  {
   "cell_type": "code",
   "execution_count": null,
   "metadata": {},
   "outputs": [
    {
     "data": {
      "text/plain": [
       "('register_snowflake_with_cloud_amplifier', 'kozuscek_and_beast_modes')"
      ]
     },
     "execution_count": 26,
     "metadata": {},
     "output_type": "execute_result"
    }
   ],
   "source": [
    "convert_str_file_name(\"Register Snowflake with Cloud Amplifier\"), convert_str_file_name(\n",
    "    \"Kožušček and Beast Modes\"\n",
    ")"
   ]
  },
  {
   "cell_type": "markdown",
   "metadata": {},
   "source": [
    "# Conversion"
   ]
  },
  {
   "cell_type": "code",
   "execution_count": null,
   "metadata": {},
   "outputs": [],
   "source": [
    "# | exports\n",
    "def convert_str_to_date(datefield: str) -> dt.datetime:\n",
    "    \"\"\"converts string date to datetime object\"\"\"\n",
    "    return dtu_parse(datefield) if datefield else None"
   ]
  },
  {
   "cell_type": "code",
   "execution_count": null,
   "metadata": {},
   "outputs": [
    {
     "data": {
      "text/plain": [
       "datetime.datetime(2023, 10, 1, 0, 0)"
      ]
     },
     "execution_count": 28,
     "metadata": {},
     "output_type": "execute_result"
    }
   ],
   "source": [
    "convert_str_to_date(\"2023-10-01\")"
   ]
  },
  {
   "cell_type": "code",
   "execution_count": null,
   "metadata": {},
   "outputs": [],
   "source": [
    "# | hide\n",
    "import nbdev\n",
    "\n",
    "nbdev.nbdev_export(\"utils.ipynb\")"
   ]
  }
 ],
 "metadata": {
  "kernelspec": {
   "display_name": "python3",
   "language": "python",
   "name": "python3"
  },
  "language_info": {
   "codemirror_mode": {
    "name": "ipython",
    "version": 3
   },
   "file_extension": ".py",
   "mimetype": "text/x-python",
   "name": "python",
   "nbconvert_exporter": "python",
   "pygments_lexer": "ipython3",
   "version": "3.10.12"
  }
 },
 "nbformat": 4,
 "nbformat_minor": 2
}
