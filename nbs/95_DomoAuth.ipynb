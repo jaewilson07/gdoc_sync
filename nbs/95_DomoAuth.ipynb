{
 "cells": [
  {
   "cell_type": "markdown",
   "metadata": {},
   "source": [
    "# DomoAuth\n",
    "\n",
    "> Fill in a module description here"
   ]
  },
  {
   "cell_type": "code",
   "execution_count": 141,
   "metadata": {},
   "outputs": [],
   "source": [
    "# | default_exp DomoAuth\n"
   ]
  },
  {
   "cell_type": "code",
   "execution_count": 142,
   "metadata": {},
   "outputs": [],
   "source": [
    "# | hide\n",
    "from nbdev.showdoc import *\n",
    "import fastcore.test as fctest\n"
   ]
  },
  {
   "cell_type": "code",
   "execution_count": 143,
   "metadata": {},
   "outputs": [],
   "source": [
    "# | export\n",
    "from fastcore.basics import patch_to\n",
    "from dataclasses import dataclass, field\n",
    "from abc import abstractmethod\n",
    "import aiohttp\n",
    "from typing import Optional, Union\n",
    "import nbdev_domo.ResponseGetData as rgd\n"
   ]
  },
  {
   "cell_type": "markdown",
   "metadata": {},
   "source": [
    "# Authentication Routes\n",
    "Stand alone functions for users who prefer a functional programming approach\n",
    "\n",
    "## Full Auth Route - username and password authentication"
   ]
  },
  {
   "cell_type": "code",
   "execution_count": 144,
   "metadata": {},
   "outputs": [],
   "source": [
    "# | export\n",
    "async def get_full_auth(\n",
    "    domo_instance: str,  # domo_instance.domo.com\n",
    "    domo_username: str,  # email address\n",
    "    domo_password: str,\n",
    "    session: Optional[aiohttp.ClientSession] = None,\n",
    ") -> rgd.ResponseGetData:\n",
    "    \"\"\"uses username and password authentication to retrieve a full_auth access token\"\"\"\n",
    "\n",
    "    is_close_session = False\n",
    "\n",
    "    if not session:\n",
    "        is_close_session = True\n",
    "        session = aiohttp.ClientSession()\n",
    "\n",
    "    url = f\"https://{domo_instance}.domo.com/api/content/v2/authentication\"\n",
    "\n",
    "    tokenHeaders = {\"Content-Type\": \"application/json\"}\n",
    "\n",
    "    body = {\n",
    "        \"method\": \"password\",\n",
    "        \"emailAddress\": domo_username,\n",
    "        \"password\": domo_password,\n",
    "    }\n",
    "\n",
    "    res = await session.request(method=\"POST\", url=url, headers=tokenHeaders, json=body)\n",
    "\n",
    "    if is_close_session:\n",
    "        await session.close()\n",
    "\n",
    "    return await rgd.ResponseGetData._from_aiohttp_response(res)\n"
   ]
  },
  {
   "cell_type": "markdown",
   "metadata": {},
   "source": [
    "#### Sample Implementations of get_full_auth"
   ]
  },
  {
   "cell_type": "code",
   "execution_count": 145,
   "metadata": {},
   "outputs": [
    {
     "data": {
      "text/plain": [
       "ResponseGetData(status=200, response={'success': False, 'reason': 'INVALID_CREDENTIALS'}, is_success=True, auth={})"
      ]
     },
     "execution_count": 145,
     "metadata": {},
     "output_type": "execute_result"
    }
   ],
   "source": [
    "domo_instance = \"domo-dojo\"\n",
    "domo_username = \"test12@domo.com\"\n",
    "domo_password = \"test1234\"\n",
    "\n",
    "res = await get_full_auth(domo_instance, domo_username, domo_password)\n",
    "res\n"
   ]
  },
  {
   "cell_type": "code",
   "execution_count": 146,
   "metadata": {},
   "outputs": [],
   "source": [
    "# | hide\n",
    "assert res.status == 200\n",
    "assert res.response.get(\"success\") == False\n"
   ]
  },
  {
   "cell_type": "markdown",
   "metadata": {},
   "source": [
    "The 200 response confirms we were able to get a response from the credentials API, however success was FALSE because we sent invalid credentials"
   ]
  },
  {
   "cell_type": "code",
   "execution_count": 147,
   "metadata": {},
   "outputs": [
    {
     "data": {
      "text/plain": [
       "ResponseGetData(status=403, response='Forbidden', is_success=False, auth={})"
      ]
     },
     "execution_count": 147,
     "metadata": {},
     "output_type": "execute_result"
    }
   ],
   "source": [
    "domo_instance = \"test\"\n",
    "res = await get_full_auth(domo_instance, domo_username, domo_password)\n",
    "res\n"
   ]
  },
  {
   "cell_type": "code",
   "execution_count": 148,
   "metadata": {},
   "outputs": [],
   "source": [
    "# | hide\n",
    "assert res.status == 403\n"
   ]
  },
  {
   "cell_type": "markdown",
   "metadata": {},
   "source": [
    "The 403 response is expected because test.domo.com presumeably does not exist or access if forbidden."
   ]
  },
  {
   "cell_type": "markdown",
   "metadata": {},
   "source": [
    "## Developer Auth Route - client_id and secret authentication"
   ]
  },
  {
   "cell_type": "code",
   "execution_count": 149,
   "metadata": {},
   "outputs": [],
   "source": [
    "# | export\n",
    "async def get_developer_auth(\n",
    "    domo_client_id: str, domo_client_secret: str, session: Optional[aiohttp.ClientSession] = None\n",
    ") -> rgd.ResponseGetData:\n",
    "\n",
    "    \"\"\"\n",
    "    only use for authenticating against apis documented under developer.domo.com\n",
    "    \"\"\"\n",
    "    is_close_session = False\n",
    "\n",
    "    if not session:\n",
    "        is_close_session = True\n",
    "        session = aiohttp.ClientSession(\n",
    "            auth=aiohttp.BasicAuth(domo_client_id, domo_client_secret)\n",
    "        )\n",
    "\n",
    "    url = f\"https://api.domo.com/oauth/token?grant_type=client_credentials\"\n",
    "\n",
    "    res = await session.request(method=\"GET\", url=url)\n",
    "\n",
    "    if is_close_session:\n",
    "        await session.close()\n",
    "\n",
    "    return await rgd.ResponseGetData._from_aiohttp_response(res)\n"
   ]
  },
  {
   "cell_type": "markdown",
   "metadata": {},
   "source": [
    "#### Sample Implementations of get_developer_auth\n",
    "The 401 response is expected because we are using invalid credentials"
   ]
  },
  {
   "cell_type": "code",
   "execution_count": 150,
   "metadata": {},
   "outputs": [
    {
     "data": {
      "text/plain": [
       "ResponseGetData(status=401, response='Unauthorized', is_success=False, auth={})"
      ]
     },
     "execution_count": 150,
     "metadata": {},
     "output_type": "execute_result"
    }
   ],
   "source": [
    "domo_client_id = 'test_id'\n",
    "domo_client_secret = 'test_secret'\n",
    "\n",
    "await get_developer_auth(domo_client_id, domo_client_secret)\n"
   ]
  },
  {
   "cell_type": "markdown",
   "metadata": {},
   "source": [
    "## Access Token Auth Route - access_token authentication\n",
    "This access_token based authentication assumes the user has been provided a valid access token from Domo > Admin > Authentication > Access Token so authentication routes are actually not required.\n",
    "\n",
    "Per the Domo JavaCLI implementation, users can test the validity of the access_token agains the 'me' API\n",
    "\n",
    "!! Note about the Me API !!\n",
    "It appears that access_token authentication will direct the "
   ]
  },
  {
   "cell_type": "code",
   "execution_count": 151,
   "metadata": {},
   "outputs": [],
   "source": [
    "# | export\n",
    "async def test_access_token(domo_access_token: str,  # as provided in Domo > Admin > Authentication > AccessTokens\n",
    "                            domo_instance: str,  # <domo_instance>.domo.com\n",
    "                            session: Optional[aiohttp.ClientSession] = None\n",
    "                            ):\n",
    "    \"\"\"\n",
    "    will attempt to validate against the 'me' API.  \n",
    "    This is the same authentication test the Domo Java CLI uses.\n",
    "    \"\"\"\n",
    "\n",
    "    is_close_session = False\n",
    "\n",
    "    if not session:\n",
    "        is_close_session = True\n",
    "        session = aiohttp.ClientSession()\n",
    "\n",
    "    url = f\"https://{domo_instance}.domo.com/api/content/v2/users/me\"\n",
    "\n",
    "    tokenHeaders = {\"X-DOMO-Developer-Token\": domo_access_token}\n",
    "\n",
    "    res = await session.request(method=\"GET\", headers=tokenHeaders, url=url)\n",
    "\n",
    "    if is_close_session:\n",
    "        await session.close()\n",
    "\n",
    "    return await rgd.ResponseGetData._from_aiohttp_response(res)\n"
   ]
  },
  {
   "cell_type": "markdown",
   "metadata": {},
   "source": [
    "#### Sample implementation of `test_access_token`"
   ]
  },
  {
   "cell_type": "code",
   "execution_count": 152,
   "metadata": {},
   "outputs": [
    {
     "data": {
      "text/plain": [
       "ResponseGetData(status=401, response='Unauthorized', is_success=False, auth={})"
      ]
     },
     "execution_count": 152,
     "metadata": {},
     "output_type": "execute_result"
    }
   ],
   "source": [
    "domo_instance = 'playstation-beta'\n",
    "domo_access_token = 'a9c9c837775a981121fc57b4c78550d28c8784b6b0f4c69c'\n",
    "\n",
    "await test_access_token(domo_instance=domo_instance, domo_access_token=domo_access_token)\n"
   ]
  },
  {
   "cell_type": "markdown",
   "metadata": {},
   "source": [
    "# Classes\n",
    "\n",
    "Different Domo Auth classes will have a variety of required vs optional parameters.  To avoid multiple initialization and post_intialization statements, we mix multiple classes together such that classes with optional parameters are mixed in before classes with required parameters."
   ]
  },
  {
   "cell_type": "code",
   "execution_count": 153,
   "metadata": {},
   "outputs": [],
   "source": [
    "# | exporti\n",
    "@dataclass\n",
    "class _DomoAuth_Required:\n",
    "    \"\"\"required parameters for all Domo Auth classes\"\"\"\n",
    "\n",
    "    domo_instance: str\n",
    "\n",
    "    def __post_init__(self):\n",
    "        if self.domo_instance:\n",
    "            self.set_manual_login()\n",
    "\n",
    "    def set_manual_login(self):\n",
    "        self.url_manual_login = f\"https://{self.domo_instance}.domo.com/auth/index?domoManualLogin=true\"\n",
    "\n",
    "\n",
    "@dataclass\n",
    "class _DomoAuth_Optional:\n",
    "    \"\"\"parameters are defined after initialization\"\"\"\n",
    "\n",
    "    token: Optional[str] = field(default=None, repr=False)\n",
    "    token_name: Optional[str] = field(default=None)\n",
    "    user_id: Optional[str] = field(default=None, repr=False)\n",
    "    auth_header: dict = field(default_factory=dict, repr=False)\n",
    "\n",
    "    url_manual_login: Optional[str] = None\n",
    "\n",
    "    async def get_auth_token(self) -> Union[str, None]:\n",
    "        \"\"\"placeholder method\"\"\"\n",
    "        pass\n",
    "\n",
    "    async def generate_auth_header(self) -> Union[dict, None]:\n",
    "        \"\"\"returns auth header appropriate for this authentication method\"\"\"\n",
    "        pass\n"
   ]
  },
  {
   "cell_type": "code",
   "execution_count": 154,
   "metadata": {},
   "outputs": [],
   "source": [
    "# | export\n",
    "@dataclass\n",
    "class DomoAuth(_DomoAuth_Optional, _DomoAuth_Required):\n",
    "    \"\"\"abstract DomoAuth class\"\"\"\n",
    "\n",
    "    pass\n"
   ]
  },
  {
   "cell_type": "code",
   "execution_count": 155,
   "metadata": {},
   "outputs": [
    {
     "data": {
      "text/plain": [
       "['auth_header',\n",
       " 'domo_instance',\n",
       " 'generate_auth_header',\n",
       " 'get_auth_token',\n",
       " 'set_manual_login',\n",
       " 'token',\n",
       " 'token_name',\n",
       " 'url_manual_login',\n",
       " 'user_id']"
      ]
     },
     "execution_count": 155,
     "metadata": {},
     "output_type": "execute_result"
    }
   ],
   "source": [
    "# Attributes of `DomoAuth`\n",
    "domo_instance = 'test'\n",
    "[attr for attr in dir(DomoAuth(domo_instance)) if not attr.startswith(\"__\")]\n"
   ]
  },
  {
   "cell_type": "code",
   "execution_count": 156,
   "metadata": {},
   "outputs": [
    {
     "data": {
      "text/plain": [
       "'https://test.domo.com/auth/index?domoManualLogin=true'"
      ]
     },
     "execution_count": 156,
     "metadata": {},
     "output_type": "execute_result"
    }
   ],
   "source": [
    "# validate can print manual login link\n",
    "domo_instance = \"test\"\n",
    "\n",
    "da = DomoAuth(domo_instance)\n",
    "da.url_manual_login\n"
   ]
  },
  {
   "cell_type": "markdown",
   "metadata": {},
   "source": [
    "## DomoAuth Error Classes"
   ]
  },
  {
   "cell_type": "code",
   "execution_count": 157,
   "metadata": {},
   "outputs": [],
   "source": [
    "# | exporti\n",
    "class DomoErrror(Exception):\n",
    "    \"\"\"base exception\"\"\"\n",
    "\n",
    "    def __init__(self, status: Optional[int] = None,  # API request status\n",
    "                 message: str = \"error\",  # <domo_instance>.domo.com\n",
    "                 domo_instance: Optional[str] = None\n",
    "                 ):\n",
    "\n",
    "        instance_str = f\" at {domo_instance}\" if domo_instance else \"\"\n",
    "        status_str = f\"Status {status} - \" if status else \"\"\n",
    "        self.message = f\"{status_str}{message}{instance_str}\"\n",
    "        super().__init__(self.message)\n"
   ]
  },
  {
   "cell_type": "code",
   "execution_count": 158,
   "metadata": {},
   "outputs": [],
   "source": [
    "# | export\n",
    "class InvalidCredentialsError(DomoErrror):\n",
    "    \"\"\"return invalid credentials sent to API\"\"\"\n",
    "\n",
    "    def __init__(\n",
    "        self,\n",
    "        status: Optional[int] = None,  # API request status\n",
    "        message=\"invalid credentials\",\n",
    "        domo_instance: Optional[str] = None\n",
    "    ):\n",
    "\n",
    "        super().__init__(status=status, message=message, domo_instance=domo_instance)\n",
    "\n",
    "\n",
    "class InvalidInstanceError(DomoErrror):\n",
    "    \"\"\"return if invalid domo_instance sent to API\"\"\"\n",
    "\n",
    "    def __init__(\n",
    "        self, status: Optional[int] = None, message=\"invalid instance\", domo_instance: Optional[str] = None\n",
    "    ):\n",
    "        super().__init__(status=status, message=message, domo_instance=domo_instance)\n"
   ]
  },
  {
   "cell_type": "code",
   "execution_count": 159,
   "metadata": {},
   "outputs": [],
   "source": [
    "# | hide\n",
    "# validates that Errors can compile\n",
    "fctest.test_eq(isinstance(InvalidCredentialsError(),\n",
    "               InvalidCredentialsError), True)\n",
    "fctest.test_eq(isinstance(InvalidCredentialsError(),\n",
    "               InvalidCredentialsError), True)\n",
    "fctest.test_eq(isinstance(InvalidInstanceError(), InvalidInstanceError), True)\n"
   ]
  },
  {
   "cell_type": "markdown",
   "metadata": {},
   "source": [
    "## DomoFullAuth"
   ]
  },
  {
   "cell_type": "code",
   "execution_count": 160,
   "metadata": {},
   "outputs": [],
   "source": [
    "# | exporti\n",
    "@dataclass\n",
    "class _DomoFullAuth_Required(_DomoAuth_Required):\n",
    "    \"\"\"mix requied parameters for DomoFullAuth\"\"\"\n",
    "\n",
    "    domo_username: str\n",
    "    domo_password: str = field(repr=False)"
   ]
  },
  {
   "cell_type": "code",
   "execution_count": 161,
   "metadata": {},
   "outputs": [],
   "source": [
    "# | export\n",
    "@dataclass\n",
    "class DomoFullAuth(_DomoAuth_Optional, _DomoFullAuth_Required):\n",
    "    \"\"\"use for full authentication token\"\"\"\n",
    "\n",
    "    def generate_auth_header(self, token: str) -> dict:\n",
    "        self.auth_header = {\"x-domo-authentication\": token}\n",
    "        return self.auth_header\n",
    "\n",
    "    async def get_auth_token(\n",
    "        self,\n",
    "        session: Optional[aiohttp.ClientSession] = None,\n",
    "    ) -> str:\n",
    "        \"\"\"returns `token` if valid credentials provided else raises Exception and returns None\"\"\"\n",
    "\n",
    "        res = await get_full_auth(\n",
    "            domo_instance=self.domo_instance,\n",
    "            domo_username=self.domo_username,\n",
    "            domo_password=self.domo_password,\n",
    "            session=session,\n",
    "        )\n",
    "\n",
    "        if res.is_success and res.response.get('reason') == 'INVALID_CREDENTIALS':\n",
    "            raise InvalidCredentialsError(\n",
    "                status=res.status,\n",
    "                message=str(res.response.get(\"reason\")),\n",
    "                domo_instance=self.domo_instance,\n",
    "            )\n",
    "\n",
    "        if res.status == 403:\n",
    "            raise InvalidInstanceError(\n",
    "                status=res.status,\n",
    "                message=\"INVALID INSTANCE\",\n",
    "                domo_instance=self.domo_instance\n",
    "            )\n",
    "\n",
    "        token = str(res.response.get(\"sessionToken\"))\n",
    "        self.token = token\n",
    "        self.user_id = str(res.response.get(\"userId\"))\n",
    "\n",
    "        self.auth_header = self.generate_auth_header(token=token)\n",
    "\n",
    "        if not self.token_name:\n",
    "            self.token_name = 'full_auth'\n",
    "\n",
    "        return self.token\n"
   ]
  },
  {
   "cell_type": "markdown",
   "metadata": {},
   "source": [
    "#### sample implementations of DomoFullAuth"
   ]
  },
  {
   "cell_type": "code",
   "execution_count": 162,
   "metadata": {},
   "outputs": [
    {
     "name": "stdout",
     "output_type": "stream",
     "text": [
      "Status 200 - INVALID_CREDENTIALS at domo-dojo\n"
     ]
    }
   ],
   "source": [
    "domo_instance = \"domo-dojo\"\n",
    "domo_username = \"test12@domo.com\"\n",
    "domo_password = \"test1234\"\n",
    "\n",
    "try:\n",
    "    full_auth = DomoFullAuth(domo_instance, domo_username, domo_password)\n",
    "    res = await full_auth.get_auth_token()\n",
    "\n",
    "except InvalidCredentialsError as e:\n",
    "    print(e)\n"
   ]
  },
  {
   "cell_type": "code",
   "execution_count": 163,
   "metadata": {},
   "outputs": [
    {
     "name": "stdout",
     "output_type": "stream",
     "text": [
      "Status 403 - INVALID INSTANCE at test\n"
     ]
    }
   ],
   "source": [
    "domo_instance = \"test\"\n",
    "\n",
    "try:\n",
    "    full_auth = DomoFullAuth(domo_instance, domo_username, domo_password)\n",
    "    await full_auth.get_auth_token()\n",
    "except InvalidInstanceError as e:\n",
    "    print(e)\n"
   ]
  },
  {
   "cell_type": "code",
   "execution_count": 164,
   "metadata": {},
   "outputs": [],
   "source": [
    "# | hide\n",
    "fctest.test_eq(isinstance(\n",
    "    DomoAuth(domo_instance=domo_instance), DomoAuth), True)\n",
    "\n",
    "fctest.test_eq(\n",
    "    isinstance(\n",
    "        DomoFullAuth(\n",
    "            domo_instance=domo_instance,\n",
    "            domo_password=domo_password,\n",
    "            domo_username=domo_username,\n",
    "        ),\n",
    "        DomoFullAuth,\n",
    "    ),\n",
    "    True,\n",
    ")\n"
   ]
  },
  {
   "cell_type": "markdown",
   "metadata": {},
   "source": [
    "## DomoTokenAuth"
   ]
  },
  {
   "cell_type": "code",
   "execution_count": 165,
   "metadata": {},
   "outputs": [],
   "source": [
    "# | exporti\n",
    "@dataclass\n",
    "class _DomoTokenAuth_Required(_DomoAuth_Required):\n",
    "    \"\"\"mix requied parameters for DomoFullAuth\"\"\"\n",
    "\n",
    "    domo_access_token: str = field(repr=False)\n"
   ]
  },
  {
   "cell_type": "code",
   "execution_count": 166,
   "metadata": {},
   "outputs": [],
   "source": [
    "# | export\n",
    "@dataclass\n",
    "class DomoTokenAuth(_DomoAuth_Optional, _DomoTokenAuth_Required):\n",
    "    \"\"\"\n",
    "    use for access_token authentication.\n",
    "    Tokens are generated in domo > admin > access token\n",
    "    Necessary in cases where direct sign on is not permitted\n",
    "    \"\"\"\n",
    "\n",
    "    def generate_auth_header(self, token: str) -> dict:\n",
    "        self.auth_header = {\"x-domo-developer-token\": token}\n",
    "        return self.auth_header\n",
    "\n",
    "    async def get_auth_token(\n",
    "        self,\n",
    "        session: Optional[aiohttp.ClientSession] = None\n",
    "    ) -> str:\n",
    "        \"\"\"\n",
    "        updates internal attributes\n",
    "        having an access_token assumes pre-authenticaiton\n",
    "        \"\"\"\n",
    "\n",
    "        res = await test_access_token(\n",
    "            domo_instance=self.domo_instance,\n",
    "            domo_access_token=self.domo_access_token,\n",
    "            session=session,\n",
    "        )\n",
    "\n",
    "        if res.status == 401 and res.response == 'Unauthorized':\n",
    "            raise InvalidCredentialsError(\n",
    "                status=res.status,\n",
    "                message=res.response,\n",
    "                domo_instance=self.domo_instance,\n",
    "            )\n",
    "\n",
    "        self.token = self.domo_access_token\n",
    "        self.user_id = res.response.get(\"id\")\n",
    "\n",
    "        self.auth_header = self.generate_auth_header(token=self.token)\n",
    "\n",
    "        if not self.token_name:\n",
    "            self.token_name = 'token_auth'\n",
    "\n",
    "        return self.token"
   ]
  },
  {
   "cell_type": "markdown",
   "metadata": {},
   "source": [
    "#### Sample implementation of DomoTokenAuth"
   ]
  },
  {
   "cell_type": "code",
   "execution_count": 167,
   "metadata": {},
   "outputs": [
    {
     "name": "stdout",
     "output_type": "stream",
     "text": [
      "DomoTokenAuth(domo_instance='test', token_name='token_auth', url_manual_login='https://test.domo.com/auth/index?domoManualLogin=true')\n"
     ]
    }
   ],
   "source": [
    "domo_instance = 'test'\n",
    "domo_access_token = 'test_access_token'\n",
    "\n",
    "domo_access_token = 'a9c9c837775a981121fc57b4c78550d28c8784b6b0f4c69c'\n",
    "try:\n",
    "    domo_auth = DomoTokenAuth(domo_instance, domo_access_token)\n",
    "    token = await domo_auth.get_auth_token()\n",
    "    print(domo_auth)\n",
    "\n",
    "except InvalidCredentialsError as e:\n",
    "    print(e)\n"
   ]
  },
  {
   "cell_type": "markdown",
   "metadata": {},
   "source": [
    "## DomoDeveloperAuth"
   ]
  },
  {
   "cell_type": "code",
   "execution_count": 168,
   "metadata": {},
   "outputs": [],
   "source": [
    "# | exporti\n",
    "@dataclass\n",
    "class _DomoDeveloperAuth_Required(_DomoAuth_Required):\n",
    "    \"\"\"mix requied parameters for DomoFullAuth\"\"\"\n",
    "\n",
    "    domo_client_id: str\n",
    "    domo_client_secret: str = field(repr=False)\n"
   ]
  },
  {
   "cell_type": "code",
   "execution_count": 169,
   "metadata": {},
   "outputs": [],
   "source": [
    "# | export\n",
    "@dataclass(init=False)\n",
    "class DomoDeveloperAuth(_DomoAuth_Optional, _DomoDeveloperAuth_Required):\n",
    "    \"\"\"use for full authentication token\"\"\"\n",
    "\n",
    "    def __init__(self, domo_client_id: str, domo_client_secret: str):\n",
    "        self.domo_client_id = domo_client_id\n",
    "        self.domo_client_secret = domo_client_secret\n",
    "        self.domo_instance = ''\n",
    "\n",
    "    def generate_auth_header(self, token: str) -> dict:\n",
    "        self.auth_header = {\"Authorization\": \"bearer \" + token}\n",
    "        return self.auth_header\n",
    "\n",
    "    async def get_auth_token(\n",
    "        self,\n",
    "        session: Optional[aiohttp.ClientSession] = None,\n",
    "    ) -> str:\n",
    "\n",
    "        res = await get_developer_auth(\n",
    "            domo_client_id=self.domo_client_id,\n",
    "            domo_client_secret=self.domo_client_secret,\n",
    "            session=session,\n",
    "        )\n",
    "\n",
    "        if res.status == 401:\n",
    "            raise InvalidCredentialsError(\n",
    "                status=res.status,\n",
    "                message=str(res.response),\n",
    "                domo_instance=self.domo_instance,\n",
    "            )\n",
    "\n",
    "        token = str(res.response.get(\"access_token\"))\n",
    "        self.token = token\n",
    "        self.user_id = res.response.get(\"userId\")\n",
    "        self.domo_instance = res.response.get('domain')\n",
    "        self.set_manual_login()\n",
    "\n",
    "        self.auth_header = self.generate_auth_header(token=token)\n",
    "\n",
    "        if not self.token_name:\n",
    "            self.token_name = 'developer_auth'\n",
    "\n",
    "        return token\n"
   ]
  },
  {
   "cell_type": "markdown",
   "metadata": {},
   "source": [
    "#### Sample implementations of DomoDeveloperAuth"
   ]
  },
  {
   "cell_type": "code",
   "execution_count": 170,
   "metadata": {},
   "outputs": [
    {
     "name": "stdout",
     "output_type": "stream",
     "text": [
      "Status 401 - Unauthorized\n"
     ]
    }
   ],
   "source": [
    "domo_client_id = 'test_client'\n",
    "domo_client_secret = 'test_secret'\n",
    "\n",
    "try:\n",
    "    domo_auth = DomoDeveloperAuth(domo_client_id, domo_client_secret)\n",
    "    await domo_auth.get_auth_token()\n",
    "except InvalidCredentialsError as e:\n",
    "    print(e)\n"
   ]
  },
  {
   "cell_type": "code",
   "execution_count": 171,
   "metadata": {},
   "outputs": [],
   "source": [
    "# | hide\n",
    "import nbdev\n",
    "\n",
    "nbdev.nbdev_export()\n"
   ]
  }
 ],
 "metadata": {
  "kernelspec": {
   "display_name": "Python 3",
   "language": "python",
   "name": "python3"
  },
  "language_info": {
   "codemirror_mode": {
    "name": "ipython",
    "version": 3
   },
   "file_extension": ".py",
   "mimetype": "text/x-python",
   "name": "python",
   "nbconvert_exporter": "python",
   "pygments_lexer": "ipython3",
   "version": "3.10.4"
  },
  "vscode": {
   "interpreter": {
    "hash": "3ad933181bd8a04b432d3370b9dc3b0662ad032c4dfaa4e4f1596c548f763858"
   }
  }
 },
 "nbformat": 4,
 "nbformat_minor": 4
}
