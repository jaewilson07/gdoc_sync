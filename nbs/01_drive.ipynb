{
 "cells": [
  {
   "cell_type": "markdown",
   "metadata": {},
   "source": [
    "# core\n",
    "\n",
    "> Fill in a module description here"
   ]
  },
  {
   "cell_type": "code",
   "execution_count": 1,
   "metadata": {},
   "outputs": [],
   "source": [
    "#| default_exp drive"
   ]
  },
  {
   "cell_type": "code",
   "execution_count": 10,
   "metadata": {},
   "outputs": [],
   "source": [
    "#| exporti\n",
    "\n",
    "from nbdev.showdoc import *\n",
    "from enum import Enum\n",
    "import datetime as dt\n",
    "from dataclasses import dataclass\n",
    "\n",
    "from googleapiclient.discovery import build\n",
    "\n"
   ]
  },
  {
   "cell_type": "code",
   "execution_count": 3,
   "metadata": {},
   "outputs": [],
   "source": [
    "#| export\n",
    "\n",
    "class GoogleDrive_MimeType_Enum(Enum):\n",
    "    \"\"\"for translating Google Drive types into 'exports as'\"\"\"\n",
    "    \n",
    "    docx  = 'application/vnd.openxmlformats-officedocument.wordprocessingml.document'\n",
    "    pptx = 'application/vnd.openxmlformats-officedocument.presentationml.presentation'\n",
    "    \n",
    "    odt  = 'application/vnd.oasis.opendocument.text'\n",
    "    rtf = 'application/rtf'\n",
    "    pdf = 'application/pdf'\n",
    "    txt = 'text/plain'\n",
    "    # html = 'application/zip'\n",
    "    zip = 'application/zip'\n",
    "    epub  = 'application/epub+zip'\n",
    "    \n",
    "    folder = 'application/vnd.google-apps.folder'\n",
    "    gdoc = 'application/vnd.google-apps.document'   \n",
    "    gsheet ='application/vnd.google-apps.spreadsheet'\n",
    "    gshortcut = 'application/vnd.google-apps.shortcut'\n",
    "    gslides = 'application/vnd.google-apps.presentation'\n",
    "    \n",
    "    # 'tex'  = 'application/zip'\n",
    "    # 'html.zip'= 'application/zip'"
   ]
  },
  {
   "cell_type": "code",
   "execution_count": 4,
   "metadata": {},
   "outputs": [
    {
     "name": "stdout",
     "output_type": "stream",
     "text": [
      "docx application/vnd.openxmlformats-officedocument.wordprocessingml.document\n",
      "pptx application/vnd.openxmlformats-officedocument.presentationml.presentation\n",
      "odt application/vnd.oasis.opendocument.text\n",
      "rtf application/rtf\n",
      "pdf application/pdf\n",
      "txt text/plain\n",
      "zip application/zip\n",
      "epub application/epub+zip\n",
      "folder application/vnd.google-apps.folder\n",
      "gdoc application/vnd.google-apps.document\n",
      "gsheet application/vnd.google-apps.spreadsheet\n",
      "gshortcut application/vnd.google-apps.shortcut\n",
      "gslides application/vnd.google-apps.presentation\n"
     ]
    }
   ],
   "source": [
    "for member in GoogleDrive_MimeType_Enum:\n",
    "    print(member.name, member.value)"
   ]
  },
  {
   "cell_type": "markdown",
   "metadata": {},
   "source": [
    "# Google Drive File Looper\n",
    "retrieves a listing of all the files and subfiles in a folder"
   ]
  },
  {
   "cell_type": "code",
   "execution_count": 21,
   "metadata": {},
   "outputs": [],
   "source": [
    "@dataclass\n",
    "class gdoc_file:\n",
    "   mime_type : str\n",
    "   webViewLink : str\n",
    "   doc_id  : str\n",
    "   doc_name : str\n",
    "   modified_time : dt.datetime \n",
    "   folder_path : str\n",
    "   doc_type : str\n",
    "\n",
    "   @classmethod\n",
    "   def _from_json(cls, obj :dict):\n",
    "      cls( mime_type = obj['mimeType'],\n",
    "      webViewLink = obj['webViewLink'],\n",
    "      doc_id = obj['id'],\n",
    "      doc_name = obj['name'],\n",
    "modified_time = ']\n",
    "  'type': 'gslides'}\n",
    "      \n"
   ]
  },
  {
   "cell_type": "code",
   "execution_count": 5,
   "metadata": {},
   "outputs": [],
   "source": [
    "#| exporti\n",
    "\n",
    "def process_file(file_obj, folder_path):\n",
    "    \"\"\"gets the file type using GoogleDrive Enum, useful for processing & downloading a file\"\"\"\n",
    "\n",
    "    file_obj.update({'folder_path': folder_path})\n",
    "\n",
    "    file_type = \"undefined_enum\"\n",
    "    try:\n",
    "        file_type = GoogleDrive_MimeType_Enum(file_obj['mimeType']).name\n",
    "    \n",
    "    except Exception as e:\n",
    "        print(e)\n",
    "    \n",
    "    finally:\n",
    "        file_obj.update({'type': file_type})\n",
    "        return file_obj\n",
    "\n",
    "\n",
    "def get_files(folder_id, service):\n",
    "    \"\"\"retrieves files in a folder\"\"\"\n",
    "\n",
    "    page_token = None\n",
    "    file_ls = []\n",
    "\n",
    "    while True:\n",
    "        res = service.files().list(\n",
    "            q=f\"'{folder_id}' in parents\",\n",
    "            pageSize=10, fields=\"nextPageToken, files(id,webViewLink, name, mimeType,modifiedTime )\",\n",
    "            pageToken=page_token).execute()\n",
    "\n",
    "        items = res.get('files', [])\n",
    "\n",
    "        file_ls += items\n",
    "\n",
    "        page_token = res.get('nextPageToken', None)\n",
    "\n",
    "        if page_token is None:\n",
    "            break\n",
    "\n",
    "    return file_ls\n",
    "\n",
    "\n",
    "def get_file_looper(folder_id, service, file_ls=None, folder_path=''):\n",
    "    \"\"\"recursive function to get files in a folder and map over files in subfolder\"\"\"\n",
    "\n",
    "    if not file_ls:\n",
    "        file_ls = []\n",
    "        \n",
    "    new_files = get_files(folder_id=folder_id, service=service)\n",
    "\n",
    "    new_files = [process_file(file_obj, folder_path)for file_obj in new_files]\n",
    "\n",
    "    file_ls += new_files\n",
    "\n",
    "    if new_files:\n",
    "        for file_obj in new_files:\n",
    "            if file_obj['type'] == 'folder':\n",
    "\n",
    "                sub_folder_path = os.path.join(folder_path, clean_url_name(convert_to_snake(file_obj.get('name'))))\n",
    "\n",
    "                get_file_looper(folder_id=file_obj.get('id'),\n",
    "                                folder_path=sub_folder_path,\n",
    "                                service=service,\n",
    "                                file_ls=file_ls)\n",
    "\n",
    "    return file_ls\n",
    "\n",
    "\n"
   ]
  },
  {
   "cell_type": "code",
   "execution_count": 6,
   "metadata": {},
   "outputs": [],
   "source": [
    "def get_folder_contents(folder_id, creds, folder_path='') -> [dict] # returns list of file objects\n",
    ":\n",
    "    \"\"\"creates a list files in a folder using a set of credentials\"\"\"\n",
    "\n",
    "    service = build(serviceName='drive',\n",
    "                    version='v3',\n",
    "                    credentials=creds)\n",
    "\n",
    "    return get_file_looper(folder_id=folder_id, service=service, folder_path=folder_path)\n"
   ]
  },
  {
   "cell_type": "code",
   "execution_count": 9,
   "metadata": {},
   "outputs": [
    {
     "data": {
      "text/plain": [
       "[{'mimeType': 'application/vnd.google-apps.presentation',\n",
       "  'webViewLink': 'https://docs.google.com/presentation/d/1_k4NRraKI1TmHNlpQCuqJrWr6dP7DNracdMCtfN8XlM/edit?usp=drivesdk',\n",
       "  'id': '1_k4NRraKI1TmHNlpQCuqJrWr6dP7DNracdMCtfN8XlM',\n",
       "  'name': 'sample slide',\n",
       "  'modifiedTime': '2023-08-17T13:54:31.973Z',\n",
       "  'folder_path': 'test',\n",
       "  'type': 'gslides'},\n",
       " {'mimeType': 'application/vnd.google-apps.document',\n",
       "  'webViewLink': 'https://docs.google.com/document/d/1j7XsbvFy0xUgGL6i-3LSChKvzSmTZSOyimEt6tQS-Kk/edit?usp=drivesdk',\n",
       "  'id': '1j7XsbvFy0xUgGL6i-3LSChKvzSmTZSOyimEt6tQS-Kk',\n",
       "  'name': 'Sample Doc for Google_Sync project',\n",
       "  'modifiedTime': '2023-08-17T13:53:01.574Z',\n",
       "  'folder_path': 'test',\n",
       "  'type': 'gdoc'}]"
      ]
     },
     "execution_count": 9,
     "metadata": {},
     "output_type": "execute_result"
    }
   ],
   "source": [
    "from dotenv import load_dotenv\n",
    "import json\n",
    "import os\n",
    "import gdoc_sync.creds as gcred\n",
    "\n",
    "FOLDER_ID ='1SRrD1dNgZgHYjnhkJtARbLhydMP94qWi'\n",
    "# loads client secret information from .env file into env\n",
    "load_dotenv('.env')\n",
    "\n",
    "# loads client secret information into dict\n",
    "client_secret_info=json.loads(os.environ['GDOC_KEY'])\n",
    "token_info = json.loads(os.environ['GDOC_TOKEN'])\n",
    "\n",
    "# generates Credentials object\n",
    "creds = gcred.generate_creds_object(client_secret_info=client_secret_info, token_info = token_info)\n",
    "\n",
    "get_folder_contents(folder_id = FOLDER_ID, creds = creds, folder_path='test')"
   ]
  },
  {
   "cell_type": "code",
   "execution_count": null,
   "metadata": {},
   "outputs": [],
   "source": [
    "#| hide\n",
    "import nbdev; nbdev.nbdev_export()"
   ]
  }
 ],
 "metadata": {
  "kernelspec": {
   "display_name": "python3",
   "language": "python",
   "name": "python3"
  },
  "language_info": {
   "codemirror_mode": {
    "name": "ipython",
    "version": 3
   },
   "file_extension": ".py",
   "mimetype": "text/x-python",
   "name": "python",
   "nbconvert_exporter": "python",
   "pygments_lexer": "ipython3",
   "version": "3.10.9"
  }
 },
 "nbformat": 4,
 "nbformat_minor": 4
}
