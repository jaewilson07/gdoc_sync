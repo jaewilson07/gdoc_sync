{
 "cells": [
  {
   "attachments": {},
   "cell_type": "markdown",
   "metadata": {},
   "source": [
    "# DomoAccount\n",
    "\n",
    "> DomoAccounts are used to provide credentials for Domo Streams.\n"
   ]
  },
  {
   "cell_type": "code",
   "execution_count": 470,
   "metadata": {
    "vscode": {
     "languageId": "python"
    }
   },
   "outputs": [],
   "source": [
    "# | default_exp DomoAccount"
   ]
  },
  {
   "cell_type": "code",
   "execution_count": 471,
   "metadata": {
    "vscode": {
     "languageId": "python"
    }
   },
   "outputs": [],
   "source": [
    "# | hide\n",
    "from nbdev.showdoc import *"
   ]
  },
  {
   "cell_type": "code",
   "execution_count": 472,
   "metadata": {
    "vscode": {
     "languageId": "python"
    }
   },
   "outputs": [],
   "source": [
    "# | exporti\n",
    "from typing import Optional, Union\n",
    "from enum import Enum\n",
    "from abc import ABC, abstractmethod, abstractclassmethod\n",
    "from dataclasses import dataclass, field\n",
    "\n",
    "\n",
    "import datetime as dt\n",
    "import re\n",
    "\n",
    "import aiohttp\n",
    "\n",
    "from fastcore.basics import patch_to\n",
    "from fastcore.test import test_eq\n",
    "\n",
    "import nbdev_domo.utils as utils\n",
    "import nbdev_domo.ResponseGetData as rgd\n",
    "import nbdev_domo.Transport as tr\n",
    "import nbdev_domo.DomoAuth as dmda\n",
    "import nbdev_domo.Logger as lg"
   ]
  },
  {
   "cell_type": "code",
   "execution_count": 473,
   "metadata": {
    "vscode": {
     "languageId": "python"
    }
   },
   "outputs": [],
   "source": [
    "#| exporti\n",
    "ACCOUNT_ID = 5\n",
    "ACCOUNT_DATA_PROVIDER_TYPE = \"domo-governance-d14c2fef-49a8-4898-8ddd-f64998005600\"\n"
   ]
  },
  {
   "attachments": {},
   "cell_type": "markdown",
   "metadata": {},
   "source": [
    "# DomoAccount Routes\n",
    "\n",
    "## GET Routes\n"
   ]
  },
  {
   "cell_type": "code",
   "execution_count": 474,
   "metadata": {
    "vscode": {
     "languageId": "python"
    }
   },
   "outputs": [],
   "source": [
    "# | export\n",
    "async def get_accounts(\n",
    "    full_auth: dmda.DomoAuth,\n",
    "    debug: bool = False,\n",
    "    session: Optional[aiohttp.ClientSession] = None,\n",
    ") -> rgd.ResponseGetData:\n",
    "    \"\"\"retrieves a list of all accounts this auth has read access to.\"\"\"\n",
    "\n",
    "    url = f\"https://{full_auth.domo_instance}.domo.com/api/data/v1/accounts\"\n",
    "\n",
    "    if debug:\n",
    "        print(url)\n",
    "\n",
    "    domo_transport = tr.TransportAsync(\n",
    "        auth_header=await full_auth.generate_auth_header(), session=session\n",
    "    )\n",
    "\n",
    "    return await domo_transport.get(url=url)\n"
   ]
  },
  {
   "attachments": {},
   "cell_type": "markdown",
   "metadata": {},
   "source": [
    "#### sample implementation of get_accounts\n"
   ]
  },
  {
   "cell_type": "code",
   "execution_count": 475,
   "metadata": {
    "vscode": {
     "languageId": "python"
    }
   },
   "outputs": [
    {
     "data": {
      "text/html": [
       "<div>\n",
       "<style scoped>\n",
       "    .dataframe tbody tr th:only-of-type {\n",
       "        vertical-align: middle;\n",
       "    }\n",
       "\n",
       "    .dataframe tbody tr th {\n",
       "        vertical-align: top;\n",
       "    }\n",
       "\n",
       "    .dataframe thead th {\n",
       "        text-align: right;\n",
       "    }\n",
       "</style>\n",
       "<table border=\"1\" class=\"dataframe\">\n",
       "  <thead>\n",
       "    <tr style=\"text-align: right;\">\n",
       "      <th></th>\n",
       "      <th>id</th>\n",
       "      <th>userId</th>\n",
       "      <th>name</th>\n",
       "      <th>displayName</th>\n",
       "      <th>type</th>\n",
       "      <th>valid</th>\n",
       "      <th>dataProviderType</th>\n",
       "      <th>credentialsType</th>\n",
       "      <th>createdAt</th>\n",
       "      <th>createdBy</th>\n",
       "      <th>modifiedAt</th>\n",
       "      <th>modifiedBy</th>\n",
       "      <th>configurations</th>\n",
       "      <th>accountTemplateId</th>\n",
       "      <th>accountTemplateAuthorizationId</th>\n",
       "      <th>accountId</th>\n",
       "    </tr>\n",
       "  </thead>\n",
       "  <tbody>\n",
       "    <tr>\n",
       "      <th>0</th>\n",
       "      <td>1</td>\n",
       "      <td>1893952720</td>\n",
       "      <td>DataSet Copy Account</td>\n",
       "      <td>DataSet Copy Account</td>\n",
       "      <td>data</td>\n",
       "      <td>True</td>\n",
       "      <td>dataset-copy</td>\n",
       "      <td>fields</td>\n",
       "      <td>1589100087000</td>\n",
       "      <td>1893952720</td>\n",
       "      <td>1589100087000</td>\n",
       "      <td>1893952720</td>\n",
       "      <td>{}</td>\n",
       "      <td>None</td>\n",
       "      <td>None</td>\n",
       "      <td>1</td>\n",
       "    </tr>\n",
       "    <tr>\n",
       "      <th>1</th>\n",
       "      <td>5</td>\n",
       "      <td>1893952720</td>\n",
       "      <td>Domo Governance Datasets Third Party Account</td>\n",
       "      <td>test_rename_using_classmethod</td>\n",
       "      <td>data</td>\n",
       "      <td>True</td>\n",
       "      <td>domo-governance-d14c2fef-49a8-4898-8ddd-f64998...</td>\n",
       "      <td>fields</td>\n",
       "      <td>1616777681000</td>\n",
       "      <td>1893952720</td>\n",
       "      <td>1672866276000</td>\n",
       "      <td>1893952720</td>\n",
       "      <td>{}</td>\n",
       "      <td>None</td>\n",
       "      <td>None</td>\n",
       "      <td>5</td>\n",
       "    </tr>\n",
       "    <tr>\n",
       "      <th>2</th>\n",
       "      <td>27</td>\n",
       "      <td>1893952720</td>\n",
       "      <td>DataSet Copy Account</td>\n",
       "      <td>DataSet Copy Account</td>\n",
       "      <td>data</td>\n",
       "      <td>True</td>\n",
       "      <td>domo-csv</td>\n",
       "      <td>fields</td>\n",
       "      <td>1619083568000</td>\n",
       "      <td>1893952720</td>\n",
       "      <td>1619083568000</td>\n",
       "      <td>1893952720</td>\n",
       "      <td>{}</td>\n",
       "      <td>None</td>\n",
       "      <td>None</td>\n",
       "      <td>27</td>\n",
       "    </tr>\n",
       "    <tr>\n",
       "      <th>3</th>\n",
       "      <td>45</td>\n",
       "      <td>1893952720</td>\n",
       "      <td>onyxReporting@gmail.com</td>\n",
       "      <td>onyxReporting@gmail.com</td>\n",
       "      <td>data</td>\n",
       "      <td>True</td>\n",
       "      <td>google-spreadsheets</td>\n",
       "      <td>oauth</td>\n",
       "      <td>1664924354000</td>\n",
       "      <td>1893952720</td>\n",
       "      <td>1664924354000</td>\n",
       "      <td>1893952720</td>\n",
       "      <td>{}</td>\n",
       "      <td>None</td>\n",
       "      <td>None</td>\n",
       "      <td>45</td>\n",
       "    </tr>\n",
       "  </tbody>\n",
       "</table>\n",
       "</div>"
      ],
      "text/plain": [
       "   id      userId                                          name  \\\n",
       "0   1  1893952720                          DataSet Copy Account   \n",
       "1   5  1893952720  Domo Governance Datasets Third Party Account   \n",
       "2  27  1893952720                          DataSet Copy Account   \n",
       "3  45  1893952720                       onyxReporting@gmail.com   \n",
       "\n",
       "                     displayName  type  valid  \\\n",
       "0           DataSet Copy Account  data   True   \n",
       "1  test_rename_using_classmethod  data   True   \n",
       "2           DataSet Copy Account  data   True   \n",
       "3        onyxReporting@gmail.com  data   True   \n",
       "\n",
       "                                    dataProviderType credentialsType  \\\n",
       "0                                       dataset-copy          fields   \n",
       "1  domo-governance-d14c2fef-49a8-4898-8ddd-f64998...          fields   \n",
       "2                                           domo-csv          fields   \n",
       "3                                google-spreadsheets           oauth   \n",
       "\n",
       "       createdAt   createdBy     modifiedAt  modifiedBy configurations  \\\n",
       "0  1589100087000  1893952720  1589100087000  1893952720             {}   \n",
       "1  1616777681000  1893952720  1672866276000  1893952720             {}   \n",
       "2  1619083568000  1893952720  1619083568000  1893952720             {}   \n",
       "3  1664924354000  1893952720  1664924354000  1893952720             {}   \n",
       "\n",
       "  accountTemplateId accountTemplateAuthorizationId  accountId  \n",
       "0              None                           None          1  \n",
       "1              None                           None          5  \n",
       "2              None                           None         27  \n",
       "3              None                           None         45  "
      ]
     },
     "execution_count": 475,
     "metadata": {},
     "output_type": "execute_result"
    }
   ],
   "source": [
    "import os\n",
    "import json\n",
    "import pandas as pd\n",
    "\n",
    "creds = json.loads(os.environ[\"DOJO_CREDS\"])\n",
    "\n",
    "domo_auth = dmda.DomoFullAuth(\n",
    "    domo_username=creds.get(\"domo_username\"),\n",
    "    domo_password=creds.get(\"domo_password\"),\n",
    "    domo_instance=\"domo-dojo\",\n",
    ")\n",
    "\n",
    "accounts_res = await get_accounts(full_auth=domo_auth)\n",
    "\n",
    "account_ls = accounts_res.response\n",
    "pd.DataFrame(account_ls[0:4])"
   ]
  },
  {
   "cell_type": "code",
   "execution_count": 476,
   "metadata": {
    "vscode": {
     "languageId": "python"
    }
   },
   "outputs": [],
   "source": [
    "# | export\n",
    "\n",
    "\n",
    "async def get_account_from_id(\n",
    "    account_id: int,\n",
    "    full_auth: dmda.DomoFullAuth,\n",
    "    debug: bool = False,\n",
    "    session: Optional[aiohttp.ClientSession] = None,\n",
    ") -> rgd.ResponseGetData:\n",
    "    \"\"\"retrieves metadata about an account, does not retrieve configuration settings\"\"\"\n",
    "\n",
    "    url = f\"https://{full_auth.domo_instance}.domo.com/api/data/v1/accounts/{account_id}?unmask=true\"\n",
    "\n",
    "    if debug:\n",
    "        print(url)\n",
    "\n",
    "    domo_transport = tr.TransportAsync(\n",
    "        auth_header=await full_auth.generate_auth_header(), session=session\n",
    "    )\n",
    "\n",
    "    return await domo_transport.get(url=url)\n"
   ]
  },
  {
   "attachments": {},
   "cell_type": "markdown",
   "metadata": {},
   "source": [
    "#### sample implementation of get_account_from_id\n"
   ]
  },
  {
   "cell_type": "code",
   "execution_count": 477,
   "metadata": {
    "vscode": {
     "languageId": "python"
    }
   },
   "outputs": [
    {
     "data": {
      "text/html": [
       "<div>\n",
       "<style scoped>\n",
       "    .dataframe tbody tr th:only-of-type {\n",
       "        vertical-align: middle;\n",
       "    }\n",
       "\n",
       "    .dataframe tbody tr th {\n",
       "        vertical-align: top;\n",
       "    }\n",
       "\n",
       "    .dataframe thead th {\n",
       "        text-align: right;\n",
       "    }\n",
       "</style>\n",
       "<table border=\"1\" class=\"dataframe\">\n",
       "  <thead>\n",
       "    <tr style=\"text-align: right;\">\n",
       "      <th></th>\n",
       "      <th>id</th>\n",
       "      <th>userId</th>\n",
       "      <th>name</th>\n",
       "      <th>displayName</th>\n",
       "      <th>type</th>\n",
       "      <th>valid</th>\n",
       "      <th>dataProviderType</th>\n",
       "      <th>credentialsType</th>\n",
       "      <th>createdAt</th>\n",
       "      <th>createdBy</th>\n",
       "      <th>modifiedAt</th>\n",
       "      <th>modifiedBy</th>\n",
       "      <th>configurations</th>\n",
       "      <th>accountTemplateId</th>\n",
       "      <th>accountTemplateAuthorizationId</th>\n",
       "      <th>accountId</th>\n",
       "    </tr>\n",
       "  </thead>\n",
       "  <tbody>\n",
       "    <tr>\n",
       "      <th>0</th>\n",
       "      <td>5</td>\n",
       "      <td>1893952720</td>\n",
       "      <td>Domo Governance Datasets Third Party Account</td>\n",
       "      <td>test_rename_using_classmethod</td>\n",
       "      <td>data</td>\n",
       "      <td>True</td>\n",
       "      <td>domo-governance-d14c2fef-49a8-4898-8ddd-f64998...</td>\n",
       "      <td>fields</td>\n",
       "      <td>1616777681000</td>\n",
       "      <td>1893952720</td>\n",
       "      <td>1672866276000</td>\n",
       "      <td>1893952720</td>\n",
       "      <td>{}</td>\n",
       "      <td>None</td>\n",
       "      <td>None</td>\n",
       "      <td>5</td>\n",
       "    </tr>\n",
       "  </tbody>\n",
       "</table>\n",
       "</div>"
      ],
      "text/plain": [
       "   id      userId                                          name  \\\n",
       "0   5  1893952720  Domo Governance Datasets Third Party Account   \n",
       "\n",
       "                     displayName  type  valid  \\\n",
       "0  test_rename_using_classmethod  data   True   \n",
       "\n",
       "                                    dataProviderType credentialsType  \\\n",
       "0  domo-governance-d14c2fef-49a8-4898-8ddd-f64998...          fields   \n",
       "\n",
       "       createdAt   createdBy     modifiedAt  modifiedBy configurations  \\\n",
       "0  1616777681000  1893952720  1672866276000  1893952720             {}   \n",
       "\n",
       "  accountTemplateId accountTemplateAuthorizationId  accountId  \n",
       "0              None                           None          5  "
      ]
     },
     "execution_count": 477,
     "metadata": {},
     "output_type": "execute_result"
    }
   ],
   "source": [
    "import pandas as pd\n",
    "from fastcore.test import test_eq\n",
    "\n",
    "account_res = await get_account_from_id(full_auth=domo_auth, account_id=ACCOUNT_ID)\n",
    "\n",
    "domo_account = account_res.response\n",
    "test_eq(type(domo_account), dict)\n",
    "\n",
    "pd.DataFrame([domo_account])"
   ]
  },
  {
   "cell_type": "code",
   "execution_count": 478,
   "metadata": {
    "vscode": {
     "languageId": "python"
    }
   },
   "outputs": [],
   "source": [
    "# | export\n",
    "async def get_account_config(\n",
    "    account_id: int,\n",
    "    data_provider_type: str,\n",
    "    full_auth: dmda.DomoAuth,\n",
    "    debug: bool = False,\n",
    "    session: Optional[aiohttp.ClientSession] = None,\n",
    ") -> rgd.ResponseGetData:\n",
    "    \"\"\"retrieves account configuration information, does not include metadata\"\"\"\n",
    "\n",
    "    url = f\"https://{full_auth.domo_instance}.domo.com/api/data/v1/providers/{data_provider_type}/account/{account_id}?unmask=true\"\n",
    "\n",
    "    if debug:\n",
    "        print(url)\n",
    "\n",
    "    domo_transport = tr.TransportAsync(\n",
    "        auth_header=await full_auth.generate_auth_header(), session=session\n",
    "    )\n",
    "\n",
    "    return await domo_transport.get(url=url)\n"
   ]
  },
  {
   "attachments": {},
   "cell_type": "markdown",
   "metadata": {},
   "source": [
    "#### Sample Implementation of get_account_config\n"
   ]
  },
  {
   "cell_type": "code",
   "execution_count": 479,
   "metadata": {
    "vscode": {
     "languageId": "python"
    }
   },
   "outputs": [
    {
     "data": {
      "text/html": [
       "<div>\n",
       "<style scoped>\n",
       "    .dataframe tbody tr th:only-of-type {\n",
       "        vertical-align: middle;\n",
       "    }\n",
       "\n",
       "    .dataframe tbody tr th {\n",
       "        vertical-align: top;\n",
       "    }\n",
       "\n",
       "    .dataframe thead th {\n",
       "        text-align: right;\n",
       "    }\n",
       "</style>\n",
       "<table border=\"1\" class=\"dataframe\">\n",
       "  <thead>\n",
       "    <tr style=\"text-align: right;\">\n",
       "      <th></th>\n",
       "      <th>apikey</th>\n",
       "      <th>customer</th>\n",
       "    </tr>\n",
       "  </thead>\n",
       "  <tbody>\n",
       "    <tr>\n",
       "      <th>0</th>\n",
       "      <td>********</td>\n",
       "      <td>domo-dojo</td>\n",
       "    </tr>\n",
       "  </tbody>\n",
       "</table>\n",
       "</div>"
      ],
      "text/plain": [
       "     apikey   customer\n",
       "0  ********  domo-dojo"
      ]
     },
     "execution_count": 479,
     "metadata": {},
     "output_type": "execute_result"
    }
   ],
   "source": [
    "res = await get_account_config(\n",
    "    full_auth=domo_auth,\n",
    "    account_id=ACCOUNT_ID,\n",
    "    data_provider_type=ACCOUNT_DATA_PROVIDER_TYPE,\n",
    ")\n",
    "\n",
    "account_config = res.response\n",
    "test_eq(type(account_config), dict)\n",
    "\n",
    "pd.DataFrame([account_config])"
   ]
  },
  {
   "attachments": {},
   "cell_type": "markdown",
   "metadata": {},
   "source": [
    "## CRUD Routes\n",
    "\n",
    "### UPDATE Routes\n"
   ]
  },
  {
   "cell_type": "code",
   "execution_count": 480,
   "metadata": {
    "vscode": {
     "languageId": "python"
    }
   },
   "outputs": [],
   "source": [
    "# | export\n",
    "async def update_account_config(\n",
    "    account_id: int,\n",
    "    config_body: dict,  # config_body is determined by the data_provider_type\n",
    "    data_provider_type: str,\n",
    "    full_auth: dmda.DomoFullAuth,\n",
    "    debug: bool = False,\n",
    "    session: Optional[aiohttp.ClientSession] = None,\n",
    ") -> rgd.ResponseGetData:\n",
    "    \"\"\"updates account configuration.  does not alter metadata\"\"\"\n",
    "\n",
    "    url = f\"https://{full_auth.domo_instance}.domo.com/api/data/v1/providers/{data_provider_type}/account/{account_id}\"\n",
    "\n",
    "    if debug:\n",
    "        print(url)\n",
    "\n",
    "    domo_transport = tr.TransportAsync(\n",
    "        auth_header=await full_auth.generate_auth_header(), session=session\n",
    "    )\n",
    "\n",
    "    return await domo_transport.put(\n",
    "        url=url, body=config_body, debug=debug, session=session\n",
    "    )"
   ]
  },
  {
   "cell_type": "code",
   "execution_count": 481,
   "metadata": {
    "vscode": {
     "languageId": "python"
    }
   },
   "outputs": [],
   "source": [
    "# | export\n",
    "async def update_account_name(\n",
    "    account_id: int,\n",
    "    account_name: str,\n",
    "    full_auth: dmda.DomoFullAuth,\n",
    "    debug: bool = False,\n",
    "    session: Optional[aiohttp.ClientSession] = None,\n",
    ") -> rgd.ResponseGetData:\n",
    "    \"\"\"update an account's display name\"\"\"\n",
    "\n",
    "    url = f\"https://{full_auth.domo_instance}.domo.com/api/data/v1/accounts/{account_id}/name\"\n",
    "\n",
    "    if debug:\n",
    "        print(url)\n",
    "\n",
    "    domo_transport = tr.TransportAsync(\n",
    "        auth_header=await full_auth.generate_auth_header(), session=session\n",
    "    )\n",
    "\n",
    "    return await domo_transport.put_text(\n",
    "        url=url, body=account_name, session=session, debug=debug\n",
    "    )\n"
   ]
  },
  {
   "attachments": {},
   "cell_type": "markdown",
   "metadata": {},
   "source": [
    "### Sample implementations\n"
   ]
  },
  {
   "cell_type": "code",
   "execution_count": 482,
   "metadata": {
    "vscode": {
     "languageId": "python"
    }
   },
   "outputs": [
    {
     "data": {
      "text/plain": [
       "ResponseGetData(status=200, response={'id': 5, 'userId': 1893952720, 'name': 'Domo Governance Datasets Third Party Account', 'displayName': 'test_update_function', 'type': 'data', 'valid': True, 'dataProviderType': 'domo-governance-d14c2fef-49a8-4898-8ddd-f64998005600', 'credentialsType': 'fields', 'createdAt': 1616777681000, 'createdBy': 1893952720, 'modifiedAt': 1672866494000, 'modifiedBy': 1893952720, 'configurations': {'apikey': '{encrypted}NGUwYmUxN2YtMjc5My00NDY2LTkwNjAtM2E2YjM0MzQ0OGEybyQrhdZFPF941hz+fS4ISBnfUyOvKnGjxw93U3o8rHRwkCA6VU8x9qlIFo2K6A3wVGWNc4AqhfVfbqqAesc+8SGbv7haRgH/ME2sahaOFK4=', 'customer': 'domo-dojo'}, 'accountTemplateId': None, 'accountTemplateAuthorizationId': None, 'accountId': 5}, is_success=True)"
      ]
     },
     "execution_count": 482,
     "metadata": {},
     "output_type": "execute_result"
    }
   ],
   "source": [
    "await update_account_name(\n",
    "    full_auth=domo_auth,\n",
    "    account_id=ACCOUNT_ID,\n",
    "    account_name=\"test_update_function\",\n",
    "    debug=False,\n",
    ")\n"
   ]
  },
  {
   "attachments": {},
   "cell_type": "markdown",
   "metadata": {},
   "source": [
    "### CREATE Routes\n",
    "\n",
    "To create a new config_body use the `DomoAccount_Config` class as the basis for a new class, then add it to the `AccountConfig` enum.\n"
   ]
  },
  {
   "cell_type": "code",
   "execution_count": 483,
   "metadata": {
    "vscode": {
     "languageId": "python"
    }
   },
   "outputs": [],
   "source": [
    "# | export\n",
    "\n",
    "\n",
    "async def create_account_route(\n",
    "    config_body: dict,  # config body is dependent on data provider type\n",
    "    full_auth: dmda.DomoFullAuth,  # domo auth\n",
    "    debug: bool = False,  # for debuggigng\n",
    "    session: Optional[aiohttp.ClientSession] = None,\n",
    ") -> rgd.ResponseGetData:  # returns account metadata\n",
    "    \"\"\"create a new Domo Account object\"\"\"\n",
    "\n",
    "    url = f\"https://{full_auth.domo_instance}.domo.com/api/data/v1/accounts\"\n",
    "\n",
    "    if debug:\n",
    "        print(url)\n",
    "\n",
    "    domo_transport = tr.TransportAsync(\n",
    "        auth_header=await full_auth.generate_auth_header(), session=session\n",
    "    )\n",
    "\n",
    "    return await domo_transport.post(\n",
    "        url=url, body=config_body, debug=debug, session=session\n",
    "    )\n"
   ]
  },
  {
   "attachments": {},
   "cell_type": "markdown",
   "metadata": {},
   "source": [
    "### DELETE Routes\n"
   ]
  },
  {
   "cell_type": "code",
   "execution_count": 484,
   "metadata": {
    "vscode": {
     "languageId": "python"
    }
   },
   "outputs": [],
   "source": [
    "# | export\n",
    "\n",
    "\n",
    "async def delete_account_route(\n",
    "    account_id: str,\n",
    "    full_auth: dmda.DomoFullAuth,\n",
    "    debug: bool = False,\n",
    "    session: Optional[aiohttp.ClientSession] = None,\n",
    ") -> rgd.ResponseGetData:\n",
    "\n",
    "    url = (\n",
    "        f\"https://{full_auth.domo_instance}.domo.com/api/data/v1/accounts/{account_id}\"\n",
    "    )\n",
    "\n",
    "    if debug:\n",
    "        print(url)\n",
    "\n",
    "    domo_transport = tr.TransportAsync(\n",
    "        auth_header=await full_auth.generate_auth_header(), session=session\n",
    "    )\n",
    "\n",
    "    return await domo_transport.delete(url=url, debug=debug, session=session)\n"
   ]
  },
  {
   "attachments": {},
   "cell_type": "markdown",
   "metadata": {},
   "source": [
    "# DomoAccount Classes\n",
    "\n",
    "## Domo Account Configuration Types\n",
    "\n",
    "Helper classes to handle account configuration operations.\n"
   ]
  },
  {
   "cell_type": "code",
   "execution_count": 485,
   "metadata": {
    "vscode": {
     "languageId": "python"
    }
   },
   "outputs": [],
   "source": [
    "# | export\n",
    "class DomoAccount_Config(ABC):\n",
    "    \"\"\"\n",
    "    Abstract method for defining Domo Account Configuration bodies.\n",
    "    \\n 1. Each implementation should have properties unique to the account configuration.\n",
    "    \\n 2. Each implementation should have an internal classmethod for converting an API response to an object\n",
    "    \\n 3. Each implementation should have an internal method for converting the class object into a json object.\n",
    "    \"\"\"\n",
    "\n",
    "    data_provider_type: str\n",
    "\n",
    "    @abstractclassmethod\n",
    "    def _from_json(cls, obj):\n",
    "        pass\n",
    "\n",
    "    @abstractmethod\n",
    "    def to_json(self):\n",
    "        pass\n"
   ]
  },
  {
   "cell_type": "code",
   "execution_count": 486,
   "metadata": {
    "vscode": {
     "languageId": "python"
    }
   },
   "outputs": [
    {
     "data": {
      "text/plain": [
       "['_from_json', 'to_json']"
      ]
     },
     "execution_count": 486,
     "metadata": {},
     "output_type": "execute_result"
    }
   ],
   "source": [
    "# list of required methods\n",
    "[\n",
    "    prop\n",
    "    for prop in dir(DomoAccount_Config)\n",
    "    if not prop.startswith(\"__\") and prop != \"_abc_impl\"\n",
    "]\n"
   ]
  },
  {
   "cell_type": "code",
   "execution_count": 487,
   "metadata": {
    "vscode": {
     "languageId": "python"
    }
   },
   "outputs": [],
   "source": [
    "# | export\n",
    "\n",
    "\n",
    "@dataclass\n",
    "class DomoAccount_Config_Athena_HighBandwidthConnector(DomoAccount_Config):\n",
    "    aws_access_key: str\n",
    "    aws_secret_key: str = field(repr=False)\n",
    "    s3_staging_dir: str\n",
    "    region: str = \"us-west-2\"\n",
    "    data_provider_type = \"amazon-athena-high-bandwidth\"\n",
    "\n",
    "    @classmethod\n",
    "    def _from_json(cls, obj):\n",
    "\n",
    "        dd = utils.DictDot(obj)\n",
    "\n",
    "        return cls(\n",
    "            aws_access_key=dd.awsAccessKey,\n",
    "            aws_secret_key=dd.awsSecretKey,\n",
    "            s3_staging_dir=dd.s3StagingDir,\n",
    "            region=dd.region,\n",
    "        )\n",
    "\n",
    "    def to_json(self):\n",
    "        return {\n",
    "            \"awsAccessKey\": self.aws_access_key,\n",
    "            \"awsSecretKey\": self.aws_secret_key,\n",
    "            \"s3StagingDir\": self.s3_staging_dir,\n",
    "            \"region\": self.region,\n",
    "        }\n",
    "\n",
    "\n",
    "@dataclass\n",
    "class DomoAccount_Config_AbstractCredential(DomoAccount_Config):\n",
    "    credentials: str  # typically we recommend implementing dictionaries in the body, but the data is actually stored as a string\n",
    "    data_provider_type: str = 'abstract-credential-store'\n",
    "    \n",
    "    @classmethod\n",
    "    def _from_json(cls, obj):\n",
    "\n",
    "        dd = utils.DictDot(obj)\n",
    "\n",
    "        return cls(\n",
    "            credentials=dd.credentials,\n",
    "        )\n",
    "\n",
    "    def to_json(self):\n",
    "        return {\"credentials\": self.credentials}\n",
    "\n",
    "\n",
    "@dataclass\n",
    "class DomoAccount_Config_DomoGovernance(DomoAccount_Config):\n",
    "    api_key: str\n",
    "    customer: str\n",
    "    data_provider_type: str = 'domo-governance'\n",
    "\n",
    "    @classmethod\n",
    "    def _from_json(cls, obj):\n",
    "\n",
    "        dd = utils.DictDot(obj)\n",
    "\n",
    "        return cls(api_key=dd.apikey, customer=dd.customer)\n",
    "\n",
    "    def to_json(self):\n",
    "        return {\"apikey\": self.api_key, \"customer\": self.customer}"
   ]
  },
  {
   "attachments": {},
   "cell_type": "markdown",
   "metadata": {},
   "source": [
    "## AccountConfig Enum\n",
    "\n",
    "`AccountConfig` enum matches dataProviderType with a Config class.\n"
   ]
  },
  {
   "cell_type": "code",
   "execution_count": 488,
   "metadata": {
    "vscode": {
     "languageId": "python"
    }
   },
   "outputs": [],
   "source": [
    "# | exports\n",
    "\n",
    "\n",
    "class AccountConfig(Enum):\n",
    "    \"\"\"enum to match account types with config classes\"\"\"\n",
    "\n",
    "    amazon_athena_high_bandwidth = DomoAccount_Config_Athena_HighBandwidthConnector\n",
    "\n",
    "    abstract_credential_store = DomoAccount_Config_AbstractCredential\n",
    "\n",
    "    domo_governance = DomoAccount_Config_DomoGovernance\n"
   ]
  },
  {
   "attachments": {},
   "cell_type": "markdown",
   "metadata": {},
   "source": [
    "## MAIN - DomoAccount\n"
   ]
  },
  {
   "cell_type": "code",
   "execution_count": 489,
   "metadata": {
    "vscode": {
     "languageId": "python"
    }
   },
   "outputs": [],
   "source": [
    "# | export\n",
    "@dataclass\n",
    "class DomoAccount:\n",
    "    \"\"\"class for interacting with Domo Account entities\"\"\"\n",
    "\n",
    "    display_name: str\n",
    "    data_provider_type: str\n",
    "    id: int = None\n",
    "\n",
    "    created_dt: Optional[dt.datetime] = None\n",
    "    modified_dt: Optional[dt.datetime] = None\n",
    "    full_auth: dmda.DomoFullAuth = field(repr=False, default=None)\n",
    "\n",
    "    config: Optional[AccountConfig] = None\n",
    "    logger: Optional[lg.Logger] = None\n",
    "\n",
    "    def __post_init__(self):\n",
    "        if not self.logger:\n",
    "            self.logger = lg.Logger(app_name=\"default_domo_account\")\n",
    "\n",
    "    @classmethod\n",
    "    def _from_json(\n",
    "        cls,\n",
    "        obj: dict,\n",
    "        full_auth: Optional[dmda.DomoFullAuth] = None,\n",
    "        logger: Optional[lg.Logger] = None,\n",
    "    ):\n",
    "\n",
    "        dd = utils.DictDot(obj)\n",
    "\n",
    "        return cls(\n",
    "            id=dd.id,\n",
    "            display_name=dd.displayName,\n",
    "            data_provider_type=dd.dataProviderType,\n",
    "            created_dt=utils.convert_epoch_millisecond_to_datetime(dd.createdAt),\n",
    "            modified_dt=utils.convert_epoch_millisecond_to_datetime(dd.modifiedAt),\n",
    "            full_auth=full_auth,\n",
    "            logger = logger\n",
    "        )\n",
    "\n",
    "    @staticmethod\n",
    "    def config_to_json(display_name, data_provider_type, configuration):\n",
    "        return {\n",
    "            \"displayName\": display_name,\n",
    "            \"dataProviderType\": data_provider_type,\n",
    "            \"name\": data_provider_type,\n",
    "            \"configurations\": configuration,\n",
    "        }"
   ]
  },
  {
   "cell_type": "code",
   "execution_count": 490,
   "metadata": {
    "vscode": {
     "languageId": "python"
    }
   },
   "outputs": [],
   "source": [
    "# | export\n",
    "\n",
    "class InvalidAccountError(dmda.DomoErrror):\n",
    "    \"\"\"return invalid account id sent to API\"\"\"\n",
    "\n",
    "    def __init__(\n",
    "        self,\n",
    "        status: Optional[int] = None,  # API request status\n",
    "        message=\"invalid account\",\n",
    "        domo_instance: Optional[str] = None,\n",
    "    ):\n",
    "\n",
    "        super().__init__(status=status, message=message, domo_instance=domo_instance)\n",
    "\n",
    "# | export\n",
    "\n",
    "\n",
    "class InvalidAccountConfigError(dmda.DomoErrror):\n",
    "    \"\"\"return if DomoAccount does not have a valid config attribute\"\"\"\n",
    "\n",
    "    def __init__(self,\n",
    "                 status: Optional[int] = None,  # API request status\n",
    "                 message=\"invalid account config\",\n",
    "                 domo_instance: Optional[str] = None,):\n",
    "\n",
    "        super().__init__(status=status, message=message, domo_instance=domo_instance)\n",
    "\n",
    "\n",
    "class UpdateAccountConfigError(dmda.DomoErrror):\n",
    "    \"\"\"return if DomoAccount does not have a valid config attribute\"\"\"\n",
    "\n",
    "    def __init__(self,\n",
    "                 status: Optional[int] = None,  # API request status\n",
    "                 message=\"failed to update account config\",\n",
    "                 domo_instance: Optional[str] = None,):\n",
    "\n",
    "        super().__init__(status=status, message=message, domo_instance=domo_instance)\n",
    "\n",
    "\n",
    "class DeleteAccountError(dmda.DomoErrror):\n",
    "    \"\"\"return if fail to delete Domo Account\"\"\"\n",
    "\n",
    "    def __init__(self,\n",
    "                 status: Optional[int] = None,  # API request status\n",
    "                 message=\"failed to delete account\",\n",
    "                 domo_instance: Optional[str] = None,):\n",
    "\n",
    "        super().__init__(status=status, message=message, domo_instance=domo_instance)\n"
   ]
  },
  {
   "cell_type": "code",
   "execution_count": 491,
   "metadata": {
    "vscode": {
     "languageId": "python"
    }
   },
   "outputs": [],
   "source": [
    "# | export\n",
    "\n",
    "@patch_to(DomoAccount, cls_method=True)\n",
    "async def get_from_id(\n",
    "    cls,\n",
    "    full_auth: dmda.DomoAuth,\n",
    "    account_id: int,\n",
    "    session: aiohttp.ClientSession = None,\n",
    "    logger: Optional[lg.Logger] = None,\n",
    "    debug: bool = False\n",
    ") -> DomoAccount:\n",
    "    \"\"\"\n",
    "    Retrieves account metadata and attempts to retrieve config information.\n",
    "    \\n To retrieve config data, a matching `DomoAccount_Config` class and `AccountConfig` enum entry must exist.\n",
    "    * The match is an approximate match based on 'startswith'\n",
    "    \"\"\"\n",
    "\n",
    "    account_res = await get_account_from_id(\n",
    "        full_auth=full_auth, account_id=account_id, session=session\n",
    "    )\n",
    "    \n",
    "    if debug:\n",
    "        print(account_res.response)\n",
    "\n",
    "    message = f'metadata retreived from get_account_from_id: account - {account_id} from {full_auth.domo_instance}'\n",
    "\n",
    "    if not account_res.is_success:\n",
    "        message = f\"ERROR - no {message}\" \n",
    "        if logger:\n",
    "            logger.log_error(message=message, \n",
    "                             entity_id=account_id, domo_instance = full_auth.domo_instance)\n",
    "\n",
    "        raise InvalidAccountError(message = message, \n",
    "        domo_instance = full_auth.domo_instance, \n",
    "        status = account_res.status\n",
    "        )\n",
    "\n",
    "    obj = account_res.response\n",
    "    acc = cls._from_json(obj, full_auth, logger = logger)\n",
    "\n",
    "    acc.logger.log_info(\n",
    "        message=f\"SUCCESS - {message}\", entity_id=account_id, domo_instance=full_auth.domo_instance)\n",
    "\n",
    "    # get account config\n",
    "    config_res = await get_account_config(\n",
    "        full_auth=full_auth,\n",
    "        account_id=acc.id,\n",
    "        data_provider_type=acc.data_provider_type,\n",
    "        session=session,\n",
    "    )\n",
    "\n",
    "    message = f'config data retrieved from get_account_config: data provider - {acc.data_provider_type} - for account -{account_id} in {full_auth.domo_instance}'\n",
    "\n",
    "    if not config_res.is_success:\n",
    "        acc.logger.log_warning(\n",
    "            message=f'WARNING - no {message}', \n",
    "            entity_id=account_id, \n",
    "            domo_instance=full_auth.domo_instance)\n",
    "        return acc\n",
    "    \n",
    "    acc.logger.log_info(\n",
    "        message=f'SUCCESS - {message}',\n",
    "        entity_id=account_id, \n",
    "        domo_instance=full_auth.domo_instance)\n",
    "\n",
    "\n",
    "    # map account config to AccountConfig enum\n",
    "    enum_clean = re.sub(\"-\", \"_\", acc.data_provider_type)\n",
    "\n",
    "    config_match = next(\n",
    "        (member.value for member in AccountConfig if enum_clean.startswith(member.name)),\n",
    "        None,\n",
    "    )\n",
    "\n",
    "    if not config_match:\n",
    "        return acc\n",
    "\n",
    "    acc.config = config_match._from_json(config_res.response)\n",
    "    \n",
    "\n",
    "    return acc"
   ]
  },
  {
   "attachments": {},
   "cell_type": "markdown",
   "metadata": {},
   "source": [
    "#### sample implementation of DomoAccount.get_from_id\n"
   ]
  },
  {
   "cell_type": "code",
   "execution_count": 492,
   "metadata": {
    "vscode": {
     "languageId": "python"
    }
   },
   "outputs": [
    {
     "name": "stdout",
     "output_type": "stream",
     "text": [
      "Status 403 - ERROR - no metadata retreived from get_account_from_id: account - 73 from domo-dojo at domo-dojo\n",
      "[{'application': 'test_domo_account',\n",
      "  'breadcrumb': '',\n",
      "  'date_time': datetime.datetime(2023, 1, 4, 21, 8, 16, 266487),\n",
      "  'domo_instance': 'domo-dojo',\n",
      "  'entity_id': 73,\n",
      "  'file_name': '/tmp/ipykernel_24224/4177579856.py',\n",
      "  'function_name': 'get_from_id',\n",
      "  'function_trail': '<module> -> get_from_id',\n",
      "  'log_message': 'ERROR - no metadata retreived from get_account_from_id: '\n",
      "                 'account - 73 from domo-dojo',\n",
      "  'log_type': 'Error'}]\n"
     ]
    }
   ],
   "source": [
    "from pprint import pprint\n",
    "import nbdev_domo.Logger as lg\n",
    "\n",
    "## example of failed account retrieval with a logger\n",
    "logger = lg.Logger(app_name= 'test_domo_account')\n",
    "\n",
    "try:\n",
    "    domo_account = await DomoAccount.get_from_id(full_auth=domo_auth, account_id=73, logger = logger)\n",
    "    \n",
    "except InvalidAccountError as e:\n",
    "    print(e)\n",
    "\n",
    "finally:\n",
    "    pprint(logger.logs)"
   ]
  },
  {
   "cell_type": "code",
   "execution_count": 493,
   "metadata": {
    "vscode": {
     "languageId": "python"
    }
   },
   "outputs": [
    {
     "name": "stdout",
     "output_type": "stream",
     "text": [
      "{'id': 5, 'userId': 1893952720, 'name': 'Domo Governance Datasets Third Party Account', 'displayName': 'test_update_function', 'type': 'data', 'valid': True, 'dataProviderType': 'domo-governance-d14c2fef-49a8-4898-8ddd-f64998005600', 'credentialsType': 'fields', 'createdAt': 1616777681000, 'createdBy': 1893952720, 'modifiedAt': 1672866494000, 'modifiedBy': 1893952720, 'configurations': {}, 'accountTemplateId': None, 'accountTemplateAuthorizationId': None, 'accountId': 5}\n",
      "DomoAccount(display_name='test_update_function', data_provider_type='domo-governance-d14c2fef-49a8-4898-8ddd-f64998005600', id=5, created_dt=datetime.datetime(2021, 3, 26, 16, 54, 41), modified_dt=datetime.datetime(2023, 1, 4, 21, 8, 14), config=DomoAccount_Config_DomoGovernance(api_key='********', customer='domo-dojo', data_provider_type='domo-governance'), logger=<nbdev_domo.Logger.Logger object at 0x7f8546880370>)\n",
      "[{'application': 'test_domo_account_v2',\n",
      "  'breadcrumb': '',\n",
      "  'date_time': datetime.datetime(2023, 1, 4, 21, 8, 16, 584657),\n",
      "  'domo_instance': 'domo-dojo',\n",
      "  'entity_id': 5,\n",
      "  'file_name': '/tmp/ipykernel_24224/4177579856.py',\n",
      "  'function_name': 'get_from_id',\n",
      "  'function_trail': '<module> -> get_from_id',\n",
      "  'log_message': 'SUCCESS - metadata retreived from get_account_from_id: '\n",
      "                 'account - 5 from domo-dojo',\n",
      "  'log_type': 'Info'},\n",
      " {'application': 'test_domo_account_v2',\n",
      "  'breadcrumb': '',\n",
      "  'date_time': datetime.datetime(2023, 1, 4, 21, 8, 16, 788017),\n",
      "  'domo_instance': 'domo-dojo',\n",
      "  'entity_id': 5,\n",
      "  'file_name': '/tmp/ipykernel_24224/4177579856.py',\n",
      "  'function_name': 'get_from_id',\n",
      "  'function_trail': '<module> -> get_from_id',\n",
      "  'log_message': 'SUCCESS - config data retrieved from get_account_config: '\n",
      "                 'data provider - '\n",
      "                 'domo-governance-d14c2fef-49a8-4898-8ddd-f64998005600 - for '\n",
      "                 'account -5 in domo-dojo',\n",
      "  'log_type': 'Info'}]\n"
     ]
    }
   ],
   "source": [
    "# example of successful account retrieval with a logger\n",
    "logger = lg.Logger(app_name='test_domo_account_v2')\n",
    "\n",
    "try:\n",
    "    domo_account = await DomoAccount.get_from_id(full_auth=domo_auth, account_id=ACCOUNT_ID, logger=logger, debug=  True)\n",
    "    print(domo_account)\n",
    "\n",
    "except InvalidAccountError as e:\n",
    "    print(e)\n",
    "\n",
    "finally:\n",
    "    pprint(logger.logs)\n",
    "\n",
    "test_eq(type(domo_account.config), DomoAccount_Config_DomoGovernance)\n"
   ]
  },
  {
   "cell_type": "code",
   "execution_count": 494,
   "metadata": {
    "vscode": {
     "languageId": "python"
    }
   },
   "outputs": [],
   "source": [
    "# | hide\n",
    "## validate that the return is a domo_account\n",
    "test_eq(isinstance(domo_account, DomoAccount), True)"
   ]
  },
  {
   "cell_type": "code",
   "execution_count": 495,
   "metadata": {
    "vscode": {
     "languageId": "python"
    }
   },
   "outputs": [],
   "source": [
    "# | export\n",
    "@patch_to(DomoAccount)\n",
    "async def update_config(\n",
    "    self,\n",
    "    config_body: Optional[DomoAccount_Config] = None,\n",
    "    full_auth: dmda.DomoFullAuth = None,\n",
    "    debug: bool = False,\n",
    "    session: aiohttp.ClientSession = None,\n",
    "):\n",
    "    \"\"\"update account configuration, does not update metadata\"\"\"\n",
    "    if not config_body and not self.Config:\n",
    "        raise InvalidAccountConfigError\n",
    "\n",
    "    full_auth = full_auth or self.full_auth\n",
    "\n",
    "    update_account_config_res = await update_account_config(\n",
    "        full_auth=full_auth,\n",
    "        account_id=self.id,\n",
    "        data_provider_type=self.data_provider_type,\n",
    "        config_body=self.config.to_json(),\n",
    "        debug=debug,\n",
    "        session=session,\n",
    "    )\n",
    "\n",
    "    message = f\"account config updated with update_account_config for account - {self.id} in {full_auth.domo_instance}\"\n",
    "\n",
    "    if not update_account_config_res.is_success:\n",
    "        message = f\"FAILURE - no {message}\"\n",
    "        self.logger.log_error(message=message,\n",
    "                              entity_id=self.id,\n",
    "                              domo_instance=full_auth.domo_instance)\n",
    "\n",
    "        raise UpdateAccountConfigError(status=update_account_config_res.status,\n",
    "                                       message=message,\n",
    "                                       domo_instance=full_auth.domo_instanec)\n",
    "\n",
    "    return await self.get_from_id(full_auth=full_auth, account_id=self.id)\n"
   ]
  },
  {
   "cell_type": "code",
   "execution_count": 496,
   "metadata": {
    "vscode": {
     "languageId": "python"
    }
   },
   "outputs": [],
   "source": [
    "#| export\n",
    "\n",
    "@patch_to(DomoAccount)\n",
    "async def update_name(\n",
    "    self,\n",
    "    account_name: str = None,\n",
    "    full_auth: dmda.DomoFullAuth = None,\n",
    "    debug: bool = False,\n",
    "    session: Optional[aiohttp.ClientSession] = None,\n",
    "):\n",
    "    \"\"\"updates account display name\"\"\"\n",
    "\n",
    "    full_auth = full_auth or self.full_auth\n",
    "\n",
    "    update_account_name_res = await update_account_name(\n",
    "        full_auth=full_auth,\n",
    "        account_id=self.id,\n",
    "        account_name=account_name or self.name,\n",
    "        debug=debug,\n",
    "        session=session,\n",
    "    )\n",
    "\n",
    "    message = f\"update name for account - {self.id} in {full_auth.domo_instance}\"\n",
    "\n",
    "    if not update_account_name_res.is_success:\n",
    "        message = f\"FAILURE - {message}\"\n",
    "        self.logger.log_error(message=message,\n",
    "                              entity_id=self.id,\n",
    "                              domo_instance=full_auth.domo_instance)\n",
    "                              \n",
    "        raise UpdateAccountConfigError(status=update_account_name_res.status,\n",
    "                                       message=message, domo_instance=full_auth.domo_instance\n",
    "                                       )\n",
    "\n",
    "    self.logger.log_info(\n",
    "        message=f\"SUCCESS - {message}\", entity_id=self.id, domo_instance=full_auth.domo_instance)\n",
    "\n",
    "    return await self.get_from_id(full_auth=full_auth, account_id=self.id)"
   ]
  },
  {
   "attachments": {},
   "cell_type": "markdown",
   "metadata": {},
   "source": [
    "#### sample implementation of update_name\n"
   ]
  },
  {
   "cell_type": "code",
   "execution_count": 497,
   "metadata": {
    "vscode": {
     "languageId": "python"
    }
   },
   "outputs": [
    {
     "name": "stdout",
     "output_type": "stream",
     "text": [
      "DomoAccount(display_name='test_rename_using_classmethod', data_provider_type='domo-governance-d14c2fef-49a8-4898-8ddd-f64998005600', id=5, created_dt=datetime.datetime(2021, 3, 26, 16, 54, 41), modified_dt=datetime.datetime(2023, 1, 4, 21, 8, 17), config=DomoAccount_Config_DomoGovernance(api_key='********', customer='domo-dojo', data_provider_type='domo-governance'), logger=<nbdev_domo.Logger.Logger object at 0x7f8546881180>)\n"
     ]
    },
    {
     "data": {
      "text/plain": [
       "[{'date_time': datetime.datetime(2023, 1, 4, 21, 8, 17, 540648),\n",
       "  'application': 'default_domo_account',\n",
       "  'log_type': 'Info',\n",
       "  'log_message': 'SUCCESS - metadata retreived from get_account_from_id: account - 5 from domo-dojo',\n",
       "  'breadcrumb': '',\n",
       "  'domo_instance': 'domo-dojo',\n",
       "  'entity_id': 5,\n",
       "  'function_name': 'get_from_id',\n",
       "  'file_name': '/tmp/ipykernel_24224/4177579856.py',\n",
       "  'function_trail': '<module> -> get_from_id'},\n",
       " {'date_time': datetime.datetime(2023, 1, 4, 21, 8, 17, 754493),\n",
       "  'application': 'default_domo_account',\n",
       "  'log_type': 'Info',\n",
       "  'log_message': 'SUCCESS - config data retrieved from get_account_config: data provider - domo-governance-d14c2fef-49a8-4898-8ddd-f64998005600 - for account -5 in domo-dojo',\n",
       "  'breadcrumb': '',\n",
       "  'domo_instance': 'domo-dojo',\n",
       "  'entity_id': 5,\n",
       "  'function_name': 'get_from_id',\n",
       "  'file_name': '/tmp/ipykernel_24224/4177579856.py',\n",
       "  'function_trail': '<module> -> get_from_id'},\n",
       " {'date_time': datetime.datetime(2023, 1, 4, 21, 8, 17, 966159),\n",
       "  'application': 'default_domo_account',\n",
       "  'log_type': 'Info',\n",
       "  'log_message': 'SUCCESS - update name for account - 5 in domo-dojo',\n",
       "  'breadcrumb': '',\n",
       "  'domo_instance': 'domo-dojo',\n",
       "  'entity_id': 5,\n",
       "  'function_name': 'update_name',\n",
       "  'file_name': '/tmp/ipykernel_24224/1647381569.py',\n",
       "  'function_trail': '<module> -> update_name'}]"
      ]
     },
     "execution_count": 497,
     "metadata": {},
     "output_type": "execute_result"
    }
   ],
   "source": [
    "domo_account = await DomoAccount.get_from_id(full_auth=domo_auth, account_id=ACCOUNT_ID)\n",
    "\n",
    "print(await domo_account.update_name(\n",
    "    account_name=\"test_rename_using_classmethod\", debug=False\n",
    "))\n",
    "\n",
    "domo_account.logger.logs"
   ]
  },
  {
   "cell_type": "code",
   "execution_count": 498,
   "metadata": {
    "vscode": {
     "languageId": "python"
    }
   },
   "outputs": [],
   "source": [
    "# | export\n",
    "@patch_to(DomoAccount, cls_method=True)\n",
    "async def create_account(\n",
    "    cls,\n",
    "    display_name: str,\n",
    "    domoaccount_config: DomoAccount_Config,\n",
    "\n",
    "    full_auth: dmda.DomoFullAuth,\n",
    "    debug: bool = False,\n",
    "    session: Optional[aiohttp.ClientSession] = None,\n",
    ") -> Union[bool, DomoAccount]:\n",
    "\n",
    "    \"\"\"create a new Domo Account object\"\"\"\n",
    "\n",
    "    config_body = domoaccount_config.to_json()\n",
    "\n",
    "    account_body = cls.config_to_json(\n",
    "        display_name,\n",
    "        domoaccount_config.data_provider_type,\n",
    "        configuration=config_body)\n",
    "\n",
    "    res = await create_account_route(\n",
    "        config_body=account_body,\n",
    "        full_auth=full_auth,\n",
    "        debug=debug,\n",
    "        session=session,\n",
    "    )\n",
    "\n",
    "    if debug:\n",
    "        print(res)\n",
    "\n",
    "    if res.status != 200:\n",
    "        return False\n",
    "\n",
    "    account_obj = res.response\n",
    "    return await cls.get_from_id(full_auth=full_auth, account_id=account_obj.get(\"id\"))\n",
    "\n",
    "\n",
    "@patch_to(DomoAccount, cls_method=True)\n",
    "async def delete_account(\n",
    "    cls,\n",
    "    account_id: int,\n",
    "    full_auth: dmda.DomoFullAuth,\n",
    "    debug: bool = False,\n",
    "    session: aiohttp.ClientSession = None,\n",
    "    logger: Optional[lg.Logger] = None\n",
    ") -> bool:  # returns True or False if account successfully deleted\n",
    "\n",
    "    \"\"\"classmethod to delete an account\"\"\"\n",
    "\n",
    "    res = await delete_account_route(\n",
    "        full_auth=full_auth,\n",
    "        account_id=account_id,\n",
    "        debug=debug,\n",
    "        session=session,\n",
    "    )\n",
    "\n",
    "    if debug:\n",
    "        print(res)\n",
    "\n",
    "    message = f\"delete account {account_id} from {full_auth.domo_instance}\"\n",
    "\n",
    "    if res.status != 200:\n",
    "        message = \"FAILURE - {message}\"\n",
    "\n",
    "        if logger:\n",
    "            logger.log_error(message=message, entity_id=account_id,\n",
    "                             domo_instance=full_auth.domo_instance)\n",
    "\n",
    "        raise DeleteAccountError(status=res.status,\n",
    "                                 message=message,\n",
    "                                 domo_instance=full_auth.domo_instance)\n",
    "\n",
    "    message = \"SUCCESS - {message}\"\n",
    "\n",
    "    if logger:\n",
    "        logger.log_info(message=message, entity_id=account_id,\n",
    "                        domo_instance=full_auth.domo_instance)\n",
    "\n",
    "    return True\n"
   ]
  },
  {
   "cell_type": "code",
   "execution_count": 499,
   "metadata": {
    "vscode": {
     "languageId": "python"
    }
   },
   "outputs": [],
   "source": [
    "# | hide\n",
    "import nbdev\n",
    "\n",
    "nbdev.nbdev_export()"
   ]
  }
 ],
 "metadata": {
  "kernelspec": {
   "display_name": "Python 3",
   "language": "python",
   "name": "python3"
  }
 },
 "nbformat": 4,
 "nbformat_minor": 4
}
