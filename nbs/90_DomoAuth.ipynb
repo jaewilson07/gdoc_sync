{
 "cells": [
  {
   "attachments": {},
   "cell_type": "markdown",
   "metadata": {},
   "source": [
    "# DomoAuth\n",
    "\n",
    "> Fill in a module description here\n"
   ]
  },
  {
   "cell_type": "code",
   "execution_count": null,
   "metadata": {},
   "outputs": [],
   "source": [
    "# | default_exp DomoAuth"
   ]
  },
  {
   "cell_type": "code",
   "execution_count": null,
   "metadata": {},
   "outputs": [],
   "source": [
    "# | hide\n",
    "from nbdev.showdoc import *\n",
    "from fastcore.test import test_eq"
   ]
  },
  {
   "cell_type": "code",
   "execution_count": null,
   "metadata": {},
   "outputs": [],
   "source": [
    "# | exporti\n",
    "\n",
    "from dataclasses import dataclass, field\n",
    "\n",
    "import aiohttp\n",
    "from typing import Optional, Union\n",
    "import nbdev_domo.ResponseGetData as rgd\n",
    "from nbdev_domo.Transport import TransportAsync"
   ]
  },
  {
   "attachments": {},
   "cell_type": "markdown",
   "metadata": {},
   "source": [
    "# Authentication Routes\n",
    "\n",
    "The nbdev_domo library was designed to support object-oriented / class-based programming; however, all routes are stand-alone functions for users who prefer a functional programming approach\n",
    "\n",
    "## Full Auth Route - username and password authentication\n",
    "\n",
    "If SSO is enabled, users must have direct-sign-on ([SSO KB](https://domo-support.domo.com/s/article/360042934374?language=en_US)) access to use this authentication method.\n"
   ]
  },
  {
   "cell_type": "code",
   "execution_count": null,
   "metadata": {},
   "outputs": [],
   "source": [
    "# | export\n",
    "async def get_full_auth(\n",
    "    domo_instance: str,  # domo_instance.domo.com\n",
    "    domo_username: str,  # email address\n",
    "    domo_password: str,\n",
    "    session: Optional[aiohttp.ClientSession] = None,\n",
    ") -> rgd.ResponseGetData:\n",
    "    \"\"\"uses username and password authentication to retrieve a full_auth access token\"\"\"\n",
    "\n",
    "    url = f\"https://{domo_instance}.domo.com/api/content/v2/authentication\"\n",
    "\n",
    "    body = {\n",
    "        \"method\": \"password\",\n",
    "        \"emailAddress\": domo_username,\n",
    "        \"password\": domo_password,\n",
    "    }\n",
    "\n",
    "    transport = TransportAsync(session=session)\n",
    "\n",
    "    return await transport.post(url=url, body=body, session=session)"
   ]
  },
  {
   "attachments": {},
   "cell_type": "markdown",
   "metadata": {},
   "source": [
    "#### Sample Implementations of get_full_auth\n"
   ]
  },
  {
   "cell_type": "code",
   "execution_count": null,
   "metadata": {},
   "outputs": [
    {
     "data": {
      "text/plain": [
       "ResponseGetData(status=200, response={'success': False, 'reason': 'INVALID_CREDENTIALS'}, is_success=True, auth_header=None)"
      ]
     },
     "execution_count": null,
     "metadata": {},
     "output_type": "execute_result"
    }
   ],
   "source": [
    "domo_instance = \"domo-dojo\"\n",
    "domo_username = \"test12@domo.com\"\n",
    "domo_password = \"test1234\"\n",
    "\n",
    "res = await get_full_auth(domo_instance, domo_username, domo_password)\n",
    "\n",
    "# The 200 response confirms we were able to get a response from the credentials API,\n",
    "# however success was FALSE because we sent invalid credentials\n",
    "test_eq(res.status, 200)\n",
    "test_eq(res.response.get(\"success\"), False)\n",
    "\n",
    "res"
   ]
  },
  {
   "cell_type": "code",
   "execution_count": null,
   "metadata": {},
   "outputs": [
    {
     "data": {
      "text/plain": [
       "ResponseGetData(status=403, response='Forbidden', is_success=False, auth_header=None)"
      ]
     },
     "execution_count": null,
     "metadata": {},
     "output_type": "execute_result"
    }
   ],
   "source": [
    "domo_instance = \"test\"\n",
    "res = await get_full_auth(domo_instance, domo_username, domo_password)\n",
    "\n",
    "# the 403 response confirms that there is no domo instance 'test.domo.com'\n",
    "test_eq(res.status, 403)\n",
    "res"
   ]
  },
  {
   "attachments": {},
   "cell_type": "markdown",
   "metadata": {},
   "source": [
    "## Access Token Auth Route - access_token authentication\n",
    "\n",
    "This access_token based authentication assumes the user has been provided a valid access token from Domo > Admin > Authentication > Access Token so authentication routes are actually not required.\n",
    "\n",
    "Per the Domo JavaCLI implementation, users can test the validity of the access_token agains the 'me' API\n",
    "\n",
    "!! Note about the Me API !!\n",
    "It appears that access_token authentication will always authenticate against the 'correct' domo_instance regardless of the parameter provided. Ths appears to be a bug in the domo_api\n"
   ]
  },
  {
   "cell_type": "code",
   "execution_count": null,
   "metadata": {},
   "outputs": [],
   "source": [
    "# | export\n",
    "async def test_access_token(\n",
    "    domo_access_token: str,  # as provided in Domo > Admin > Authentication > AccessTokens\n",
    "    domo_instance: str,  # <domo_instance>.domo.com\n",
    "    session: Optional[aiohttp.ClientSession] = None,\n",
    "):\n",
    "    \"\"\"\n",
    "    will attempt to validate against the 'me' API.\n",
    "    This is the same authentication test the Domo Java CLI uses.\n",
    "    \"\"\"\n",
    "\n",
    "    url = f\"https://{domo_instance}.domo.com/api/content/v2/users/me\"\n",
    "\n",
    "    transport = TransportAsync(\n",
    "        session=session, auth_header={\"X-DOMO-Developer-Token\": domo_access_token}\n",
    "    )\n",
    "\n",
    "    return await transport.get(url=url)"
   ]
  },
  {
   "attachments": {},
   "cell_type": "markdown",
   "metadata": {},
   "source": [
    "#### Sample implementation of `test_access_token`\n"
   ]
  },
  {
   "cell_type": "code",
   "execution_count": null,
   "metadata": {},
   "outputs": [
    {
     "data": {
      "text/plain": [
       "ResponseGetData(status=200, response={'id': 1893952720, 'invitorUserId': 587894148, 'displayName': 'Jae Wilson', 'userName': 'jae@onyxreporting.com', 'emailAddress': 'jae@onyxreporting.com', 'avatarKey': 'c605f478-0cd2-4451-9fd4-d82090b71e66', 'accepted': True, 'userType': 'USER', 'modified': 1651692505000, 'created': 1588960518, 'role': 'Admin', 'rights': 63, 'active': True, 'pending': False, 'systemUser': False, 'anonymous': False}, is_success=True, auth_header={'X-DOMO-Developer-Token': 'a9c9c837775a981121fc57b4c78550d28c8784b6b0f4c69c'})"
      ]
     },
     "execution_count": null,
     "metadata": {},
     "output_type": "execute_result"
    }
   ],
   "source": [
    "domo_instance = \"test\"\n",
    "domo_access_token = \"a9c9c837775a981121fc57b4c78550d28c8784b6b0f4c69c\"\n",
    "\n",
    "await test_access_token(\n",
    "    domo_instance=domo_instance, domo_access_token=domo_access_token\n",
    ")"
   ]
  },
  {
   "attachments": {},
   "cell_type": "markdown",
   "metadata": {},
   "source": [
    "## Developer Auth Route - client_id and secret authentication\n"
   ]
  },
  {
   "cell_type": "code",
   "execution_count": null,
   "metadata": {},
   "outputs": [],
   "source": [
    "# | export\n",
    "async def get_developer_auth(\n",
    "    domo_client_id: str,\n",
    "    domo_client_secret: str,\n",
    "    session: Optional[aiohttp.ClientSession] = None,\n",
    ") -> rgd.ResponseGetData:\n",
    "\n",
    "    \"\"\"\n",
    "    only use for authenticating against apis documented under developer.domo.com\n",
    "    \"\"\"\n",
    "\n",
    "    url = \"https://api.domo.com/oauth/token?grant_type=client_credentials\"\n",
    "\n",
    "    is_close_session = False\n",
    "\n",
    "    if not session:\n",
    "        is_close_session = True\n",
    "        session = aiohttp.ClientSession(\n",
    "            auth=aiohttp.BasicAuth(domo_client_id, domo_client_secret)\n",
    "        )\n",
    "\n",
    "    transport = TransportAsync(session=session)\n",
    "    res = await transport.get(url=url)\n",
    "\n",
    "    if is_close_session:\n",
    "        await session.close()\n",
    "\n",
    "    return res"
   ]
  },
  {
   "attachments": {},
   "cell_type": "markdown",
   "metadata": {},
   "source": [
    "#### Sample Implementations of get_developer_auth\n",
    "\n",
    "The 401 response is expected because we are using invalid credentials\n"
   ]
  },
  {
   "cell_type": "code",
   "execution_count": null,
   "metadata": {},
   "outputs": [
    {
     "data": {
      "text/plain": [
       "ResponseGetData(status=401, response='Unauthorized', is_success=False, auth_header=None)"
      ]
     },
     "execution_count": null,
     "metadata": {},
     "output_type": "execute_result"
    }
   ],
   "source": [
    "domo_client_id = \"test_id\"\n",
    "domo_client_secret = \"test_secret\"\n",
    "\n",
    "await get_developer_auth(domo_client_id, domo_client_secret)"
   ]
  },
  {
   "attachments": {},
   "cell_type": "markdown",
   "metadata": {},
   "source": [
    "# Authentication Classes\n"
   ]
  },
  {
   "cell_type": "code",
   "execution_count": null,
   "metadata": {},
   "outputs": [],
   "source": [
    "# | hide\n",
    "# different auth flows will have different required and optional parameters.\n",
    "# The libraries use inheritance to mix-in parameters and methods as appropriate.\n",
    "# The DomoAuth class is an abstract class with stubbed abstract methods which should be overwritten in the actual implementation."
   ]
  },
  {
   "cell_type": "code",
   "execution_count": null,
   "metadata": {},
   "outputs": [],
   "source": [
    "# | exporti\n",
    "@dataclass\n",
    "class _DomoAuth_Required:\n",
    "    \"\"\"required parameters for all Domo Auth classes\"\"\"\n",
    "\n",
    "    domo_instance: str\n",
    "\n",
    "    def __post_init__(self):\n",
    "        if self.domo_instance:\n",
    "            self.set_manual_login()\n",
    "\n",
    "    def set_manual_login(self):\n",
    "        self.url_manual_login = (\n",
    "            f\"https://{self.domo_instance}.domo.com/auth/index?domoManualLogin=true\"\n",
    "        )\n",
    "\n",
    "\n",
    "@dataclass\n",
    "class _DomoAuth_Optional:\n",
    "    \"\"\"optional parameters for Domo Auth classes that should be defined during initialization or during the Token / Authenitcation process\"\"\"\n",
    "\n",
    "    token: Optional[str] = field(default=None, repr=False)\n",
    "    token_name: Optional[str] = field(default=None)\n",
    "    user_id: Optional[str] = field(default=None, repr=False)\n",
    "    auth_header: dict = field(default_factory=dict, repr=False)\n",
    "\n",
    "    url_manual_login: Optional[str] = None\n",
    "\n",
    "    async def get_auth_token(self) -> Union[str, None]:\n",
    "        \"\"\"placeholder method\"\"\"\n",
    "        pass\n",
    "\n",
    "    async def generate_auth_header(self) -> Union[dict, None]:\n",
    "        \"\"\"returns auth header appropriate for this authentication method\"\"\"\n",
    "        pass"
   ]
  },
  {
   "cell_type": "code",
   "execution_count": null,
   "metadata": {},
   "outputs": [],
   "source": [
    "# | export\n",
    "@dataclass\n",
    "class DomoAuth(_DomoAuth_Optional, _DomoAuth_Required):\n",
    "    \"\"\"abstract DomoAuth class with all parameters and methods common across all Auth methods\"\"\"\n",
    "\n",
    "    pass\n"
   ]
  },
  {
   "cell_type": "code",
   "execution_count": null,
   "metadata": {},
   "outputs": [
    {
     "data": {
      "text/plain": [
       "['auth_header',\n",
       " 'domo_instance',\n",
       " 'generate_auth_header',\n",
       " 'get_auth_token',\n",
       " 'set_manual_login',\n",
       " 'token',\n",
       " 'token_name',\n",
       " 'url_manual_login',\n",
       " 'user_id']"
      ]
     },
     "execution_count": null,
     "metadata": {},
     "output_type": "execute_result"
    }
   ],
   "source": [
    "# Attributes of `DomoAuth`\n",
    "domo_instance = \"test\"\n",
    "[attr for attr in dir(DomoAuth(domo_instance)) if not attr.startswith(\"__\")]"
   ]
  },
  {
   "cell_type": "code",
   "execution_count": null,
   "metadata": {},
   "outputs": [
    {
     "data": {
      "text/plain": [
       "'https://test.domo.com/auth/index?domoManualLogin=true'"
      ]
     },
     "execution_count": null,
     "metadata": {},
     "output_type": "execute_result"
    }
   ],
   "source": [
    "# | hide\n",
    "# validate can print manual login link\n",
    "domo_instance = \"test\"\n",
    "\n",
    "da = DomoAuth(domo_instance)\n",
    "da.url_manual_login"
   ]
  },
  {
   "attachments": {},
   "cell_type": "markdown",
   "metadata": {},
   "source": [
    "## DomoAuth Error Classes\n",
    "\n",
    "Used to raise exceptions during authentication process.\n"
   ]
  },
  {
   "cell_type": "code",
   "execution_count": null,
   "metadata": {},
   "outputs": [],
   "source": [
    "# | exporti\n",
    "class DomoErrror(Exception):\n",
    "    \"\"\"base exception\"\"\"\n",
    "\n",
    "    def __init__(\n",
    "        self,\n",
    "        status: Optional[int] = None,  # API request status\n",
    "        message: str = \"error\",  # <domo_instance>.domo.com\n",
    "        domo_instance: Optional[str] = None,\n",
    "    ):\n",
    "\n",
    "        instance_str = f\" at {domo_instance}\" if domo_instance else \"\"\n",
    "        status_str = f\"Status {status} - \" if status else \"\"\n",
    "        self.message = f\"{status_str}{message}{instance_str}\"\n",
    "        super().__init__(self.message)"
   ]
  },
  {
   "cell_type": "code",
   "execution_count": null,
   "metadata": {},
   "outputs": [],
   "source": [
    "# | export\n",
    "class InvalidCredentialsError(DomoErrror):\n",
    "    \"\"\"return invalid credentials sent to API\"\"\"\n",
    "\n",
    "    def __init__(\n",
    "        self,\n",
    "        status: Optional[int] = None,  # API request status\n",
    "        message=\"invalid credentials\",\n",
    "        domo_instance: Optional[str] = None,\n",
    "    ):\n",
    "\n",
    "        super().__init__(status=status, message=message, domo_instance=domo_instance)\n",
    "\n",
    "\n",
    "class InvalidInstanceError(DomoErrror):\n",
    "    \"\"\"return if invalid domo_instance sent to API\"\"\"\n",
    "\n",
    "    def __init__(\n",
    "        self,\n",
    "        status: Optional[int] = None,\n",
    "        message=\"invalid instance\",\n",
    "        domo_instance: Optional[str] = None,\n",
    "    ):\n",
    "        super().__init__(status=status, message=message, domo_instance=domo_instance)"
   ]
  },
  {
   "cell_type": "code",
   "execution_count": null,
   "metadata": {},
   "outputs": [],
   "source": [
    "# | hide\n",
    "# validates that Errors can compile\n",
    "test_eq(isinstance(InvalidCredentialsError(), InvalidCredentialsError), True)\n",
    "test_eq(isinstance(InvalidCredentialsError(), InvalidCredentialsError), True)\n",
    "test_eq(isinstance(InvalidInstanceError(), InvalidInstanceError), True)"
   ]
  },
  {
   "attachments": {},
   "cell_type": "markdown",
   "metadata": {},
   "source": [
    "## DomoFullAuth\n"
   ]
  },
  {
   "cell_type": "code",
   "execution_count": null,
   "metadata": {},
   "outputs": [],
   "source": [
    "# | exporti\n",
    "@dataclass\n",
    "class _DomoFullAuth_Required(_DomoAuth_Required):\n",
    "    \"\"\"mix requied parameters for DomoFullAuth\"\"\"\n",
    "\n",
    "    domo_username: str\n",
    "    domo_password: str = field(repr=False)\n"
   ]
  },
  {
   "cell_type": "code",
   "execution_count": null,
   "metadata": {},
   "outputs": [],
   "source": [
    "# | export\n",
    "@dataclass\n",
    "class DomoFullAuth(_DomoAuth_Optional, _DomoFullAuth_Required):\n",
    "    \"\"\"use for full authentication token\"\"\"\n",
    "\n",
    "    async def generate_auth_header(self, token: str = None) -> dict:\n",
    "        if not self.token:\n",
    "            await self.get_auth_token()\n",
    "\n",
    "        self.auth_header = {\"x-domo-authentication\": token or self.token}\n",
    "        return self.auth_header\n",
    "\n",
    "    async def get_auth_token(\n",
    "        self,\n",
    "        session: Optional[aiohttp.ClientSession] = None,\n",
    "    ) -> str:\n",
    "        \"\"\"returns `token` if valid credentials provided else raises Exception and returns None\"\"\"\n",
    "\n",
    "        res = await get_full_auth(\n",
    "            domo_instance=self.domo_instance,\n",
    "            domo_username=self.domo_username,\n",
    "            domo_password=self.domo_password,\n",
    "            session=session,\n",
    "        )\n",
    "\n",
    "        if res.is_success and res.response.get(\"reason\") == \"INVALID_CREDENTIALS\":\n",
    "            raise InvalidCredentialsError(\n",
    "                status=res.status,\n",
    "                message=str(res.response.get(\"reason\")),\n",
    "                domo_instance=self.domo_instance,\n",
    "            )\n",
    "\n",
    "        if res.status == 403:\n",
    "            raise InvalidInstanceError(\n",
    "                status=res.status,\n",
    "                message=\"INVALID INSTANCE\",\n",
    "                domo_instance=self.domo_instance,\n",
    "            )\n",
    "\n",
    "        token = str(res.response.get(\"sessionToken\"))\n",
    "        self.token = token\n",
    "        self.user_id = str(res.response.get(\"userId\"))\n",
    "\n",
    "        if not self.token_name:\n",
    "            self.token_name = \"full_auth\"\n",
    "\n",
    "        return self.token"
   ]
  },
  {
   "attachments": {},
   "cell_type": "markdown",
   "metadata": {},
   "source": [
    "#### sample implementations of DomoFullAuth\n"
   ]
  },
  {
   "cell_type": "code",
   "execution_count": null,
   "metadata": {},
   "outputs": [
    {
     "name": "stdout",
     "output_type": "stream",
     "text": [
      "Status 200 - INVALID_CREDENTIALS at domo-dojo\n"
     ]
    }
   ],
   "source": [
    "domo_instance = \"domo-dojo\"\n",
    "domo_username = \"test12@domo.com\"\n",
    "domo_password = \"test1234\"\n",
    "\n",
    "try:\n",
    "    full_auth = DomoFullAuth(domo_instance, domo_username, domo_password)\n",
    "    res = await full_auth.get_auth_token()\n",
    "\n",
    "except InvalidCredentialsError as e:\n",
    "    print(e)"
   ]
  },
  {
   "cell_type": "code",
   "execution_count": null,
   "metadata": {},
   "outputs": [
    {
     "name": "stdout",
     "output_type": "stream",
     "text": [
      "Status 403 - INVALID INSTANCE at test\n"
     ]
    }
   ],
   "source": [
    "domo_instance = \"test\"\n",
    "\n",
    "try:\n",
    "    full_auth = DomoFullAuth(domo_instance, domo_username, domo_password)\n",
    "    await full_auth.get_auth_token()\n",
    "except InvalidInstanceError as e:\n",
    "    print(e)"
   ]
  },
  {
   "cell_type": "code",
   "execution_count": null,
   "metadata": {},
   "outputs": [],
   "source": [
    "# | hide\n",
    "test_eq(isinstance(DomoAuth(domo_instance=domo_instance), DomoAuth), True)\n",
    "\n",
    "test_eq(\n",
    "    isinstance(\n",
    "        DomoFullAuth(\n",
    "            domo_instance=domo_instance,\n",
    "            domo_password=domo_password,\n",
    "            domo_username=domo_username,\n",
    "        ),\n",
    "        DomoFullAuth,\n",
    "    ),\n",
    "    True,\n",
    ")"
   ]
  },
  {
   "attachments": {},
   "cell_type": "markdown",
   "metadata": {},
   "source": [
    "## DomoTokenAuth\n"
   ]
  },
  {
   "cell_type": "code",
   "execution_count": null,
   "metadata": {},
   "outputs": [],
   "source": [
    "# | exporti\n",
    "@dataclass\n",
    "class _DomoTokenAuth_Required(_DomoAuth_Required):\n",
    "    \"\"\"mix requied parameters for DomoFullAuth\"\"\"\n",
    "\n",
    "    domo_access_token: str = field(repr=False)"
   ]
  },
  {
   "cell_type": "code",
   "execution_count": null,
   "metadata": {},
   "outputs": [],
   "source": [
    "# | export\n",
    "@dataclass\n",
    "class DomoTokenAuth(_DomoAuth_Optional, _DomoTokenAuth_Required):\n",
    "    \"\"\"\n",
    "    use for access_token authentication.\n",
    "    Tokens are generated in domo > admin > access token\n",
    "    Necessary in cases where direct sign on is not permitted\n",
    "    \"\"\"\n",
    "\n",
    "    def generate_auth_header(self, token: str) -> dict:\n",
    "        self.auth_header = {\"x-domo-developer-token\": token}\n",
    "        return self.auth_header\n",
    "\n",
    "    async def get_auth_token(\n",
    "        self, session: Optional[aiohttp.ClientSession] = None\n",
    "    ) -> str:\n",
    "        \"\"\"\n",
    "        updates internal attributes\n",
    "        having an access_token assumes pre-authenticaiton\n",
    "        \"\"\"\n",
    "\n",
    "        res = await test_access_token(\n",
    "            domo_instance=self.domo_instance,\n",
    "            domo_access_token=self.domo_access_token,\n",
    "            session=session,\n",
    "        )\n",
    "\n",
    "        if res.status == 401 and res.response == \"Unauthorized\":\n",
    "            raise InvalidCredentialsError(\n",
    "                status=res.status,\n",
    "                message=res.response,\n",
    "                domo_instance=self.domo_instance,\n",
    "            )\n",
    "\n",
    "        self.token = self.domo_access_token\n",
    "        self.user_id = res.response.get(\"id\")\n",
    "\n",
    "        self.auth_header = self.generate_auth_header(token=self.token)\n",
    "\n",
    "        if not self.token_name:\n",
    "            self.token_name = \"token_auth\"\n",
    "\n",
    "        return self.token"
   ]
  },
  {
   "attachments": {},
   "cell_type": "markdown",
   "metadata": {},
   "source": [
    "#### Sample implementation of DomoTokenAuth\n"
   ]
  },
  {
   "cell_type": "code",
   "execution_count": null,
   "metadata": {},
   "outputs": [
    {
     "name": "stdout",
     "output_type": "stream",
     "text": [
      "a9c9c837775a981121fc57b4c78550d28c8784b6b0f4c69c\n"
     ]
    }
   ],
   "source": [
    "domo_instance = \"test\"\n",
    "domo_access_token = \"test_access_token\"\n",
    "\n",
    "domo_access_token = \"a9c9c837775a981121fc57b4c78550d28c8784b6b0f4c69c\"\n",
    "try:\n",
    "    domo_auth = DomoTokenAuth(domo_instance, domo_access_token)\n",
    "    token = await domo_auth.get_auth_token()\n",
    "    print(domo_auth.token)\n",
    "\n",
    "except InvalidCredentialsError as e:\n",
    "    print(e)"
   ]
  },
  {
   "attachments": {},
   "cell_type": "markdown",
   "metadata": {},
   "source": [
    "## DomoDeveloperAuth\n"
   ]
  },
  {
   "cell_type": "code",
   "execution_count": null,
   "metadata": {},
   "outputs": [],
   "source": [
    "# | exporti\n",
    "@dataclass\n",
    "class _DomoDeveloperAuth_Required(_DomoAuth_Required):\n",
    "    \"\"\"mix requied parameters for DomoFullAuth\"\"\"\n",
    "\n",
    "    domo_client_id: str\n",
    "    domo_client_secret: str = field(repr=False)"
   ]
  },
  {
   "cell_type": "code",
   "execution_count": null,
   "metadata": {},
   "outputs": [],
   "source": [
    "# | export\n",
    "@dataclass(init=False)\n",
    "class DomoDeveloperAuth(_DomoAuth_Optional, _DomoDeveloperAuth_Required):\n",
    "    \"\"\"use for full authentication token\"\"\"\n",
    "\n",
    "    def __init__(self, domo_client_id: str, domo_client_secret: str):\n",
    "        self.domo_client_id = domo_client_id\n",
    "        self.domo_client_secret = domo_client_secret\n",
    "        self.domo_instance = \"\"\n",
    "\n",
    "    async def generate_auth_header(self, token: str) -> dict:\n",
    "        if not self.token:\n",
    "            await self.get_auth_token()\n",
    "\n",
    "        self.auth_header = {\"Authorization\": \"bearer \" + token}\n",
    "        return self.auth_header\n",
    "\n",
    "    async def get_auth_token(\n",
    "        self,\n",
    "        session: Optional[aiohttp.ClientSession] = None,\n",
    "    ) -> str:\n",
    "\n",
    "        res = await get_developer_auth(\n",
    "            domo_client_id=self.domo_client_id,\n",
    "            domo_client_secret=self.domo_client_secret,\n",
    "            session=session,\n",
    "        )\n",
    "\n",
    "        if res.status == 401:\n",
    "            raise InvalidCredentialsError(\n",
    "                status=res.status,\n",
    "                message=str(res.response),\n",
    "                domo_instance=self.domo_instance,\n",
    "            )\n",
    "\n",
    "        token = str(res.response.get(\"access_token\"))\n",
    "        self.token = token\n",
    "        self.user_id = res.response.get(\"userId\")\n",
    "        self.domo_instance = res.response.get(\"domain\")\n",
    "        self.set_manual_login()\n",
    "\n",
    "        self.auth_header = self.generate_auth_header(token=token)\n",
    "\n",
    "        if not self.token_name:\n",
    "            self.token_name = \"developer_auth\"\n",
    "\n",
    "        return token"
   ]
  },
  {
   "attachments": {},
   "cell_type": "markdown",
   "metadata": {},
   "source": [
    "#### Sample implementations of DomoDeveloperAuth\n"
   ]
  },
  {
   "cell_type": "code",
   "execution_count": null,
   "metadata": {},
   "outputs": [
    {
     "name": "stdout",
     "output_type": "stream",
     "text": [
      "Status 401 - Unauthorized\n"
     ]
    }
   ],
   "source": [
    "domo_client_id = \"test_client\"\n",
    "domo_client_secret = \"test_secret\"\n",
    "\n",
    "try:\n",
    "    domo_auth = DomoDeveloperAuth(domo_client_id, domo_client_secret)\n",
    "    await domo_auth.get_auth_token()\n",
    "except InvalidCredentialsError as e:\n",
    "    print(e)"
   ]
  },
  {
   "cell_type": "code",
   "execution_count": null,
   "metadata": {},
   "outputs": [
    {
     "name": "stderr",
     "output_type": "stream",
     "text": [
      "Bad pipe message: %s [b'\\n\\nN\\n\\x87-\\xe0V\\xe3\\xc5\\xfe\\xf7\\x83=\\xec\\xcb\\xa9\\xbd \\xde\\xea\\x9d&\\xe1\\xac\\\\\\xc9\\xe1\\xa5f\\xfaY\\xea,Go\"\\xed\\xf5\\x0c\\xa2\\x0c\\xdbZ5\\xb4\\xc4\\x01\\xc9\\xde/\\x00\\x08\\x13\\x02\\x13\\x03\\x13\\x01\\x00\\xff\\x01\\x00\\x00\\x8f\\x00\\x00\\x00\\x0e\\x00\\x0c\\x00\\x00\\t127.0.0.1\\x00\\x0b\\x00\\x04\\x03\\x00\\x01\\x02\\x00\\n\\x00\\x0c\\x00\\n\\x00\\x1d\\x00\\x17\\x00\\x1e\\x00\\x19\\x00\\x18\\x00#\\x00\\x00\\x00\\x16\\x00\\x00\\x00\\x17\\x00\\x00\\x00\\r\\x00\\x1e\\x00\\x1c\\x04\\x03\\x05\\x03\\x06\\x03\\x08\\x07\\x08\\x08\\x08\\t\\x08\\n\\x08\\x0b\\x08\\x04\\x08\\x05\\x08\\x06\\x04\\x01\\x05']\n",
      "Bad pipe message: %s [b'']\n",
      "Bad pipe message: %s [b'']\n",
      "Bad pipe message: %s [b'\\x03\\x02\\x03\\x04\\x00-\\x00\\x02\\x01\\x01\\x003\\x00&\\x00$\\x00\\x1d\\x00 $mG\\x96.\\xb6\\xfc\\xa9\\x82\\x9d\\x06yR\\xd2Y%\\xff\\xf4\\xe6\\x04\\xd1\\xfd']\n",
      "Bad pipe message: %s [b'\\xaf!p\\x1bE\\xec\\xcc4Z\\xc2\\x8d\\x88\\xa0\\x17\\xd3\\x15\\x16! \\x1f\\xa6X@\\x1b^\\xba\\x97\\xcd7k\\xe0U\\xbd\\xe2\\xacO\\xb3L\\xa5\\x1b\\x10\\xfd\\xb2\\xb9\\x95\\x0c\\x85RC\"F\\x00\\x08\\x13\\x02\\x13\\x03\\x13\\x01\\x00\\xff\\x01\\x00\\x00\\x8f\\x00\\x00\\x00\\x0e\\x00\\x0c\\x00\\x00\\t127.0.0.1\\x00\\x0b\\x00\\x04\\x03\\x00\\x01\\x02\\x00\\n\\x00\\x0c\\x00\\n\\x00\\x1d\\x00\\x17\\x00\\x1e\\x00\\x19\\x00\\x18\\x00#\\x00\\x00\\x00\\x16\\x00\\x00\\x00\\x17\\x00\\x00\\x00\\r\\x00\\x1e\\x00\\x1c\\x04\\x03\\x05\\x03\\x06\\x03\\x08\\x07\\x08\\x08\\x08\\t\\x08\\n\\x08\\x0b\\x08\\x04\\x08\\x05\\x08\\x06\\x04\\x01\\x05\\x01\\x06\\x01\\x00+\\x00\\x03\\x02\\x03\\x04\\x00-\\x00\\x02\\x01\\x01\\x003\\x00&\\x00$\\x00\\x1d\\x00', b'\\x9d\\xaeS\\x9e\\x8c\\xe6g\\xb6\\xab\\xe4^~\\xbb<\\xf6\\xf4\\xc3\\xc5F\\xbf\\x82\\xcd\\x9d\\xb7P\\xdd\\xec\\x8eT=u']\n",
      "Bad pipe message: %s [b\"\\x90.\\xb8\\xf0\\xacl\\x19\\xbcd92\\xf3@\\xdbj\\xf3\\x98\\x14\\x00\\x00|\\xc0,\\xc00\\x00\\xa3\\x00\\x9f\\xcc\\xa9\\xcc\\xa8\\xcc\\xaa\\xc0\\xaf\\xc0\\xad\\xc0\\xa3\\xc0\\x9f\\xc0]\\xc0a\\xc0W\\xc0S\\xc0+\\xc0/\\x00\\xa2\\x00\\x9e\\xc0\\xae\\xc0\\xac\\xc0\\xa2\\xc0\\x9e\\xc0\\\\\\xc0`\\xc0V\\xc0R\\xc0$\\xc0(\\x00k\\x00j\\xc0#\\xc0'\\x00g\\x00@\\xc0\\n\\xc0\\x14\\x009\\x008\\xc0\\t\\xc0\\x13\\x003\\x002\\x00\\x9d\\xc0\\xa1\\xc0\\x9d\\xc0Q\\x00\\x9c\\xc0\\xa0\\xc0\\x9c\\xc0P\\x00=\\x00<\\x005\\x00/\\x00\\x9a\\x00\\x99\\xc0\\x07\\xc0\\x11\\x00\\x96\\x00\\x05\\x00\\xff\\x01\\x00\\x00j\\x00\\x00\\x00\\x0e\\x00\\x0c\\x00\\x00\\t127.0.0.1\\x00\\x0b\\x00\\x04\\x03\\x00\\x01\\x02\\x00\\n\\x00\\x0c\\x00\\n\\x00\\x1d\\x00\\x17\\x00\\x1e\\x00\\x19\\x00\\x18\\x00\", b'\\x00\\x00\\x16\\x00\\x00\\x00\\x17\\x00\\x00\\x00\\r\\x000\\x00.\\x04\\x03\\x05\\x03\\x06\\x03\\x08\\x07\\x08\\x08\\x08\\t\\x08\\n\\x08\\x0b\\x08\\x04\\x08']\n",
      "Bad pipe message: %s [b'\\x06\\x04\\x01\\x05']\n",
      "Bad pipe message: %s [b'']\n",
      "Bad pipe message: %s [b'', b'\\x03\\x03']\n",
      "Bad pipe message: %s [b'']\n",
      "Bad pipe message: %s [b'', b'\\x02']\n",
      "Bad pipe message: %s [b'\\x05\\x02\\x06']\n",
      "Bad pipe message: %s [b'\\x12->\\xc8UX\\xd5\\xfa\\xf1\\xad\\xb9\\x89%_\\xa1N\\xc2d\\x00\\x00>\\xc0\\x14\\xc0\\n\\x009\\x008\\x007\\x006\\xc0\\x0f\\xc0\\x05\\x005\\xc0\\x13\\xc0\\t\\x003\\x002\\x001\\x000\\xc0\\x0e\\xc0\\x04\\x00/\\x00\\x9a\\x00\\x99\\x00\\x98\\x00\\x97\\x00\\x96\\x00\\x07\\xc0\\x11\\xc0\\x07\\xc0\\x0c\\xc0\\x02\\x00\\x05\\x00\\x04\\x00\\xff\\x02\\x01\\x00\\x00C\\x00\\x00\\x00\\x0e\\x00\\x0c\\x00\\x00\\t127.0.0.1\\x00\\x0b\\x00']\n",
      "Bad pipe message: %s [b'\\xcb\\x95n\\xcb6U\\xd3\\xebu\\xd6[\\xffK4\\xec&\\x91}\\x00\\x00\\xa2\\xc0\\x14\\xc0\\n\\x009\\x008\\x007\\x006\\x00\\x88\\x00\\x87\\x00\\x86\\x00\\x85\\xc0\\x19\\x00:\\x00\\x89\\xc0\\x0f\\xc0\\x05\\x005\\x00\\x84\\xc0\\x13\\xc0\\t\\x003\\x002\\x001\\x000\\x00\\x9a\\x00\\x99\\x00\\x98\\x00\\x97\\x00E\\x00D\\x00C\\x00B\\xc0\\x18\\x004\\x00\\x9b\\x00F\\xc0\\x0e\\xc0\\x04\\x00/\\x00\\x96\\x00A\\x00\\x07\\xc0\\x11\\xc0\\x07\\xc0\\x16\\x00\\x18\\xc0\\x0c\\xc0\\x02\\x00\\x05\\x00\\x04\\xc0\\x12\\xc0\\x08\\x00\\x16\\x00\\x13\\x00\\x10\\x00\\r\\xc0\\x17\\x00\\x1b\\xc0\\r\\xc0\\x03\\x00\\n']\n",
      "Bad pipe message: %s [b'wI\\xde\\x8d}\\xee\\xcfyF\\x8a\\xd0\\xaerj\\xf7<\\xd8\\xe4\\x00\\x00\\xa2\\xc0\\x14\\xc0\\n\\x009\\x008\\x007\\x006\\x00\\x88\\x00\\x87\\x00\\x86\\x00\\x85\\xc0\\x19\\x00:\\x00\\x89\\xc0\\x0f\\xc0\\x05\\x005\\x00\\x84\\xc0\\x13\\xc0\\t\\x003\\x002\\x001\\x000\\x00\\x9a\\x00\\x99\\x00\\x98\\x00\\x97\\x00E\\x00D\\x00C\\x00B\\xc0\\x18\\x004\\x00\\x9b\\x00F\\xc0\\x0e\\xc0\\x04\\x00/\\x00\\x96\\x00A\\x00\\x07\\xc0\\x11\\xc0\\x07\\xc0\\x16\\x00\\x18\\xc0\\x0c\\xc0\\x02\\x00\\x05\\x00\\x04\\xc0\\x12\\xc0\\x08\\x00\\x16\\x00\\x13\\x00\\x10\\x00\\r\\xc0\\x17\\x00\\x1b\\xc0\\r\\xc0\\x03\\x00\\n\\x00']\n",
      "Bad pipe message: %s [b'\\x12\\x00\\x0f\\x00\\x0c\\x00\\x1a\\x00\\t\\x00\\x14\\x00\\x11\\x00\\x19\\x00\\x08\\x00\\x06\\x00']\n",
      "Bad pipe message: %s [b'\\x03\\xc0\\x10\\xc0\\x06\\xc0\\x15\\xc0\\x0b\\xc0\\x01\\x00\\x02\\x00\\x01\\x00\\xff\\x02\\x01\\x00\\x15\\x03']\n",
      "Bad pipe message: %s [b'\\xf2\\r\\xb5\\xe2\\x02}\\x05\\x98\\xc1\\xd8\\x979P\\xe1\\x8d\\xec\\x15\\xa4\\x00\\x00\\x86\\xc00\\xc0,\\xc0(\\xc0$\\xc0', b'\\n\\x00\\xa5\\x00\\xa3\\x00\\xa1\\x00\\x9f\\x00k\\x00j\\x00i\\x00h\\x009']\n",
      "Bad pipe message: %s [b'\\xbb\\x92.x\\xe5\\xa2\\x9e\\xe4,SW\\xf1?\\xae\\xa8\\x9e\\xfa\\xbe\\x00\\x00\\xf4\\xc00\\xc0,\\xc0(\\xc0$\\xc0\\x14\\xc0\\n\\x00\\xa5\\x00\\xa3\\x00\\xa1\\x00\\x9f\\x00k\\x00j\\x00i\\x00h\\x009\\x008\\x007\\x006\\x00\\x88\\x00\\x87\\x00']\n",
      "Bad pipe message: %s [b\"\\x85\\xc0\\x19\\x00\\xa7\\x00m\\x00:\\x00\\x89\\xc02\\xc0.\\xc0*\\xc0&\\xc0\\x0f\\xc0\\x05\\x00\\x9d\\x00=\\x005\\x00\\x84\\xc0/\\xc0+\\xc0'\\xc0#\\xc0\\x13\\xc0\\t\\x00\\xa4\\x00\\xa2\\x00\\xa0\\x00\\x9e\\x00g\\x00@\\x00?\\x00>\\x003\\x002\\x001\\x000\\x00\\x9a\\x00\\x99\\x00\\x98\\x00\\x97\\x00E\\x00D\\x00C\\x00B\\xc0\\x18\\x00\\xa6\\x00l\\x004\\x00\\x9b\\x00F\\xc01\\xc0-\\xc0)\\xc0%\\xc0\\x0e\\xc0\\x04\\x00\\x9c\\x00<\\x00/\\x00\\x96\\x00A\\x00\\x07\\xc0\\x11\\xc0\\x07\\xc0\\x16\\x00\\x18\\xc0\\x0c\\xc0\\x02\\x00\\x05\"]\n"
     ]
    }
   ],
   "source": [
    "# | hide\n",
    "import nbdev\n",
    "\n",
    "nbdev.nbdev_export()"
   ]
  }
 ],
 "metadata": {
  "kernelspec": {
   "display_name": "Python 3",
   "language": "python",
   "name": "python3"
  }
 },
 "nbformat": 4,
 "nbformat_minor": 4
}
