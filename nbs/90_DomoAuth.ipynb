{
 "cells": [
  {
   "attachments": {},
   "cell_type": "markdown",
   "metadata": {},
   "source": [
    "# DomoAuth\n",
    "\n",
    "> Fill in a module description here\n"
   ]
  },
  {
   "cell_type": "code",
   "execution_count": null,
   "metadata": {},
   "outputs": [],
   "source": [
    "# | default_exp DomoAuth"
   ]
  },
  {
   "cell_type": "code",
   "execution_count": null,
   "metadata": {},
   "outputs": [],
   "source": [
    "# | hide\n",
    "from nbdev.showdoc import *\n",
    "from fastcore.test import test_eq"
   ]
  },
  {
   "cell_type": "code",
   "execution_count": null,
   "metadata": {},
   "outputs": [],
   "source": [
    "# | exporti\n",
    "\n",
    "from dataclasses import dataclass, field\n",
    "\n",
    "import aiohttp\n",
    "from typing import Optional, Union\n",
    "import nbdev_domo.ResponseGetData as rgd\n",
    "import nbdev_domo.Logger as lg\n",
    "from nbdev_domo.Transport import TransportAsync"
   ]
  },
  {
   "attachments": {},
   "cell_type": "markdown",
   "metadata": {},
   "source": [
    "# Authentication Routes\n",
    "\n",
    "The nbdev_domo library was designed to support object-oriented / class-based programming; however, all routes are stand-alone functions for users who prefer a functional programming approach\n",
    "\n",
    "## Full Auth Route - username and password authentication\n",
    "\n",
    "If SSO is enabled, users must have direct-sign-on ([SSO KB](https://domo-support.domo.com/s/article/360042934374?language=en_US)) access to use this authentication method.\n"
   ]
  },
  {
   "cell_type": "code",
   "execution_count": null,
   "metadata": {},
   "outputs": [],
   "source": [
    "# | export\n",
    "async def get_full_auth(\n",
    "    domo_instance: str,  # domo_instance.domo.com\n",
    "    domo_username: str,  # email address\n",
    "    domo_password: str,\n",
    "    session: Optional[aiohttp.ClientSession] = None,\n",
    ") -> rgd.ResponseGetData:\n",
    "    \"\"\"uses username and password authentication to retrieve a full_auth access token\"\"\"\n",
    "\n",
    "    url = f\"https://{domo_instance}.domo.com/api/content/v2/authentication\"\n",
    "\n",
    "    body = {\n",
    "        \"method\": \"password\",\n",
    "        \"emailAddress\": domo_username,\n",
    "        \"password\": domo_password,\n",
    "    }\n",
    "\n",
    "    transport = TransportAsync(session=session)\n",
    "\n",
    "    return await transport.post(url=url, body=body, session=session)"
   ]
  },
  {
   "attachments": {},
   "cell_type": "markdown",
   "metadata": {},
   "source": [
    "#### Sample Implementations of get_full_auth\n"
   ]
  },
  {
   "cell_type": "code",
   "execution_count": null,
   "metadata": {},
   "outputs": [
    {
     "data": {
      "text/plain": [
       "ResponseGetData(status=200, response={'userId': 1893952720, 'success': True, 'sessionToken': 'eyJjdXN0b21lcklkIjoibW1tbS0wMDEyLTAyMDAiLCJleHBpcmF0aW9uIjoxNjcyODk4MTc2MTkyLCJobWFjU2lnbmF0dXJlIjoiMDBmMWY3NGExNGM0OTY2MjMyMjAzZGM0YWM2YWJhMDhlMTgxZWM3MWE3NGJhMGZmOTE5ZTFjZGFjMjhlYmVjZSIsInJvbGUiOiJBZG1pbiIsInNpZCI6ImUzOWYyNmVmLWI2OGItNDlkNy04YzM4LWZhMDg3ZDA1ZDc4YiIsInRpbWVzdGFtcCI6MTY3Mjg2OTM3NjE5MiwidG9lcyI6IlVOS05PV05TSUQiLCJ1c2VySWQiOiIxODkzOTUyNzIwIn0%3D', 'twoFactorInfo': {'token': None, 'key': None, 'status': 'VALID', 'phoneMask': None}, 'userRole': 'Admin'}, is_success=True)"
      ]
     },
     "execution_count": null,
     "metadata": {},
     "output_type": "execute_result"
    }
   ],
   "source": [
    "# load creds from env\n",
    "import os\n",
    "import json\n",
    "\n",
    "try:\n",
    "    creds = json.loads(os.environ['DOMO_DOJO'])\n",
    "except:\n",
    "    creds = {}\n",
    "\n",
    "domo_instance = creds.get('domo_instance') or \"domo-dojo\"\n",
    "domo_username = creds.get('domo_username') or \"test12@domo.com\"\n",
    "domo_password = creds.get('domo_password') or \"test1234\"\n",
    "\n",
    "res = await get_full_auth(domo_instance, domo_username, domo_password)\n",
    "\n",
    "# The 200 response confirms we were able to get a response from the credentials API,\n",
    "test_eq(res.status, 200)\n",
    "\n",
    "res"
   ]
  },
  {
   "cell_type": "code",
   "execution_count": null,
   "metadata": {},
   "outputs": [
    {
     "data": {
      "text/plain": [
       "ResponseGetData(status=403, response='Forbidden', is_success=False)"
      ]
     },
     "execution_count": null,
     "metadata": {},
     "output_type": "execute_result"
    }
   ],
   "source": [
    "domo_instance = \"test\"\n",
    "res = await get_full_auth(domo_instance, domo_username, domo_password)\n",
    "\n",
    "# the 403 response confirms that there is no domo instance 'test.domo.com'\n",
    "test_eq(res.status, 403)\n",
    "res"
   ]
  },
  {
   "attachments": {},
   "cell_type": "markdown",
   "metadata": {},
   "source": [
    "## Access Token Auth Route - access_token authentication\n",
    "\n",
    "This access_token based authentication assumes the user has been provided a valid access token from Domo > Admin > Authentication > Access Token so authentication routes are actually not required.\n",
    "\n",
    "Per the Domo JavaCLI implementation, users can test the validity of the access_token agains the 'me' API\n",
    "\n",
    "!! Note about the Me API !!\n",
    "It appears that access_token authentication will always authenticate against the 'correct' domo_instance regardless of the parameter provided. Ths appears to be a bug in the domo_api\n"
   ]
  },
  {
   "cell_type": "code",
   "execution_count": null,
   "metadata": {},
   "outputs": [],
   "source": [
    "# | export\n",
    "async def test_access_token(\n",
    "    domo_access_token: str,  # as provided in Domo > Admin > Authentication > AccessTokens\n",
    "    domo_instance: str,  # <domo_instance>.domo.com\n",
    "    session: Optional[aiohttp.ClientSession] = None,\n",
    "):\n",
    "    \"\"\"\n",
    "    will attempt to validate against the 'me' API.\n",
    "    This is the same authentication test the Domo Java CLI uses.\n",
    "    \"\"\"\n",
    "\n",
    "    url = f\"https://{domo_instance}.domo.com/api/content/v2/users/me\"\n",
    "\n",
    "    transport = TransportAsync(\n",
    "        session=session, auth_header={\"X-DOMO-Developer-Token\": domo_access_token}\n",
    "    )\n",
    "\n",
    "    return await transport.get(url=url)"
   ]
  },
  {
   "attachments": {},
   "cell_type": "markdown",
   "metadata": {},
   "source": [
    "#### Sample implementation of `test_access_token`\n"
   ]
  },
  {
   "cell_type": "code",
   "execution_count": null,
   "metadata": {},
   "outputs": [
    {
     "data": {
      "text/plain": [
       "ResponseGetData(status=200, response={'id': 1893952720, 'invitorUserId': 587894148, 'displayName': 'Jae Wilson', 'userName': 'jae@onyxreporting.com', 'emailAddress': 'jae@onyxreporting.com', 'avatarKey': 'c605f478-0cd2-4451-9fd4-d82090b71e66', 'accepted': True, 'userType': 'USER', 'modified': 1651692505000, 'created': 1588960518, 'role': 'Admin', 'rights': 63, 'active': True, 'pending': False, 'systemUser': False, 'anonymous': False}, is_success=True)"
      ]
     },
     "execution_count": null,
     "metadata": {},
     "output_type": "execute_result"
    }
   ],
   "source": [
    "# load creds from env\n",
    "import os\n",
    "\n",
    "try:\n",
    "    creds = os.environ['DOMO_DOJO_ACCESS_TOKEN']\n",
    "except:\n",
    "    creds = None\n",
    "\n",
    "domo_instance = \"test\"\n",
    "domo_access_token = creds or \"test123\"\n",
    "\n",
    "await test_access_token(\n",
    "    domo_instance=domo_instance, domo_access_token=domo_access_token\n",
    ")"
   ]
  },
  {
   "attachments": {},
   "cell_type": "markdown",
   "metadata": {},
   "source": [
    "## Developer Auth Route - client_id and secret authentication\n"
   ]
  },
  {
   "cell_type": "code",
   "execution_count": null,
   "metadata": {},
   "outputs": [],
   "source": [
    "# | export\n",
    "async def get_developer_auth(\n",
    "    domo_client_id: str,\n",
    "    domo_client_secret: str,\n",
    "    session: Optional[aiohttp.ClientSession] = None,\n",
    ") -> rgd.ResponseGetData:\n",
    "\n",
    "    \"\"\"\n",
    "    only use for authenticating against apis documented under developer.domo.com\n",
    "    \"\"\"\n",
    "\n",
    "    url = \"https://api.domo.com/oauth/token?grant_type=client_credentials\"\n",
    "\n",
    "    is_close_session = False\n",
    "\n",
    "    if not session:\n",
    "        is_close_session = True\n",
    "        session = aiohttp.ClientSession(\n",
    "            auth=aiohttp.BasicAuth(domo_client_id, domo_client_secret)\n",
    "        )\n",
    "\n",
    "    transport = TransportAsync(session=session)\n",
    "    res = await transport.get(url=url)\n",
    "\n",
    "    if is_close_session:\n",
    "        await session.close()\n",
    "\n",
    "    return res"
   ]
  },
  {
   "attachments": {},
   "cell_type": "markdown",
   "metadata": {},
   "source": [
    "#### Sample Implementations of get_developer_auth\n",
    "\n",
    "The 401 response is expected because we are using invalid credentials\n"
   ]
  },
  {
   "cell_type": "code",
   "execution_count": null,
   "metadata": {},
   "outputs": [
    {
     "data": {
      "text/plain": [
       "ResponseGetData(status=401, response='Unauthorized', is_success=False)"
      ]
     },
     "execution_count": null,
     "metadata": {},
     "output_type": "execute_result"
    }
   ],
   "source": [
    "domo_client_id = \"test_id\"\n",
    "domo_client_secret = \"test_secret\"\n",
    "\n",
    "await get_developer_auth(domo_client_id, domo_client_secret)"
   ]
  },
  {
   "attachments": {},
   "cell_type": "markdown",
   "metadata": {},
   "source": [
    "# MAIN - Authentication Classes\n"
   ]
  },
  {
   "cell_type": "code",
   "execution_count": null,
   "metadata": {},
   "outputs": [],
   "source": [
    "# | hide\n",
    "# different auth flows will have different required and optional parameters.\n",
    "# The libraries use inheritance to mix-in parameters and methods as appropriate.\n",
    "# The DomoAuth class is an abstract class with stubbed abstract methods which should be overwritten in the actual implementation."
   ]
  },
  {
   "cell_type": "code",
   "execution_count": null,
   "metadata": {},
   "outputs": [],
   "source": [
    "# | exporti\n",
    "@dataclass\n",
    "class _DomoAuth_Required:\n",
    "    \"\"\"required parameters for all Domo Auth classes\"\"\"\n",
    "\n",
    "    domo_instance: str\n",
    "\n",
    "    def __post_init__(self):\n",
    "        if self.domo_instance:\n",
    "            self.set_manual_login()\n",
    "\n",
    "    def set_manual_login(self):\n",
    "        self.url_manual_login = (\n",
    "            f\"https://{self.domo_instance}.domo.com/auth/index?domoManualLogin=true\"\n",
    "        )\n",
    "\n",
    "\n",
    "@dataclass\n",
    "class _DomoAuth_Optional:\n",
    "    \"\"\"optional parameters for Domo Auth classes that should be defined during initialization or during the Token / Authenitcation process\"\"\"\n",
    "\n",
    "    token: Optional[str] = field(default=None, repr=False)\n",
    "    token_name: Optional[str] = field(default=None)\n",
    "    user_id: Optional[str] = field(default=None, repr=False)\n",
    "    auth_header: dict = field(default_factory=dict, repr=False)\n",
    "\n",
    "    url_manual_login: Optional[str] = None\n",
    "\n",
    "    logger : Optional[lg.Logger] = None\n",
    "\n",
    "    async def get_auth_token(self) -> Union[str, None]:\n",
    "        \"\"\"placeholder method\"\"\"\n",
    "        pass\n",
    "\n",
    "    async def generate_auth_header(self) -> Union[dict, None]:\n",
    "        \"\"\"returns auth header appropriate for this authentication method\"\"\"\n",
    "        pass"
   ]
  },
  {
   "cell_type": "code",
   "execution_count": null,
   "metadata": {},
   "outputs": [],
   "source": [
    "# | export\n",
    "@dataclass\n",
    "class DomoAuth(_DomoAuth_Optional, _DomoAuth_Required):\n",
    "    \"\"\"abstract DomoAuth class with all parameters and methods common across all Auth methods\"\"\"\n",
    "\n",
    "    pass\n"
   ]
  },
  {
   "cell_type": "code",
   "execution_count": null,
   "metadata": {},
   "outputs": [
    {
     "data": {
      "text/plain": [
       "['auth_header',\n",
       " 'domo_instance',\n",
       " 'generate_auth_header',\n",
       " 'get_auth_token',\n",
       " 'logger',\n",
       " 'set_manual_login',\n",
       " 'token',\n",
       " 'token_name',\n",
       " 'url_manual_login',\n",
       " 'user_id']"
      ]
     },
     "execution_count": null,
     "metadata": {},
     "output_type": "execute_result"
    }
   ],
   "source": [
    "# Attributes of `DomoAuth`\n",
    "domo_instance = \"test\"\n",
    "[attr for attr in dir(DomoAuth(domo_instance)) if not attr.startswith(\"__\")]"
   ]
  },
  {
   "cell_type": "code",
   "execution_count": null,
   "metadata": {},
   "outputs": [
    {
     "data": {
      "text/plain": [
       "'https://test.domo.com/auth/index?domoManualLogin=true'"
      ]
     },
     "execution_count": null,
     "metadata": {},
     "output_type": "execute_result"
    }
   ],
   "source": [
    "# | hide\n",
    "# validate can print manual login link\n",
    "domo_instance = \"test\"\n",
    "\n",
    "da = DomoAuth(domo_instance)\n",
    "da.url_manual_login"
   ]
  },
  {
   "attachments": {},
   "cell_type": "markdown",
   "metadata": {},
   "source": [
    "## DomoAuth Error Classes\n",
    "\n",
    "Used to raise exceptions during authentication process.\n"
   ]
  },
  {
   "cell_type": "code",
   "execution_count": null,
   "metadata": {},
   "outputs": [],
   "source": [
    "# | exporti\n",
    "class DomoErrror(Exception):\n",
    "    \"\"\"base exception\"\"\"\n",
    "\n",
    "    def __init__(\n",
    "        self,\n",
    "        status: Optional[int] = None,  # API request status\n",
    "        message: str = \"error\",  # <domo_instance>.domo.com\n",
    "        domo_instance: Optional[str] = None,\n",
    "    ):\n",
    "\n",
    "        instance_str = f\" at {domo_instance}\" if domo_instance else \"\"\n",
    "        status_str = f\"Status {status} - \" if status else \"\"\n",
    "        self.message = f\"{status_str}{message}{instance_str}\"\n",
    "        super().__init__(self.message)"
   ]
  },
  {
   "cell_type": "code",
   "execution_count": null,
   "metadata": {},
   "outputs": [],
   "source": [
    "# | export\n",
    "class InvalidCredentialsError(DomoErrror):\n",
    "    \"\"\"return invalid credentials sent to API\"\"\"\n",
    "\n",
    "    def __init__(\n",
    "        self,\n",
    "        status: Optional[int] = None,  # API request status\n",
    "        message=\"invalid credentials\",\n",
    "        domo_instance: Optional[str] = None,\n",
    "    ):\n",
    "\n",
    "        super().__init__(status=status, message=message, domo_instance=domo_instance)\n",
    "\n",
    "\n",
    "class InvalidInstanceError(DomoErrror):\n",
    "    \"\"\"return if invalid domo_instance sent to API\"\"\"\n",
    "\n",
    "    def __init__(\n",
    "        self,\n",
    "        status: Optional[int] = None,\n",
    "        message=\"invalid instance\",\n",
    "        domo_instance: Optional[str] = None,\n",
    "    ):\n",
    "        super().__init__(status=status, message=message, domo_instance=domo_instance)"
   ]
  },
  {
   "cell_type": "code",
   "execution_count": null,
   "metadata": {},
   "outputs": [],
   "source": [
    "# | hide\n",
    "# validates that Errors can compile\n",
    "test_eq(isinstance(InvalidCredentialsError(), InvalidCredentialsError), True)\n",
    "test_eq(isinstance(InvalidCredentialsError(), InvalidCredentialsError), True)\n",
    "test_eq(isinstance(InvalidInstanceError(), InvalidInstanceError), True)"
   ]
  },
  {
   "attachments": {},
   "cell_type": "markdown",
   "metadata": {},
   "source": [
    "## DomoFullAuth\n"
   ]
  },
  {
   "cell_type": "code",
   "execution_count": null,
   "metadata": {},
   "outputs": [],
   "source": [
    "# | exporti\n",
    "@dataclass\n",
    "class _DomoFullAuth_Required(_DomoAuth_Required):\n",
    "    \"\"\"mix requied parameters for DomoFullAuth\"\"\"\n",
    "\n",
    "    domo_username: str\n",
    "    domo_password: str = field(repr=False)\n"
   ]
  },
  {
   "cell_type": "code",
   "execution_count": null,
   "metadata": {},
   "outputs": [],
   "source": [
    "# | export\n",
    "@dataclass\n",
    "class DomoFullAuth(_DomoAuth_Optional, _DomoFullAuth_Required):\n",
    "    \"\"\"use for full authentication token\"\"\"\n",
    "\n",
    "    def __post_init__(self):\n",
    "        if not self.logger:\n",
    "            self.logger = lg.Logger(app_name = 'default_domo_full_auth', domo_instance = self.domo_instance)\n",
    "            \n",
    "\n",
    "    async def generate_auth_header(self, token: str = None) -> dict:\n",
    "        if not self.token:\n",
    "            await self.get_auth_token()\n",
    "\n",
    "        self.auth_header = {\"x-domo-authentication\": token or self.token}\n",
    "        return self.auth_header\n",
    "\n",
    "    async def get_auth_token(\n",
    "        self,\n",
    "        session: Optional[aiohttp.ClientSession] = None,\n",
    "    ) -> str:\n",
    "        \"\"\"returns `token` if valid credentials provided else raises Exception and returns None\"\"\"\n",
    "\n",
    "        res = await get_full_auth(\n",
    "            domo_instance=self.domo_instance,\n",
    "            domo_username=self.domo_username,\n",
    "            domo_password=self.domo_password,\n",
    "            session=session,\n",
    "        )\n",
    "\n",
    "        if res.is_success and res.response.get(\"reason\") == \"INVALID_CREDENTIALS\":\n",
    "            message = f\"invalid credentials\"\n",
    "            \n",
    "            self.logger.log_error(message)\n",
    "\n",
    "            raise InvalidCredentialsError(\n",
    "                status=res.status,\n",
    "                message=message,\n",
    "                domo_instance=self.domo_instance,\n",
    "            )\n",
    "\n",
    "        if res.status == 403:\n",
    "            message = f\"invalid instance\"\n",
    "\n",
    "            self.logger.log_error(message)\n",
    "\n",
    "            raise InvalidInstanceError(\n",
    "                status=res.status,\n",
    "                message=\"INVALID INSTANCE\",\n",
    "                domo_instance=self.domo_instance,\n",
    "            )\n",
    "\n",
    "        token = str(res.response.get(\"sessionToken\"))\n",
    "        self.token = token\n",
    "        self.user_id = str(res.response.get(\"userId\"))\n",
    "\n",
    "        if not self.token_name:\n",
    "            self.token_name = \"full_auth\"\n",
    "\n",
    "        return self.token"
   ]
  },
  {
   "attachments": {},
   "cell_type": "markdown",
   "metadata": {},
   "source": [
    "#### sample implementations of DomoFullAuth\n"
   ]
  },
  {
   "cell_type": "code",
   "execution_count": null,
   "metadata": {},
   "outputs": [
    {
     "name": "stdout",
     "output_type": "stream",
     "text": [
      "Status 200 - invalid credentials at domo-dojo\n"
     ]
    },
    {
     "data": {
      "text/plain": [
       "[{'date_time': datetime.datetime(2023, 1, 4, 21, 56, 20, 198850),\n",
       "  'application': 'test_auth',\n",
       "  'log_type': 'Error',\n",
       "  'log_message': 'invalid credentials',\n",
       "  'breadcrumb': '',\n",
       "  'domo_instance': 'domo-dojo',\n",
       "  'entity_id': None,\n",
       "  'function_name': 'get_auth_token',\n",

       "  'file_name': '/tmp/ipykernel_6583/4043354304.py',\n",
       "  'function_trail': '<module> -> get_auth_token'}]"
      ]
     },
     "execution_count": null,
     "metadata": {},
     "output_type": "execute_result"
    }
   ],
   "source": [
    "import nbdev_domo.Logger as lg\n",
    "\n",
    "domo_instance = \"domo-dojo\"\n",
    "domo_username = \"test12@domo.com\"\n",
    "domo_password = \"test1234\"\n",
    "\n",
    "logger = lg.Logger(app_name = 'test_auth', domo_instance= domo_instance)\n",
    "\n",
    "try:\n",
    "    full_auth = DomoFullAuth(domo_instance, domo_username, domo_password, logger = logger)\n",
    "    res = await full_auth.get_auth_token()\n",
    "\n",
    "except InvalidCredentialsError as e:\n",
    "    print(e)\n",
    "\n",
    "logger.logs"
   ]
  },
  {
   "cell_type": "code",
   "execution_count": null,
   "metadata": {},
   "outputs": [
    {
     "name": "stdout",
     "output_type": "stream",
     "text": [
      "Status 403 - INVALID INSTANCE at test\n"
     ]
    },
    {
     "data": {
      "text/plain": [
       "[{'date_time': datetime.datetime(2023, 1, 4, 21, 56, 20, 527823),\n",
       "  'application': 'default_domo_full_auth',\n",
       "  'log_type': 'Error',\n",
       "  'log_message': 'invalid instance',\n",
       "  'breadcrumb': '',\n",
       "  'domo_instance': 'test',\n",
       "  'entity_id': None,\n",
       "  'function_name': 'get_auth_token',\n",
       "  'file_name': '/tmp/ipykernel_6583/4043354304.py',\n",
       "  'function_trail': '<module> -> get_auth_token'}]"
      ]
     },
     "execution_count": null,
     "metadata": {},
     "output_type": "execute_result"
    }
   ],
   "source": [
    "domo_instance = \"test\"\n",
    "\n",
    "try:\n",
    "    full_auth = DomoFullAuth(domo_instance, domo_username, domo_password)\n",
    "    await full_auth.get_auth_token()\n",
    "    \n",
    "except InvalidInstanceError as e:\n",
    "    print(e)\n",
    "\n",
    "full_auth.logger.logs"
   ]
  },
  {
   "cell_type": "code",
   "execution_count": null,
   "metadata": {},
   "outputs": [],
   "source": [
    "# | hide\n",
    "test_eq(isinstance(DomoAuth(domo_instance=domo_instance), DomoAuth), True)\n",
    "\n",
    "test_eq(\n",
    "    isinstance(\n",
    "        DomoFullAuth(\n",
    "            domo_instance=domo_instance,\n",
    "            domo_password=domo_password,\n",
    "            domo_username=domo_username,\n",
    "        ),\n",
    "        DomoFullAuth,\n",
    "    ),\n",
    "    True,\n",
    ")"
   ]
  },
  {
   "attachments": {},
   "cell_type": "markdown",
   "metadata": {},
   "source": [
    "## DomoTokenAuth\n"
   ]
  },
  {
   "cell_type": "code",
   "execution_count": null,
   "metadata": {},
   "outputs": [],
   "source": [
    "# | exporti\n",
    "@dataclass\n",
    "class _DomoTokenAuth_Required(_DomoAuth_Required):\n",
    "    \"\"\"mix requied parameters for DomoFullAuth\"\"\"\n",
    "\n",
    "    domo_access_token: str = field(repr=False)"
   ]
  },
  {
   "cell_type": "code",
   "execution_count": null,
   "metadata": {},
   "outputs": [],
   "source": [
    "# | export\n",
    "@dataclass\n",
    "class DomoTokenAuth(_DomoAuth_Optional, _DomoTokenAuth_Required):\n",
    "    \"\"\"\n",
    "    use for access_token authentication.\n",
    "    Tokens are generated in domo > admin > access token\n",
    "    Necessary in cases where direct sign on is not permitted\n",
    "    \"\"\"\n",
    "\n",
    "    def __post_init__(self):\n",
    "        if not self.logger:\n",
    "            self.logger = lg.Logger(app_name='default_domo_token_auth', domo_instance = self.domo_instance)\n",
    "\n",
    "    def generate_auth_header(self, token: str) -> dict:\n",
    "        self.auth_header = {\"x-domo-developer-token\": token}\n",
    "        return self.auth_header\n",
    "\n",
    "    async def get_auth_token(\n",
    "        self, session: Optional[aiohttp.ClientSession] = None\n",
    "    ) -> str:\n",
    "        \"\"\"\n",
    "        updates internal attributes\n",
    "        having an access_token assumes pre-authenticaiton\n",
    "        \"\"\"\n",
    "\n",
    "        res = await test_access_token(\n",
    "            domo_instance=self.domo_instance,\n",
    "            domo_access_token=self.domo_access_token,\n",
    "            session=session,\n",
    "        )\n",
    "\n",
    "        if res.status == 401 and res.response == \"Unauthorized\":\n",
    "            message = res.response\n",
    "            self.logger.log_error(message)\n",
    "\n",
    "            raise InvalidCredentialsError(\n",
    "                status=res.status,\n",
    "                message=message,\n",
    "                domo_instance=self.domo_instance,\n",
    "            )\n",
    "\n",
    "        self.token = self.domo_access_token\n",
    "        self.user_id = res.response.get(\"id\")\n",
    "\n",
    "        self.auth_header = self.generate_auth_header(token=self.token)\n",
    "\n",
    "        if not self.token_name:\n",
    "            self.token_name = \"token_auth\"\n",
    "\n",
    "        return self.token"
   ]
  },
  {
   "attachments": {},
   "cell_type": "markdown",
   "metadata": {},
   "source": [
    "#### Sample implementation of DomoTokenAuth\n"
   ]
  },
  {
   "cell_type": "code",
   "execution_count": null,
   "metadata": {},
   "outputs": [
    {
     "name": "stdout",
     "output_type": "stream",
     "text": [
      "Status 401 - Unauthorized at test\n"
     ]
    },
    {
     "data": {
      "text/plain": [
       "[{'date_time': datetime.datetime(2023, 1, 4, 21, 56, 21, 303754),\n",
       "  'application': 'default_domo_token_auth',\n",
       "  'log_type': 'Error',\n",
       "  'log_message': 'Unauthorized',\n",
       "  'breadcrumb': '',\n",
       "  'domo_instance': 'test',\n",
       "  'entity_id': None,\n",
       "  'function_name': 'get_auth_token',\n",
       "  'file_name': '/tmp/ipykernel_6583/804034571.py',\n",
       "  'function_trail': '<module> -> get_auth_token'}]"
      ]
     },
     "execution_count": null,
     "metadata": {},
     "output_type": "execute_result"
    }
   ],
   "source": [
    "domo_instance = \"test\"\n",
    "domo_access_token = \"test_access_token\"\n",
    "\n",
    "try:\n",
    "    domo_auth = DomoTokenAuth(domo_instance, domo_access_token)\n",
    "    token = await domo_auth.get_auth_token()\n",
    "    print(domo_auth.token)\n",
    "\n",
    "except InvalidCredentialsError as e:\n",
    "    print(e)\n",
    "\n",
    "domo_auth.logger.logs"
   ]
  },
  {
   "attachments": {},
   "cell_type": "markdown",
   "metadata": {},
   "source": [
    "## DomoDeveloperAuth\n"
   ]
  },
  {
   "cell_type": "code",
   "execution_count": null,
   "metadata": {},
   "outputs": [],
   "source": [
    "# | exporti\n",
    "@dataclass\n",
    "class _DomoDeveloperAuth_Required(_DomoAuth_Required):\n",
    "    \"\"\"mix requied parameters for DomoFullAuth\"\"\"\n",
    "\n",
    "    domo_client_id: str\n",
    "    domo_client_secret: str = field(repr=False)"
   ]
  },
  {
   "cell_type": "code",
   "execution_count": null,
   "metadata": {},
   "outputs": [],
   "source": [
    "# | export\n",
    "@dataclass(init=False)\n",
    "class DomoDeveloperAuth(_DomoAuth_Optional, _DomoDeveloperAuth_Required):\n",
    "    \"\"\"use for full authentication token\"\"\"\n",
    "\n",
    "    def __init__(self, domo_client_id: str, domo_client_secret: str, logger : Optional[lg.Logger] = None):\n",
    "        self.domo_client_id = domo_client_id\n",
    "        self.domo_client_secret = domo_client_secret\n",
    "        self.domo_instance = \"\"\n",
    "\n",
    "        self.logger = logger or lg.Logger(app_name='default_domo_developer_auth', domo_instance = self.domo_instance)\n",
    "\n",
    "    async def generate_auth_header(self, token: str) -> dict:\n",
    "        if not self.token:\n",
    "            await self.get_auth_token()\n",
    "\n",
    "        self.auth_header = {\"Authorization\": \"bearer \" + token}\n",
    "        return self.auth_header\n",
    "\n",
    "    async def get_auth_token(\n",
    "        self,\n",
    "        session: Optional[aiohttp.ClientSession] = None,\n",
    "    ) -> str:\n",
    "\n",
    "        res = await get_developer_auth(\n",
    "            domo_client_id=self.domo_client_id,\n",
    "            domo_client_secret=self.domo_client_secret,\n",
    "            session=session,\n",
    "        )\n",
    "\n",
    "        if res.status == 401:\n",
    "            message = str(res.response)\n",
    "\n",
    "            self.logger.log_error(message)\n",
    "            raise InvalidCredentialsError(\n",
    "                status=res.status,\n",
    "                message= message,\n",
    "                domo_instance=self.domo_instance,\n",
    "            )\n",
    "\n",
    "        token = str(res.response.get(\"access_token\"))\n",
    "        self.token = token\n",
    "        self.user_id = res.response.get(\"userId\")\n",
    "        self.domo_instance = res.response.get(\"domain\")\n",
    "        self.set_manual_login()\n",
    "\n",
    "        self.auth_header = self.generate_auth_header(token=token)\n",
    "\n",
    "        if not self.token_name:\n",
    "            self.token_name = \"developer_auth\"\n",
    "\n",
    "        return token"
   ]
  },
  {
   "attachments": {},
   "cell_type": "markdown",
   "metadata": {},
   "source": [
    "#### Sample implementations of DomoDeveloperAuth\n"
   ]
  },
  {
   "cell_type": "code",
   "execution_count": null,
   "metadata": {},
   "outputs": [
    {
     "name": "stdout",
     "output_type": "stream",
     "text": [
      "Status 401 - Unauthorized\n"
     ]
    },
    {
     "data": {
      "text/plain": [
       "[{'date_time': datetime.datetime(2023, 1, 4, 21, 56, 21, 956105),\n",
       "  'application': 'default_domo_developer_auth',\n",
       "  'log_type': 'Error',\n",
       "  'log_message': 'Unauthorized',\n",
       "  'breadcrumb': '',\n",
       "  'domo_instance': '',\n",
       "  'entity_id': None,\n",
       "  'function_name': 'get_auth_token',\n",
       "  'file_name': '/tmp/ipykernel_6583/2043329489.py',\n",
       "  'function_trail': '<module> -> get_auth_token'}]"
      ]
     },
     "execution_count": null,
     "metadata": {},
     "output_type": "execute_result"
    }
   ],
   "source": [
    "domo_client_id = \"test_client\"\n",
    "domo_client_secret = \"test_secret\"\n",
    "\n",
    "try:\n",
    "    domo_auth = DomoDeveloperAuth(domo_client_id = domo_client_id, domo_client_secret = domo_client_secret)\n",
    "    await domo_auth.get_auth_token()\n",
    "except InvalidCredentialsError as e:\n",
    "    print(e)\n",
    "\n",
    "domo_auth.logger.logs"
   ]
  },
  {
   "cell_type": "code",
   "execution_count": null,
   "metadata": {},
   "outputs": [],
   "source": [
    "# | hide\n",
    "import nbdev\n",
    "\n",
    "nbdev.nbdev_export()"
   ]
  }
 ],
 "metadata": {
  "kernelspec": {
   "display_name": "Python 3",
   "language": "python",
   "name": "python3"
  }
 },
 "nbformat": 4,
 "nbformat_minor": 4
}
