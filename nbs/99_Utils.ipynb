{
 "cells": [
  {
   "attachments": {},
   "cell_type": "markdown",
   "metadata": {},
   "source": [
    "# Utility Functions"
   ]
  },
  {
   "cell_type": "code",
   "execution_count": null,
   "metadata": {},
   "outputs": [],
   "source": [
    "# | default_exp utils\n"
   ]
  },
  {
   "cell_type": "code",
   "execution_count": null,
   "metadata": {},
   "outputs": [],
   "source": [
    "# | hide\n",
    "from nbdev.showdoc import show_doc\n",
    "from fastcore.test import test_is\n"
   ]
  },
  {
   "cell_type": "code",
   "execution_count": null,
   "metadata": {},
   "outputs": [],
   "source": [
    "# | export\n",
    "from types import SimpleNamespace\n"
   ]
  },
  {
   "cell_type": "code",
   "execution_count": null,
   "metadata": {},
   "outputs": [],
   "source": [
    "# | export\n",
    "class DictDot(SimpleNamespace):\n",
    "    \"\"\"\n",
    "    convenience class that converts dictionaries to objects with attributes that can be accessed with dot notation.\n",
    "    \"\"\"\n",
    "\n",
    "    def __init__(self,\n",
    "                 dictionary,\n",
    "                 **kwargs):\n",
    "        super().__init__(**kwargs)\n",
    "\n",
    "        for key, value in dictionary.items():\n",
    "            if isinstance(value, dict):\n",
    "                self.__setattr__(key, DictDot(value))\n",
    "            elif isinstance(value, list):\n",
    "                new_list = []\n",
    "                for item in value:\n",
    "                    if isinstance(item, dict):\n",
    "                        new_list.append(DictDot(item))\n",
    "                    else:\n",
    "                        new_list.append(item)\n",
    "                self.__setattr__(key, new_list)\n",
    "            else:\n",
    "                self.__setattr__(key, value)\n",
    "\n",
    "    def __getattr__(self, item):\n",
    "        return None\n"
   ]
  },
  {
   "attachments": {},
   "cell_type": "markdown",
   "metadata": {},
   "source": [
    "#### sample implementation of DictDot\n",
    "\n",
    "In this library, we'll requently use the DictDot to convert `ResponseGetData` response dictionaries into a class with attributes that can be accessed with dot notation to simulate dot notation in JavaScript scripting"
   ]
  },
  {
   "cell_type": "code",
   "execution_count": null,
   "metadata": {},
   "outputs": [
    {
     "data": {
      "text/plain": [
       "'Juliette Rosenberg'"
      ]
     },
     "execution_count": null,
     "metadata": {},
     "output_type": "execute_result"
    }
   ],
   "source": [
    "sample_dict = {\"id\" : '123', 'name': 'Juliette Rosenberg', 'type': 'mage'}\n",
    "\n",
    "dd = DictDot(sample_dict)\n",
    "\n",
    "dd.name"
   ]
  },
  {
   "cell_type": "code",
   "execution_count": null,
   "metadata": {},
   "outputs": [],
   "source": [
    "#| hide\n",
    "test_is(type(dd) , DictDot)"
   ]
  },
  {
   "cell_type": "code",
   "execution_count": null,
   "metadata": {},
   "outputs": [],
   "source": [
    "# | hide\n",
    "import nbdev\n",
    "nbdev.nbdev_export()\n"
   ]
  }
 ],
 "metadata": {
  "kernelspec": {
   "display_name": "Python 3",
   "language": "python",
   "name": "python3"
  }
 },
 "nbformat": 4,
 "nbformat_minor": 4
}
