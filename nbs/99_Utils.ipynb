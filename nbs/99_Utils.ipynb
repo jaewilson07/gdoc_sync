{
 "cells": [
  {
   "attachments": {},
   "cell_type": "markdown",
   "metadata": {},
   "source": [
    "# Utility Functions"
   ]
  },
  {
   "cell_type": "code",
   "execution_count": 20,
   "metadata": {
    "vscode": {
     "languageId": "python"
    }
   },
   "outputs": [],
   "source": [
    "#| default_exp utils\n"
   ]
  },
  {
   "cell_type": "code",
   "execution_count": 21,
   "metadata": {
    "vscode": {
     "languageId": "python"
    }
   },
   "outputs": [],
   "source": [
    "#| hide\n",
    "from nbdev.showdoc import show_doc\n",
    "from fastcore.test import test_is\n"
   ]
  },
  {
   "cell_type": "code",
   "execution_count": 22,
   "metadata": {
    "vscode": {
     "languageId": "python"
    }
   },
   "outputs": [],
   "source": [
    "#| exporti\n",
    "import datetime as dt"
   ]
  },
  {
   "cell_type": "code",
   "execution_count": 23,
   "metadata": {
    "vscode": {
     "languageId": "python"
    }
   },
   "outputs": [],
   "source": [
    "# | export\n",
    "from types import SimpleNamespace\n"
   ]
  },
  {
   "cell_type": "code",
   "execution_count": 24,
   "metadata": {
    "vscode": {
     "languageId": "python"
    }
   },
   "outputs": [],
   "source": [
    "# | export\n",
    "class DictDot(SimpleNamespace):\n",
    "    \"\"\"\n",
    "    convenience class that converts dictionaries to objects with attributes that can be accessed with dot notation.\n",
    "    \"\"\"\n",
    "\n",
    "    def __init__(self,\n",
    "                 dictionary,\n",
    "                 **kwargs):\n",
    "        super().__init__(**kwargs)\n",
    "\n",
    "        for key, value in dictionary.items():\n",
    "            if isinstance(value, dict):\n",
    "                self.__setattr__(key, DictDot(value))\n",
    "            elif isinstance(value, list):\n",
    "                new_list = []\n",
    "                for item in value:\n",
    "                    if isinstance(item, dict):\n",
    "                        new_list.append(DictDot(item))\n",
    "                    else:\n",
    "                        new_list.append(item)\n",
    "                self.__setattr__(key, new_list)\n",
    "            else:\n",
    "                self.__setattr__(key, value)\n",
    "\n",
    "    def __getattr__(self, item):\n",
    "        return None\n"
   ]
  },
  {
   "attachments": {},
   "cell_type": "markdown",
   "metadata": {},
   "source": [
    "#### sample implementation of DictDot\n",
    "\n",
    "In this library, we'll requently use the DictDot to convert `ResponseGetData` response dictionaries into a class with attributes that can be accessed with dot notation to simulate dot notation in JavaScript scripting"
   ]
  },
  {
   "cell_type": "code",
   "execution_count": 25,
   "metadata": {
    "vscode": {
     "languageId": "python"
    }
   },
   "outputs": [
    {
     "data": {
      "text/plain": [
       "'Juliette Rosenberg'"
      ]
     },
     "execution_count": 25,
     "metadata": {},
     "output_type": "execute_result"
    }
   ],
   "source": [
    "sample_dict = {\"id\" : '123', 'name': 'Juliette Rosenberg', 'type': 'mage'}\n",
    "\n",
    "dd = DictDot(sample_dict)\n",
    "\n",
    "dd.name"
   ]
  },
  {
   "cell_type": "code",
   "execution_count": 26,
   "metadata": {
    "vscode": {
     "languageId": "python"
    }
   },
   "outputs": [],
   "source": [
    "#| hide\n",
    "test_is(type(dd) , DictDot)"
   ]
  },
  {
   "attachments": {},
   "cell_type": "markdown",
   "metadata": {},
   "source": [
    "# DateTime Conversion functions"
   ]
  },
  {
   "cell_type": "code",
   "execution_count": 27,
   "metadata": {
    "vscode": {
     "languageId": "python"
    }
   },
   "outputs": [],
   "source": [
    "# | export\n",
    "def convert_epoch_millisecond_to_datetime(epoch: int):\n",
    "    '''convert Epoch time with miliseconds to Date time'''\n",
    "    return dt.datetime.fromtimestamp(epoch / 1000.0)\n",
    "\n",
    "\n",
    "def convert_datetime_to_epoch_millisecond(datetime: dt.datetime):\n",
    "    '''convert DateTime to Epoch time with Miliseconds'''\n",
    "    return int(datetime.timestamp() * 1000)"
   ]
  },
  {
   "attachments": {},
   "cell_type": "markdown",
   "metadata": {},
   "source": [
    "# Text Conversion functions"
   ]
  },
  {
   "cell_type": "code",
   "execution_count": 28,
   "metadata": {
    "vscode": {
     "languageId": "python"
    }
   },
   "outputs": [],
   "source": [
    "#| export\n",
    "def convert_snake_to_pascal(str):\n",
    "    clean_str = str.replace(\"_\", \" \").title().replace(\" \", \"\")\n",
    "    return clean_str[0].lower()+clean_str[1:]\n"
   ]
  },
  {
   "cell_type": "code",
   "execution_count": 29,
   "metadata": {
    "vscode": {
     "languageId": "python"
    }
   },
   "outputs": [],
   "source": [
    "# | hide\n",
    "import nbdev\n",
    "nbdev.nbdev_export()\n"
   ]
  }
 ],
 "metadata": {
  "kernelspec": {
   "display_name": "Python 3",
   "language": "python",
   "name": "python3"
  }
 },
 "nbformat": 4,
 "nbformat_minor": 4
}
