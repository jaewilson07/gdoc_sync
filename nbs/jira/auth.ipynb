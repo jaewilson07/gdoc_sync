{
 "cells": [
  {
   "cell_type": "raw",
   "metadata": {},
   "source": [
    "---\n",
    "description: jira auth\n",
    "output-file: jira_auth.html\n",
    "title: Jira Auth\n",
    "---\n"
   ]
  },
  {
   "cell_type": "code",
   "execution_count": 1,
   "metadata": {},
   "outputs": [],
   "source": [
    "# | default_exp jira.auth"
   ]
  },
  {
   "cell_type": "code",
   "execution_count": 2,
   "metadata": {},
   "outputs": [],
   "source": [
    "# | exporti\n",
    "import urllib.parse as parse\n",
    "from dataclasses import dataclass, field\n",
    "import base64\n",
    "import httpx\n",
    "\n",
    "import gdoc_sync.client as gd"
   ]
  },
  {
   "cell_type": "code",
   "execution_count": 3,
   "metadata": {},
   "outputs": [
    {
     "data": {
      "text/plain": [
       "True"
      ]
     },
     "execution_count": 3,
     "metadata": {},
     "output_type": "execute_result"
    }
   ],
   "source": [
    "# | hide\n",
    "from nbdev.showdoc import *\n",
    "import os\n",
    "from dotenv import load_dotenv\n",
    "\n",
    "load_dotenv(\"../.env\")"
   ]
  },
  {
   "cell_type": "code",
   "execution_count": 4,
   "metadata": {},
   "outputs": [],
   "source": [
    "# | exporti\n",
    "@dataclass\n",
    "class _JiraAuth_Required:\n",
    "    instance: str  # 'your-domain.atlassian.net'\n",
    "\n",
    "\n",
    "@dataclass\n",
    "class _JiraAuth_Optional:\n",
    "    base_url: str = None"
   ]
  },
  {
   "cell_type": "code",
   "execution_count": 5,
   "metadata": {},
   "outputs": [],
   "source": [
    "# | export\n",
    "\n",
    "\n",
    "@dataclass\n",
    "class JiraAuth(_JiraAuth_Optional, _JiraAuth_Required, gd.Auth):\n",
    "    pass"
   ]
  },
  {
   "cell_type": "code",
   "execution_count": 6,
   "metadata": {},
   "outputs": [],
   "source": [
    "# | exporti\n",
    "@dataclass\n",
    "class _JiraAuthPat_Required:\n",
    "    email: str\n",
    "    pat: str = field(repr=False)"
   ]
  },
  {
   "cell_type": "code",
   "execution_count": 7,
   "metadata": {},
   "outputs": [],
   "source": [
    "# | export\n",
    "@dataclass\n",
    "class JiraAuthPat(_JiraAuth_Optional, _JiraAuthPat_Required, _JiraAuth_Required):\n",
    "    def __post_init__(self):\n",
    "        if not self.instance.startswith(\"https://\"):\n",
    "            instance = f\"https://{self.instance}\"\n",
    "\n",
    "        self.instance = parse.urlparse(instance).netloc\n",
    "        self.base_url = instance\n",
    "\n",
    "    def generate_auth_header(self):\n",
    "        auth_str = base64.b64encode(f\"{self.email}:{self.pat}\".encode(\"ascii\")).decode(\n",
    "            \"ascii\"\n",
    "        )\n",
    "        return {\"Authorization\": f\"Basic {auth_str}\"}\n",
    "\n",
    "    async def who_am_i(self, client: httpx.AsyncClient = None, debug_api: bool = False):\n",
    "        url = f\"{self.base_url}/rest/api/2/myself\"\n",
    "\n",
    "        response = await gd.get_data(\n",
    "            method=\"GET\",\n",
    "            url=url,\n",
    "            auth=self,\n",
    "            debug_api=debug_api,\n",
    "            client=client,\n",
    "        )\n",
    "        return response"
   ]
  },
  {
   "cell_type": "code",
   "execution_count": 8,
   "metadata": {},
   "outputs": [
    {
     "data": {
      "text/plain": [
       "JiraAuthPat(instance='onyxreporting.atlassian.net', email='jae@onyxreporting.com', base_url='https://onyxreporting.atlassian.net')"
      ]
     },
     "execution_count": 8,
     "metadata": {},
     "output_type": "execute_result"
    }
   ],
   "source": [
    "import os\n",
    "\n",
    "jira_pat = os.environ[\"JIRA_PAT\"]\n",
    "jira_instance = os.environ[\"JIRA_INSTANCE\"]\n",
    "\n",
    "jira_auth = JiraAuthPat(\n",
    "    pat=jira_pat, email=\"jae@onyxreporting.com\", instance=jira_instance\n",
    ")\n",
    "\n",
    "res = await jira_auth.who_am_i(debug_api=False)\n",
    "\n",
    "res.response\n",
    "\n",
    "jira_auth"
   ]
  },
  {
   "cell_type": "code",
   "execution_count": 9,
   "metadata": {},
   "outputs": [],
   "source": [
    "# | hide\n",
    "import nbdev\n",
    "\n",
    "nbdev.nbdev_export()"
   ]
  }
 ],
 "metadata": {
  "kernelspec": {
   "display_name": "python3",
   "language": "python",
   "name": "python3"
  },
  "language_info": {
   "codemirror_mode": {
    "name": "ipython",
    "version": 3
   },
   "file_extension": ".py",
   "mimetype": "text/x-python",
   "name": "python",
   "nbconvert_exporter": "python",
   "pygments_lexer": "ipython3",
   "version": "3.10.12"
  }
 },
 "nbformat": 4,
 "nbformat_minor": 2
}
