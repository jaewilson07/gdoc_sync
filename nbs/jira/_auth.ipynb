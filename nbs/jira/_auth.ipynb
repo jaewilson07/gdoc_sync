{
 "cells": [
  {
   "cell_type": "raw",
   "metadata": {},
   "source": [
    "---\n",
    "description: jira auth\n",
    "output-file: jira_auth.html\n",
    "title: Jira Auth\n",
    "---\n"
   ]
  },
  {
   "cell_type": "code",
   "execution_count": 1,
   "metadata": {},
   "outputs": [],
   "source": [
    "# | default_exp jira.auth"
   ]
  },
  {
   "cell_type": "code",
   "execution_count": 2,
   "metadata": {},
   "outputs": [],
   "source": [
    "# | hide\n",
    "from nbdev.showdoc import *"
   ]
  },
  {
   "cell_type": "code",
   "execution_count": 9,
   "metadata": {},
   "outputs": [],
   "source": [
    "# | exporti\n",
    "import urllib.parse as parse\n",
    "from dataclasses import dataclass, field\n",
    "import base64\n",
    "import httpx\n",
    "\n",
    "import gdoc_sync.client as gc"
   ]
  },
  {
   "cell_type": "code",
   "execution_count": 6,
   "metadata": {},
   "outputs": [],
   "source": [
    "# | exporti\n",
    "@dataclass\n",
    "class _JiraAuth_Required:\n",
    "    instance: str  # 'your-domain.atlassian.net'\n",
    "\n",
    "\n",
    "@dataclass\n",
    "class _JiraAuth_Optional:\n",
    "    base_url: str = None"
   ]
  },
  {
   "cell_type": "code",
   "execution_count": 10,
   "metadata": {},
   "outputs": [],
   "source": [
    "# | export\n",
    "\n",
    "\n",
    "@dataclass\n",
    "class JiraAuth(_JiraAuth_Optional, _JiraAuth_Required, gc.Auth):\n",
    "    pass"
   ]
  },
  {
   "cell_type": "code",
   "execution_count": 4,
   "metadata": {},
   "outputs": [
    {
     "ename": "ModuleNotFoundError",
     "evalue": "No module named 'load_env'",
     "output_type": "error",
     "traceback": [
      "\u001b[0;31m---------------------------------------------------------------------------\u001b[0m",
      "\u001b[0;31mModuleNotFoundError\u001b[0m                       Traceback (most recent call last)",
      "\u001b[1;32m/workspaces/gdoc_sync/nbs/jira/auth.ipynb Cell 7\u001b[0m line \u001b[0;36m2\n\u001b[1;32m      <a href='vscode-notebook-cell://codespaces%2Banimated-space-system-gvvrq7jwxphj5p/workspaces/gdoc_sync/nbs/jira/auth.ipynb#W6sdnNjb2RlLXJlbW90ZQ%3D%3D?line=0'>1</a>\u001b[0m \u001b[39mimport\u001b[39;00m \u001b[39mos\u001b[39;00m\n\u001b[0;32m----> <a href='vscode-notebook-cell://codespaces%2Banimated-space-system-gvvrq7jwxphj5p/workspaces/gdoc_sync/nbs/jira/auth.ipynb#W6sdnNjb2RlLXJlbW90ZQ%3D%3D?line=1'>2</a>\u001b[0m \u001b[39mimport\u001b[39;00m \u001b[39mload_env\u001b[39;00m\n\u001b[1;32m      <a href='vscode-notebook-cell://codespaces%2Banimated-space-system-gvvrq7jwxphj5p/workspaces/gdoc_sync/nbs/jira/auth.ipynb#W6sdnNjb2RlLXJlbW90ZQ%3D%3D?line=2'>3</a>\u001b[0m [prop \u001b[39mfor\u001b[39;00m prop \u001b[39min\u001b[39;00m os\u001b[39m.\u001b[39menv \u001b[39mif\u001b[39;00m \u001b[39m'\u001b[39m\u001b[39mJIRA\u001b[39m\u001b[39m'\u001b[39m \u001b[39min\u001b[39;00m prop]\n",
      "\u001b[0;31mModuleNotFoundError\u001b[0m: No module named 'load_env'"
     ]
    }
   ],
   "source": [
    "import os\n",
    "import load_env\n",
    "\n",
    "[prop for prop in os.env if \"JIRA\" in prop]"
   ]
  },
  {
   "cell_type": "code",
   "execution_count": 2,
   "metadata": {},
   "outputs": [
    {
     "ename": "KeyError",
     "evalue": "'JIRA_INSTANCE'",
     "output_type": "error",
     "traceback": [
      "\u001b[0;31m---------------------------------------------------------------------------\u001b[0m",
      "\u001b[0;31mKeyError\u001b[0m                                  Traceback (most recent call last)",
      "\u001b[1;32m/workspaces/gdoc_sync/nbs/jira/auth.ipynb Cell 7\u001b[0m line \u001b[0;36m3\n\u001b[1;32m      <a href='vscode-notebook-cell://codespaces%2Banimated-space-system-gvvrq7jwxphj5p/workspaces/gdoc_sync/nbs/jira/auth.ipynb#W6sdnNjb2RlLXJlbW90ZQ%3D%3D?line=0'>1</a>\u001b[0m \u001b[39mimport\u001b[39;00m \u001b[39mos\u001b[39;00m\n\u001b[0;32m----> <a href='vscode-notebook-cell://codespaces%2Banimated-space-system-gvvrq7jwxphj5p/workspaces/gdoc_sync/nbs/jira/auth.ipynb#W6sdnNjb2RlLXJlbW90ZQ%3D%3D?line=2'>3</a>\u001b[0m { \u001b[39m'\u001b[39m\u001b[39mJIRA_INSTANCE\u001b[39m\u001b[39m'\u001b[39m: os\u001b[39m.\u001b[39;49menviron[\u001b[39m\"\u001b[39;49m\u001b[39mJIRA_INSTANCE\u001b[39;49m\u001b[39m\"\u001b[39;49m],\n\u001b[1;32m      <a href='vscode-notebook-cell://codespaces%2Banimated-space-system-gvvrq7jwxphj5p/workspaces/gdoc_sync/nbs/jira/auth.ipynb#W6sdnNjb2RlLXJlbW90ZQ%3D%3D?line=3'>4</a>\u001b[0m  \u001b[39m'\u001b[39m\u001b[39mJIRA_PAT\u001b[39m\u001b[39m'\u001b[39m : os\u001b[39m.\u001b[39menviron[\u001b[39m'\u001b[39m\u001b[39mJIRA_PAT\u001b[39m\u001b[39m'\u001b[39m]}\n\u001b[1;32m      <a href='vscode-notebook-cell://codespaces%2Banimated-space-system-gvvrq7jwxphj5p/workspaces/gdoc_sync/nbs/jira/auth.ipynb#W6sdnNjb2RlLXJlbW90ZQ%3D%3D?line=6'>7</a>\u001b[0m \u001b[39m# JiraAuth(instance=jira_instance)\u001b[39;00m\n",
      "File \u001b[0;32m~/.python/current/lib/python3.10/os.py:680\u001b[0m, in \u001b[0;36m_Environ.__getitem__\u001b[0;34m(self, key)\u001b[0m\n\u001b[1;32m    677\u001b[0m     value \u001b[39m=\u001b[39m \u001b[39mself\u001b[39m\u001b[39m.\u001b[39m_data[\u001b[39mself\u001b[39m\u001b[39m.\u001b[39mencodekey(key)]\n\u001b[1;32m    678\u001b[0m \u001b[39mexcept\u001b[39;00m \u001b[39mKeyError\u001b[39;00m:\n\u001b[1;32m    679\u001b[0m     \u001b[39m# raise KeyError with the original key value\u001b[39;00m\n\u001b[0;32m--> 680\u001b[0m     \u001b[39mraise\u001b[39;00m \u001b[39mKeyError\u001b[39;00m(key) \u001b[39mfrom\u001b[39;00m \u001b[39mNone\u001b[39;00m\n\u001b[1;32m    681\u001b[0m \u001b[39mreturn\u001b[39;00m \u001b[39mself\u001b[39m\u001b[39m.\u001b[39mdecodevalue(value)\n",
      "\u001b[0;31mKeyError\u001b[0m: 'JIRA_INSTANCE'"
     ]
    }
   ],
   "source": [
    "import os\n",
    "\n",
    "{\"JIRA_INSTANCE\": os.environ[\"JIRA_INSTANCE\"], \"JIRA_PAT\": os.environ[\"JIRA_PAT\"]}\n",
    "\n",
    "\n",
    "# JiraAuth(instance=jira_instance)"
   ]
  },
  {
   "cell_type": "code",
   "execution_count": null,
   "metadata": {},
   "outputs": [],
   "source": [
    "# | exporti\n",
    "@dataclass\n",
    "class _JiraAuthPat_Required:\n",
    "    email: str\n",
    "    pat: str = field(repr=False)"
   ]
  },
  {
   "cell_type": "code",
   "execution_count": null,
   "metadata": {},
   "outputs": [],
   "source": [
    "# | export\n",
    "@dataclass\n",
    "class JiraAuthPat(_JiraAuth_Optional, _JiraAuthPat_Required, _JiraAuth_Required):\n",
    "    def __post_init__(self):\n",
    "        if not self.instance.startswith(\"https://\"):\n",
    "            instance = f\"https://{self.instance}\"\n",
    "\n",
    "        self.instance = parse.urlparse(instance).netloc\n",
    "        self.base_url = instance\n",
    "\n",
    "    def generate_auth_header(self):\n",
    "        auth_str = base64.b64encode(f\"{self.email}:{self.pat}\".encode(\"ascii\")).decode(\n",
    "            \"ascii\"\n",
    "        )\n",
    "        return {\"Authorization\": f\"Basic {auth_str}\"}\n",
    "\n",
    "    async def who_am_i(\n",
    "        self, session: httpx.AsyncClient = None, debug_api: bool = False\n",
    "    ):\n",
    "        url = f\"{self.base_url}/rest/api/2/myself\"\n",
    "\n",
    "        response = await gd.get_data(\n",
    "            method=\"GET\",\n",
    "            url=url,\n",
    "            auth=self,\n",
    "            debug_api=debug_api,\n",
    "            session=session,\n",
    "        )\n",
    "        return response"
   ]
  },
  {
   "cell_type": "code",
   "execution_count": null,
   "metadata": {},
   "outputs": [
    {
     "data": {
      "text/plain": [
       "JiraAuthPat(instance='onyxreporting.atlassian.net', email='jae@onyxreporting.com', base_url='https://onyxreporting.atlassian.net')"
      ]
     },
     "execution_count": 9,
     "metadata": {},
     "output_type": "execute_result"
    }
   ],
   "source": [
    "import os\n",
    "\n",
    "jira_pat = os.environ[\"JIRA_PAT\"]\n",
    "jira_instance = os.environ[\"JIRA_INSTANCE\"]\n",
    "\n",
    "jira_auth = JiraAuthPat(\n",
    "    pat=jira_pat, email=\"jae@onyxreporting.com\", instance=jira_instance\n",
    ")\n",
    "\n",
    "res = await jira_auth.who_am_i(debug_api=False)\n",
    "\n",
    "res.response\n",
    "\n",
    "jira_auth"
   ]
  },
  {
   "cell_type": "code",
   "execution_count": null,
   "metadata": {},
   "outputs": [],
   "source": [
    "# | hide\n",
    "import nbdev\n",
    "\n",
    "nbdev.nbdev_export()"
   ]
  }
 ],
 "metadata": {
  "kernelspec": {
   "display_name": "python3",
   "language": "python",
   "name": "python3"
  },
  "language_info": {
   "codemirror_mode": {
    "name": "ipython",
    "version": 3
   },
   "file_extension": ".py",
   "mimetype": "text/x-python",
   "name": "python",
   "nbconvert_exporter": "python",
   "pygments_lexer": "ipython3",
   "version": "3.10.8"
  }
 },
 "nbformat": 4,
 "nbformat_minor": 2
}
