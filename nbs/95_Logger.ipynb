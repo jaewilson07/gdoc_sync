{
 "cells": [
  {
   "attachments": {},
   "cell_type": "markdown",
   "metadata": {},
   "source": [
    "# Logger\n",
    "\n",
    "> A basic logging class"
   ]
  },
  {
   "cell_type": "code",
   "execution_count": null,
   "metadata": {},
   "outputs": [],
   "source": [
    "# | default_exp Logger"
   ]
  },
  {
   "cell_type": "code",
   "execution_count": null,
   "metadata": {},
   "outputs": [],
   "source": [
    "# | hide\n",
    "from nbdev.showdoc import *\n",
    "from fastcore.test import test_eq"
   ]
  },
  {
   "cell_type": "code",
   "execution_count": null,
   "metadata": {},
   "outputs": [],
   "source": [
    "# | exporti\n",
    "import aiohttp\n",
    "import asyncio\n",
    "\n",
    "from typing import Optional, List\n",
    "from abc import ABC\n",
    "\n",
    "import datetime as dt\n",
    "\n",
    "from fastcore.basics import patch_to\n"
   ]
  },
  {
   "cell_type": "code",
   "execution_count": null,
   "metadata": {},
   "outputs": [],
   "source": [
    "# | export\n",
    "\n",
    "\n",
    "class Logger:\n",
    "    \"\"\"log class with user customizeable output method\"\"\"\n",
    "\n",
    "    app_name: str\n",
    "    logs: List[dict]\n",
    "\n",
    "    output_fn: Optional[callable] = None     # function to call with write_logs method.\n",
    "\n",
    "    def __init__(\n",
    "        self,\n",
    "        app_name: str,\n",
    "        output_fn: Optional[\n",
    "            callable\n",
    "        ] = None,  # function to call with write_logs method.\n",
    "    ):\n",
    "\n",
    "        self.app_name = app_name\n",
    "        self.output_fn = output_fn\n",
    "        self.logs = []\n",
    "\n",
    "    def _AddLog(self, message: str, type_str: str, debug=False):\n",
    "        \"\"\"internal method to append message to log\"\"\"\n",
    "\n",
    "        new_row = {\n",
    "            \"date_time\": dt.datetime.now(),\n",
    "            \"application\": self.app_name,\n",
    "            \"type\": type_str,\n",
    "            \"message\": message,\n",
    "        }\n",
    "\n",
    "        if debug:\n",
    "            print(new_row)\n",
    "\n",
    "        self.logs.append(new_row)\n",
    " "
   ]
  },
  {
   "attachments": {},
   "cell_type": "markdown",
   "metadata": {},
   "source": [
    "## Logger logging methods"
   ]
  },
  {
   "cell_type": "code",
   "execution_count": null,
   "metadata": {},
   "outputs": [],
   "source": [
    "#| export\n",
    "\n",
    "@patch_to(Logger)\n",
    "def log_info(self, message, debug=False):\n",
    "    \"\"\"log an informational message\"\"\"\n",
    "    self._AddLog(message=message, type_str=\"Info\", debug=debug)\n",
    "\n",
    "@patch_to(Logger)\n",
    "def log_error(self, message, debug=False):\n",
    "    \"\"\"log an error message\"\"\"\n",
    "    self._AddLog(message=message, type_str=\"Error\", debug=debug)\n",
    "\n",
    "@patch_to(Logger)\n",
    "def log_warning(self, message, debug=False):\n",
    "    \"\"\"log a warning message\"\"\"\n",
    "    self._AddLog(message=message, type_str=\"Warning\", debug=debug)"
   ]
  },
  {
   "attachments": {},
   "cell_type": "markdown",
   "metadata": {},
   "source": [
    "## Outputting Logs\n",
    "During Logger instantiation, users can pass a function, `output_fn` which will be called with the `Logger.output_log` method"
   ]
  },
  {
   "cell_type": "code",
   "execution_count": null,
   "metadata": {},
   "outputs": [],
   "source": [
    "#| export\n",
    "\n",
    "@patch_to(Logger)\n",
    "def output_log(self):\n",
    "    \"\"\"calls the user defined output function\"\"\"\n",
    "    return self.output_fn(self.logs)"
   ]
  },
  {
   "attachments": {},
   "cell_type": "markdown",
   "metadata": {},
   "source": [
    "##### Sample implementation with a custom write_logs method"
   ]
  },
  {
   "cell_type": "code",
   "execution_count": null,
   "metadata": {},
   "outputs": [
    {
     "name": "stdout",
     "output_type": "stream",
     "text": [
      "printing logs\n"
     ]
    },
    {
     "data": {
      "text/html": [
       "<div>\n",
       "<style scoped>\n",
       "    .dataframe tbody tr th:only-of-type {\n",
       "        vertical-align: middle;\n",
       "    }\n",
       "\n",
       "    .dataframe tbody tr th {\n",
       "        vertical-align: top;\n",
       "    }\n",
       "\n",
       "    .dataframe thead th {\n",
       "        text-align: right;\n",
       "    }\n",
       "</style>\n",
       "<table border=\"1\" class=\"dataframe\">\n",
       "  <thead>\n",
       "    <tr style=\"text-align: right;\">\n",
       "      <th></th>\n",
       "      <th>date_time</th>\n",
       "      <th>application</th>\n",
       "      <th>type</th>\n",
       "      <th>message</th>\n",
       "    </tr>\n",
       "  </thead>\n",
       "  <tbody>\n",
       "    <tr>\n",
       "      <th>0</th>\n",
       "      <td>2022-12-21 14:25:43.147021</td>\n",
       "      <td>test</td>\n",
       "      <td>Info</td>\n",
       "      <td>hello world</td>\n",
       "    </tr>\n",
       "  </tbody>\n",
       "</table>\n",
       "</div>"
      ],
      "text/plain": [
       "                   date_time application  type      message\n",
       "0 2022-12-21 14:25:43.147021        test  Info  hello world"
      ]
     },
     "execution_count": null,
     "metadata": {},
     "output_type": "execute_result"
    }
   ],
   "source": [
    "import pandas as pd\n",
    "\n",
    "def custom_write_logs_fn(logs):\n",
    "    print(\"printing logs\")\n",
    "    return pd.DataFrame(logs)\n",
    "    \n",
    "logger = Logger(app_name=\"test\", output_fn=custom_write_logs_fn)\n",
    "\n",
    "logger.log_info(\"hello world\")\n",
    "\n",
    "log_df = logger.output_log()\n",
    "\n",
    "log_df"
   ]
  },
  {
   "cell_type": "code",
   "execution_count": null,
   "metadata": {},
   "outputs": [],
   "source": [
    "#| hide\n",
    "# test that custom_write_logs_fn is stored in the logger as output_fn.\n",
    "test_eq(logger.output_fn, custom_write_logs_fn)\n"
   ]
  },
  {
   "cell_type": "code",
   "execution_count": null,
   "metadata": {},
   "outputs": [],
   "source": [
    "# | hide\n",
    "import nbdev\n",
    "\n",
    "nbdev.nbdev_export()\n"
   ]
  }
 ],
 "metadata": {
  "kernelspec": {
   "display_name": "Python 3",
   "language": "python",
   "name": "python3"
  }
 },
 "nbformat": 4,
 "nbformat_minor": 4
}
