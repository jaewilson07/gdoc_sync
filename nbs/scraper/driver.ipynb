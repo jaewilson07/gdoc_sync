{
 "cells": [
  {
   "cell_type": "raw",
   "metadata": {},
   "source": [
    "---\n",
    "output-file: driver.html\n",
    "---"
   ]
  },
  {
   "cell_type": "code",
   "execution_count": 1,
   "metadata": {},
   "outputs": [],
   "source": [
    "# | default_exp scraper.driver"
   ]
  },
  {
   "cell_type": "code",
   "execution_count": 2,
   "metadata": {},
   "outputs": [],
   "source": [
    "# | exporti\n",
    "import re\n",
    "\n",
    "import subprocess\n",
    "\n",
    "from selenium import webdriver\n",
    "from selenium.webdriver.support.ui import WebDriverWait\n",
    "from selenium.webdriver.support import expected_conditions as EC\n",
    "from selenium.webdriver.common.by import By\n",
    "\n",
    "from bs4 import BeautifulSoup"
   ]
  },
  {
   "cell_type": "markdown",
   "metadata": {},
   "source": [
    "install chrome via the instructions in the provided setup file"
   ]
  },
  {
   "cell_type": "code",
   "execution_count": 3,
   "metadata": {},
   "outputs": [],
   "source": [
    "# !sudo apt-get install -y curl unzip xvfb libxi6 libgconf-2-4\n",
    "# !wget https://dl.google.com/linux/direct/google-chrome-stable_current_amd64.deb\n",
    "# !sudo apt install ./google-chrome-stable_current_amd64.deb\n",
    "\n",
    "# !wget https://chromedriver.storage.googleapis.com/86.0.4240.22/chromedriver_linux64.zip\n",
    "# !unzip chromedriver_linux64.zip\n",
    "# !sudo mv chromedriver /usr/bin/chromedriver\n",
    "# !sudo chown root:root /usr/bin/chromedriver\n",
    "# !sudo chmod +x /usr/bin/chromedriver\n",
    "\n",
    "# !which google-chrome\n",
    "# !google-chrome --version\n",
    "# !chromedriver --version"
   ]
  },
  {
   "cell_type": "code",
   "execution_count": 4,
   "metadata": {},
   "outputs": [],
   "source": [
    "# !pip install webdriver_manager selenium"
   ]
  },
  {
   "cell_type": "code",
   "execution_count": 5,
   "metadata": {},
   "outputs": [],
   "source": [
    "test_urls = [\n",
    "    \"https://domo-support.domo.com/s/article/36004740075?language=en_US\",\n",
    "    \"https://domo-support.domo.com/s/topic/0TO5w000000ZlOmGAK/20202023?language=en_US\",  # list of articles\n",
    "    \"https://domo-support.domo.com/s/topic/0TO5w000000Zan7GAC/archived-feature-release-notes?language=en_US\",  # list of topics\n",
    "]"
   ]
  },
  {
   "cell_type": "markdown",
   "metadata": {},
   "source": [
    "# DriverGenerator"
   ]
  },
  {
   "cell_type": "code",
   "execution_count": 6,
   "metadata": {},
   "outputs": [],
   "source": [
    "# | export\n",
    "\n",
    "\n",
    "class DriverGenerator_NotInPath(Exception):\n",
    "    def __init__(self):\n",
    "        super().__init__(\n",
    "            \"google-chrome not found in PATH and therefore cannot be accessed by a driver.  install it or add to PATH\"\n",
    "        )\n",
    "\n",
    "\n",
    "class DriverGenerator:\n",
    "    \"\"\"class for generating drivers, can be extended for other drivers\"\"\"\n",
    "\n",
    "    driver_path: str = None\n",
    "\n",
    "    def __init__(self, driver_path=None, debug_prn: bool = False):\n",
    "        self.driver_path = driver_path\n",
    "\n",
    "        assert self.is_chrome_in_path()\n",
    "\n",
    "        if debug_prn:\n",
    "            print(self.get_chromedriver_version())\n",
    "\n",
    "    def is_chrome_in_path(self):\n",
    "        result = subprocess.run([\"which\", \"google-chrome\"], stdout=subprocess.PIPE)\n",
    "        is_chrome_in_path = result.stdout != b\"\"\n",
    "\n",
    "        if not is_chrome_in_path:\n",
    "            raise DriverGenerator_NotInPath()\n",
    "\n",
    "        return is_chrome_in_path\n",
    "\n",
    "    def get_chromedriver_version(self):\n",
    "        result = subprocess.run([\"chromedriver\", \"--version\"], stdout=subprocess.PIPE)\n",
    "        return result.stdout.decode(\"utf-8\")\n",
    "\n",
    "    def get_webdriver(self, driver_path=\"/usr//bin/chromedriver\") -> webdriver:\n",
    "        \"\"\"create a chrome webdriver\"\"\"\n",
    "\n",
    "        if not self.driver_path:\n",
    "            self.driver_path = driver_path\n",
    "\n",
    "        chrome_options = webdriver.ChromeOptions()\n",
    "        chrome_options.add_argument(\"--no-sandbox\")  # needed for LINUX environments\n",
    "        chrome_options.add_argument(self.driver_path or driver_path)\n",
    "\n",
    "        return webdriver.Chrome(chrome_options)"
   ]
  },
  {
   "cell_type": "code",
   "execution_count": 7,
   "metadata": {},
   "outputs": [
    {
     "name": "stdout",
     "output_type": "stream",
     "text": [
      "ChromeDriver 120.0.6099.109 (3419140ab665596f21b385ce136419fde0924272-refs/branch-heads/6099@{#1483})\n",
      "\n"
     ]
    },
    {
     "data": {
      "text/plain": [
       "<selenium.webdriver.chrome.webdriver.WebDriver (session=\"458a9cbe98d68bdd4717bddd781d25dd\")>"
      ]
     },
     "execution_count": 7,
     "metadata": {},
     "output_type": "execute_result"
    }
   ],
   "source": [
    "drivergenerator = DriverGenerator(debug_prn=True)\n",
    "\n",
    "drivergenerator.get_webdriver()"
   ]
  },
  {
   "cell_type": "code",
   "execution_count": 8,
   "metadata": {},
   "outputs": [],
   "source": [
    "# | export\n",
    "def get_pagesource(\n",
    "    url: str,\n",
    "    driver: webdriver,\n",
    "    search_criteria_tuple=None,  # for dynamically rendered pages, pass a WebDriverWait search tuple (search_element, element name)\n",
    "    max_sleep_time=15,\n",
    "    return_soup: bool = True,\n",
    "    debug_prn: bool = False,\n",
    "):\n",
    "    \"\"\"retrieve page_source\"\"\"\n",
    "    try:\n",
    "        if debug_prn:\n",
    "            print(f\"💤 pagesource: retrieving {url} 💤\")\n",
    "\n",
    "        driver.get(url)\n",
    "\n",
    "        if search_criteria_tuple:\n",
    "            WebDriverWait(driver, timeout=max_sleep_time).until(\n",
    "                EC.presence_of_element_located(search_criteria_tuple)\n",
    "            )\n",
    "\n",
    "        if return_soup:\n",
    "            return BeautifulSoup(driver.page_source, \"lxml\")\n",
    "\n",
    "        driver.close()\n",
    "\n",
    "        return driver.page_source\n",
    "\n",
    "    except Exception as e:\n",
    "        print(\n",
    "            f\"ERROR: {e} -  {url} failed to load page within {max_sleep_time} seconds.  is the element represented in the element list?\"\n",
    "        )"
   ]
  },
  {
   "cell_type": "code",
   "execution_count": 9,
   "metadata": {},
   "outputs": [
    {
     "name": "stdout",
     "output_type": "stream",
     "text": [
      "ChromeDriver 120.0.6099.109 (3419140ab665596f21b385ce136419fde0924272-refs/branch-heads/6099@{#1483})\n",
      "\n"
     ]
    },
    {
     "data": {
      "text/plain": [
       "'<html dir=\"ltr\" lang=\"en-US\"><head><title>Jupyter Workspaces | User Guide</title><meta content=\"defa'"
      ]
     },
     "execution_count": 9,
     "metadata": {},
     "output_type": "execute_result"
    }
   ],
   "source": [
    "drivergenerator = DriverGenerator(debug_prn=True)\n",
    "\n",
    "driver = drivergenerator.get_webdriver()\n",
    "\n",
    "soup = get_pagesource(\n",
    "    driver=driver,\n",
    "    url=\"https://domo-support.domo.com/s/article/36004740075?language=en_US\",\n",
    "    search_criteria_tuple=(By.CLASS_NAME, \"slds-form-element\"),\n",
    "    max_sleep_time=15,\n",
    "    return_soup=True,\n",
    ")\n",
    "\n",
    "str(soup)[0:100]"
   ]
  },
  {
   "cell_type": "code",
   "execution_count": 10,
   "metadata": {},
   "outputs": [],
   "source": [
    "# | hide\n",
    "import nbdev\n",
    "\n",
    "nbdev.nbdev_export()"
   ]
  }
 ],
 "metadata": {
  "kernelspec": {
   "display_name": ".venv",
   "language": "python",
   "name": "python3"
  },
  "language_info": {
   "codemirror_mode": {
    "name": "ipython",
    "version": 3
   },
   "file_extension": ".py",
   "mimetype": "text/x-python",
   "name": "python",
   "nbconvert_exporter": "python",
   "pygments_lexer": "ipython3",
   "version": "3.11.0rc1"
  }
 },
 "nbformat": 4,
 "nbformat_minor": 2
}
